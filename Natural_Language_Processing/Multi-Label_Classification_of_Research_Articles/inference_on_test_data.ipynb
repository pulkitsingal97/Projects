{
 "cells": [
  {
   "cell_type": "markdown",
   "id": "d08b26f8",
   "metadata": {},
   "source": [
    "Importing libraries"
   ]
  },
  {
   "cell_type": "code",
   "execution_count": 1,
   "id": "05a0eace",
   "metadata": {
    "_cell_guid": "b1076dfc-b9ad-4769-8c92-a6c4dae69d19",
    "_uuid": "8f2839f25d086af736a60e9eeb907d3b93b6e0e5",
    "execution": {
     "iopub.execute_input": "2024-04-13T17:00:14.745717Z",
     "iopub.status.busy": "2024-04-13T17:00:14.744952Z",
     "iopub.status.idle": "2024-04-13T17:00:22.721637Z",
     "shell.execute_reply": "2024-04-13T17:00:22.720554Z"
    },
    "papermill": {
     "duration": 7.985934,
     "end_time": "2024-04-13T17:00:22.724152",
     "exception": false,
     "start_time": "2024-04-13T17:00:14.738218",
     "status": "completed"
    },
    "tags": []
   },
   "outputs": [],
   "source": [
    "import numpy as np\n",
    "import pandas as pd\n",
    "from sklearn import metrics\n",
    "import matplotlib.pyplot as plt\n",
    "import transformers\n",
    "import torch\n",
    "from torch.utils.data import Dataset, DataLoader, RandomSampler, SequentialSampler\n",
    "from transformers import BertTokenizer, BertModel, BertConfig\n",
    "import csv\n",
    "import torch.nn.functional as F"
   ]
  },
  {
   "cell_type": "markdown",
   "id": "0fa73af4",
   "metadata": {},
   "source": [
    "Setting up device"
   ]
  },
  {
   "cell_type": "code",
   "execution_count": 2,
   "id": "3476ca7a",
   "metadata": {
    "execution": {
     "iopub.execute_input": "2024-04-13T17:00:22.736329Z",
     "iopub.status.busy": "2024-04-13T17:00:22.735419Z",
     "iopub.status.idle": "2024-04-13T17:00:22.786359Z",
     "shell.execute_reply": "2024-04-13T17:00:22.785464Z"
    },
    "papermill": {
     "duration": 0.058638,
     "end_time": "2024-04-13T17:00:22.788244",
     "exception": false,
     "start_time": "2024-04-13T17:00:22.729606",
     "status": "completed"
    },
    "tags": []
   },
   "outputs": [],
   "source": [
    "from torch import cuda\n",
    "device = 'cuda' if cuda.is_available() else 'cpu'"
   ]
  },
  {
   "cell_type": "markdown",
   "id": "861c4232",
   "metadata": {},
   "source": [
    "Loading data"
   ]
  },
  {
   "cell_type": "code",
   "execution_count": 3,
   "id": "1bf23722",
   "metadata": {
    "execution": {
     "iopub.execute_input": "2024-04-13T17:00:22.799555Z",
     "iopub.status.busy": "2024-04-13T17:00:22.799077Z",
     "iopub.status.idle": "2024-04-13T17:00:23.217769Z",
     "shell.execute_reply": "2024-04-13T17:00:23.216807Z"
    },
    "papermill": {
     "duration": 0.427026,
     "end_time": "2024-04-13T17:00:23.220403",
     "exception": false,
     "start_time": "2024-04-13T17:00:22.793377",
     "status": "completed"
    },
    "tags": []
   },
   "outputs": [
    {
     "name": "stdout",
     "output_type": "stream",
     "text": [
      "                                               Title  \\\n",
      "0  [Methodology for a rational approach to endodo...   \n",
      "1  Manual thromboaspiration and dilation of throm...   \n",
      "2  Pulmonary cryptococcosis in rheumatoid arthrit...   \n",
      "3  Early Versus Delayed Use of Ultrasound-Assiste...   \n",
      "4  [Transformation of vestibular signals by cereb...   \n",
      "\n",
      "                                        abstractText  \\\n",
      "0  The purpose of this study was to develop a pro...   \n",
      "1  PURPOSE: To report the feasibility, safety, an...   \n",
      "2  PURPOSE: The imaging characteristics of crypto...   \n",
      "3  OBJECTIVES: The effect of early vs delayed use...   \n",
      "4  Extracellular unit activity of cortical vestib...   \n",
      "\n",
      "                                           meshMajor      pmid  \\\n",
      "0  ['Dental Cavity Preparation', 'Dental Pulp Cav...   2633269   \n",
      "1  ['Adult', 'Aged', 'Aged, 80 and over', 'Arm', ...   9314373   \n",
      "2  ['Acquired Immunodeficiency Syndrome', 'Adult'...  23954014   \n",
      "3  ['Acute Disease', 'Cardiac Catheterization', '...  29715164   \n",
      "4  ['Acceleration', 'Animals', 'Cats', 'Cerebral ...   3502286   \n",
      "\n",
      "                                              meshid  \\\n",
      "0  [['E06.931.325'], ['A14.549.167.900.265'], ['B...   \n",
      "1  [['M01.060.116'], ['M01.060.116.100'], ['M01.0...   \n",
      "2  [['C01.221.250.875.040', 'C01.221.812.640.400....   \n",
      "3  [['C23.550.291.125'], ['E01.370.370.380.140', ...   \n",
      "4  [['G01.482.107'], ['B01.050'], ['B01.050.150.9...   \n",
      "\n",
      "                                            meshroot  A  B  C  D  E  F  G  H  \\\n",
      "0  ['Analytical, Diagnostic and Therapeutic Techn...  1  1  0  0  1  0  0  0   \n",
      "1  ['Named Groups [M]', 'Anatomy [A]', 'Analytica...  1  1  1  1  1  0  1  0   \n",
      "2  ['Diseases [C]', 'Named Groups [M]', 'Analytic...  0  1  1  0  1  0  1  0   \n",
      "3  ['Diseases [C]', 'Analytical, Diagnostic and T...  0  1  1  1  1  0  0  0   \n",
      "4  ['Phenomena and Processes [G]', 'Organisms [B]...  1  1  0  0  0  0  1  0   \n",
      "\n",
      "   I  J  L  M  N  Z  \n",
      "0  0  0  0  0  0  0  \n",
      "1  0  1  0  1  0  0  \n",
      "2  0  0  0  1  1  0  \n",
      "3  0  0  0  1  1  0  \n",
      "4  0  0  0  0  0  0  \n"
     ]
    }
   ],
   "source": [
    "df = pd.read_csv(\"/kaggle/input/testdataset/test_dataset.csv\")\n",
    "df = df.dropna()\n",
    "print(df.head())"
   ]
  },
  {
   "cell_type": "markdown",
   "id": "528b6785",
   "metadata": {},
   "source": [
    "Combining the data in title and abstractText columns, and also the ground truth of all labels of a particular row to a list"
   ]
  },
  {
   "cell_type": "code",
   "execution_count": 4,
   "id": "a1265d3e",
   "metadata": {
    "execution": {
     "iopub.execute_input": "2024-04-13T17:00:23.231945Z",
     "iopub.status.busy": "2024-04-13T17:00:23.231634Z",
     "iopub.status.idle": "2024-04-13T17:00:23.267741Z",
     "shell.execute_reply": "2024-04-13T17:00:23.266636Z"
    },
    "papermill": {
     "duration": 0.044211,
     "end_time": "2024-04-13T17:00:23.269967",
     "exception": false,
     "start_time": "2024-04-13T17:00:23.225756",
     "status": "completed"
    },
    "tags": []
   },
   "outputs": [
    {
     "name": "stdout",
     "output_type": "stream",
     "text": [
      "                                         list  \\\n",
      "0  [1, 1, 0, 0, 1, 0, 0, 0, 0, 0, 0, 0, 0, 0]   \n",
      "1  [1, 1, 1, 1, 1, 0, 1, 0, 0, 1, 0, 1, 0, 0]   \n",
      "2  [0, 1, 1, 0, 1, 0, 1, 0, 0, 0, 0, 1, 1, 0]   \n",
      "3  [0, 1, 1, 1, 1, 0, 0, 0, 0, 0, 0, 1, 1, 0]   \n",
      "4  [1, 1, 0, 0, 0, 0, 1, 0, 0, 0, 0, 0, 0, 0]   \n",
      "\n",
      "                                            Combined  \n",
      "0  [Methodology for a rational approach to endodo...  \n",
      "1  Manual thromboaspiration and dilation of throm...  \n",
      "2  Pulmonary cryptococcosis in rheumatoid arthrit...  \n",
      "3  Early Versus Delayed Use of Ultrasound-Assiste...  \n",
      "4  [Transformation of vestibular signals by cereb...  \n",
      "(7500, 2)\n"
     ]
    }
   ],
   "source": [
    "test_dataset = pd.DataFrame()\n",
    "\n",
    "test_dataset['list'] = df[df.columns[6:20]].values.tolist()\n",
    "\n",
    "test_dataset['Combined'] = df['Title'].str.cat(df['abstractText'], sep=' ')\n",
    "\n",
    "print(test_dataset.head())\n",
    "print(test_dataset.shape)"
   ]
  },
  {
   "cell_type": "code",
   "execution_count": 5,
   "id": "0e850905",
   "metadata": {
    "execution": {
     "iopub.execute_input": "2024-04-13T17:00:23.282193Z",
     "iopub.status.busy": "2024-04-13T17:00:23.281904Z",
     "iopub.status.idle": "2024-04-13T17:00:23.293784Z",
     "shell.execute_reply": "2024-04-13T17:00:23.292412Z"
    },
    "papermill": {
     "duration": 0.019926,
     "end_time": "2024-04-13T17:00:23.295626",
     "exception": false,
     "start_time": "2024-04-13T17:00:23.275700",
     "status": "completed"
    },
    "tags": []
   },
   "outputs": [
    {
     "name": "stdout",
     "output_type": "stream",
     "text": [
      "                                               Title  \\\n",
      "0  [Methodology for a rational approach to endodo...   \n",
      "1  Manual thromboaspiration and dilation of throm...   \n",
      "2  Pulmonary cryptococcosis in rheumatoid arthrit...   \n",
      "3  Early Versus Delayed Use of Ultrasound-Assiste...   \n",
      "4  [Transformation of vestibular signals by cereb...   \n",
      "\n",
      "                                        abstractText  \\\n",
      "0  The purpose of this study was to develop a pro...   \n",
      "1  PURPOSE: To report the feasibility, safety, an...   \n",
      "2  PURPOSE: The imaging characteristics of crypto...   \n",
      "3  OBJECTIVES: The effect of early vs delayed use...   \n",
      "4  Extracellular unit activity of cortical vestib...   \n",
      "\n",
      "                                           meshMajor      pmid  \\\n",
      "0  ['Dental Cavity Preparation', 'Dental Pulp Cav...   2633269   \n",
      "1  ['Adult', 'Aged', 'Aged, 80 and over', 'Arm', ...   9314373   \n",
      "2  ['Acquired Immunodeficiency Syndrome', 'Adult'...  23954014   \n",
      "3  ['Acute Disease', 'Cardiac Catheterization', '...  29715164   \n",
      "4  ['Acceleration', 'Animals', 'Cats', 'Cerebral ...   3502286   \n",
      "\n",
      "                                              meshid  \\\n",
      "0  [['E06.931.325'], ['A14.549.167.900.265'], ['B...   \n",
      "1  [['M01.060.116'], ['M01.060.116.100'], ['M01.0...   \n",
      "2  [['C01.221.250.875.040', 'C01.221.812.640.400....   \n",
      "3  [['C23.550.291.125'], ['E01.370.370.380.140', ...   \n",
      "4  [['G01.482.107'], ['B01.050'], ['B01.050.150.9...   \n",
      "\n",
      "                                            meshroot  \n",
      "0  ['Analytical, Diagnostic and Therapeutic Techn...  \n",
      "1  ['Named Groups [M]', 'Anatomy [A]', 'Analytica...  \n",
      "2  ['Diseases [C]', 'Named Groups [M]', 'Analytic...  \n",
      "3  ['Diseases [C]', 'Analytical, Diagnostic and T...  \n",
      "4  ['Phenomena and Processes [G]', 'Organisms [B]...  \n",
      "(7500, 6)\n"
     ]
    }
   ],
   "source": [
    "test_data = df[df.columns[:6]].copy()\n",
    "print(test_data.head())\n",
    "print(test_data.shape)"
   ]
  },
  {
   "cell_type": "markdown",
   "id": "5ab151a8",
   "metadata": {},
   "source": [
    "Setting up the parameters and importing tokenizer"
   ]
  },
  {
   "cell_type": "code",
   "execution_count": 6,
   "id": "f9b2810a",
   "metadata": {
    "execution": {
     "iopub.execute_input": "2024-04-13T17:00:23.307428Z",
     "iopub.status.busy": "2024-04-13T17:00:23.307160Z",
     "iopub.status.idle": "2024-04-13T17:00:24.624160Z",
     "shell.execute_reply": "2024-04-13T17:00:24.623382Z"
    },
    "papermill": {
     "duration": 1.325386,
     "end_time": "2024-04-13T17:00:24.626401",
     "exception": false,
     "start_time": "2024-04-13T17:00:23.301015",
     "status": "completed"
    },
    "tags": []
   },
   "outputs": [
    {
     "data": {
      "application/vnd.jupyter.widget-view+json": {
       "model_id": "526c49ce10164f37ae9278bf343ebd45",
       "version_major": 2,
       "version_minor": 0
      },
      "text/plain": [
       "tokenizer_config.json:   0%|          | 0.00/48.0 [00:00<?, ?B/s]"
      ]
     },
     "metadata": {},
     "output_type": "display_data"
    },
    {
     "data": {
      "application/vnd.jupyter.widget-view+json": {
       "model_id": "70a36dc837c643faae18dd31e64ffae8",
       "version_major": 2,
       "version_minor": 0
      },
      "text/plain": [
       "vocab.txt:   0%|          | 0.00/232k [00:00<?, ?B/s]"
      ]
     },
     "metadata": {},
     "output_type": "display_data"
    },
    {
     "data": {
      "application/vnd.jupyter.widget-view+json": {
       "model_id": "f75b6479796e474ebc836c470b63d4a7",
       "version_major": 2,
       "version_minor": 0
      },
      "text/plain": [
       "tokenizer.json:   0%|          | 0.00/466k [00:00<?, ?B/s]"
      ]
     },
     "metadata": {},
     "output_type": "display_data"
    },
    {
     "data": {
      "application/vnd.jupyter.widget-view+json": {
       "model_id": "3fe10344a6ed4cf9b763f4c5915432ca",
       "version_major": 2,
       "version_minor": 0
      },
      "text/plain": [
       "config.json:   0%|          | 0.00/570 [00:00<?, ?B/s]"
      ]
     },
     "metadata": {},
     "output_type": "display_data"
    }
   ],
   "source": [
    "MAX_LEN = 512\n",
    "TEST_BATCH_SIZE = 1\n",
    "tokenizer = BertTokenizer.from_pretrained('bert-base-uncased')"
   ]
  },
  {
   "cell_type": "markdown",
   "id": "71762eb8",
   "metadata": {},
   "source": [
    "Defining dataset class"
   ]
  },
  {
   "cell_type": "code",
   "execution_count": 7,
   "id": "5d0cf283",
   "metadata": {
    "execution": {
     "iopub.execute_input": "2024-04-13T17:00:24.640953Z",
     "iopub.status.busy": "2024-04-13T17:00:24.640606Z",
     "iopub.status.idle": "2024-04-13T17:00:24.649499Z",
     "shell.execute_reply": "2024-04-13T17:00:24.648811Z"
    },
    "papermill": {
     "duration": 0.018341,
     "end_time": "2024-04-13T17:00:24.651411",
     "exception": false,
     "start_time": "2024-04-13T17:00:24.633070",
     "status": "completed"
    },
    "tags": []
   },
   "outputs": [],
   "source": [
    "class CustomDataset(Dataset):\n",
    "\n",
    "    def __init__(self, dataframe, tokenizer, max_len):\n",
    "        self.tokenizer = tokenizer\n",
    "        self.text = dataframe.Combined\n",
    "        self.targets = dataframe.list\n",
    "        self.max_len = max_len\n",
    "\n",
    "    def __len__(self):\n",
    "        return len(self.text)\n",
    "\n",
    "    def __getitem__(self, index):\n",
    "        text = str(self.text[index])\n",
    "        text = \" \".join(text.split())\n",
    "\n",
    "        inputs = self.tokenizer.encode_plus(\n",
    "            text,\n",
    "            None,\n",
    "            add_special_tokens=True,\n",
    "            max_length=self.max_len,\n",
    "            pad_to_max_length=True,\n",
    "#             padding='max_length',\n",
    "#             truncation=True,\n",
    "            return_token_type_ids=True\n",
    "        )\n",
    "        ids = inputs['input_ids']\n",
    "        mask = inputs['attention_mask']\n",
    "        token_type_ids = inputs[\"token_type_ids\"]\n",
    "\n",
    "\n",
    "        return {\n",
    "            'ids': torch.tensor(ids, dtype=torch.long),\n",
    "            'mask': torch.tensor(mask, dtype=torch.long),\n",
    "            'token_type_ids': torch.tensor(token_type_ids, dtype=torch.long),\n",
    "            'targets': torch.tensor(self.targets[index], dtype=torch.float)\n",
    "        }"
   ]
  },
  {
   "cell_type": "markdown",
   "id": "cba09c0c",
   "metadata": {},
   "source": [
    "Creating datasets"
   ]
  },
  {
   "cell_type": "code",
   "execution_count": 8,
   "id": "f0fbedf9",
   "metadata": {
    "execution": {
     "iopub.execute_input": "2024-04-13T17:00:24.664949Z",
     "iopub.status.busy": "2024-04-13T17:00:24.664706Z",
     "iopub.status.idle": "2024-04-13T17:00:24.668921Z",
     "shell.execute_reply": "2024-04-13T17:00:24.668080Z"
    },
    "papermill": {
     "duration": 0.013373,
     "end_time": "2024-04-13T17:00:24.670915",
     "exception": false,
     "start_time": "2024-04-13T17:00:24.657542",
     "status": "completed"
    },
    "tags": []
   },
   "outputs": [],
   "source": [
    "testing_set = CustomDataset(test_dataset, tokenizer, MAX_LEN)"
   ]
  },
  {
   "cell_type": "markdown",
   "id": "37786192",
   "metadata": {},
   "source": [
    "Setting up parameters and making dataloaders"
   ]
  },
  {
   "cell_type": "code",
   "execution_count": 9,
   "id": "43ab7645",
   "metadata": {
    "execution": {
     "iopub.execute_input": "2024-04-13T17:00:24.684478Z",
     "iopub.status.busy": "2024-04-13T17:00:24.683837Z",
     "iopub.status.idle": "2024-04-13T17:00:24.688243Z",
     "shell.execute_reply": "2024-04-13T17:00:24.687464Z"
    },
    "papermill": {
     "duration": 0.013324,
     "end_time": "2024-04-13T17:00:24.690284",
     "exception": false,
     "start_time": "2024-04-13T17:00:24.676960",
     "status": "completed"
    },
    "tags": []
   },
   "outputs": [],
   "source": [
    "test_params = {'batch_size': TEST_BATCH_SIZE,\n",
    "                'shuffle': False,\n",
    "                'num_workers': 0,\n",
    "                'drop_last': True\n",
    "                }\n",
    "\n",
    "testing_loader = DataLoader(testing_set, **test_params)"
   ]
  },
  {
   "cell_type": "markdown",
   "id": "31e7be24",
   "metadata": {},
   "source": [
    "Defining the BERT neural network class"
   ]
  },
  {
   "cell_type": "code",
   "execution_count": 10,
   "id": "4af706f3",
   "metadata": {
    "execution": {
     "iopub.execute_input": "2024-04-13T17:00:24.703106Z",
     "iopub.status.busy": "2024-04-13T17:00:24.702865Z",
     "iopub.status.idle": "2024-04-13T17:00:24.710224Z",
     "shell.execute_reply": "2024-04-13T17:00:24.709424Z"
    },
    "papermill": {
     "duration": 0.015868,
     "end_time": "2024-04-13T17:00:24.712097",
     "exception": false,
     "start_time": "2024-04-13T17:00:24.696229",
     "status": "completed"
    },
    "tags": []
   },
   "outputs": [],
   "source": [
    "class BERTClass(torch.nn.Module):\n",
    "    def __init__(self, fine_tune_layers=1):\n",
    "        super(BERTClass, self).__init__()\n",
    "        self.l1 = transformers.BertModel.from_pretrained('bert-base-uncased')\n",
    "        self.l2 = torch.nn.Dropout(0.3)\n",
    "        self.l3 = torch.nn.Linear(768, 14)\n",
    "        \n",
    "        # Freeze all the parameters\n",
    "        for param in self.l1.parameters():\n",
    "            param.requires_grad = False\n",
    "\n",
    "        # Unfreeze the top n layers\n",
    "        if fine_tune_layers > 0:\n",
    "            for layer in self.l1.encoder.layer[-fine_tune_layers:]:\n",
    "                for param in layer.parameters():\n",
    "                    param.requires_grad = True\n",
    "    \n",
    "    def forward(self, ids, mask, token_type_ids):\n",
    "        _, output_1= self.l1(ids, attention_mask = mask, token_type_ids = token_type_ids, return_dict=False)\n",
    "        output_2 = self.l2(output_1)\n",
    "        output = self.l3(output_2)\n",
    "        return output"
   ]
  },
  {
   "cell_type": "markdown",
   "id": "3505fc20",
   "metadata": {},
   "source": [
    "Loading the model"
   ]
  },
  {
   "cell_type": "code",
   "execution_count": 11,
   "id": "fcdd0b13",
   "metadata": {
    "execution": {
     "iopub.execute_input": "2024-04-13T17:00:24.724987Z",
     "iopub.status.busy": "2024-04-13T17:00:24.724749Z",
     "iopub.status.idle": "2024-04-13T17:00:30.875160Z",
     "shell.execute_reply": "2024-04-13T17:00:30.874177Z"
    },
    "papermill": {
     "duration": 6.15914,
     "end_time": "2024-04-13T17:00:30.877232",
     "exception": false,
     "start_time": "2024-04-13T17:00:24.718092",
     "status": "completed"
    },
    "tags": []
   },
   "outputs": [
    {
     "data": {
      "application/vnd.jupyter.widget-view+json": {
       "model_id": "6cdb129770c341b5bbbd86c04b3f3b1b",
       "version_major": 2,
       "version_minor": 0
      },
      "text/plain": [
       "model.safetensors:   0%|          | 0.00/440M [00:00<?, ?B/s]"
      ]
     },
     "metadata": {},
     "output_type": "display_data"
    },
    {
     "data": {
      "text/plain": [
       "BERTClass(\n",
       "  (l1): BertModel(\n",
       "    (embeddings): BertEmbeddings(\n",
       "      (word_embeddings): Embedding(30522, 768, padding_idx=0)\n",
       "      (position_embeddings): Embedding(512, 768)\n",
       "      (token_type_embeddings): Embedding(2, 768)\n",
       "      (LayerNorm): LayerNorm((768,), eps=1e-12, elementwise_affine=True)\n",
       "      (dropout): Dropout(p=0.1, inplace=False)\n",
       "    )\n",
       "    (encoder): BertEncoder(\n",
       "      (layer): ModuleList(\n",
       "        (0-11): 12 x BertLayer(\n",
       "          (attention): BertAttention(\n",
       "            (self): BertSelfAttention(\n",
       "              (query): Linear(in_features=768, out_features=768, bias=True)\n",
       "              (key): Linear(in_features=768, out_features=768, bias=True)\n",
       "              (value): Linear(in_features=768, out_features=768, bias=True)\n",
       "              (dropout): Dropout(p=0.1, inplace=False)\n",
       "            )\n",
       "            (output): BertSelfOutput(\n",
       "              (dense): Linear(in_features=768, out_features=768, bias=True)\n",
       "              (LayerNorm): LayerNorm((768,), eps=1e-12, elementwise_affine=True)\n",
       "              (dropout): Dropout(p=0.1, inplace=False)\n",
       "            )\n",
       "          )\n",
       "          (intermediate): BertIntermediate(\n",
       "            (dense): Linear(in_features=768, out_features=3072, bias=True)\n",
       "            (intermediate_act_fn): GELUActivation()\n",
       "          )\n",
       "          (output): BertOutput(\n",
       "            (dense): Linear(in_features=3072, out_features=768, bias=True)\n",
       "            (LayerNorm): LayerNorm((768,), eps=1e-12, elementwise_affine=True)\n",
       "            (dropout): Dropout(p=0.1, inplace=False)\n",
       "          )\n",
       "        )\n",
       "      )\n",
       "    )\n",
       "    (pooler): BertPooler(\n",
       "      (dense): Linear(in_features=768, out_features=768, bias=True)\n",
       "      (activation): Tanh()\n",
       "    )\n",
       "  )\n",
       "  (l2): Dropout(p=0.3, inplace=False)\n",
       "  (l3): Linear(in_features=768, out_features=14, bias=True)\n",
       ")"
      ]
     },
     "execution_count": 11,
     "metadata": {},
     "output_type": "execute_result"
    }
   ],
   "source": [
    "model = BERTClass()\n",
    "model_state = torch.load(\"/kaggle/input/testdataset/bert_model.pth\", map_location=torch.device(device))\n",
    "model.load_state_dict(model_state)\n",
    "model.to(device)  # Move the model to the appropriate device"
   ]
  },
  {
   "cell_type": "markdown",
   "id": "046d9741",
   "metadata": {},
   "source": [
    "Defining loss function as Binary Cross Entropy with Logits Loss "
   ]
  },
  {
   "cell_type": "code",
   "execution_count": 12,
   "id": "f5a661e7",
   "metadata": {
    "execution": {
     "iopub.execute_input": "2024-04-13T17:00:30.891306Z",
     "iopub.status.busy": "2024-04-13T17:00:30.891000Z",
     "iopub.status.idle": "2024-04-13T17:00:30.895433Z",
     "shell.execute_reply": "2024-04-13T17:00:30.894557Z"
    },
    "papermill": {
     "duration": 0.013638,
     "end_time": "2024-04-13T17:00:30.897394",
     "exception": false,
     "start_time": "2024-04-13T17:00:30.883756",
     "status": "completed"
    },
    "tags": []
   },
   "outputs": [],
   "source": [
    "def loss_fn(outputs, targets):\n",
    "    return torch.nn.BCEWithLogitsLoss()(outputs, targets)"
   ]
  },
  {
   "cell_type": "markdown",
   "id": "cfe7548a",
   "metadata": {},
   "source": [
    "Defining evaluation function"
   ]
  },
  {
   "cell_type": "code",
   "execution_count": 13,
   "id": "9a5a0af2",
   "metadata": {
    "execution": {
     "iopub.execute_input": "2024-04-13T17:00:30.912694Z",
     "iopub.status.busy": "2024-04-13T17:00:30.912394Z",
     "iopub.status.idle": "2024-04-13T17:00:30.927548Z",
     "shell.execute_reply": "2024-04-13T17:00:30.926740Z"
    },
    "papermill": {
     "duration": 0.024286,
     "end_time": "2024-04-13T17:00:30.929405",
     "exception": false,
     "start_time": "2024-04-13T17:00:30.905119",
     "status": "completed"
    },
    "tags": []
   },
   "outputs": [],
   "source": [
    "def evaluate(data_loader, test_data):\n",
    "    model.eval()\n",
    "    fin_targets=[]\n",
    "    fin_outputs=[]\n",
    "    \n",
    "    total_loss = 0\n",
    "    with torch.no_grad():\n",
    "        for i, data in enumerate(data_loader, 0):\n",
    "            if(i%1000==0):\n",
    "                print(\"Data No.:\",i)\n",
    "            ids = data['ids'].to(device, dtype = torch.long)\n",
    "            mask = data['mask'].to(device, dtype = torch.long)\n",
    "            token_type_ids = data['token_type_ids'].to(device, dtype = torch.long)\n",
    "            targets = data['targets'].to(device, dtype = torch.float)\n",
    "            outputs = model(ids, mask, token_type_ids)\n",
    "            loss = loss_fn(outputs, targets)\n",
    "            total_loss+=loss.data.item()\n",
    "            fin_targets.extend(targets.cpu().detach().numpy().tolist())\n",
    "            fin_outputs.extend(torch.sigmoid(outputs).cpu().detach().numpy().tolist())\n",
    "    total_loss = total_loss/(len(data_loader))\n",
    "\n",
    "    fin_outputs = np.array(fin_outputs) >= 0.5\n",
    "    \n",
    "    accuracy = metrics.accuracy_score(fin_targets, fin_outputs)\n",
    "    print('accuracy:', accuracy)\n",
    "    \n",
    "    target_names = ['A', 'B', 'C', 'D', 'E', 'F', 'G', 'H', 'I', 'J', 'L', 'M', 'N', 'Z']    \n",
    "    print(metrics.classification_report(fin_targets, fin_outputs, target_names=target_names))\n",
    "    \n",
    "    precision = metrics.precision_score(fin_targets, fin_outputs, average=None)\n",
    "    precision_micro = metrics.precision_score(fin_targets, fin_outputs, average='micro')\n",
    "    precision_macro = metrics.precision_score(fin_targets, fin_outputs, average='macro')\n",
    "    \n",
    "    recall = metrics.recall_score(fin_targets, fin_outputs, average=None)\n",
    "    recall_micro = metrics.recall_score(fin_targets, fin_outputs, average='micro')\n",
    "    recall_macro = metrics.recall_score(fin_targets, fin_outputs, average='macro')\n",
    "    \n",
    "    f1_score = metrics.f1_score(fin_targets, fin_outputs, average=None)\n",
    "    f1_score_micro = metrics.f1_score(fin_targets, fin_outputs, average='micro')\n",
    "    f1_score_macro = metrics.f1_score(fin_targets, fin_outputs, average='macro')\n",
    "    \n",
    "    fin_outputs = fin_outputs.astype(int)\n",
    "\n",
    "    new_df = pd.DataFrame(fin_outputs, columns=target_names)\n",
    "\n",
    "    inference = pd.concat([test_data, new_df], axis=1)\n",
    "\n",
    "    file_path = '/kaggle/working/test_inference.csv'\n",
    "    inference.to_csv(file_path, index=False, header=True)\n",
    "    \n",
    "    return total_loss, accuracy, precision, precision_micro, precision_macro, recall, recall_micro, recall_macro, f1_score, f1_score_micro, f1_score_macro"
   ]
  },
  {
   "cell_type": "markdown",
   "id": "88d2158a",
   "metadata": {},
   "source": [
    "Evaluation loop"
   ]
  },
  {
   "cell_type": "code",
   "execution_count": 14,
   "id": "74f7475f",
   "metadata": {
    "execution": {
     "iopub.execute_input": "2024-04-13T17:00:30.942948Z",
     "iopub.status.busy": "2024-04-13T17:00:30.942709Z",
     "iopub.status.idle": "2024-04-13T17:04:21.990420Z",
     "shell.execute_reply": "2024-04-13T17:04:21.989585Z"
    },
    "papermill": {
     "duration": 231.057279,
     "end_time": "2024-04-13T17:04:21.992884",
     "exception": false,
     "start_time": "2024-04-13T17:00:30.935605",
     "status": "completed"
    },
    "tags": []
   },
   "outputs": [
    {
     "name": "stderr",
     "output_type": "stream",
     "text": [
      "Truncation was not explicitly activated but `max_length` is provided a specific value, please use `truncation=True` to explicitly truncate examples to max length. Defaulting to 'longest_first' truncation strategy. If you encode pairs of sequences (GLUE-style) with the tokenizer you can select this strategy more precisely by providing a specific strategy to `truncation`.\n",
      "/opt/conda/lib/python3.10/site-packages/transformers/tokenization_utils_base.py:2688: FutureWarning: The `pad_to_max_length` argument is deprecated and will be removed in a future version, use `padding=True` or `padding='longest'` to pad to the longest sequence in the batch, or use `padding='max_length'` to pad to a max length. In this case, you can give a specific length with `max_length` (e.g. `max_length=45`) or leave max_length to None to pad to the maximal input size of the model (e.g. 512 for Bert).\n",
      "  warnings.warn(\n"
     ]
    },
    {
     "name": "stdout",
     "output_type": "stream",
     "text": [
      "Data No.: 0\n",
      "Data No.: 1000\n",
      "Data No.: 2000\n",
      "Data No.: 3000\n",
      "Data No.: 4000\n",
      "Data No.: 5000\n",
      "Data No.: 6000\n",
      "Data No.: 7000\n",
      "accuracy: 0.1844\n",
      "              precision    recall  f1-score   support\n",
      "\n",
      "           A       0.83      0.81      0.82      3515\n",
      "           B       0.97      0.98      0.98      6952\n",
      "           C       0.87      0.89      0.88      3929\n",
      "           D       0.92      0.93      0.93      4692\n",
      "           E       0.83      0.94      0.88      5874\n",
      "           F       0.84      0.69      0.76      1329\n",
      "           G       0.85      0.85      0.85      5081\n",
      "           H       0.54      0.12      0.19       937\n",
      "           I       0.70      0.56      0.62       853\n",
      "           J       0.69      0.49      0.57       782\n",
      "           L       0.75      0.45      0.56      1100\n",
      "           M       0.88      0.92      0.90      3150\n",
      "           N       0.81      0.79      0.80      3442\n",
      "           Z       0.77      0.76      0.76      1197\n",
      "\n",
      "   micro avg       0.87      0.85      0.86     42833\n",
      "   macro avg       0.80      0.73      0.75     42833\n",
      "weighted avg       0.86      0.85      0.85     42833\n",
      " samples avg       0.87      0.85      0.85     42833\n",
      "\n"
     ]
    },
    {
     "name": "stderr",
     "output_type": "stream",
     "text": [
      "/opt/conda/lib/python3.10/site-packages/sklearn/metrics/_classification.py:1344: UndefinedMetricWarning: Recall and F-score are ill-defined and being set to 0.0 in samples with no true labels. Use `zero_division` parameter to control this behavior.\n",
      "  _warn_prf(average, modifier, msg_start, len(result))\n"
     ]
    }
   ],
   "source": [
    "test_loss, accuracy, precision, precision_micro, precision_macro, recall, recall_micro, recall_macro, f1_score, f1_score_micro, f1_score_macro = evaluate(testing_loader, test_data)"
   ]
  },
  {
   "cell_type": "markdown",
   "id": "909e5644",
   "metadata": {},
   "source": [
    "Test Dataset Results:\n",
    "\n",
    "              precision    recall  f1-score   support\n",
    "\n",
    "           A       0.83      0.81      0.82      3515\n",
    "           B       0.97      0.98      0.98      6952\n",
    "           C       0.87      0.89      0.88      3929\n",
    "           D       0.92      0.93      0.93      4692\n",
    "           E       0.83      0.94      0.88      5874\n",
    "           F       0.84      0.69      0.76      1329\n",
    "           G       0.85      0.85      0.85      5081\n",
    "           H       0.54      0.12      0.19       937\n",
    "           I       0.70      0.56      0.62       853\n",
    "           J       0.69      0.49      0.57       782\n",
    "           L       0.75      0.45      0.56      1100\n",
    "           M       0.88      0.92      0.90      3150\n",
    "           N       0.81      0.79      0.80      3442\n",
    "           Z       0.77      0.76      0.76      1197\n",
    "\n",
    "   micro avg:       precision: 0.87      recall: 0.85      f1-score: 0.86     support: 42833\n",
    "\n",
    "   macro avg:       precision: 0.80      recall: 0.73      f1-score: 0.75     support: 42833\n",
    "\n",
    "   weighted avg:    precision: 0.86      recall: 0.85      f1-score: 0.85     support: 42833\n",
    "   \n",
    "   samples avg:     precision: 0.87      recall: 0.85      f1-score: 0.85     support: 42833"
   ]
  },
  {
   "cell_type": "code",
   "execution_count": 15,
   "id": "2df28f9b",
   "metadata": {
    "execution": {
     "iopub.execute_input": "2024-04-13T17:04:22.009391Z",
     "iopub.status.busy": "2024-04-13T17:04:22.008743Z",
     "iopub.status.idle": "2024-04-13T17:04:22.014291Z",
     "shell.execute_reply": "2024-04-13T17:04:22.013394Z"
    },
    "papermill": {
     "duration": 0.015711,
     "end_time": "2024-04-13T17:04:22.016167",
     "exception": false,
     "start_time": "2024-04-13T17:04:22.000456",
     "status": "completed"
    },
    "tags": []
   },
   "outputs": [],
   "source": [
    "test_results = {\n",
    "    'test_loss': [test_loss],\n",
    "    'accuracy': [accuracy],\n",
    "    'precision': [precision],\n",
    "    'precision_micro': [precision_micro],\n",
    "    'precision_macro': [precision_macro],\n",
    "    'recall': [recall],\n",
    "    'recall_micro': [recall_micro],\n",
    "    'recall_macro': [recall_macro],\n",
    "    'f1_score': [f1_score],\n",
    "    'f1_score_micro': [f1_score_micro],\n",
    "    'f1_score_macro': [f1_score_macro]\n",
    "}"
   ]
  },
  {
   "cell_type": "code",
   "execution_count": 16,
   "id": "1bd32f69",
   "metadata": {
    "execution": {
     "iopub.execute_input": "2024-04-13T17:04:22.032337Z",
     "iopub.status.busy": "2024-04-13T17:04:22.031532Z",
     "iopub.status.idle": "2024-04-13T17:04:22.339706Z",
     "shell.execute_reply": "2024-04-13T17:04:22.338868Z"
    },
    "papermill": {
     "duration": 0.318655,
     "end_time": "2024-04-13T17:04:22.342080",
     "exception": false,
     "start_time": "2024-04-13T17:04:22.023425",
     "status": "completed"
    },
    "tags": []
   },
   "outputs": [],
   "source": [
    "df = pd.DataFrame(test_results)\n",
    "file_path = '/kaggle/working/test_results_list.xlsx'\n",
    "df.to_excel(file_path, index=False, header=True)"
   ]
  }
 ],
 "metadata": {
  "kaggle": {
   "accelerator": "gpu",
   "dataSources": [
    {
     "datasetId": 4790835,
     "sourceId": 8110286,
     "sourceType": "datasetVersion"
    }
   ],
   "dockerImageVersionId": 30684,
   "isGpuEnabled": true,
   "isInternetEnabled": true,
   "language": "python",
   "sourceType": "notebook"
  },
  "kernelspec": {
   "display_name": "Python 3",
   "language": "python",
   "name": "python3"
  },
  "language_info": {
   "codemirror_mode": {
    "name": "ipython",
    "version": 3
   },
   "file_extension": ".py",
   "mimetype": "text/x-python",
   "name": "python",
   "nbconvert_exporter": "python",
   "pygments_lexer": "ipython3",
   "version": "3.11.4"
  },
  "papermill": {
   "default_parameters": {},
   "duration": 252.118333,
   "end_time": "2024-04-13T17:04:24.176017",
   "environment_variables": {},
   "exception": null,
   "input_path": "__notebook__.ipynb",
   "output_path": "__notebook__.ipynb",
   "parameters": {},
   "start_time": "2024-04-13T17:00:12.057684",
   "version": "2.5.0"
  },
  "widgets": {
   "application/vnd.jupyter.widget-state+json": {
    "state": {
     "02516a0d6286432693123c477d33dd55": {
      "model_module": "@jupyter-widgets/controls",
      "model_module_version": "1.5.0",
      "model_name": "FloatProgressModel",
      "state": {
       "_dom_classes": [],
       "_model_module": "@jupyter-widgets/controls",
       "_model_module_version": "1.5.0",
       "_model_name": "FloatProgressModel",
       "_view_count": null,
       "_view_module": "@jupyter-widgets/controls",
       "_view_module_version": "1.5.0",
       "_view_name": "ProgressView",
       "bar_style": "success",
       "description": "",
       "description_tooltip": null,
       "layout": "IPY_MODEL_057baf98e1a24149bb6a2de2b8b8a2d2",
       "max": 440449768,
       "min": 0,
       "orientation": "horizontal",
       "style": "IPY_MODEL_aa1c842294ac4d02876675fa2db8c06f",
       "value": 440449768
      }
     },
     "042d97729b9b4f44b6f508e789f52622": {
      "model_module": "@jupyter-widgets/base",
      "model_module_version": "1.2.0",
      "model_name": "LayoutModel",
      "state": {
       "_model_module": "@jupyter-widgets/base",
       "_model_module_version": "1.2.0",
       "_model_name": "LayoutModel",
       "_view_count": null,
       "_view_module": "@jupyter-widgets/base",
       "_view_module_version": "1.2.0",
       "_view_name": "LayoutView",
       "align_content": null,
       "align_items": null,
       "align_self": null,
       "border": null,
       "bottom": null,
       "display": null,
       "flex": null,
       "flex_flow": null,
       "grid_area": null,
       "grid_auto_columns": null,
       "grid_auto_flow": null,
       "grid_auto_rows": null,
       "grid_column": null,
       "grid_gap": null,
       "grid_row": null,
       "grid_template_areas": null,
       "grid_template_columns": null,
       "grid_template_rows": null,
       "height": null,
       "justify_content": null,
       "justify_items": null,
       "left": null,
       "margin": null,
       "max_height": null,
       "max_width": null,
       "min_height": null,
       "min_width": null,
       "object_fit": null,
       "object_position": null,
       "order": null,
       "overflow": null,
       "overflow_x": null,
       "overflow_y": null,
       "padding": null,
       "right": null,
       "top": null,
       "visibility": null,
       "width": null
      }
     },
     "056dbe3795fd49a79dd335036ebc72ab": {
      "model_module": "@jupyter-widgets/base",
      "model_module_version": "1.2.0",
      "model_name": "LayoutModel",
      "state": {
       "_model_module": "@jupyter-widgets/base",
       "_model_module_version": "1.2.0",
       "_model_name": "LayoutModel",
       "_view_count": null,
       "_view_module": "@jupyter-widgets/base",
       "_view_module_version": "1.2.0",
       "_view_name": "LayoutView",
       "align_content": null,
       "align_items": null,
       "align_self": null,
       "border": null,
       "bottom": null,
       "display": null,
       "flex": null,
       "flex_flow": null,
       "grid_area": null,
       "grid_auto_columns": null,
       "grid_auto_flow": null,
       "grid_auto_rows": null,
       "grid_column": null,
       "grid_gap": null,
       "grid_row": null,
       "grid_template_areas": null,
       "grid_template_columns": null,
       "grid_template_rows": null,
       "height": null,
       "justify_content": null,
       "justify_items": null,
       "left": null,
       "margin": null,
       "max_height": null,
       "max_width": null,
       "min_height": null,
       "min_width": null,
       "object_fit": null,
       "object_position": null,
       "order": null,
       "overflow": null,
       "overflow_x": null,
       "overflow_y": null,
       "padding": null,
       "right": null,
       "top": null,
       "visibility": null,
       "width": null
      }
     },
     "057baf98e1a24149bb6a2de2b8b8a2d2": {
      "model_module": "@jupyter-widgets/base",
      "model_module_version": "1.2.0",
      "model_name": "LayoutModel",
      "state": {
       "_model_module": "@jupyter-widgets/base",
       "_model_module_version": "1.2.0",
       "_model_name": "LayoutModel",
       "_view_count": null,
       "_view_module": "@jupyter-widgets/base",
       "_view_module_version": "1.2.0",
       "_view_name": "LayoutView",
       "align_content": null,
       "align_items": null,
       "align_self": null,
       "border": null,
       "bottom": null,
       "display": null,
       "flex": null,
       "flex_flow": null,
       "grid_area": null,
       "grid_auto_columns": null,
       "grid_auto_flow": null,
       "grid_auto_rows": null,
       "grid_column": null,
       "grid_gap": null,
       "grid_row": null,
       "grid_template_areas": null,
       "grid_template_columns": null,
       "grid_template_rows": null,
       "height": null,
       "justify_content": null,
       "justify_items": null,
       "left": null,
       "margin": null,
       "max_height": null,
       "max_width": null,
       "min_height": null,
       "min_width": null,
       "object_fit": null,
       "object_position": null,
       "order": null,
       "overflow": null,
       "overflow_x": null,
       "overflow_y": null,
       "padding": null,
       "right": null,
       "top": null,
       "visibility": null,
       "width": null
      }
     },
     "0778cfe588c34a02853dfda5aa30225a": {
      "model_module": "@jupyter-widgets/controls",
      "model_module_version": "1.5.0",
      "model_name": "HTMLModel",
      "state": {
       "_dom_classes": [],
       "_model_module": "@jupyter-widgets/controls",
       "_model_module_version": "1.5.0",
       "_model_name": "HTMLModel",
       "_view_count": null,
       "_view_module": "@jupyter-widgets/controls",
       "_view_module_version": "1.5.0",
       "_view_name": "HTMLView",
       "description": "",
       "description_tooltip": null,
       "layout": "IPY_MODEL_64fad87884ed4a1bbbfccf0f4b0a6a4a",
       "placeholder": "​",
       "style": "IPY_MODEL_45df32ee1f424807acad2e449ba89aed",
       "value": " 466k/466k [00:00&lt;00:00, 33.6MB/s]"
      }
     },
     "0a853f0b0c4748d4bacaf52c9081ae7a": {
      "model_module": "@jupyter-widgets/controls",
      "model_module_version": "1.5.0",
      "model_name": "DescriptionStyleModel",
      "state": {
       "_model_module": "@jupyter-widgets/controls",
       "_model_module_version": "1.5.0",
       "_model_name": "DescriptionStyleModel",
       "_view_count": null,
       "_view_module": "@jupyter-widgets/base",
       "_view_module_version": "1.2.0",
       "_view_name": "StyleView",
       "description_width": ""
      }
     },
     "19a22fd5e3ee4d509fa2e93cbbe92601": {
      "model_module": "@jupyter-widgets/controls",
      "model_module_version": "1.5.0",
      "model_name": "HTMLModel",
      "state": {
       "_dom_classes": [],
       "_model_module": "@jupyter-widgets/controls",
       "_model_module_version": "1.5.0",
       "_model_name": "HTMLModel",
       "_view_count": null,
       "_view_module": "@jupyter-widgets/controls",
       "_view_module_version": "1.5.0",
       "_view_name": "HTMLView",
       "description": "",
       "description_tooltip": null,
       "layout": "IPY_MODEL_32a5d538f72341ec8ea1dd1a135862b2",
       "placeholder": "​",
       "style": "IPY_MODEL_4a44f43cbfcb442686322d1f3647fdff",
       "value": " 232k/232k [00:00&lt;00:00, 6.53MB/s]"
      }
     },
     "1a3adaf5c0f642e285210aaa17c14c88": {
      "model_module": "@jupyter-widgets/controls",
      "model_module_version": "1.5.0",
      "model_name": "HTMLModel",
      "state": {
       "_dom_classes": [],
       "_model_module": "@jupyter-widgets/controls",
       "_model_module_version": "1.5.0",
       "_model_name": "HTMLModel",
       "_view_count": null,
       "_view_module": "@jupyter-widgets/controls",
       "_view_module_version": "1.5.0",
       "_view_name": "HTMLView",
       "description": "",
       "description_tooltip": null,
       "layout": "IPY_MODEL_87dc9eadf963455493dfa10c01fdcfda",
       "placeholder": "​",
       "style": "IPY_MODEL_444361f2343145539ce1b7205479b2ed",
       "value": "model.safetensors: 100%"
      }
     },
     "1eabfb77bd5d41df888f46224fe963d7": {
      "model_module": "@jupyter-widgets/base",
      "model_module_version": "1.2.0",
      "model_name": "LayoutModel",
      "state": {
       "_model_module": "@jupyter-widgets/base",
       "_model_module_version": "1.2.0",
       "_model_name": "LayoutModel",
       "_view_count": null,
       "_view_module": "@jupyter-widgets/base",
       "_view_module_version": "1.2.0",
       "_view_name": "LayoutView",
       "align_content": null,
       "align_items": null,
       "align_self": null,
       "border": null,
       "bottom": null,
       "display": null,
       "flex": null,
       "flex_flow": null,
       "grid_area": null,
       "grid_auto_columns": null,
       "grid_auto_flow": null,
       "grid_auto_rows": null,
       "grid_column": null,
       "grid_gap": null,
       "grid_row": null,
       "grid_template_areas": null,
       "grid_template_columns": null,
       "grid_template_rows": null,
       "height": null,
       "justify_content": null,
       "justify_items": null,
       "left": null,
       "margin": null,
       "max_height": null,
       "max_width": null,
       "min_height": null,
       "min_width": null,
       "object_fit": null,
       "object_position": null,
       "order": null,
       "overflow": null,
       "overflow_x": null,
       "overflow_y": null,
       "padding": null,
       "right": null,
       "top": null,
       "visibility": null,
       "width": null
      }
     },
     "210eb837e1574976aed6b5bb75778801": {
      "model_module": "@jupyter-widgets/base",
      "model_module_version": "1.2.0",
      "model_name": "LayoutModel",
      "state": {
       "_model_module": "@jupyter-widgets/base",
       "_model_module_version": "1.2.0",
       "_model_name": "LayoutModel",
       "_view_count": null,
       "_view_module": "@jupyter-widgets/base",
       "_view_module_version": "1.2.0",
       "_view_name": "LayoutView",
       "align_content": null,
       "align_items": null,
       "align_self": null,
       "border": null,
       "bottom": null,
       "display": null,
       "flex": null,
       "flex_flow": null,
       "grid_area": null,
       "grid_auto_columns": null,
       "grid_auto_flow": null,
       "grid_auto_rows": null,
       "grid_column": null,
       "grid_gap": null,
       "grid_row": null,
       "grid_template_areas": null,
       "grid_template_columns": null,
       "grid_template_rows": null,
       "height": null,
       "justify_content": null,
       "justify_items": null,
       "left": null,
       "margin": null,
       "max_height": null,
       "max_width": null,
       "min_height": null,
       "min_width": null,
       "object_fit": null,
       "object_position": null,
       "order": null,
       "overflow": null,
       "overflow_x": null,
       "overflow_y": null,
       "padding": null,
       "right": null,
       "top": null,
       "visibility": null,
       "width": null
      }
     },
     "2e22f9f2f11c4ea5a9bd012d94b5f006": {
      "model_module": "@jupyter-widgets/controls",
      "model_module_version": "1.5.0",
      "model_name": "FloatProgressModel",
      "state": {
       "_dom_classes": [],
       "_model_module": "@jupyter-widgets/controls",
       "_model_module_version": "1.5.0",
       "_model_name": "FloatProgressModel",
       "_view_count": null,
       "_view_module": "@jupyter-widgets/controls",
       "_view_module_version": "1.5.0",
       "_view_name": "ProgressView",
       "bar_style": "success",
       "description": "",
       "description_tooltip": null,
       "layout": "IPY_MODEL_b8eff6e676a543998ce817ec7ed4a56b",
       "max": 570,
       "min": 0,
       "orientation": "horizontal",
       "style": "IPY_MODEL_839e47862d9e426d8172895672ad75f0",
       "value": 570
      }
     },
     "306f3c9ab5e44feeb4867e9f8ed9a074": {
      "model_module": "@jupyter-widgets/controls",
      "model_module_version": "1.5.0",
      "model_name": "ProgressStyleModel",
      "state": {
       "_model_module": "@jupyter-widgets/controls",
       "_model_module_version": "1.5.0",
       "_model_name": "ProgressStyleModel",
       "_view_count": null,
       "_view_module": "@jupyter-widgets/base",
       "_view_module_version": "1.2.0",
       "_view_name": "StyleView",
       "bar_color": null,
       "description_width": ""
      }
     },
     "32a5d538f72341ec8ea1dd1a135862b2": {
      "model_module": "@jupyter-widgets/base",
      "model_module_version": "1.2.0",
      "model_name": "LayoutModel",
      "state": {
       "_model_module": "@jupyter-widgets/base",
       "_model_module_version": "1.2.0",
       "_model_name": "LayoutModel",
       "_view_count": null,
       "_view_module": "@jupyter-widgets/base",
       "_view_module_version": "1.2.0",
       "_view_name": "LayoutView",
       "align_content": null,
       "align_items": null,
       "align_self": null,
       "border": null,
       "bottom": null,
       "display": null,
       "flex": null,
       "flex_flow": null,
       "grid_area": null,
       "grid_auto_columns": null,
       "grid_auto_flow": null,
       "grid_auto_rows": null,
       "grid_column": null,
       "grid_gap": null,
       "grid_row": null,
       "grid_template_areas": null,
       "grid_template_columns": null,
       "grid_template_rows": null,
       "height": null,
       "justify_content": null,
       "justify_items": null,
       "left": null,
       "margin": null,
       "max_height": null,
       "max_width": null,
       "min_height": null,
       "min_width": null,
       "object_fit": null,
       "object_position": null,
       "order": null,
       "overflow": null,
       "overflow_x": null,
       "overflow_y": null,
       "padding": null,
       "right": null,
       "top": null,
       "visibility": null,
       "width": null
      }
     },
     "361c302e96154e09bcefb55ee9755004": {
      "model_module": "@jupyter-widgets/base",
      "model_module_version": "1.2.0",
      "model_name": "LayoutModel",
      "state": {
       "_model_module": "@jupyter-widgets/base",
       "_model_module_version": "1.2.0",
       "_model_name": "LayoutModel",
       "_view_count": null,
       "_view_module": "@jupyter-widgets/base",
       "_view_module_version": "1.2.0",
       "_view_name": "LayoutView",
       "align_content": null,
       "align_items": null,
       "align_self": null,
       "border": null,
       "bottom": null,
       "display": null,
       "flex": null,
       "flex_flow": null,
       "grid_area": null,
       "grid_auto_columns": null,
       "grid_auto_flow": null,
       "grid_auto_rows": null,
       "grid_column": null,
       "grid_gap": null,
       "grid_row": null,
       "grid_template_areas": null,
       "grid_template_columns": null,
       "grid_template_rows": null,
       "height": null,
       "justify_content": null,
       "justify_items": null,
       "left": null,
       "margin": null,
       "max_height": null,
       "max_width": null,
       "min_height": null,
       "min_width": null,
       "object_fit": null,
       "object_position": null,
       "order": null,
       "overflow": null,
       "overflow_x": null,
       "overflow_y": null,
       "padding": null,
       "right": null,
       "top": null,
       "visibility": null,
       "width": null
      }
     },
     "36b35fdbab6c47e8a647be382683bff0": {
      "model_module": "@jupyter-widgets/base",
      "model_module_version": "1.2.0",
      "model_name": "LayoutModel",
      "state": {
       "_model_module": "@jupyter-widgets/base",
       "_model_module_version": "1.2.0",
       "_model_name": "LayoutModel",
       "_view_count": null,
       "_view_module": "@jupyter-widgets/base",
       "_view_module_version": "1.2.0",
       "_view_name": "LayoutView",
       "align_content": null,
       "align_items": null,
       "align_self": null,
       "border": null,
       "bottom": null,
       "display": null,
       "flex": null,
       "flex_flow": null,
       "grid_area": null,
       "grid_auto_columns": null,
       "grid_auto_flow": null,
       "grid_auto_rows": null,
       "grid_column": null,
       "grid_gap": null,
       "grid_row": null,
       "grid_template_areas": null,
       "grid_template_columns": null,
       "grid_template_rows": null,
       "height": null,
       "justify_content": null,
       "justify_items": null,
       "left": null,
       "margin": null,
       "max_height": null,
       "max_width": null,
       "min_height": null,
       "min_width": null,
       "object_fit": null,
       "object_position": null,
       "order": null,
       "overflow": null,
       "overflow_x": null,
       "overflow_y": null,
       "padding": null,
       "right": null,
       "top": null,
       "visibility": null,
       "width": null
      }
     },
     "36c51476e7bc4072a2850bfd64d07124": {
      "model_module": "@jupyter-widgets/controls",
      "model_module_version": "1.5.0",
      "model_name": "DescriptionStyleModel",
      "state": {
       "_model_module": "@jupyter-widgets/controls",
       "_model_module_version": "1.5.0",
       "_model_name": "DescriptionStyleModel",
       "_view_count": null,
       "_view_module": "@jupyter-widgets/base",
       "_view_module_version": "1.2.0",
       "_view_name": "StyleView",
       "description_width": ""
      }
     },
     "3df40633303c46f8857d8f5577132285": {
      "model_module": "@jupyter-widgets/base",
      "model_module_version": "1.2.0",
      "model_name": "LayoutModel",
      "state": {
       "_model_module": "@jupyter-widgets/base",
       "_model_module_version": "1.2.0",
       "_model_name": "LayoutModel",
       "_view_count": null,
       "_view_module": "@jupyter-widgets/base",
       "_view_module_version": "1.2.0",
       "_view_name": "LayoutView",
       "align_content": null,
       "align_items": null,
       "align_self": null,
       "border": null,
       "bottom": null,
       "display": null,
       "flex": null,
       "flex_flow": null,
       "grid_area": null,
       "grid_auto_columns": null,
       "grid_auto_flow": null,
       "grid_auto_rows": null,
       "grid_column": null,
       "grid_gap": null,
       "grid_row": null,
       "grid_template_areas": null,
       "grid_template_columns": null,
       "grid_template_rows": null,
       "height": null,
       "justify_content": null,
       "justify_items": null,
       "left": null,
       "margin": null,
       "max_height": null,
       "max_width": null,
       "min_height": null,
       "min_width": null,
       "object_fit": null,
       "object_position": null,
       "order": null,
       "overflow": null,
       "overflow_x": null,
       "overflow_y": null,
       "padding": null,
       "right": null,
       "top": null,
       "visibility": null,
       "width": null
      }
     },
     "3fe10344a6ed4cf9b763f4c5915432ca": {
      "model_module": "@jupyter-widgets/controls",
      "model_module_version": "1.5.0",
      "model_name": "HBoxModel",
      "state": {
       "_dom_classes": [],
       "_model_module": "@jupyter-widgets/controls",
       "_model_module_version": "1.5.0",
       "_model_name": "HBoxModel",
       "_view_count": null,
       "_view_module": "@jupyter-widgets/controls",
       "_view_module_version": "1.5.0",
       "_view_name": "HBoxView",
       "box_style": "",
       "children": [
        "IPY_MODEL_ee5d76f1857b436e896290ccfa220f79",
        "IPY_MODEL_2e22f9f2f11c4ea5a9bd012d94b5f006",
        "IPY_MODEL_a63aa38f44ad4e73a063d95b4917084b"
       ],
       "layout": "IPY_MODEL_60b48a6ce7d44e08b6b518b327fd3ddd"
      }
     },
     "444361f2343145539ce1b7205479b2ed": {
      "model_module": "@jupyter-widgets/controls",
      "model_module_version": "1.5.0",
      "model_name": "DescriptionStyleModel",
      "state": {
       "_model_module": "@jupyter-widgets/controls",
       "_model_module_version": "1.5.0",
       "_model_name": "DescriptionStyleModel",
       "_view_count": null,
       "_view_module": "@jupyter-widgets/base",
       "_view_module_version": "1.2.0",
       "_view_name": "StyleView",
       "description_width": ""
      }
     },
     "456659dc5be7425cba29f88c81b04fcd": {
      "model_module": "@jupyter-widgets/controls",
      "model_module_version": "1.5.0",
      "model_name": "DescriptionStyleModel",
      "state": {
       "_model_module": "@jupyter-widgets/controls",
       "_model_module_version": "1.5.0",
       "_model_name": "DescriptionStyleModel",
       "_view_count": null,
       "_view_module": "@jupyter-widgets/base",
       "_view_module_version": "1.2.0",
       "_view_name": "StyleView",
       "description_width": ""
      }
     },
     "45df32ee1f424807acad2e449ba89aed": {
      "model_module": "@jupyter-widgets/controls",
      "model_module_version": "1.5.0",
      "model_name": "DescriptionStyleModel",
      "state": {
       "_model_module": "@jupyter-widgets/controls",
       "_model_module_version": "1.5.0",
       "_model_name": "DescriptionStyleModel",
       "_view_count": null,
       "_view_module": "@jupyter-widgets/base",
       "_view_module_version": "1.2.0",
       "_view_name": "StyleView",
       "description_width": ""
      }
     },
     "4a44f43cbfcb442686322d1f3647fdff": {
      "model_module": "@jupyter-widgets/controls",
      "model_module_version": "1.5.0",
      "model_name": "DescriptionStyleModel",
      "state": {
       "_model_module": "@jupyter-widgets/controls",
       "_model_module_version": "1.5.0",
       "_model_name": "DescriptionStyleModel",
       "_view_count": null,
       "_view_module": "@jupyter-widgets/base",
       "_view_module_version": "1.2.0",
       "_view_name": "StyleView",
       "description_width": ""
      }
     },
     "526c49ce10164f37ae9278bf343ebd45": {
      "model_module": "@jupyter-widgets/controls",
      "model_module_version": "1.5.0",
      "model_name": "HBoxModel",
      "state": {
       "_dom_classes": [],
       "_model_module": "@jupyter-widgets/controls",
       "_model_module_version": "1.5.0",
       "_model_name": "HBoxModel",
       "_view_count": null,
       "_view_module": "@jupyter-widgets/controls",
       "_view_module_version": "1.5.0",
       "_view_name": "HBoxView",
       "box_style": "",
       "children": [
        "IPY_MODEL_72f142ba440844d9a8bc0dc7abe9d8ec",
        "IPY_MODEL_5dfbe6f6340d4b80b476337b47c6659f",
        "IPY_MODEL_f23507c4a21d4b98a0f575ba732c6434"
       ],
       "layout": "IPY_MODEL_042d97729b9b4f44b6f508e789f52622"
      }
     },
     "5654b8279c054f22ab6fb8930c949dcd": {
      "model_module": "@jupyter-widgets/base",
      "model_module_version": "1.2.0",
      "model_name": "LayoutModel",
      "state": {
       "_model_module": "@jupyter-widgets/base",
       "_model_module_version": "1.2.0",
       "_model_name": "LayoutModel",
       "_view_count": null,
       "_view_module": "@jupyter-widgets/base",
       "_view_module_version": "1.2.0",
       "_view_name": "LayoutView",
       "align_content": null,
       "align_items": null,
       "align_self": null,
       "border": null,
       "bottom": null,
       "display": null,
       "flex": null,
       "flex_flow": null,
       "grid_area": null,
       "grid_auto_columns": null,
       "grid_auto_flow": null,
       "grid_auto_rows": null,
       "grid_column": null,
       "grid_gap": null,
       "grid_row": null,
       "grid_template_areas": null,
       "grid_template_columns": null,
       "grid_template_rows": null,
       "height": null,
       "justify_content": null,
       "justify_items": null,
       "left": null,
       "margin": null,
       "max_height": null,
       "max_width": null,
       "min_height": null,
       "min_width": null,
       "object_fit": null,
       "object_position": null,
       "order": null,
       "overflow": null,
       "overflow_x": null,
       "overflow_y": null,
       "padding": null,
       "right": null,
       "top": null,
       "visibility": null,
       "width": null
      }
     },
     "5bc4ea15c2b441abb106cce760242332": {
      "model_module": "@jupyter-widgets/controls",
      "model_module_version": "1.5.0",
      "model_name": "FloatProgressModel",
      "state": {
       "_dom_classes": [],
       "_model_module": "@jupyter-widgets/controls",
       "_model_module_version": "1.5.0",
       "_model_name": "FloatProgressModel",
       "_view_count": null,
       "_view_module": "@jupyter-widgets/controls",
       "_view_module_version": "1.5.0",
       "_view_name": "ProgressView",
       "bar_style": "success",
       "description": "",
       "description_tooltip": null,
       "layout": "IPY_MODEL_1eabfb77bd5d41df888f46224fe963d7",
       "max": 466062,
       "min": 0,
       "orientation": "horizontal",
       "style": "IPY_MODEL_910222c2672d41c0bf5212e1196109d4",
       "value": 466062
      }
     },
     "5d643e1cdc7841528affcf79cd3b4184": {
      "model_module": "@jupyter-widgets/base",
      "model_module_version": "1.2.0",
      "model_name": "LayoutModel",
      "state": {
       "_model_module": "@jupyter-widgets/base",
       "_model_module_version": "1.2.0",
       "_model_name": "LayoutModel",
       "_view_count": null,
       "_view_module": "@jupyter-widgets/base",
       "_view_module_version": "1.2.0",
       "_view_name": "LayoutView",
       "align_content": null,
       "align_items": null,
       "align_self": null,
       "border": null,
       "bottom": null,
       "display": null,
       "flex": null,
       "flex_flow": null,
       "grid_area": null,
       "grid_auto_columns": null,
       "grid_auto_flow": null,
       "grid_auto_rows": null,
       "grid_column": null,
       "grid_gap": null,
       "grid_row": null,
       "grid_template_areas": null,
       "grid_template_columns": null,
       "grid_template_rows": null,
       "height": null,
       "justify_content": null,
       "justify_items": null,
       "left": null,
       "margin": null,
       "max_height": null,
       "max_width": null,
       "min_height": null,
       "min_width": null,
       "object_fit": null,
       "object_position": null,
       "order": null,
       "overflow": null,
       "overflow_x": null,
       "overflow_y": null,
       "padding": null,
       "right": null,
       "top": null,
       "visibility": null,
       "width": null
      }
     },
     "5dfbe6f6340d4b80b476337b47c6659f": {
      "model_module": "@jupyter-widgets/controls",
      "model_module_version": "1.5.0",
      "model_name": "FloatProgressModel",
      "state": {
       "_dom_classes": [],
       "_model_module": "@jupyter-widgets/controls",
       "_model_module_version": "1.5.0",
       "_model_name": "FloatProgressModel",
       "_view_count": null,
       "_view_module": "@jupyter-widgets/controls",
       "_view_module_version": "1.5.0",
       "_view_name": "ProgressView",
       "bar_style": "success",
       "description": "",
       "description_tooltip": null,
       "layout": "IPY_MODEL_210eb837e1574976aed6b5bb75778801",
       "max": 48,
       "min": 0,
       "orientation": "horizontal",
       "style": "IPY_MODEL_c6bddebfe7024d689e1a665dc785709f",
       "value": 48
      }
     },
     "60b48a6ce7d44e08b6b518b327fd3ddd": {
      "model_module": "@jupyter-widgets/base",
      "model_module_version": "1.2.0",
      "model_name": "LayoutModel",
      "state": {
       "_model_module": "@jupyter-widgets/base",
       "_model_module_version": "1.2.0",
       "_model_name": "LayoutModel",
       "_view_count": null,
       "_view_module": "@jupyter-widgets/base",
       "_view_module_version": "1.2.0",
       "_view_name": "LayoutView",
       "align_content": null,
       "align_items": null,
       "align_self": null,
       "border": null,
       "bottom": null,
       "display": null,
       "flex": null,
       "flex_flow": null,
       "grid_area": null,
       "grid_auto_columns": null,
       "grid_auto_flow": null,
       "grid_auto_rows": null,
       "grid_column": null,
       "grid_gap": null,
       "grid_row": null,
       "grid_template_areas": null,
       "grid_template_columns": null,
       "grid_template_rows": null,
       "height": null,
       "justify_content": null,
       "justify_items": null,
       "left": null,
       "margin": null,
       "max_height": null,
       "max_width": null,
       "min_height": null,
       "min_width": null,
       "object_fit": null,
       "object_position": null,
       "order": null,
       "overflow": null,
       "overflow_x": null,
       "overflow_y": null,
       "padding": null,
       "right": null,
       "top": null,
       "visibility": null,
       "width": null
      }
     },
     "64fad87884ed4a1bbbfccf0f4b0a6a4a": {
      "model_module": "@jupyter-widgets/base",
      "model_module_version": "1.2.0",
      "model_name": "LayoutModel",
      "state": {
       "_model_module": "@jupyter-widgets/base",
       "_model_module_version": "1.2.0",
       "_model_name": "LayoutModel",
       "_view_count": null,
       "_view_module": "@jupyter-widgets/base",
       "_view_module_version": "1.2.0",
       "_view_name": "LayoutView",
       "align_content": null,
       "align_items": null,
       "align_self": null,
       "border": null,
       "bottom": null,
       "display": null,
       "flex": null,
       "flex_flow": null,
       "grid_area": null,
       "grid_auto_columns": null,
       "grid_auto_flow": null,
       "grid_auto_rows": null,
       "grid_column": null,
       "grid_gap": null,
       "grid_row": null,
       "grid_template_areas": null,
       "grid_template_columns": null,
       "grid_template_rows": null,
       "height": null,
       "justify_content": null,
       "justify_items": null,
       "left": null,
       "margin": null,
       "max_height": null,
       "max_width": null,
       "min_height": null,
       "min_width": null,
       "object_fit": null,
       "object_position": null,
       "order": null,
       "overflow": null,
       "overflow_x": null,
       "overflow_y": null,
       "padding": null,
       "right": null,
       "top": null,
       "visibility": null,
       "width": null
      }
     },
     "65246e70eff74f39908186f3b72f6bde": {
      "model_module": "@jupyter-widgets/controls",
      "model_module_version": "1.5.0",
      "model_name": "DescriptionStyleModel",
      "state": {
       "_model_module": "@jupyter-widgets/controls",
       "_model_module_version": "1.5.0",
       "_model_name": "DescriptionStyleModel",
       "_view_count": null,
       "_view_module": "@jupyter-widgets/base",
       "_view_module_version": "1.2.0",
       "_view_name": "StyleView",
       "description_width": ""
      }
     },
     "6bb116fcce384c818a6a0de25ad865dc": {
      "model_module": "@jupyter-widgets/controls",
      "model_module_version": "1.5.0",
      "model_name": "FloatProgressModel",
      "state": {
       "_dom_classes": [],
       "_model_module": "@jupyter-widgets/controls",
       "_model_module_version": "1.5.0",
       "_model_name": "FloatProgressModel",
       "_view_count": null,
       "_view_module": "@jupyter-widgets/controls",
       "_view_module_version": "1.5.0",
       "_view_name": "ProgressView",
       "bar_style": "success",
       "description": "",
       "description_tooltip": null,
       "layout": "IPY_MODEL_056dbe3795fd49a79dd335036ebc72ab",
       "max": 231508,
       "min": 0,
       "orientation": "horizontal",
       "style": "IPY_MODEL_306f3c9ab5e44feeb4867e9f8ed9a074",
       "value": 231508
      }
     },
     "6cdb129770c341b5bbbd86c04b3f3b1b": {
      "model_module": "@jupyter-widgets/controls",
      "model_module_version": "1.5.0",
      "model_name": "HBoxModel",
      "state": {
       "_dom_classes": [],
       "_model_module": "@jupyter-widgets/controls",
       "_model_module_version": "1.5.0",
       "_model_name": "HBoxModel",
       "_view_count": null,
       "_view_module": "@jupyter-widgets/controls",
       "_view_module_version": "1.5.0",
       "_view_name": "HBoxView",
       "box_style": "",
       "children": [
        "IPY_MODEL_1a3adaf5c0f642e285210aaa17c14c88",
        "IPY_MODEL_02516a0d6286432693123c477d33dd55",
        "IPY_MODEL_c5e35c9094a34ffdaf3140766a9ebd3a"
       ],
       "layout": "IPY_MODEL_5d643e1cdc7841528affcf79cd3b4184"
      }
     },
     "70a36dc837c643faae18dd31e64ffae8": {
      "model_module": "@jupyter-widgets/controls",
      "model_module_version": "1.5.0",
      "model_name": "HBoxModel",
      "state": {
       "_dom_classes": [],
       "_model_module": "@jupyter-widgets/controls",
       "_model_module_version": "1.5.0",
       "_model_name": "HBoxModel",
       "_view_count": null,
       "_view_module": "@jupyter-widgets/controls",
       "_view_module_version": "1.5.0",
       "_view_name": "HBoxView",
       "box_style": "",
       "children": [
        "IPY_MODEL_f77a76876dcb41e693bf99828f73bed2",
        "IPY_MODEL_6bb116fcce384c818a6a0de25ad865dc",
        "IPY_MODEL_19a22fd5e3ee4d509fa2e93cbbe92601"
       ],
       "layout": "IPY_MODEL_8ad0b4660a944dac9221bc0a4b226c59"
      }
     },
     "72f142ba440844d9a8bc0dc7abe9d8ec": {
      "model_module": "@jupyter-widgets/controls",
      "model_module_version": "1.5.0",
      "model_name": "HTMLModel",
      "state": {
       "_dom_classes": [],
       "_model_module": "@jupyter-widgets/controls",
       "_model_module_version": "1.5.0",
       "_model_name": "HTMLModel",
       "_view_count": null,
       "_view_module": "@jupyter-widgets/controls",
       "_view_module_version": "1.5.0",
       "_view_name": "HTMLView",
       "description": "",
       "description_tooltip": null,
       "layout": "IPY_MODEL_361c302e96154e09bcefb55ee9755004",
       "placeholder": "​",
       "style": "IPY_MODEL_0a853f0b0c4748d4bacaf52c9081ae7a",
       "value": "tokenizer_config.json: 100%"
      }
     },
     "7bfb44f748424b0c975fe11a6a710c96": {
      "model_module": "@jupyter-widgets/base",
      "model_module_version": "1.2.0",
      "model_name": "LayoutModel",
      "state": {
       "_model_module": "@jupyter-widgets/base",
       "_model_module_version": "1.2.0",
       "_model_name": "LayoutModel",
       "_view_count": null,
       "_view_module": "@jupyter-widgets/base",
       "_view_module_version": "1.2.0",
       "_view_name": "LayoutView",
       "align_content": null,
       "align_items": null,
       "align_self": null,
       "border": null,
       "bottom": null,
       "display": null,
       "flex": null,
       "flex_flow": null,
       "grid_area": null,
       "grid_auto_columns": null,
       "grid_auto_flow": null,
       "grid_auto_rows": null,
       "grid_column": null,
       "grid_gap": null,
       "grid_row": null,
       "grid_template_areas": null,
       "grid_template_columns": null,
       "grid_template_rows": null,
       "height": null,
       "justify_content": null,
       "justify_items": null,
       "left": null,
       "margin": null,
       "max_height": null,
       "max_width": null,
       "min_height": null,
       "min_width": null,
       "object_fit": null,
       "object_position": null,
       "order": null,
       "overflow": null,
       "overflow_x": null,
       "overflow_y": null,
       "padding": null,
       "right": null,
       "top": null,
       "visibility": null,
       "width": null
      }
     },
     "7eb6bb08d7244c118d39ec9f4a0156ce": {
      "model_module": "@jupyter-widgets/controls",
      "model_module_version": "1.5.0",
      "model_name": "DescriptionStyleModel",
      "state": {
       "_model_module": "@jupyter-widgets/controls",
       "_model_module_version": "1.5.0",
       "_model_name": "DescriptionStyleModel",
       "_view_count": null,
       "_view_module": "@jupyter-widgets/base",
       "_view_module_version": "1.2.0",
       "_view_name": "StyleView",
       "description_width": ""
      }
     },
     "839e47862d9e426d8172895672ad75f0": {
      "model_module": "@jupyter-widgets/controls",
      "model_module_version": "1.5.0",
      "model_name": "ProgressStyleModel",
      "state": {
       "_model_module": "@jupyter-widgets/controls",
       "_model_module_version": "1.5.0",
       "_model_name": "ProgressStyleModel",
       "_view_count": null,
       "_view_module": "@jupyter-widgets/base",
       "_view_module_version": "1.2.0",
       "_view_name": "StyleView",
       "bar_color": null,
       "description_width": ""
      }
     },
     "85f7cb4da6404b398d267e30f61c8048": {
      "model_module": "@jupyter-widgets/controls",
      "model_module_version": "1.5.0",
      "model_name": "DescriptionStyleModel",
      "state": {
       "_model_module": "@jupyter-widgets/controls",
       "_model_module_version": "1.5.0",
       "_model_name": "DescriptionStyleModel",
       "_view_count": null,
       "_view_module": "@jupyter-widgets/base",
       "_view_module_version": "1.2.0",
       "_view_name": "StyleView",
       "description_width": ""
      }
     },
     "87dc9eadf963455493dfa10c01fdcfda": {
      "model_module": "@jupyter-widgets/base",
      "model_module_version": "1.2.0",
      "model_name": "LayoutModel",
      "state": {
       "_model_module": "@jupyter-widgets/base",
       "_model_module_version": "1.2.0",
       "_model_name": "LayoutModel",
       "_view_count": null,
       "_view_module": "@jupyter-widgets/base",
       "_view_module_version": "1.2.0",
       "_view_name": "LayoutView",
       "align_content": null,
       "align_items": null,
       "align_self": null,
       "border": null,
       "bottom": null,
       "display": null,
       "flex": null,
       "flex_flow": null,
       "grid_area": null,
       "grid_auto_columns": null,
       "grid_auto_flow": null,
       "grid_auto_rows": null,
       "grid_column": null,
       "grid_gap": null,
       "grid_row": null,
       "grid_template_areas": null,
       "grid_template_columns": null,
       "grid_template_rows": null,
       "height": null,
       "justify_content": null,
       "justify_items": null,
       "left": null,
       "margin": null,
       "max_height": null,
       "max_width": null,
       "min_height": null,
       "min_width": null,
       "object_fit": null,
       "object_position": null,
       "order": null,
       "overflow": null,
       "overflow_x": null,
       "overflow_y": null,
       "padding": null,
       "right": null,
       "top": null,
       "visibility": null,
       "width": null
      }
     },
     "8ad0b4660a944dac9221bc0a4b226c59": {
      "model_module": "@jupyter-widgets/base",
      "model_module_version": "1.2.0",
      "model_name": "LayoutModel",
      "state": {
       "_model_module": "@jupyter-widgets/base",
       "_model_module_version": "1.2.0",
       "_model_name": "LayoutModel",
       "_view_count": null,
       "_view_module": "@jupyter-widgets/base",
       "_view_module_version": "1.2.0",
       "_view_name": "LayoutView",
       "align_content": null,
       "align_items": null,
       "align_self": null,
       "border": null,
       "bottom": null,
       "display": null,
       "flex": null,
       "flex_flow": null,
       "grid_area": null,
       "grid_auto_columns": null,
       "grid_auto_flow": null,
       "grid_auto_rows": null,
       "grid_column": null,
       "grid_gap": null,
       "grid_row": null,
       "grid_template_areas": null,
       "grid_template_columns": null,
       "grid_template_rows": null,
       "height": null,
       "justify_content": null,
       "justify_items": null,
       "left": null,
       "margin": null,
       "max_height": null,
       "max_width": null,
       "min_height": null,
       "min_width": null,
       "object_fit": null,
       "object_position": null,
       "order": null,
       "overflow": null,
       "overflow_x": null,
       "overflow_y": null,
       "padding": null,
       "right": null,
       "top": null,
       "visibility": null,
       "width": null
      }
     },
     "910222c2672d41c0bf5212e1196109d4": {
      "model_module": "@jupyter-widgets/controls",
      "model_module_version": "1.5.0",
      "model_name": "ProgressStyleModel",
      "state": {
       "_model_module": "@jupyter-widgets/controls",
       "_model_module_version": "1.5.0",
       "_model_name": "ProgressStyleModel",
       "_view_count": null,
       "_view_module": "@jupyter-widgets/base",
       "_view_module_version": "1.2.0",
       "_view_name": "StyleView",
       "bar_color": null,
       "description_width": ""
      }
     },
     "94e6351e76e9409787786f0eb7c57103": {
      "model_module": "@jupyter-widgets/base",
      "model_module_version": "1.2.0",
      "model_name": "LayoutModel",
      "state": {
       "_model_module": "@jupyter-widgets/base",
       "_model_module_version": "1.2.0",
       "_model_name": "LayoutModel",
       "_view_count": null,
       "_view_module": "@jupyter-widgets/base",
       "_view_module_version": "1.2.0",
       "_view_name": "LayoutView",
       "align_content": null,
       "align_items": null,
       "align_self": null,
       "border": null,
       "bottom": null,
       "display": null,
       "flex": null,
       "flex_flow": null,
       "grid_area": null,
       "grid_auto_columns": null,
       "grid_auto_flow": null,
       "grid_auto_rows": null,
       "grid_column": null,
       "grid_gap": null,
       "grid_row": null,
       "grid_template_areas": null,
       "grid_template_columns": null,
       "grid_template_rows": null,
       "height": null,
       "justify_content": null,
       "justify_items": null,
       "left": null,
       "margin": null,
       "max_height": null,
       "max_width": null,
       "min_height": null,
       "min_width": null,
       "object_fit": null,
       "object_position": null,
       "order": null,
       "overflow": null,
       "overflow_x": null,
       "overflow_y": null,
       "padding": null,
       "right": null,
       "top": null,
       "visibility": null,
       "width": null
      }
     },
     "94f518e9c07c464599e1bb7f553d32ce": {
      "model_module": "@jupyter-widgets/controls",
      "model_module_version": "1.5.0",
      "model_name": "DescriptionStyleModel",
      "state": {
       "_model_module": "@jupyter-widgets/controls",
       "_model_module_version": "1.5.0",
       "_model_name": "DescriptionStyleModel",
       "_view_count": null,
       "_view_module": "@jupyter-widgets/base",
       "_view_module_version": "1.2.0",
       "_view_name": "StyleView",
       "description_width": ""
      }
     },
     "a63aa38f44ad4e73a063d95b4917084b": {
      "model_module": "@jupyter-widgets/controls",
      "model_module_version": "1.5.0",
      "model_name": "HTMLModel",
      "state": {
       "_dom_classes": [],
       "_model_module": "@jupyter-widgets/controls",
       "_model_module_version": "1.5.0",
       "_model_name": "HTMLModel",
       "_view_count": null,
       "_view_module": "@jupyter-widgets/controls",
       "_view_module_version": "1.5.0",
       "_view_name": "HTMLView",
       "description": "",
       "description_tooltip": null,
       "layout": "IPY_MODEL_3df40633303c46f8857d8f5577132285",
       "placeholder": "​",
       "style": "IPY_MODEL_65246e70eff74f39908186f3b72f6bde",
       "value": " 570/570 [00:00&lt;00:00, 49.3kB/s]"
      }
     },
     "aa1c842294ac4d02876675fa2db8c06f": {
      "model_module": "@jupyter-widgets/controls",
      "model_module_version": "1.5.0",
      "model_name": "ProgressStyleModel",
      "state": {
       "_model_module": "@jupyter-widgets/controls",
       "_model_module_version": "1.5.0",
       "_model_name": "ProgressStyleModel",
       "_view_count": null,
       "_view_module": "@jupyter-widgets/base",
       "_view_module_version": "1.2.0",
       "_view_name": "StyleView",
       "bar_color": null,
       "description_width": ""
      }
     },
     "b8a90575c4b64019965f4e64595b0f8f": {
      "model_module": "@jupyter-widgets/base",
      "model_module_version": "1.2.0",
      "model_name": "LayoutModel",
      "state": {
       "_model_module": "@jupyter-widgets/base",
       "_model_module_version": "1.2.0",
       "_model_name": "LayoutModel",
       "_view_count": null,
       "_view_module": "@jupyter-widgets/base",
       "_view_module_version": "1.2.0",
       "_view_name": "LayoutView",
       "align_content": null,
       "align_items": null,
       "align_self": null,
       "border": null,
       "bottom": null,
       "display": null,
       "flex": null,
       "flex_flow": null,
       "grid_area": null,
       "grid_auto_columns": null,
       "grid_auto_flow": null,
       "grid_auto_rows": null,
       "grid_column": null,
       "grid_gap": null,
       "grid_row": null,
       "grid_template_areas": null,
       "grid_template_columns": null,
       "grid_template_rows": null,
       "height": null,
       "justify_content": null,
       "justify_items": null,
       "left": null,
       "margin": null,
       "max_height": null,
       "max_width": null,
       "min_height": null,
       "min_width": null,
       "object_fit": null,
       "object_position": null,
       "order": null,
       "overflow": null,
       "overflow_x": null,
       "overflow_y": null,
       "padding": null,
       "right": null,
       "top": null,
       "visibility": null,
       "width": null
      }
     },
     "b8eff6e676a543998ce817ec7ed4a56b": {
      "model_module": "@jupyter-widgets/base",
      "model_module_version": "1.2.0",
      "model_name": "LayoutModel",
      "state": {
       "_model_module": "@jupyter-widgets/base",
       "_model_module_version": "1.2.0",
       "_model_name": "LayoutModel",
       "_view_count": null,
       "_view_module": "@jupyter-widgets/base",
       "_view_module_version": "1.2.0",
       "_view_name": "LayoutView",
       "align_content": null,
       "align_items": null,
       "align_self": null,
       "border": null,
       "bottom": null,
       "display": null,
       "flex": null,
       "flex_flow": null,
       "grid_area": null,
       "grid_auto_columns": null,
       "grid_auto_flow": null,
       "grid_auto_rows": null,
       "grid_column": null,
       "grid_gap": null,
       "grid_row": null,
       "grid_template_areas": null,
       "grid_template_columns": null,
       "grid_template_rows": null,
       "height": null,
       "justify_content": null,
       "justify_items": null,
       "left": null,
       "margin": null,
       "max_height": null,
       "max_width": null,
       "min_height": null,
       "min_width": null,
       "object_fit": null,
       "object_position": null,
       "order": null,
       "overflow": null,
       "overflow_x": null,
       "overflow_y": null,
       "padding": null,
       "right": null,
       "top": null,
       "visibility": null,
       "width": null
      }
     },
     "c5e35c9094a34ffdaf3140766a9ebd3a": {
      "model_module": "@jupyter-widgets/controls",
      "model_module_version": "1.5.0",
      "model_name": "HTMLModel",
      "state": {
       "_dom_classes": [],
       "_model_module": "@jupyter-widgets/controls",
       "_model_module_version": "1.5.0",
       "_model_name": "HTMLModel",
       "_view_count": null,
       "_view_module": "@jupyter-widgets/controls",
       "_view_module_version": "1.5.0",
       "_view_name": "HTMLView",
       "description": "",
       "description_tooltip": null,
       "layout": "IPY_MODEL_36b35fdbab6c47e8a647be382683bff0",
       "placeholder": "​",
       "style": "IPY_MODEL_94f518e9c07c464599e1bb7f553d32ce",
       "value": " 440M/440M [00:01&lt;00:00, 301MB/s]"
      }
     },
     "c6bddebfe7024d689e1a665dc785709f": {
      "model_module": "@jupyter-widgets/controls",
      "model_module_version": "1.5.0",
      "model_name": "ProgressStyleModel",
      "state": {
       "_model_module": "@jupyter-widgets/controls",
       "_model_module_version": "1.5.0",
       "_model_name": "ProgressStyleModel",
       "_view_count": null,
       "_view_module": "@jupyter-widgets/base",
       "_view_module_version": "1.2.0",
       "_view_name": "StyleView",
       "bar_color": null,
       "description_width": ""
      }
     },
     "db054bb4070d4396b9d1266a8591fa82": {
      "model_module": "@jupyter-widgets/controls",
      "model_module_version": "1.5.0",
      "model_name": "HTMLModel",
      "state": {
       "_dom_classes": [],
       "_model_module": "@jupyter-widgets/controls",
       "_model_module_version": "1.5.0",
       "_model_name": "HTMLModel",
       "_view_count": null,
       "_view_module": "@jupyter-widgets/controls",
       "_view_module_version": "1.5.0",
       "_view_name": "HTMLView",
       "description": "",
       "description_tooltip": null,
       "layout": "IPY_MODEL_7bfb44f748424b0c975fe11a6a710c96",
       "placeholder": "​",
       "style": "IPY_MODEL_85f7cb4da6404b398d267e30f61c8048",
       "value": "tokenizer.json: 100%"
      }
     },
     "ee5d76f1857b436e896290ccfa220f79": {
      "model_module": "@jupyter-widgets/controls",
      "model_module_version": "1.5.0",
      "model_name": "HTMLModel",
      "state": {
       "_dom_classes": [],
       "_model_module": "@jupyter-widgets/controls",
       "_model_module_version": "1.5.0",
       "_model_name": "HTMLModel",
       "_view_count": null,
       "_view_module": "@jupyter-widgets/controls",
       "_view_module_version": "1.5.0",
       "_view_name": "HTMLView",
       "description": "",
       "description_tooltip": null,
       "layout": "IPY_MODEL_b8a90575c4b64019965f4e64595b0f8f",
       "placeholder": "​",
       "style": "IPY_MODEL_7eb6bb08d7244c118d39ec9f4a0156ce",
       "value": "config.json: 100%"
      }
     },
     "f23507c4a21d4b98a0f575ba732c6434": {
      "model_module": "@jupyter-widgets/controls",
      "model_module_version": "1.5.0",
      "model_name": "HTMLModel",
      "state": {
       "_dom_classes": [],
       "_model_module": "@jupyter-widgets/controls",
       "_model_module_version": "1.5.0",
       "_model_name": "HTMLModel",
       "_view_count": null,
       "_view_module": "@jupyter-widgets/controls",
       "_view_module_version": "1.5.0",
       "_view_name": "HTMLView",
       "description": "",
       "description_tooltip": null,
       "layout": "IPY_MODEL_fead5b9b60a8434b9e110152e9b87009",
       "placeholder": "​",
       "style": "IPY_MODEL_456659dc5be7425cba29f88c81b04fcd",
       "value": " 48.0/48.0 [00:00&lt;00:00, 3.78kB/s]"
      }
     },
     "f75b6479796e474ebc836c470b63d4a7": {
      "model_module": "@jupyter-widgets/controls",
      "model_module_version": "1.5.0",
      "model_name": "HBoxModel",
      "state": {
       "_dom_classes": [],
       "_model_module": "@jupyter-widgets/controls",
       "_model_module_version": "1.5.0",
       "_model_name": "HBoxModel",
       "_view_count": null,
       "_view_module": "@jupyter-widgets/controls",
       "_view_module_version": "1.5.0",
       "_view_name": "HBoxView",
       "box_style": "",
       "children": [
        "IPY_MODEL_db054bb4070d4396b9d1266a8591fa82",
        "IPY_MODEL_5bc4ea15c2b441abb106cce760242332",
        "IPY_MODEL_0778cfe588c34a02853dfda5aa30225a"
       ],
       "layout": "IPY_MODEL_5654b8279c054f22ab6fb8930c949dcd"
      }
     },
     "f77a76876dcb41e693bf99828f73bed2": {
      "model_module": "@jupyter-widgets/controls",
      "model_module_version": "1.5.0",
      "model_name": "HTMLModel",
      "state": {
       "_dom_classes": [],
       "_model_module": "@jupyter-widgets/controls",
       "_model_module_version": "1.5.0",
       "_model_name": "HTMLModel",
       "_view_count": null,
       "_view_module": "@jupyter-widgets/controls",
       "_view_module_version": "1.5.0",
       "_view_name": "HTMLView",
       "description": "",
       "description_tooltip": null,
       "layout": "IPY_MODEL_94e6351e76e9409787786f0eb7c57103",
       "placeholder": "​",
       "style": "IPY_MODEL_36c51476e7bc4072a2850bfd64d07124",
       "value": "vocab.txt: 100%"
      }
     },
     "fead5b9b60a8434b9e110152e9b87009": {
      "model_module": "@jupyter-widgets/base",
      "model_module_version": "1.2.0",
      "model_name": "LayoutModel",
      "state": {
       "_model_module": "@jupyter-widgets/base",
       "_model_module_version": "1.2.0",
       "_model_name": "LayoutModel",
       "_view_count": null,
       "_view_module": "@jupyter-widgets/base",
       "_view_module_version": "1.2.0",
       "_view_name": "LayoutView",
       "align_content": null,
       "align_items": null,
       "align_self": null,
       "border": null,
       "bottom": null,
       "display": null,
       "flex": null,
       "flex_flow": null,
       "grid_area": null,
       "grid_auto_columns": null,
       "grid_auto_flow": null,
       "grid_auto_rows": null,
       "grid_column": null,
       "grid_gap": null,
       "grid_row": null,
       "grid_template_areas": null,
       "grid_template_columns": null,
       "grid_template_rows": null,
       "height": null,
       "justify_content": null,
       "justify_items": null,
       "left": null,
       "margin": null,
       "max_height": null,
       "max_width": null,
       "min_height": null,
       "min_width": null,
       "object_fit": null,
       "object_position": null,
       "order": null,
       "overflow": null,
       "overflow_x": null,
       "overflow_y": null,
       "padding": null,
       "right": null,
       "top": null,
       "visibility": null,
       "width": null
      }
     }
    },
    "version_major": 2,
    "version_minor": 0
   }
  }
 },
 "nbformat": 4,
 "nbformat_minor": 5
}
