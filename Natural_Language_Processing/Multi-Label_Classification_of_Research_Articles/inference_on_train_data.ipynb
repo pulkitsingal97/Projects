{
 "cells": [
  {
   "cell_type": "markdown",
   "id": "cc6e4929",
   "metadata": {},
   "source": [
    "Importing libraries"
   ]
  },
  {
   "cell_type": "code",
   "execution_count": 1,
   "id": "04574f83",
   "metadata": {
    "_cell_guid": "b1076dfc-b9ad-4769-8c92-a6c4dae69d19",
    "_uuid": "8f2839f25d086af736a60e9eeb907d3b93b6e0e5",
    "execution": {
     "iopub.execute_input": "2024-04-15T15:02:40.956475Z",
     "iopub.status.busy": "2024-04-15T15:02:40.955305Z",
     "iopub.status.idle": "2024-04-15T15:02:50.159171Z",
     "shell.execute_reply": "2024-04-15T15:02:50.158235Z"
    },
    "papermill": {
     "duration": 9.225596,
     "end_time": "2024-04-15T15:02:50.161634",
     "exception": false,
     "start_time": "2024-04-15T15:02:40.936038",
     "status": "completed"
    },
    "tags": []
   },
   "outputs": [],
   "source": [
    "import numpy as np\n",
    "import pandas as pd\n",
    "from sklearn import metrics\n",
    "import matplotlib.pyplot as plt\n",
    "import transformers\n",
    "import torch\n",
    "from torch.utils.data import Dataset, DataLoader, RandomSampler, SequentialSampler\n",
    "from transformers import BertTokenizer, BertModel, BertConfig\n",
    "import csv\n",
    "import torch.nn.functional as F"
   ]
  },
  {
   "cell_type": "markdown",
   "id": "57c15080",
   "metadata": {},
   "source": [
    "Setting up device"
   ]
  },
  {
   "cell_type": "code",
   "execution_count": 2,
   "id": "05fa8736",
   "metadata": {
    "execution": {
     "iopub.execute_input": "2024-04-15T15:02:50.197705Z",
     "iopub.status.busy": "2024-04-15T15:02:50.197110Z",
     "iopub.status.idle": "2024-04-15T15:02:50.254163Z",
     "shell.execute_reply": "2024-04-15T15:02:50.253204Z"
    },
    "papermill": {
     "duration": 0.077433,
     "end_time": "2024-04-15T15:02:50.256331",
     "exception": false,
     "start_time": "2024-04-15T15:02:50.178898",
     "status": "completed"
    },
    "tags": []
   },
   "outputs": [],
   "source": [
    "from torch import cuda\n",
    "device = 'cuda' if cuda.is_available() else 'cpu'"
   ]
  },
  {
   "cell_type": "markdown",
   "id": "e8ff6011",
   "metadata": {},
   "source": [
    "Loading data"
   ]
  },
  {
   "cell_type": "code",
   "execution_count": 3,
   "id": "85c71349",
   "metadata": {
    "execution": {
     "iopub.execute_input": "2024-04-15T15:02:50.291698Z",
     "iopub.status.busy": "2024-04-15T15:02:50.291330Z",
     "iopub.status.idle": "2024-04-15T15:02:52.452241Z",
     "shell.execute_reply": "2024-04-15T15:02:52.451216Z"
    },
    "papermill": {
     "duration": 2.180787,
     "end_time": "2024-04-15T15:02:52.454797",
     "exception": false,
     "start_time": "2024-04-15T15:02:50.274010",
     "status": "completed"
    },
    "tags": []
   },
   "outputs": [
    {
     "name": "stdout",
     "output_type": "stream",
     "text": [
      "                                               Title  \\\n",
      "0       [Recommendations in relation to shift work].   \n",
      "1  Orbital venous approach to the cavernous sinus...   \n",
      "2  Effects of cadmium on photosynthetic oxygen ev...   \n",
      "3  Captopril in congestive heart failure: improve...   \n",
      "4  Glycerol-induced development of catalytically ...   \n",
      "\n",
      "                                        abstractText  \\\n",
      "0  The purpose of the recommendations is to decre...   \n",
      "1  Carotid-cavernous fistulas are abnormal commun...   \n",
      "2  Scanning electrochemical microscopy (SECM) was...   \n",
      "3  The oral angiotensin-converting enzyme inhibit...   \n",
      "4  The reconstitutable apoprotein of Crotalus ada...   \n",
      "\n",
      "                                           meshMajor      pmid  \\\n",
      "0              ['Humans', 'Work Schedule Tolerance']   1417504   \n",
      "1  ['Aged', 'Arteriovenous Fistula', 'Carotid Art...   7810953   \n",
      "2  ['Cadmium', 'Mustard Plant', 'Oxygen', 'Photos...  19360968   \n",
      "3  ['Angiotensin-Converting Enzyme Inhibitors', '...   6291359   \n",
      "4  ['Amino Acid Oxidoreductases', 'Animals', 'Apo...   8755511   \n",
      "\n",
      "                                              meshid  \\\n",
      "0  [['B01.050.150.900.649.313.988.400.112.400.400...   \n",
      "1  [['M01.060.116.100'], ['C14.240.850.750.147', ...   \n",
      "2  [['D01.268.556.137', 'D01.268.956.061', 'D01.5...   \n",
      "3  [['D27.505.519.389.745.085'], ['D12.125.072.40...   \n",
      "4  [['D08.811.682.664.500'], ['B01.050'], ['D08.8...   \n",
      "\n",
      "                                            meshroot  A  B  C  D  E  F  G  H  \\\n",
      "0  ['Organisms [B]', 'Anthropology, Education, So...  0  1  0  0  0  0  0  0   \n",
      "1  ['Named Groups [M]', 'Diseases [C]', 'Anatomy ...  1  1  1  0  0  0  0  0   \n",
      "2  ['Chemicals and Drugs [D]', 'Organisms [B]', '...  1  1  0  1  0  0  1  0   \n",
      "3  ['Chemicals and Drugs [D]', 'Diseases [C]', 'A...  1  1  1  1  0  0  1  0   \n",
      "4  ['Chemicals and Drugs [D]', 'Organisms [B]', '...  0  1  0  1  1  0  1  0   \n",
      "\n",
      "   I  J  L  M  N  Z  \n",
      "0  1  0  0  0  1  0  \n",
      "1  0  0  0  1  0  0  \n",
      "2  0  0  0  0  0  0  \n",
      "3  0  0  0  0  0  0  \n",
      "4  0  0  0  0  0  0  \n"
     ]
    }
   ],
   "source": [
    "df = pd.read_csv(\"/kaggle/input/train-data/train_dataset.csv\")\n",
    "df = df.dropna()\n",
    "print(df.head())"
   ]
  },
  {
   "cell_type": "markdown",
   "id": "fb6b42e1",
   "metadata": {},
   "source": [
    "Combining the data in title and abstractText columns, and also the ground truth of all labels of a particular row to a list"
   ]
  },
  {
   "cell_type": "code",
   "execution_count": 4,
   "id": "e2f66ec5",
   "metadata": {
    "execution": {
     "iopub.execute_input": "2024-04-15T15:02:52.492984Z",
     "iopub.status.busy": "2024-04-15T15:02:52.492108Z",
     "iopub.status.idle": "2024-04-15T15:02:52.615387Z",
     "shell.execute_reply": "2024-04-15T15:02:52.614267Z"
    },
    "papermill": {
     "duration": 0.144559,
     "end_time": "2024-04-15T15:02:52.617854",
     "exception": false,
     "start_time": "2024-04-15T15:02:52.473295",
     "status": "completed"
    },
    "tags": []
   },
   "outputs": [
    {
     "name": "stdout",
     "output_type": "stream",
     "text": [
      "                                         list  \\\n",
      "0  [0, 1, 0, 0, 0, 0, 0, 0, 1, 0, 0, 0, 1, 0]   \n",
      "1  [1, 1, 1, 0, 0, 0, 0, 0, 0, 0, 0, 1, 0, 0]   \n",
      "2  [1, 1, 0, 1, 0, 0, 1, 0, 0, 0, 0, 0, 0, 0]   \n",
      "3  [1, 1, 1, 1, 0, 0, 1, 0, 0, 0, 0, 0, 0, 0]   \n",
      "4  [0, 1, 0, 1, 1, 0, 1, 0, 0, 0, 0, 0, 0, 0]   \n",
      "\n",
      "                                            Combined  \n",
      "0  [Recommendations in relation to shift work]. T...  \n",
      "1  Orbital venous approach to the cavernous sinus...  \n",
      "2  Effects of cadmium on photosynthetic oxygen ev...  \n",
      "3  Captopril in congestive heart failure: improve...  \n",
      "4  Glycerol-induced development of catalytically ...  \n",
      "(34999, 2)\n"
     ]
    }
   ],
   "source": [
    "train_dataset = pd.DataFrame()\n",
    "\n",
    "train_dataset['list'] = df[df.columns[6:20]].values.tolist()\n",
    "\n",
    "train_dataset['Combined'] = df['Title'].str.cat(df['abstractText'], sep=' ')\n",
    "\n",
    "print(train_dataset.head())\n",
    "print(train_dataset.shape)"
   ]
  },
  {
   "cell_type": "code",
   "execution_count": 5,
   "id": "26641dc9",
   "metadata": {
    "execution": {
     "iopub.execute_input": "2024-04-15T15:02:52.652454Z",
     "iopub.status.busy": "2024-04-15T15:02:52.651583Z",
     "iopub.status.idle": "2024-04-15T15:02:52.671362Z",
     "shell.execute_reply": "2024-04-15T15:02:52.669891Z"
    },
    "papermill": {
     "duration": 0.039281,
     "end_time": "2024-04-15T15:02:52.673401",
     "exception": false,
     "start_time": "2024-04-15T15:02:52.634120",
     "status": "completed"
    },
    "tags": []
   },
   "outputs": [
    {
     "name": "stdout",
     "output_type": "stream",
     "text": [
      "                                               Title  \\\n",
      "0       [Recommendations in relation to shift work].   \n",
      "1  Orbital venous approach to the cavernous sinus...   \n",
      "2  Effects of cadmium on photosynthetic oxygen ev...   \n",
      "3  Captopril in congestive heart failure: improve...   \n",
      "4  Glycerol-induced development of catalytically ...   \n",
      "\n",
      "                                        abstractText  \\\n",
      "0  The purpose of the recommendations is to decre...   \n",
      "1  Carotid-cavernous fistulas are abnormal commun...   \n",
      "2  Scanning electrochemical microscopy (SECM) was...   \n",
      "3  The oral angiotensin-converting enzyme inhibit...   \n",
      "4  The reconstitutable apoprotein of Crotalus ada...   \n",
      "\n",
      "                                           meshMajor      pmid  \\\n",
      "0              ['Humans', 'Work Schedule Tolerance']   1417504   \n",
      "1  ['Aged', 'Arteriovenous Fistula', 'Carotid Art...   7810953   \n",
      "2  ['Cadmium', 'Mustard Plant', 'Oxygen', 'Photos...  19360968   \n",
      "3  ['Angiotensin-Converting Enzyme Inhibitors', '...   6291359   \n",
      "4  ['Amino Acid Oxidoreductases', 'Animals', 'Apo...   8755511   \n",
      "\n",
      "                                              meshid  \\\n",
      "0  [['B01.050.150.900.649.313.988.400.112.400.400...   \n",
      "1  [['M01.060.116.100'], ['C14.240.850.750.147', ...   \n",
      "2  [['D01.268.556.137', 'D01.268.956.061', 'D01.5...   \n",
      "3  [['D27.505.519.389.745.085'], ['D12.125.072.40...   \n",
      "4  [['D08.811.682.664.500'], ['B01.050'], ['D08.8...   \n",
      "\n",
      "                                            meshroot  \n",
      "0  ['Organisms [B]', 'Anthropology, Education, So...  \n",
      "1  ['Named Groups [M]', 'Diseases [C]', 'Anatomy ...  \n",
      "2  ['Chemicals and Drugs [D]', 'Organisms [B]', '...  \n",
      "3  ['Chemicals and Drugs [D]', 'Diseases [C]', 'A...  \n",
      "4  ['Chemicals and Drugs [D]', 'Organisms [B]', '...  \n",
      "(34999, 6)\n"
     ]
    }
   ],
   "source": [
    "train_data = df[df.columns[:6]].copy()\n",
    "print(train_data.head())\n",
    "print(train_data.shape)"
   ]
  },
  {
   "cell_type": "markdown",
   "id": "8c87e6c9",
   "metadata": {},
   "source": [
    "Setting up the parameters and importing tokenizer"
   ]
  },
  {
   "cell_type": "code",
   "execution_count": 6,
   "id": "f6f6a12d",
   "metadata": {
    "execution": {
     "iopub.execute_input": "2024-04-15T15:02:52.710033Z",
     "iopub.status.busy": "2024-04-15T15:02:52.709436Z",
     "iopub.status.idle": "2024-04-15T15:02:53.639478Z",
     "shell.execute_reply": "2024-04-15T15:02:53.638616Z"
    },
    "papermill": {
     "duration": 0.951266,
     "end_time": "2024-04-15T15:02:53.641909",
     "exception": false,
     "start_time": "2024-04-15T15:02:52.690643",
     "status": "completed"
    },
    "tags": []
   },
   "outputs": [
    {
     "data": {
      "application/vnd.jupyter.widget-view+json": {
       "model_id": "55b16b7f35d84fa29d2867ce274cd3fb",
       "version_major": 2,
       "version_minor": 0
      },
      "text/plain": [
       "tokenizer_config.json:   0%|          | 0.00/48.0 [00:00<?, ?B/s]"
      ]
     },
     "metadata": {},
     "output_type": "display_data"
    },
    {
     "data": {
      "application/vnd.jupyter.widget-view+json": {
       "model_id": "000221eaa65d4256aadbd5525b4b70ed",
       "version_major": 2,
       "version_minor": 0
      },
      "text/plain": [
       "vocab.txt:   0%|          | 0.00/232k [00:00<?, ?B/s]"
      ]
     },
     "metadata": {},
     "output_type": "display_data"
    },
    {
     "data": {
      "application/vnd.jupyter.widget-view+json": {
       "model_id": "38f78393ac674e88b77ceaa0d8f14e58",
       "version_major": 2,
       "version_minor": 0
      },
      "text/plain": [
       "tokenizer.json:   0%|          | 0.00/466k [00:00<?, ?B/s]"
      ]
     },
     "metadata": {},
     "output_type": "display_data"
    },
    {
     "data": {
      "application/vnd.jupyter.widget-view+json": {
       "model_id": "4763a4c61eea4940a2224ca122f8989d",
       "version_major": 2,
       "version_minor": 0
      },
      "text/plain": [
       "config.json:   0%|          | 0.00/570 [00:00<?, ?B/s]"
      ]
     },
     "metadata": {},
     "output_type": "display_data"
    }
   ],
   "source": [
    "MAX_LEN = 512\n",
    "TRAIN_BATCH_SIZE = 1\n",
    "tokenizer = BertTokenizer.from_pretrained('bert-base-uncased')"
   ]
  },
  {
   "cell_type": "markdown",
   "id": "fde37c51",
   "metadata": {},
   "source": [
    "Defining dataset class"
   ]
  },
  {
   "cell_type": "code",
   "execution_count": 7,
   "id": "82339751",
   "metadata": {
    "execution": {
     "iopub.execute_input": "2024-04-15T15:02:53.680586Z",
     "iopub.status.busy": "2024-04-15T15:02:53.680240Z",
     "iopub.status.idle": "2024-04-15T15:02:53.689395Z",
     "shell.execute_reply": "2024-04-15T15:02:53.688463Z"
    },
    "papermill": {
     "duration": 0.030412,
     "end_time": "2024-04-15T15:02:53.691462",
     "exception": false,
     "start_time": "2024-04-15T15:02:53.661050",
     "status": "completed"
    },
    "tags": []
   },
   "outputs": [],
   "source": [
    "class CustomDataset(Dataset):\n",
    "\n",
    "    def __init__(self, dataframe, tokenizer, max_len):\n",
    "        self.tokenizer = tokenizer\n",
    "        self.text = dataframe.Combined\n",
    "        self.targets = dataframe.list\n",
    "        self.max_len = max_len\n",
    "\n",
    "    def __len__(self):\n",
    "        return len(self.text)\n",
    "\n",
    "    def __getitem__(self, index):\n",
    "        text = str(self.text[index])\n",
    "        text = \" \".join(text.split())\n",
    "\n",
    "        inputs = self.tokenizer.encode_plus(\n",
    "            text,\n",
    "            None,\n",
    "            add_special_tokens=True,\n",
    "            max_length=self.max_len,\n",
    "            pad_to_max_length=True,\n",
    "#             padding='max_length',\n",
    "#             truncation=True,\n",
    "            return_token_type_ids=True\n",
    "        )\n",
    "        ids = inputs['input_ids']\n",
    "        mask = inputs['attention_mask']\n",
    "        token_type_ids = inputs[\"token_type_ids\"]\n",
    "\n",
    "\n",
    "        return {\n",
    "            'ids': torch.tensor(ids, dtype=torch.long),\n",
    "            'mask': torch.tensor(mask, dtype=torch.long),\n",
    "            'token_type_ids': torch.tensor(token_type_ids, dtype=torch.long),\n",
    "            'targets': torch.tensor(self.targets[index], dtype=torch.float)\n",
    "        }"
   ]
  },
  {
   "cell_type": "markdown",
   "id": "9c47f3ce",
   "metadata": {},
   "source": [
    "Creating datasets"
   ]
  },
  {
   "cell_type": "code",
   "execution_count": 8,
   "id": "30609d67",
   "metadata": {
    "execution": {
     "iopub.execute_input": "2024-04-15T15:02:53.730065Z",
     "iopub.status.busy": "2024-04-15T15:02:53.729723Z",
     "iopub.status.idle": "2024-04-15T15:02:53.734476Z",
     "shell.execute_reply": "2024-04-15T15:02:53.733561Z"
    },
    "papermill": {
     "duration": 0.026667,
     "end_time": "2024-04-15T15:02:53.736736",
     "exception": false,
     "start_time": "2024-04-15T15:02:53.710069",
     "status": "completed"
    },
    "tags": []
   },
   "outputs": [],
   "source": [
    "training_set = CustomDataset(train_dataset, tokenizer, MAX_LEN)"
   ]
  },
  {
   "cell_type": "markdown",
   "id": "b06e88f0",
   "metadata": {},
   "source": [
    "Setting up parameters and making dataloaders"
   ]
  },
  {
   "cell_type": "code",
   "execution_count": 9,
   "id": "f6753be4",
   "metadata": {
    "execution": {
     "iopub.execute_input": "2024-04-15T15:02:53.775101Z",
     "iopub.status.busy": "2024-04-15T15:02:53.774703Z",
     "iopub.status.idle": "2024-04-15T15:02:53.780278Z",
     "shell.execute_reply": "2024-04-15T15:02:53.779329Z"
    },
    "papermill": {
     "duration": 0.027488,
     "end_time": "2024-04-15T15:02:53.782246",
     "exception": false,
     "start_time": "2024-04-15T15:02:53.754758",
     "status": "completed"
    },
    "tags": []
   },
   "outputs": [],
   "source": [
    "train_params = {'batch_size': TRAIN_BATCH_SIZE,\n",
    "                'shuffle': False,\n",
    "                'num_workers': 0,\n",
    "                'drop_last': True\n",
    "                }\n",
    "\n",
    "training_loader = DataLoader(training_set, **train_params)"
   ]
  },
  {
   "cell_type": "markdown",
   "id": "340a2c4c",
   "metadata": {},
   "source": [
    "Defining the BERT neural network class"
   ]
  },
  {
   "cell_type": "code",
   "execution_count": 10,
   "id": "1ccbdcff",
   "metadata": {
    "execution": {
     "iopub.execute_input": "2024-04-15T15:02:53.821612Z",
     "iopub.status.busy": "2024-04-15T15:02:53.821213Z",
     "iopub.status.idle": "2024-04-15T15:02:53.830390Z",
     "shell.execute_reply": "2024-04-15T15:02:53.829448Z"
    },
    "papermill": {
     "duration": 0.031277,
     "end_time": "2024-04-15T15:02:53.832609",
     "exception": false,
     "start_time": "2024-04-15T15:02:53.801332",
     "status": "completed"
    },
    "tags": []
   },
   "outputs": [],
   "source": [
    "class BERTClass(torch.nn.Module):\n",
    "    def __init__(self, fine_tune_layers=1):\n",
    "        super(BERTClass, self).__init__()\n",
    "        self.l1 = transformers.BertModel.from_pretrained('bert-base-uncased')\n",
    "        self.l2 = torch.nn.Dropout(0.3)\n",
    "        self.l3 = torch.nn.Linear(768, 14)\n",
    "        \n",
    "        # Freeze all the parameters\n",
    "        for param in self.l1.parameters():\n",
    "            param.requires_grad = False\n",
    "\n",
    "        # Unfreeze the top n layers\n",
    "        if fine_tune_layers > 0:\n",
    "            for layer in self.l1.encoder.layer[-fine_tune_layers:]:\n",
    "                for param in layer.parameters():\n",
    "                    param.requires_grad = True\n",
    "    \n",
    "    def forward(self, ids, mask, token_type_ids):\n",
    "        _, output_1= self.l1(ids, attention_mask = mask, token_type_ids = token_type_ids, return_dict=False)\n",
    "        output_2 = self.l2(output_1)\n",
    "        output = self.l3(output_2)\n",
    "        return output"
   ]
  },
  {
   "cell_type": "markdown",
   "id": "6c3f73be",
   "metadata": {},
   "source": [
    "Loading the model"
   ]
  },
  {
   "cell_type": "code",
   "execution_count": 11,
   "id": "0b51f44e",
   "metadata": {
    "execution": {
     "iopub.execute_input": "2024-04-15T15:02:53.870494Z",
     "iopub.status.busy": "2024-04-15T15:02:53.870128Z",
     "iopub.status.idle": "2024-04-15T15:03:02.374628Z",
     "shell.execute_reply": "2024-04-15T15:03:02.373628Z"
    },
    "papermill": {
     "duration": 8.52599,
     "end_time": "2024-04-15T15:03:02.377043",
     "exception": false,
     "start_time": "2024-04-15T15:02:53.851053",
     "status": "completed"
    },
    "tags": []
   },
   "outputs": [
    {
     "data": {
      "application/vnd.jupyter.widget-view+json": {
       "model_id": "72c6176e07474d5b9e7fca2db5fcba0e",
       "version_major": 2,
       "version_minor": 0
      },
      "text/plain": [
       "model.safetensors:   0%|          | 0.00/440M [00:00<?, ?B/s]"
      ]
     },
     "metadata": {},
     "output_type": "display_data"
    },
    {
     "data": {
      "text/plain": [
       "BERTClass(\n",
       "  (l1): BertModel(\n",
       "    (embeddings): BertEmbeddings(\n",
       "      (word_embeddings): Embedding(30522, 768, padding_idx=0)\n",
       "      (position_embeddings): Embedding(512, 768)\n",
       "      (token_type_embeddings): Embedding(2, 768)\n",
       "      (LayerNorm): LayerNorm((768,), eps=1e-12, elementwise_affine=True)\n",
       "      (dropout): Dropout(p=0.1, inplace=False)\n",
       "    )\n",
       "    (encoder): BertEncoder(\n",
       "      (layer): ModuleList(\n",
       "        (0-11): 12 x BertLayer(\n",
       "          (attention): BertAttention(\n",
       "            (self): BertSelfAttention(\n",
       "              (query): Linear(in_features=768, out_features=768, bias=True)\n",
       "              (key): Linear(in_features=768, out_features=768, bias=True)\n",
       "              (value): Linear(in_features=768, out_features=768, bias=True)\n",
       "              (dropout): Dropout(p=0.1, inplace=False)\n",
       "            )\n",
       "            (output): BertSelfOutput(\n",
       "              (dense): Linear(in_features=768, out_features=768, bias=True)\n",
       "              (LayerNorm): LayerNorm((768,), eps=1e-12, elementwise_affine=True)\n",
       "              (dropout): Dropout(p=0.1, inplace=False)\n",
       "            )\n",
       "          )\n",
       "          (intermediate): BertIntermediate(\n",
       "            (dense): Linear(in_features=768, out_features=3072, bias=True)\n",
       "            (intermediate_act_fn): GELUActivation()\n",
       "          )\n",
       "          (output): BertOutput(\n",
       "            (dense): Linear(in_features=3072, out_features=768, bias=True)\n",
       "            (LayerNorm): LayerNorm((768,), eps=1e-12, elementwise_affine=True)\n",
       "            (dropout): Dropout(p=0.1, inplace=False)\n",
       "          )\n",
       "        )\n",
       "      )\n",
       "    )\n",
       "    (pooler): BertPooler(\n",
       "      (dense): Linear(in_features=768, out_features=768, bias=True)\n",
       "      (activation): Tanh()\n",
       "    )\n",
       "  )\n",
       "  (l2): Dropout(p=0.3, inplace=False)\n",
       "  (l3): Linear(in_features=768, out_features=14, bias=True)\n",
       ")"
      ]
     },
     "execution_count": 11,
     "metadata": {},
     "output_type": "execute_result"
    }
   ],
   "source": [
    "model = BERTClass()\n",
    "model_state = torch.load(\"/kaggle/input/bertmodel/bert_model.pth\", map_location=torch.device(device))\n",
    "model.load_state_dict(model_state)\n",
    "model.to(device)  # Move the model to the appropriate device"
   ]
  },
  {
   "cell_type": "markdown",
   "id": "68ea26d3",
   "metadata": {},
   "source": [
    "Defining loss function as Binary Cross Entropy with Logits Loss "
   ]
  },
  {
   "cell_type": "code",
   "execution_count": 12,
   "id": "e0daf738",
   "metadata": {
    "execution": {
     "iopub.execute_input": "2024-04-15T15:03:02.415168Z",
     "iopub.status.busy": "2024-04-15T15:03:02.414802Z",
     "iopub.status.idle": "2024-04-15T15:03:02.419462Z",
     "shell.execute_reply": "2024-04-15T15:03:02.418640Z"
    },
    "papermill": {
     "duration": 0.025817,
     "end_time": "2024-04-15T15:03:02.421436",
     "exception": false,
     "start_time": "2024-04-15T15:03:02.395619",
     "status": "completed"
    },
    "tags": []
   },
   "outputs": [],
   "source": [
    "def loss_fn(outputs, targets):\n",
    "    return torch.nn.BCEWithLogitsLoss()(outputs, targets)"
   ]
  },
  {
   "cell_type": "markdown",
   "id": "a0f89812",
   "metadata": {},
   "source": [
    "Defining evaluation function"
   ]
  },
  {
   "cell_type": "code",
   "execution_count": 13,
   "id": "844bafde",
   "metadata": {
    "execution": {
     "iopub.execute_input": "2024-04-15T15:03:02.459454Z",
     "iopub.status.busy": "2024-04-15T15:03:02.458892Z",
     "iopub.status.idle": "2024-04-15T15:03:02.473998Z",
     "shell.execute_reply": "2024-04-15T15:03:02.473160Z"
    },
    "papermill": {
     "duration": 0.03609,
     "end_time": "2024-04-15T15:03:02.475918",
     "exception": false,
     "start_time": "2024-04-15T15:03:02.439828",
     "status": "completed"
    },
    "tags": []
   },
   "outputs": [],
   "source": [
    "def evaluate(data_loader, train_data):\n",
    "    model.eval()\n",
    "    fin_targets=[]\n",
    "    fin_outputs=[]\n",
    "    \n",
    "    total_loss = 0\n",
    "    with torch.no_grad():\n",
    "        for i, data in enumerate(data_loader, 0):\n",
    "            if(i%1000==0):\n",
    "                print(\"Data No.:\",i)\n",
    "            ids = data['ids'].to(device, dtype = torch.long)\n",
    "            mask = data['mask'].to(device, dtype = torch.long)\n",
    "            token_type_ids = data['token_type_ids'].to(device, dtype = torch.long)\n",
    "            targets = data['targets'].to(device, dtype = torch.float)\n",
    "            outputs = model(ids, mask, token_type_ids)\n",
    "            loss = loss_fn(outputs, targets)\n",
    "            total_loss+=loss.data.item()\n",
    "            fin_targets.extend(targets.cpu().detach().numpy().tolist())\n",
    "            fin_outputs.extend(torch.sigmoid(outputs).cpu().detach().numpy().tolist())\n",
    "    total_loss = total_loss/(len(data_loader))\n",
    "\n",
    "    fin_outputs = np.array(fin_outputs) >= 0.5\n",
    "    \n",
    "    accuracy = metrics.accuracy_score(fin_targets, fin_outputs)\n",
    "    print('accuracy:', accuracy)\n",
    "    \n",
    "    target_names = ['A', 'B', 'C', 'D', 'E', 'F', 'G', 'H', 'I', 'J', 'L', 'M', 'N', 'Z']    \n",
    "    print(metrics.classification_report(fin_targets, fin_outputs, target_names=target_names))\n",
    "    \n",
    "    precision = metrics.precision_score(fin_targets, fin_outputs, average=None)\n",
    "    precision_micro = metrics.precision_score(fin_targets, fin_outputs, average='micro')\n",
    "    precision_macro = metrics.precision_score(fin_targets, fin_outputs, average='macro')\n",
    "    \n",
    "    recall = metrics.recall_score(fin_targets, fin_outputs, average=None)\n",
    "    recall_micro = metrics.recall_score(fin_targets, fin_outputs, average='micro')\n",
    "    recall_macro = metrics.recall_score(fin_targets, fin_outputs, average='macro')\n",
    "    \n",
    "    f1_score = metrics.f1_score(fin_targets, fin_outputs, average=None)\n",
    "    f1_score_micro = metrics.f1_score(fin_targets, fin_outputs, average='micro')\n",
    "    f1_score_macro = metrics.f1_score(fin_targets, fin_outputs, average='macro')\n",
    "    \n",
    "    fin_outputs = fin_outputs.astype(int)\n",
    "\n",
    "    new_df = pd.DataFrame(fin_outputs, columns=target_names)\n",
    "\n",
    "    inference = pd.concat([train_data, new_df], axis=1)\n",
    "\n",
    "    file_path = 'train_inference.csv'\n",
    "    inference.to_csv(file_path, index=False, header=True)\n",
    "    \n",
    "    return total_loss, accuracy, precision, precision_micro, precision_macro, recall, recall_micro, recall_macro, f1_score, f1_score_micro, f1_score_macro"
   ]
  },
  {
   "cell_type": "markdown",
   "id": "cdab3d85",
   "metadata": {},
   "source": [
    "Evaluation loop"
   ]
  },
  {
   "cell_type": "code",
   "execution_count": 14,
   "id": "125cbebc",
   "metadata": {
    "execution": {
     "iopub.execute_input": "2024-04-15T15:03:02.511605Z",
     "iopub.status.busy": "2024-04-15T15:03:02.511297Z",
     "iopub.status.idle": "2024-04-15T15:21:30.731702Z",
     "shell.execute_reply": "2024-04-15T15:21:30.730475Z"
    },
    "papermill": {
     "duration": 1108.241222,
     "end_time": "2024-04-15T15:21:30.734494",
     "exception": false,
     "start_time": "2024-04-15T15:03:02.493272",
     "status": "completed"
    },
    "tags": []
   },
   "outputs": [
    {
     "name": "stderr",
     "output_type": "stream",
     "text": [
      "Truncation was not explicitly activated but `max_length` is provided a specific value, please use `truncation=True` to explicitly truncate examples to max length. Defaulting to 'longest_first' truncation strategy. If you encode pairs of sequences (GLUE-style) with the tokenizer you can select this strategy more precisely by providing a specific strategy to `truncation`.\n",
      "/opt/conda/lib/python3.10/site-packages/transformers/tokenization_utils_base.py:2688: FutureWarning: The `pad_to_max_length` argument is deprecated and will be removed in a future version, use `padding=True` or `padding='longest'` to pad to the longest sequence in the batch, or use `padding='max_length'` to pad to a max length. In this case, you can give a specific length with `max_length` (e.g. `max_length=45`) or leave max_length to None to pad to the maximal input size of the model (e.g. 512 for Bert).\n",
      "  warnings.warn(\n"
     ]
    },
    {
     "name": "stdout",
     "output_type": "stream",
     "text": [
      "Data No.: 0\n",
      "Data No.: 1000\n",
      "Data No.: 2000\n",
      "Data No.: 3000\n",
      "Data No.: 4000\n",
      "Data No.: 5000\n",
      "Data No.: 6000\n",
      "Data No.: 7000\n",
      "Data No.: 8000\n",
      "Data No.: 9000\n",
      "Data No.: 10000\n",
      "Data No.: 11000\n",
      "Data No.: 12000\n",
      "Data No.: 13000\n",
      "Data No.: 14000\n",
      "Data No.: 15000\n",
      "Data No.: 16000\n",
      "Data No.: 17000\n",
      "Data No.: 18000\n",
      "Data No.: 19000\n",
      "Data No.: 20000\n",
      "Data No.: 21000\n",
      "Data No.: 22000\n",
      "Data No.: 23000\n",
      "Data No.: 24000\n",
      "Data No.: 25000\n",
      "Data No.: 26000\n",
      "Data No.: 27000\n",
      "Data No.: 28000\n",
      "Data No.: 29000\n",
      "Data No.: 30000\n",
      "Data No.: 31000\n",
      "Data No.: 32000\n",
      "Data No.: 33000\n",
      "Data No.: 34000\n",
      "accuracy: 0.23589245407011628\n"
     ]
    },
    {
     "name": "stderr",
     "output_type": "stream",
     "text": [
      "/opt/conda/lib/python3.10/site-packages/sklearn/metrics/_classification.py:1344: UndefinedMetricWarning: Recall and F-score are ill-defined and being set to 0.0 in samples with no true labels. Use `zero_division` parameter to control this behavior.\n",
      "  _warn_prf(average, modifier, msg_start, len(result))\n"
     ]
    },
    {
     "name": "stdout",
     "output_type": "stream",
     "text": [
      "              precision    recall  f1-score   support\n",
      "\n",
      "           A       0.86      0.82      0.84     16229\n",
      "           B       0.98      0.99      0.98     32639\n",
      "           C       0.91      0.92      0.92     18547\n",
      "           D       0.94      0.94      0.94     21757\n",
      "           E       0.84      0.94      0.89     27487\n",
      "           F       0.89      0.76      0.82      6214\n",
      "           G       0.87      0.87      0.87     23478\n",
      "           H       0.67      0.15      0.24      4248\n",
      "           I       0.75      0.63      0.69      3935\n",
      "           J       0.80      0.57      0.66      3922\n",
      "           L       0.83      0.47      0.60      5274\n",
      "           M       0.90      0.94      0.92     15032\n",
      "           N       0.83      0.83      0.83     16079\n",
      "           Z       0.83      0.82      0.82      5666\n",
      "\n",
      "   micro avg       0.89      0.87      0.88    200507\n",
      "   macro avg       0.85      0.76      0.79    200507\n",
      "weighted avg       0.88      0.87      0.87    200507\n",
      " samples avg       0.89      0.87      0.87    200507\n",
      "\n"
     ]
    }
   ],
   "source": [
    "train_loss, accuracy, precision, precision_micro, precision_macro, recall, recall_micro, recall_macro, f1_score, f1_score_micro, f1_score_macro = evaluate(training_loader, train_data)"
   ]
  },
  {
   "cell_type": "markdown",
   "id": "da60d26c",
   "metadata": {},
   "source": [
    "Train Dataset Results:\n",
    "\n",
    "              precision    recall  f1-score   support\n",
    "\n",
    "           A       0.86      0.82      0.84     16229\n",
    "           B       0.98      0.99      0.98     32639\n",
    "           C       0.91      0.92      0.92     18547\n",
    "           D       0.94      0.94      0.94     21757\n",
    "           E       0.84      0.94      0.89     27487\n",
    "           F       0.89      0.76      0.82      6214\n",
    "           G       0.87      0.87      0.87     23478\n",
    "           H       0.67      0.15      0.24      4248\n",
    "           I       0.75      0.63      0.69      3935\n",
    "           J       0.80      0.57      0.66      3922\n",
    "           L       0.83      0.47      0.60      5274\n",
    "           M       0.90      0.94      0.92     15032\n",
    "           N       0.83      0.83      0.83     16079\n",
    "           Z       0.83      0.82      0.82      5666\n",
    "\n",
    "   micro avg:       precision: 0.89      recall: 0.87      f1-score: 0.88    support: 200507\n",
    "\n",
    "   macro avg:       precision: 0.85      recall: 0.76      f1-score: 0.79    support: 200507\n",
    "\n",
    "weighted avg:       precision: 0.88      recall: 0.87      f1-score: 0.87    support: 200507\n",
    "\n",
    " samples avg:       precision: 0.89      recall: 0.87      f1-score: 0.87    support: 200507"
   ]
  },
  {
   "cell_type": "code",
   "execution_count": 15,
   "id": "e09a231b",
   "metadata": {
    "execution": {
     "iopub.execute_input": "2024-04-15T15:21:30.782376Z",
     "iopub.status.busy": "2024-04-15T15:21:30.781395Z",
     "iopub.status.idle": "2024-04-15T15:21:30.787230Z",
     "shell.execute_reply": "2024-04-15T15:21:30.786295Z"
    },
    "papermill": {
     "duration": 0.031681,
     "end_time": "2024-04-15T15:21:30.789363",
     "exception": false,
     "start_time": "2024-04-15T15:21:30.757682",
     "status": "completed"
    },
    "tags": []
   },
   "outputs": [],
   "source": [
    "train_results = {\n",
    "    'train_loss': [train_loss],\n",
    "    'accuracy': [accuracy],\n",
    "    'precision': [precision],\n",
    "    'precision_micro': [precision_micro],\n",
    "    'precision_macro': [precision_macro],\n",
    "    'recall': [recall],\n",
    "    'recall_micro': [recall_micro],\n",
    "    'recall_macro': [recall_macro],\n",
    "    'f1_score': [f1_score],\n",
    "    'f1_score_micro': [f1_score_micro],\n",
    "    'f1_score_macro': [f1_score_macro]\n",
    "}"
   ]
  },
  {
   "cell_type": "code",
   "execution_count": 16,
   "id": "b2aaa661",
   "metadata": {
    "execution": {
     "iopub.execute_input": "2024-04-15T15:21:30.835789Z",
     "iopub.status.busy": "2024-04-15T15:21:30.835396Z",
     "iopub.status.idle": "2024-04-15T15:21:31.170891Z",
     "shell.execute_reply": "2024-04-15T15:21:31.170064Z"
    },
    "papermill": {
     "duration": 0.362012,
     "end_time": "2024-04-15T15:21:31.173354",
     "exception": false,
     "start_time": "2024-04-15T15:21:30.811342",
     "status": "completed"
    },
    "tags": []
   },
   "outputs": [],
   "source": [
    "df = pd.DataFrame(train_results)\n",
    "file_path = '/kaggle/working/train_results_list.xlsx'\n",
    "df.to_excel(file_path, index=False, header=True)"
   ]
  }
 ],
 "metadata": {
  "kaggle": {
   "accelerator": "gpu",
   "dataSources": [
    {
     "datasetId": 4803223,
     "sourceId": 8127197,
     "sourceType": "datasetVersion"
    },
    {
     "datasetId": 4803294,
     "sourceId": 8127285,
     "sourceType": "datasetVersion"
    }
   ],
   "dockerImageVersionId": 30683,
   "isGpuEnabled": true,
   "isInternetEnabled": true,
   "language": "python",
   "sourceType": "notebook"
  },
  "kernelspec": {
   "display_name": "Python 3",
   "language": "python",
   "name": "python3"
  },
  "language_info": {
   "codemirror_mode": {
    "name": "ipython",
    "version": 3
   },
   "file_extension": ".py",
   "mimetype": "text/x-python",
   "name": "python",
   "nbconvert_exporter": "python",
   "pygments_lexer": "ipython3",
   "version": "3.11.4"
  },
  "papermill": {
   "default_parameters": {},
   "duration": 1135.80027,
   "end_time": "2024-04-15T15:21:33.719273",
   "environment_variables": {},
   "exception": null,
   "input_path": "__notebook__.ipynb",
   "output_path": "__notebook__.ipynb",
   "parameters": {},
   "start_time": "2024-04-15T15:02:37.919003",
   "version": "2.5.0"
  },
  "widgets": {
   "application/vnd.jupyter.widget-state+json": {
    "state": {
     "000221eaa65d4256aadbd5525b4b70ed": {
      "model_module": "@jupyter-widgets/controls",
      "model_module_version": "1.5.0",
      "model_name": "HBoxModel",
      "state": {
       "_dom_classes": [],
       "_model_module": "@jupyter-widgets/controls",
       "_model_module_version": "1.5.0",
       "_model_name": "HBoxModel",
       "_view_count": null,
       "_view_module": "@jupyter-widgets/controls",
       "_view_module_version": "1.5.0",
       "_view_name": "HBoxView",
       "box_style": "",
       "children": [
        "IPY_MODEL_52f559fddaba4fb1bcf398b43b889491",
        "IPY_MODEL_209b09543adc4ce789c5251553b7f005",
        "IPY_MODEL_f346dbf34f5341c186c0ad49ee5abcac"
       ],
       "layout": "IPY_MODEL_f8dbe0c7f4224546927b1584758af2a5"
      }
     },
     "071efb038c2e423cbd2bde64c5a7b183": {
      "model_module": "@jupyter-widgets/controls",
      "model_module_version": "1.5.0",
      "model_name": "ProgressStyleModel",
      "state": {
       "_model_module": "@jupyter-widgets/controls",
       "_model_module_version": "1.5.0",
       "_model_name": "ProgressStyleModel",
       "_view_count": null,
       "_view_module": "@jupyter-widgets/base",
       "_view_module_version": "1.2.0",
       "_view_name": "StyleView",
       "bar_color": null,
       "description_width": ""
      }
     },
     "0aa339d4c905403f8dab36ec3f2589fc": {
      "model_module": "@jupyter-widgets/controls",
      "model_module_version": "1.5.0",
      "model_name": "HTMLModel",
      "state": {
       "_dom_classes": [],
       "_model_module": "@jupyter-widgets/controls",
       "_model_module_version": "1.5.0",
       "_model_name": "HTMLModel",
       "_view_count": null,
       "_view_module": "@jupyter-widgets/controls",
       "_view_module_version": "1.5.0",
       "_view_name": "HTMLView",
       "description": "",
       "description_tooltip": null,
       "layout": "IPY_MODEL_42e52ea6e6df44f99b547a3e3fdf8226",
       "placeholder": "​",
       "style": "IPY_MODEL_41932dee3e0049278302e2d6c968fb8e",
       "value": " 466k/466k [00:00&lt;00:00, 25.9MB/s]"
      }
     },
     "0e77da4bef114911a26b020f0e1093f5": {
      "model_module": "@jupyter-widgets/controls",
      "model_module_version": "1.5.0",
      "model_name": "HTMLModel",
      "state": {
       "_dom_classes": [],
       "_model_module": "@jupyter-widgets/controls",
       "_model_module_version": "1.5.0",
       "_model_name": "HTMLModel",
       "_view_count": null,
       "_view_module": "@jupyter-widgets/controls",
       "_view_module_version": "1.5.0",
       "_view_name": "HTMLView",
       "description": "",
       "description_tooltip": null,
       "layout": "IPY_MODEL_3a8a6a6663e741698c7774faa1e60768",
       "placeholder": "​",
       "style": "IPY_MODEL_d69536fe3b314b4794b37adbfa09710f",
       "value": "tokenizer.json: 100%"
      }
     },
     "12f6620351d849648031f0e1c9066aa9": {
      "model_module": "@jupyter-widgets/base",
      "model_module_version": "1.2.0",
      "model_name": "LayoutModel",
      "state": {
       "_model_module": "@jupyter-widgets/base",
       "_model_module_version": "1.2.0",
       "_model_name": "LayoutModel",
       "_view_count": null,
       "_view_module": "@jupyter-widgets/base",
       "_view_module_version": "1.2.0",
       "_view_name": "LayoutView",
       "align_content": null,
       "align_items": null,
       "align_self": null,
       "border": null,
       "bottom": null,
       "display": null,
       "flex": null,
       "flex_flow": null,
       "grid_area": null,
       "grid_auto_columns": null,
       "grid_auto_flow": null,
       "grid_auto_rows": null,
       "grid_column": null,
       "grid_gap": null,
       "grid_row": null,
       "grid_template_areas": null,
       "grid_template_columns": null,
       "grid_template_rows": null,
       "height": null,
       "justify_content": null,
       "justify_items": null,
       "left": null,
       "margin": null,
       "max_height": null,
       "max_width": null,
       "min_height": null,
       "min_width": null,
       "object_fit": null,
       "object_position": null,
       "order": null,
       "overflow": null,
       "overflow_x": null,
       "overflow_y": null,
       "padding": null,
       "right": null,
       "top": null,
       "visibility": null,
       "width": null
      }
     },
     "202201356fa64dbe96108a87005f65c8": {
      "model_module": "@jupyter-widgets/base",
      "model_module_version": "1.2.0",
      "model_name": "LayoutModel",
      "state": {
       "_model_module": "@jupyter-widgets/base",
       "_model_module_version": "1.2.0",
       "_model_name": "LayoutModel",
       "_view_count": null,
       "_view_module": "@jupyter-widgets/base",
       "_view_module_version": "1.2.0",
       "_view_name": "LayoutView",
       "align_content": null,
       "align_items": null,
       "align_self": null,
       "border": null,
       "bottom": null,
       "display": null,
       "flex": null,
       "flex_flow": null,
       "grid_area": null,
       "grid_auto_columns": null,
       "grid_auto_flow": null,
       "grid_auto_rows": null,
       "grid_column": null,
       "grid_gap": null,
       "grid_row": null,
       "grid_template_areas": null,
       "grid_template_columns": null,
       "grid_template_rows": null,
       "height": null,
       "justify_content": null,
       "justify_items": null,
       "left": null,
       "margin": null,
       "max_height": null,
       "max_width": null,
       "min_height": null,
       "min_width": null,
       "object_fit": null,
       "object_position": null,
       "order": null,
       "overflow": null,
       "overflow_x": null,
       "overflow_y": null,
       "padding": null,
       "right": null,
       "top": null,
       "visibility": null,
       "width": null
      }
     },
     "209b09543adc4ce789c5251553b7f005": {
      "model_module": "@jupyter-widgets/controls",
      "model_module_version": "1.5.0",
      "model_name": "FloatProgressModel",
      "state": {
       "_dom_classes": [],
       "_model_module": "@jupyter-widgets/controls",
       "_model_module_version": "1.5.0",
       "_model_name": "FloatProgressModel",
       "_view_count": null,
       "_view_module": "@jupyter-widgets/controls",
       "_view_module_version": "1.5.0",
       "_view_name": "ProgressView",
       "bar_style": "success",
       "description": "",
       "description_tooltip": null,
       "layout": "IPY_MODEL_ed44d26ea02844b9b18048ad6ce2186a",
       "max": 231508,
       "min": 0,
       "orientation": "horizontal",
       "style": "IPY_MODEL_b1d6afe211d04a70827caf3e85c98d72",
       "value": 231508
      }
     },
     "214d533e63a04b65a00df5dc9b342e2d": {
      "model_module": "@jupyter-widgets/base",
      "model_module_version": "1.2.0",
      "model_name": "LayoutModel",
      "state": {
       "_model_module": "@jupyter-widgets/base",
       "_model_module_version": "1.2.0",
       "_model_name": "LayoutModel",
       "_view_count": null,
       "_view_module": "@jupyter-widgets/base",
       "_view_module_version": "1.2.0",
       "_view_name": "LayoutView",
       "align_content": null,
       "align_items": null,
       "align_self": null,
       "border": null,
       "bottom": null,
       "display": null,
       "flex": null,
       "flex_flow": null,
       "grid_area": null,
       "grid_auto_columns": null,
       "grid_auto_flow": null,
       "grid_auto_rows": null,
       "grid_column": null,
       "grid_gap": null,
       "grid_row": null,
       "grid_template_areas": null,
       "grid_template_columns": null,
       "grid_template_rows": null,
       "height": null,
       "justify_content": null,
       "justify_items": null,
       "left": null,
       "margin": null,
       "max_height": null,
       "max_width": null,
       "min_height": null,
       "min_width": null,
       "object_fit": null,
       "object_position": null,
       "order": null,
       "overflow": null,
       "overflow_x": null,
       "overflow_y": null,
       "padding": null,
       "right": null,
       "top": null,
       "visibility": null,
       "width": null
      }
     },
     "2543c432647d45f7a6f1b397073ee275": {
      "model_module": "@jupyter-widgets/base",
      "model_module_version": "1.2.0",
      "model_name": "LayoutModel",
      "state": {
       "_model_module": "@jupyter-widgets/base",
       "_model_module_version": "1.2.0",
       "_model_name": "LayoutModel",
       "_view_count": null,
       "_view_module": "@jupyter-widgets/base",
       "_view_module_version": "1.2.0",
       "_view_name": "LayoutView",
       "align_content": null,
       "align_items": null,
       "align_self": null,
       "border": null,
       "bottom": null,
       "display": null,
       "flex": null,
       "flex_flow": null,
       "grid_area": null,
       "grid_auto_columns": null,
       "grid_auto_flow": null,
       "grid_auto_rows": null,
       "grid_column": null,
       "grid_gap": null,
       "grid_row": null,
       "grid_template_areas": null,
       "grid_template_columns": null,
       "grid_template_rows": null,
       "height": null,
       "justify_content": null,
       "justify_items": null,
       "left": null,
       "margin": null,
       "max_height": null,
       "max_width": null,
       "min_height": null,
       "min_width": null,
       "object_fit": null,
       "object_position": null,
       "order": null,
       "overflow": null,
       "overflow_x": null,
       "overflow_y": null,
       "padding": null,
       "right": null,
       "top": null,
       "visibility": null,
       "width": null
      }
     },
     "33d8b40e9823464991148005799fc176": {
      "model_module": "@jupyter-widgets/base",
      "model_module_version": "1.2.0",
      "model_name": "LayoutModel",
      "state": {
       "_model_module": "@jupyter-widgets/base",
       "_model_module_version": "1.2.0",
       "_model_name": "LayoutModel",
       "_view_count": null,
       "_view_module": "@jupyter-widgets/base",
       "_view_module_version": "1.2.0",
       "_view_name": "LayoutView",
       "align_content": null,
       "align_items": null,
       "align_self": null,
       "border": null,
       "bottom": null,
       "display": null,
       "flex": null,
       "flex_flow": null,
       "grid_area": null,
       "grid_auto_columns": null,
       "grid_auto_flow": null,
       "grid_auto_rows": null,
       "grid_column": null,
       "grid_gap": null,
       "grid_row": null,
       "grid_template_areas": null,
       "grid_template_columns": null,
       "grid_template_rows": null,
       "height": null,
       "justify_content": null,
       "justify_items": null,
       "left": null,
       "margin": null,
       "max_height": null,
       "max_width": null,
       "min_height": null,
       "min_width": null,
       "object_fit": null,
       "object_position": null,
       "order": null,
       "overflow": null,
       "overflow_x": null,
       "overflow_y": null,
       "padding": null,
       "right": null,
       "top": null,
       "visibility": null,
       "width": null
      }
     },
     "38f78393ac674e88b77ceaa0d8f14e58": {
      "model_module": "@jupyter-widgets/controls",
      "model_module_version": "1.5.0",
      "model_name": "HBoxModel",
      "state": {
       "_dom_classes": [],
       "_model_module": "@jupyter-widgets/controls",
       "_model_module_version": "1.5.0",
       "_model_name": "HBoxModel",
       "_view_count": null,
       "_view_module": "@jupyter-widgets/controls",
       "_view_module_version": "1.5.0",
       "_view_name": "HBoxView",
       "box_style": "",
       "children": [
        "IPY_MODEL_0e77da4bef114911a26b020f0e1093f5",
        "IPY_MODEL_de6987d4488e478089f0953f10d0a555",
        "IPY_MODEL_0aa339d4c905403f8dab36ec3f2589fc"
       ],
       "layout": "IPY_MODEL_596d71899558417a95c9f6a63d6062c5"
      }
     },
     "3a8a6a6663e741698c7774faa1e60768": {
      "model_module": "@jupyter-widgets/base",
      "model_module_version": "1.2.0",
      "model_name": "LayoutModel",
      "state": {
       "_model_module": "@jupyter-widgets/base",
       "_model_module_version": "1.2.0",
       "_model_name": "LayoutModel",
       "_view_count": null,
       "_view_module": "@jupyter-widgets/base",
       "_view_module_version": "1.2.0",
       "_view_name": "LayoutView",
       "align_content": null,
       "align_items": null,
       "align_self": null,
       "border": null,
       "bottom": null,
       "display": null,
       "flex": null,
       "flex_flow": null,
       "grid_area": null,
       "grid_auto_columns": null,
       "grid_auto_flow": null,
       "grid_auto_rows": null,
       "grid_column": null,
       "grid_gap": null,
       "grid_row": null,
       "grid_template_areas": null,
       "grid_template_columns": null,
       "grid_template_rows": null,
       "height": null,
       "justify_content": null,
       "justify_items": null,
       "left": null,
       "margin": null,
       "max_height": null,
       "max_width": null,
       "min_height": null,
       "min_width": null,
       "object_fit": null,
       "object_position": null,
       "order": null,
       "overflow": null,
       "overflow_x": null,
       "overflow_y": null,
       "padding": null,
       "right": null,
       "top": null,
       "visibility": null,
       "width": null
      }
     },
     "41932dee3e0049278302e2d6c968fb8e": {
      "model_module": "@jupyter-widgets/controls",
      "model_module_version": "1.5.0",
      "model_name": "DescriptionStyleModel",
      "state": {
       "_model_module": "@jupyter-widgets/controls",
       "_model_module_version": "1.5.0",
       "_model_name": "DescriptionStyleModel",
       "_view_count": null,
       "_view_module": "@jupyter-widgets/base",
       "_view_module_version": "1.2.0",
       "_view_name": "StyleView",
       "description_width": ""
      }
     },
     "42e52ea6e6df44f99b547a3e3fdf8226": {
      "model_module": "@jupyter-widgets/base",
      "model_module_version": "1.2.0",
      "model_name": "LayoutModel",
      "state": {
       "_model_module": "@jupyter-widgets/base",
       "_model_module_version": "1.2.0",
       "_model_name": "LayoutModel",
       "_view_count": null,
       "_view_module": "@jupyter-widgets/base",
       "_view_module_version": "1.2.0",
       "_view_name": "LayoutView",
       "align_content": null,
       "align_items": null,
       "align_self": null,
       "border": null,
       "bottom": null,
       "display": null,
       "flex": null,
       "flex_flow": null,
       "grid_area": null,
       "grid_auto_columns": null,
       "grid_auto_flow": null,
       "grid_auto_rows": null,
       "grid_column": null,
       "grid_gap": null,
       "grid_row": null,
       "grid_template_areas": null,
       "grid_template_columns": null,
       "grid_template_rows": null,
       "height": null,
       "justify_content": null,
       "justify_items": null,
       "left": null,
       "margin": null,
       "max_height": null,
       "max_width": null,
       "min_height": null,
       "min_width": null,
       "object_fit": null,
       "object_position": null,
       "order": null,
       "overflow": null,
       "overflow_x": null,
       "overflow_y": null,
       "padding": null,
       "right": null,
       "top": null,
       "visibility": null,
       "width": null
      }
     },
     "433bc80f30564d8c82d2e271026fd871": {
      "model_module": "@jupyter-widgets/controls",
      "model_module_version": "1.5.0",
      "model_name": "HTMLModel",
      "state": {
       "_dom_classes": [],
       "_model_module": "@jupyter-widgets/controls",
       "_model_module_version": "1.5.0",
       "_model_name": "HTMLModel",
       "_view_count": null,
       "_view_module": "@jupyter-widgets/controls",
       "_view_module_version": "1.5.0",
       "_view_name": "HTMLView",
       "description": "",
       "description_tooltip": null,
       "layout": "IPY_MODEL_202201356fa64dbe96108a87005f65c8",
       "placeholder": "​",
       "style": "IPY_MODEL_abffc66999df4abf8a84b29b1eb6b868",
       "value": " 570/570 [00:00&lt;00:00, 48.4kB/s]"
      }
     },
     "4763a4c61eea4940a2224ca122f8989d": {
      "model_module": "@jupyter-widgets/controls",
      "model_module_version": "1.5.0",
      "model_name": "HBoxModel",
      "state": {
       "_dom_classes": [],
       "_model_module": "@jupyter-widgets/controls",
       "_model_module_version": "1.5.0",
       "_model_name": "HBoxModel",
       "_view_count": null,
       "_view_module": "@jupyter-widgets/controls",
       "_view_module_version": "1.5.0",
       "_view_name": "HBoxView",
       "box_style": "",
       "children": [
        "IPY_MODEL_bda403409cda43e0bf976ad82586cd16",
        "IPY_MODEL_633f4af143494879b3b291c4d082afeb",
        "IPY_MODEL_433bc80f30564d8c82d2e271026fd871"
       ],
       "layout": "IPY_MODEL_bd31091f0a2248208e9e7c329a77c7ff"
      }
     },
     "4e74c9109cbd4c3e8c3bd026744925dc": {
      "model_module": "@jupyter-widgets/controls",
      "model_module_version": "1.5.0",
      "model_name": "DescriptionStyleModel",
      "state": {
       "_model_module": "@jupyter-widgets/controls",
       "_model_module_version": "1.5.0",
       "_model_name": "DescriptionStyleModel",
       "_view_count": null,
       "_view_module": "@jupyter-widgets/base",
       "_view_module_version": "1.2.0",
       "_view_name": "StyleView",
       "description_width": ""
      }
     },
     "50495e59bfde44aa97f71dcbe2291e67": {
      "model_module": "@jupyter-widgets/controls",
      "model_module_version": "1.5.0",
      "model_name": "ProgressStyleModel",
      "state": {
       "_model_module": "@jupyter-widgets/controls",
       "_model_module_version": "1.5.0",
       "_model_name": "ProgressStyleModel",
       "_view_count": null,
       "_view_module": "@jupyter-widgets/base",
       "_view_module_version": "1.2.0",
       "_view_name": "StyleView",
       "bar_color": null,
       "description_width": ""
      }
     },
     "52f559fddaba4fb1bcf398b43b889491": {
      "model_module": "@jupyter-widgets/controls",
      "model_module_version": "1.5.0",
      "model_name": "HTMLModel",
      "state": {
       "_dom_classes": [],
       "_model_module": "@jupyter-widgets/controls",
       "_model_module_version": "1.5.0",
       "_model_name": "HTMLModel",
       "_view_count": null,
       "_view_module": "@jupyter-widgets/controls",
       "_view_module_version": "1.5.0",
       "_view_name": "HTMLView",
       "description": "",
       "description_tooltip": null,
       "layout": "IPY_MODEL_ad3342c6e2aa4e6aa8d5c0eed8145ddc",
       "placeholder": "​",
       "style": "IPY_MODEL_dbf74f862b7747bfb0572b2e8af248e7",
       "value": "vocab.txt: 100%"
      }
     },
     "55b16b7f35d84fa29d2867ce274cd3fb": {
      "model_module": "@jupyter-widgets/controls",
      "model_module_version": "1.5.0",
      "model_name": "HBoxModel",
      "state": {
       "_dom_classes": [],
       "_model_module": "@jupyter-widgets/controls",
       "_model_module_version": "1.5.0",
       "_model_name": "HBoxModel",
       "_view_count": null,
       "_view_module": "@jupyter-widgets/controls",
       "_view_module_version": "1.5.0",
       "_view_name": "HBoxView",
       "box_style": "",
       "children": [
        "IPY_MODEL_5b92adfe279e419c85f730997e0c5451",
        "IPY_MODEL_68c7f68be3184278ab6d15bca2eccf35",
        "IPY_MODEL_61b9b429b5a74e3fa83312daf9af08ac"
       ],
       "layout": "IPY_MODEL_80d9e36a90ed47a6ae0ce3a2607c30f8"
      }
     },
     "58150e4b3c3d4495a8c6dcc261e4c93a": {
      "model_module": "@jupyter-widgets/controls",
      "model_module_version": "1.5.0",
      "model_name": "DescriptionStyleModel",
      "state": {
       "_model_module": "@jupyter-widgets/controls",
       "_model_module_version": "1.5.0",
       "_model_name": "DescriptionStyleModel",
       "_view_count": null,
       "_view_module": "@jupyter-widgets/base",
       "_view_module_version": "1.2.0",
       "_view_name": "StyleView",
       "description_width": ""
      }
     },
     "596d71899558417a95c9f6a63d6062c5": {
      "model_module": "@jupyter-widgets/base",
      "model_module_version": "1.2.0",
      "model_name": "LayoutModel",
      "state": {
       "_model_module": "@jupyter-widgets/base",
       "_model_module_version": "1.2.0",
       "_model_name": "LayoutModel",
       "_view_count": null,
       "_view_module": "@jupyter-widgets/base",
       "_view_module_version": "1.2.0",
       "_view_name": "LayoutView",
       "align_content": null,
       "align_items": null,
       "align_self": null,
       "border": null,
       "bottom": null,
       "display": null,
       "flex": null,
       "flex_flow": null,
       "grid_area": null,
       "grid_auto_columns": null,
       "grid_auto_flow": null,
       "grid_auto_rows": null,
       "grid_column": null,
       "grid_gap": null,
       "grid_row": null,
       "grid_template_areas": null,
       "grid_template_columns": null,
       "grid_template_rows": null,
       "height": null,
       "justify_content": null,
       "justify_items": null,
       "left": null,
       "margin": null,
       "max_height": null,
       "max_width": null,
       "min_height": null,
       "min_width": null,
       "object_fit": null,
       "object_position": null,
       "order": null,
       "overflow": null,
       "overflow_x": null,
       "overflow_y": null,
       "padding": null,
       "right": null,
       "top": null,
       "visibility": null,
       "width": null
      }
     },
     "5b92adfe279e419c85f730997e0c5451": {
      "model_module": "@jupyter-widgets/controls",
      "model_module_version": "1.5.0",
      "model_name": "HTMLModel",
      "state": {
       "_dom_classes": [],
       "_model_module": "@jupyter-widgets/controls",
       "_model_module_version": "1.5.0",
       "_model_name": "HTMLModel",
       "_view_count": null,
       "_view_module": "@jupyter-widgets/controls",
       "_view_module_version": "1.5.0",
       "_view_name": "HTMLView",
       "description": "",
       "description_tooltip": null,
       "layout": "IPY_MODEL_5c86e83c00824b4d9555cb36741f11e7",
       "placeholder": "​",
       "style": "IPY_MODEL_58150e4b3c3d4495a8c6dcc261e4c93a",
       "value": "tokenizer_config.json: 100%"
      }
     },
     "5c86e83c00824b4d9555cb36741f11e7": {
      "model_module": "@jupyter-widgets/base",
      "model_module_version": "1.2.0",
      "model_name": "LayoutModel",
      "state": {
       "_model_module": "@jupyter-widgets/base",
       "_model_module_version": "1.2.0",
       "_model_name": "LayoutModel",
       "_view_count": null,
       "_view_module": "@jupyter-widgets/base",
       "_view_module_version": "1.2.0",
       "_view_name": "LayoutView",
       "align_content": null,
       "align_items": null,
       "align_self": null,
       "border": null,
       "bottom": null,
       "display": null,
       "flex": null,
       "flex_flow": null,
       "grid_area": null,
       "grid_auto_columns": null,
       "grid_auto_flow": null,
       "grid_auto_rows": null,
       "grid_column": null,
       "grid_gap": null,
       "grid_row": null,
       "grid_template_areas": null,
       "grid_template_columns": null,
       "grid_template_rows": null,
       "height": null,
       "justify_content": null,
       "justify_items": null,
       "left": null,
       "margin": null,
       "max_height": null,
       "max_width": null,
       "min_height": null,
       "min_width": null,
       "object_fit": null,
       "object_position": null,
       "order": null,
       "overflow": null,
       "overflow_x": null,
       "overflow_y": null,
       "padding": null,
       "right": null,
       "top": null,
       "visibility": null,
       "width": null
      }
     },
     "5dcccab325474d12a45c63b11375c43c": {
      "model_module": "@jupyter-widgets/controls",
      "model_module_version": "1.5.0",
      "model_name": "DescriptionStyleModel",
      "state": {
       "_model_module": "@jupyter-widgets/controls",
       "_model_module_version": "1.5.0",
       "_model_name": "DescriptionStyleModel",
       "_view_count": null,
       "_view_module": "@jupyter-widgets/base",
       "_view_module_version": "1.2.0",
       "_view_name": "StyleView",
       "description_width": ""
      }
     },
     "6016956cc3db48719600e4ddfe98f45a": {
      "model_module": "@jupyter-widgets/controls",
      "model_module_version": "1.5.0",
      "model_name": "HTMLModel",
      "state": {
       "_dom_classes": [],
       "_model_module": "@jupyter-widgets/controls",
       "_model_module_version": "1.5.0",
       "_model_name": "HTMLModel",
       "_view_count": null,
       "_view_module": "@jupyter-widgets/controls",
       "_view_module_version": "1.5.0",
       "_view_name": "HTMLView",
       "description": "",
       "description_tooltip": null,
       "layout": "IPY_MODEL_2543c432647d45f7a6f1b397073ee275",
       "placeholder": "​",
       "style": "IPY_MODEL_4e74c9109cbd4c3e8c3bd026744925dc",
       "value": " 440M/440M [00:02&lt;00:00, 204MB/s]"
      }
     },
     "61b9b429b5a74e3fa83312daf9af08ac": {
      "model_module": "@jupyter-widgets/controls",
      "model_module_version": "1.5.0",
      "model_name": "HTMLModel",
      "state": {
       "_dom_classes": [],
       "_model_module": "@jupyter-widgets/controls",
       "_model_module_version": "1.5.0",
       "_model_name": "HTMLModel",
       "_view_count": null,
       "_view_module": "@jupyter-widgets/controls",
       "_view_module_version": "1.5.0",
       "_view_name": "HTMLView",
       "description": "",
       "description_tooltip": null,
       "layout": "IPY_MODEL_33d8b40e9823464991148005799fc176",
       "placeholder": "​",
       "style": "IPY_MODEL_8a344d4c9969485ba0e61f3edfa4075e",
       "value": " 48.0/48.0 [00:00&lt;00:00, 3.57kB/s]"
      }
     },
     "633f4af143494879b3b291c4d082afeb": {
      "model_module": "@jupyter-widgets/controls",
      "model_module_version": "1.5.0",
      "model_name": "FloatProgressModel",
      "state": {
       "_dom_classes": [],
       "_model_module": "@jupyter-widgets/controls",
       "_model_module_version": "1.5.0",
       "_model_name": "FloatProgressModel",
       "_view_count": null,
       "_view_module": "@jupyter-widgets/controls",
       "_view_module_version": "1.5.0",
       "_view_name": "ProgressView",
       "bar_style": "success",
       "description": "",
       "description_tooltip": null,
       "layout": "IPY_MODEL_ba4307aa97d447f4b14dd06ee734e76a",
       "max": 570,
       "min": 0,
       "orientation": "horizontal",
       "style": "IPY_MODEL_071efb038c2e423cbd2bde64c5a7b183",
       "value": 570
      }
     },
     "68c7f68be3184278ab6d15bca2eccf35": {
      "model_module": "@jupyter-widgets/controls",
      "model_module_version": "1.5.0",
      "model_name": "FloatProgressModel",
      "state": {
       "_dom_classes": [],
       "_model_module": "@jupyter-widgets/controls",
       "_model_module_version": "1.5.0",
       "_model_name": "FloatProgressModel",
       "_view_count": null,
       "_view_module": "@jupyter-widgets/controls",
       "_view_module_version": "1.5.0",
       "_view_name": "ProgressView",
       "bar_style": "success",
       "description": "",
       "description_tooltip": null,
       "layout": "IPY_MODEL_e2fb5dd0fe5b49f8b2d893d708e68158",
       "max": 48,
       "min": 0,
       "orientation": "horizontal",
       "style": "IPY_MODEL_d4505dc57a204a1c923582d80a04a77c",
       "value": 48
      }
     },
     "7135916f4960472782c0d5ebce9fef0d": {
      "model_module": "@jupyter-widgets/controls",
      "model_module_version": "1.5.0",
      "model_name": "DescriptionStyleModel",
      "state": {
       "_model_module": "@jupyter-widgets/controls",
       "_model_module_version": "1.5.0",
       "_model_name": "DescriptionStyleModel",
       "_view_count": null,
       "_view_module": "@jupyter-widgets/base",
       "_view_module_version": "1.2.0",
       "_view_name": "StyleView",
       "description_width": ""
      }
     },
     "72c6176e07474d5b9e7fca2db5fcba0e": {
      "model_module": "@jupyter-widgets/controls",
      "model_module_version": "1.5.0",
      "model_name": "HBoxModel",
      "state": {
       "_dom_classes": [],
       "_model_module": "@jupyter-widgets/controls",
       "_model_module_version": "1.5.0",
       "_model_name": "HBoxModel",
       "_view_count": null,
       "_view_module": "@jupyter-widgets/controls",
       "_view_module_version": "1.5.0",
       "_view_name": "HBoxView",
       "box_style": "",
       "children": [
        "IPY_MODEL_cdac1ba88472439e8c62cf8e9476fb78",
        "IPY_MODEL_889d4ee53da54d2a8fe44fd7d5c210d4",
        "IPY_MODEL_6016956cc3db48719600e4ddfe98f45a"
       ],
       "layout": "IPY_MODEL_8fbdc9e56221451f9370f17be4858c85"
      }
     },
     "80d9e36a90ed47a6ae0ce3a2607c30f8": {
      "model_module": "@jupyter-widgets/base",
      "model_module_version": "1.2.0",
      "model_name": "LayoutModel",
      "state": {
       "_model_module": "@jupyter-widgets/base",
       "_model_module_version": "1.2.0",
       "_model_name": "LayoutModel",
       "_view_count": null,
       "_view_module": "@jupyter-widgets/base",
       "_view_module_version": "1.2.0",
       "_view_name": "LayoutView",
       "align_content": null,
       "align_items": null,
       "align_self": null,
       "border": null,
       "bottom": null,
       "display": null,
       "flex": null,
       "flex_flow": null,
       "grid_area": null,
       "grid_auto_columns": null,
       "grid_auto_flow": null,
       "grid_auto_rows": null,
       "grid_column": null,
       "grid_gap": null,
       "grid_row": null,
       "grid_template_areas": null,
       "grid_template_columns": null,
       "grid_template_rows": null,
       "height": null,
       "justify_content": null,
       "justify_items": null,
       "left": null,
       "margin": null,
       "max_height": null,
       "max_width": null,
       "min_height": null,
       "min_width": null,
       "object_fit": null,
       "object_position": null,
       "order": null,
       "overflow": null,
       "overflow_x": null,
       "overflow_y": null,
       "padding": null,
       "right": null,
       "top": null,
       "visibility": null,
       "width": null
      }
     },
     "889d4ee53da54d2a8fe44fd7d5c210d4": {
      "model_module": "@jupyter-widgets/controls",
      "model_module_version": "1.5.0",
      "model_name": "FloatProgressModel",
      "state": {
       "_dom_classes": [],
       "_model_module": "@jupyter-widgets/controls",
       "_model_module_version": "1.5.0",
       "_model_name": "FloatProgressModel",
       "_view_count": null,
       "_view_module": "@jupyter-widgets/controls",
       "_view_module_version": "1.5.0",
       "_view_name": "ProgressView",
       "bar_style": "success",
       "description": "",
       "description_tooltip": null,
       "layout": "IPY_MODEL_deef94742cd7472582da197fab230edd",
       "max": 440449768,
       "min": 0,
       "orientation": "horizontal",
       "style": "IPY_MODEL_ec6c011d8ea442a5ac6844ccafc7e337",
       "value": 440449768
      }
     },
     "8a344d4c9969485ba0e61f3edfa4075e": {
      "model_module": "@jupyter-widgets/controls",
      "model_module_version": "1.5.0",
      "model_name": "DescriptionStyleModel",
      "state": {
       "_model_module": "@jupyter-widgets/controls",
       "_model_module_version": "1.5.0",
       "_model_name": "DescriptionStyleModel",
       "_view_count": null,
       "_view_module": "@jupyter-widgets/base",
       "_view_module_version": "1.2.0",
       "_view_name": "StyleView",
       "description_width": ""
      }
     },
     "8fbdc9e56221451f9370f17be4858c85": {
      "model_module": "@jupyter-widgets/base",
      "model_module_version": "1.2.0",
      "model_name": "LayoutModel",
      "state": {
       "_model_module": "@jupyter-widgets/base",
       "_model_module_version": "1.2.0",
       "_model_name": "LayoutModel",
       "_view_count": null,
       "_view_module": "@jupyter-widgets/base",
       "_view_module_version": "1.2.0",
       "_view_name": "LayoutView",
       "align_content": null,
       "align_items": null,
       "align_self": null,
       "border": null,
       "bottom": null,
       "display": null,
       "flex": null,
       "flex_flow": null,
       "grid_area": null,
       "grid_auto_columns": null,
       "grid_auto_flow": null,
       "grid_auto_rows": null,
       "grid_column": null,
       "grid_gap": null,
       "grid_row": null,
       "grid_template_areas": null,
       "grid_template_columns": null,
       "grid_template_rows": null,
       "height": null,
       "justify_content": null,
       "justify_items": null,
       "left": null,
       "margin": null,
       "max_height": null,
       "max_width": null,
       "min_height": null,
       "min_width": null,
       "object_fit": null,
       "object_position": null,
       "order": null,
       "overflow": null,
       "overflow_x": null,
       "overflow_y": null,
       "padding": null,
       "right": null,
       "top": null,
       "visibility": null,
       "width": null
      }
     },
     "96c066ad4fc544f0999b0c6d9c28befe": {
      "model_module": "@jupyter-widgets/base",
      "model_module_version": "1.2.0",
      "model_name": "LayoutModel",
      "state": {
       "_model_module": "@jupyter-widgets/base",
       "_model_module_version": "1.2.0",
       "_model_name": "LayoutModel",
       "_view_count": null,
       "_view_module": "@jupyter-widgets/base",
       "_view_module_version": "1.2.0",
       "_view_name": "LayoutView",
       "align_content": null,
       "align_items": null,
       "align_self": null,
       "border": null,
       "bottom": null,
       "display": null,
       "flex": null,
       "flex_flow": null,
       "grid_area": null,
       "grid_auto_columns": null,
       "grid_auto_flow": null,
       "grid_auto_rows": null,
       "grid_column": null,
       "grid_gap": null,
       "grid_row": null,
       "grid_template_areas": null,
       "grid_template_columns": null,
       "grid_template_rows": null,
       "height": null,
       "justify_content": null,
       "justify_items": null,
       "left": null,
       "margin": null,
       "max_height": null,
       "max_width": null,
       "min_height": null,
       "min_width": null,
       "object_fit": null,
       "object_position": null,
       "order": null,
       "overflow": null,
       "overflow_x": null,
       "overflow_y": null,
       "padding": null,
       "right": null,
       "top": null,
       "visibility": null,
       "width": null
      }
     },
     "abffc66999df4abf8a84b29b1eb6b868": {
      "model_module": "@jupyter-widgets/controls",
      "model_module_version": "1.5.0",
      "model_name": "DescriptionStyleModel",
      "state": {
       "_model_module": "@jupyter-widgets/controls",
       "_model_module_version": "1.5.0",
       "_model_name": "DescriptionStyleModel",
       "_view_count": null,
       "_view_module": "@jupyter-widgets/base",
       "_view_module_version": "1.2.0",
       "_view_name": "StyleView",
       "description_width": ""
      }
     },
     "ad3342c6e2aa4e6aa8d5c0eed8145ddc": {
      "model_module": "@jupyter-widgets/base",
      "model_module_version": "1.2.0",
      "model_name": "LayoutModel",
      "state": {
       "_model_module": "@jupyter-widgets/base",
       "_model_module_version": "1.2.0",
       "_model_name": "LayoutModel",
       "_view_count": null,
       "_view_module": "@jupyter-widgets/base",
       "_view_module_version": "1.2.0",
       "_view_name": "LayoutView",
       "align_content": null,
       "align_items": null,
       "align_self": null,
       "border": null,
       "bottom": null,
       "display": null,
       "flex": null,
       "flex_flow": null,
       "grid_area": null,
       "grid_auto_columns": null,
       "grid_auto_flow": null,
       "grid_auto_rows": null,
       "grid_column": null,
       "grid_gap": null,
       "grid_row": null,
       "grid_template_areas": null,
       "grid_template_columns": null,
       "grid_template_rows": null,
       "height": null,
       "justify_content": null,
       "justify_items": null,
       "left": null,
       "margin": null,
       "max_height": null,
       "max_width": null,
       "min_height": null,
       "min_width": null,
       "object_fit": null,
       "object_position": null,
       "order": null,
       "overflow": null,
       "overflow_x": null,
       "overflow_y": null,
       "padding": null,
       "right": null,
       "top": null,
       "visibility": null,
       "width": null
      }
     },
     "b1d6afe211d04a70827caf3e85c98d72": {
      "model_module": "@jupyter-widgets/controls",
      "model_module_version": "1.5.0",
      "model_name": "ProgressStyleModel",
      "state": {
       "_model_module": "@jupyter-widgets/controls",
       "_model_module_version": "1.5.0",
       "_model_name": "ProgressStyleModel",
       "_view_count": null,
       "_view_module": "@jupyter-widgets/base",
       "_view_module_version": "1.2.0",
       "_view_name": "StyleView",
       "bar_color": null,
       "description_width": ""
      }
     },
     "ba4307aa97d447f4b14dd06ee734e76a": {
      "model_module": "@jupyter-widgets/base",
      "model_module_version": "1.2.0",
      "model_name": "LayoutModel",
      "state": {
       "_model_module": "@jupyter-widgets/base",
       "_model_module_version": "1.2.0",
       "_model_name": "LayoutModel",
       "_view_count": null,
       "_view_module": "@jupyter-widgets/base",
       "_view_module_version": "1.2.0",
       "_view_name": "LayoutView",
       "align_content": null,
       "align_items": null,
       "align_self": null,
       "border": null,
       "bottom": null,
       "display": null,
       "flex": null,
       "flex_flow": null,
       "grid_area": null,
       "grid_auto_columns": null,
       "grid_auto_flow": null,
       "grid_auto_rows": null,
       "grid_column": null,
       "grid_gap": null,
       "grid_row": null,
       "grid_template_areas": null,
       "grid_template_columns": null,
       "grid_template_rows": null,
       "height": null,
       "justify_content": null,
       "justify_items": null,
       "left": null,
       "margin": null,
       "max_height": null,
       "max_width": null,
       "min_height": null,
       "min_width": null,
       "object_fit": null,
       "object_position": null,
       "order": null,
       "overflow": null,
       "overflow_x": null,
       "overflow_y": null,
       "padding": null,
       "right": null,
       "top": null,
       "visibility": null,
       "width": null
      }
     },
     "bd31091f0a2248208e9e7c329a77c7ff": {
      "model_module": "@jupyter-widgets/base",
      "model_module_version": "1.2.0",
      "model_name": "LayoutModel",
      "state": {
       "_model_module": "@jupyter-widgets/base",
       "_model_module_version": "1.2.0",
       "_model_name": "LayoutModel",
       "_view_count": null,
       "_view_module": "@jupyter-widgets/base",
       "_view_module_version": "1.2.0",
       "_view_name": "LayoutView",
       "align_content": null,
       "align_items": null,
       "align_self": null,
       "border": null,
       "bottom": null,
       "display": null,
       "flex": null,
       "flex_flow": null,
       "grid_area": null,
       "grid_auto_columns": null,
       "grid_auto_flow": null,
       "grid_auto_rows": null,
       "grid_column": null,
       "grid_gap": null,
       "grid_row": null,
       "grid_template_areas": null,
       "grid_template_columns": null,
       "grid_template_rows": null,
       "height": null,
       "justify_content": null,
       "justify_items": null,
       "left": null,
       "margin": null,
       "max_height": null,
       "max_width": null,
       "min_height": null,
       "min_width": null,
       "object_fit": null,
       "object_position": null,
       "order": null,
       "overflow": null,
       "overflow_x": null,
       "overflow_y": null,
       "padding": null,
       "right": null,
       "top": null,
       "visibility": null,
       "width": null
      }
     },
     "bda403409cda43e0bf976ad82586cd16": {
      "model_module": "@jupyter-widgets/controls",
      "model_module_version": "1.5.0",
      "model_name": "HTMLModel",
      "state": {
       "_dom_classes": [],
       "_model_module": "@jupyter-widgets/controls",
       "_model_module_version": "1.5.0",
       "_model_name": "HTMLModel",
       "_view_count": null,
       "_view_module": "@jupyter-widgets/controls",
       "_view_module_version": "1.5.0",
       "_view_name": "HTMLView",
       "description": "",
       "description_tooltip": null,
       "layout": "IPY_MODEL_214d533e63a04b65a00df5dc9b342e2d",
       "placeholder": "​",
       "style": "IPY_MODEL_7135916f4960472782c0d5ebce9fef0d",
       "value": "config.json: 100%"
      }
     },
     "cdac1ba88472439e8c62cf8e9476fb78": {
      "model_module": "@jupyter-widgets/controls",
      "model_module_version": "1.5.0",
      "model_name": "HTMLModel",
      "state": {
       "_dom_classes": [],
       "_model_module": "@jupyter-widgets/controls",
       "_model_module_version": "1.5.0",
       "_model_name": "HTMLModel",
       "_view_count": null,
       "_view_module": "@jupyter-widgets/controls",
       "_view_module_version": "1.5.0",
       "_view_name": "HTMLView",
       "description": "",
       "description_tooltip": null,
       "layout": "IPY_MODEL_e8383c93488a4f21a8b24df30bb8fd0b",
       "placeholder": "​",
       "style": "IPY_MODEL_5dcccab325474d12a45c63b11375c43c",
       "value": "model.safetensors: 100%"
      }
     },
     "d4505dc57a204a1c923582d80a04a77c": {
      "model_module": "@jupyter-widgets/controls",
      "model_module_version": "1.5.0",
      "model_name": "ProgressStyleModel",
      "state": {
       "_model_module": "@jupyter-widgets/controls",
       "_model_module_version": "1.5.0",
       "_model_name": "ProgressStyleModel",
       "_view_count": null,
       "_view_module": "@jupyter-widgets/base",
       "_view_module_version": "1.2.0",
       "_view_name": "StyleView",
       "bar_color": null,
       "description_width": ""
      }
     },
     "d69536fe3b314b4794b37adbfa09710f": {
      "model_module": "@jupyter-widgets/controls",
      "model_module_version": "1.5.0",
      "model_name": "DescriptionStyleModel",
      "state": {
       "_model_module": "@jupyter-widgets/controls",
       "_model_module_version": "1.5.0",
       "_model_name": "DescriptionStyleModel",
       "_view_count": null,
       "_view_module": "@jupyter-widgets/base",
       "_view_module_version": "1.2.0",
       "_view_name": "StyleView",
       "description_width": ""
      }
     },
     "dbf74f862b7747bfb0572b2e8af248e7": {
      "model_module": "@jupyter-widgets/controls",
      "model_module_version": "1.5.0",
      "model_name": "DescriptionStyleModel",
      "state": {
       "_model_module": "@jupyter-widgets/controls",
       "_model_module_version": "1.5.0",
       "_model_name": "DescriptionStyleModel",
       "_view_count": null,
       "_view_module": "@jupyter-widgets/base",
       "_view_module_version": "1.2.0",
       "_view_name": "StyleView",
       "description_width": ""
      }
     },
     "de6987d4488e478089f0953f10d0a555": {
      "model_module": "@jupyter-widgets/controls",
      "model_module_version": "1.5.0",
      "model_name": "FloatProgressModel",
      "state": {
       "_dom_classes": [],
       "_model_module": "@jupyter-widgets/controls",
       "_model_module_version": "1.5.0",
       "_model_name": "FloatProgressModel",
       "_view_count": null,
       "_view_module": "@jupyter-widgets/controls",
       "_view_module_version": "1.5.0",
       "_view_name": "ProgressView",
       "bar_style": "success",
       "description": "",
       "description_tooltip": null,
       "layout": "IPY_MODEL_96c066ad4fc544f0999b0c6d9c28befe",
       "max": 466062,
       "min": 0,
       "orientation": "horizontal",
       "style": "IPY_MODEL_50495e59bfde44aa97f71dcbe2291e67",
       "value": 466062
      }
     },
     "deef94742cd7472582da197fab230edd": {
      "model_module": "@jupyter-widgets/base",
      "model_module_version": "1.2.0",
      "model_name": "LayoutModel",
      "state": {
       "_model_module": "@jupyter-widgets/base",
       "_model_module_version": "1.2.0",
       "_model_name": "LayoutModel",
       "_view_count": null,
       "_view_module": "@jupyter-widgets/base",
       "_view_module_version": "1.2.0",
       "_view_name": "LayoutView",
       "align_content": null,
       "align_items": null,
       "align_self": null,
       "border": null,
       "bottom": null,
       "display": null,
       "flex": null,
       "flex_flow": null,
       "grid_area": null,
       "grid_auto_columns": null,
       "grid_auto_flow": null,
       "grid_auto_rows": null,
       "grid_column": null,
       "grid_gap": null,
       "grid_row": null,
       "grid_template_areas": null,
       "grid_template_columns": null,
       "grid_template_rows": null,
       "height": null,
       "justify_content": null,
       "justify_items": null,
       "left": null,
       "margin": null,
       "max_height": null,
       "max_width": null,
       "min_height": null,
       "min_width": null,
       "object_fit": null,
       "object_position": null,
       "order": null,
       "overflow": null,
       "overflow_x": null,
       "overflow_y": null,
       "padding": null,
       "right": null,
       "top": null,
       "visibility": null,
       "width": null
      }
     },
     "e2fb5dd0fe5b49f8b2d893d708e68158": {
      "model_module": "@jupyter-widgets/base",
      "model_module_version": "1.2.0",
      "model_name": "LayoutModel",
      "state": {
       "_model_module": "@jupyter-widgets/base",
       "_model_module_version": "1.2.0",
       "_model_name": "LayoutModel",
       "_view_count": null,
       "_view_module": "@jupyter-widgets/base",
       "_view_module_version": "1.2.0",
       "_view_name": "LayoutView",
       "align_content": null,
       "align_items": null,
       "align_self": null,
       "border": null,
       "bottom": null,
       "display": null,
       "flex": null,
       "flex_flow": null,
       "grid_area": null,
       "grid_auto_columns": null,
       "grid_auto_flow": null,
       "grid_auto_rows": null,
       "grid_column": null,
       "grid_gap": null,
       "grid_row": null,
       "grid_template_areas": null,
       "grid_template_columns": null,
       "grid_template_rows": null,
       "height": null,
       "justify_content": null,
       "justify_items": null,
       "left": null,
       "margin": null,
       "max_height": null,
       "max_width": null,
       "min_height": null,
       "min_width": null,
       "object_fit": null,
       "object_position": null,
       "order": null,
       "overflow": null,
       "overflow_x": null,
       "overflow_y": null,
       "padding": null,
       "right": null,
       "top": null,
       "visibility": null,
       "width": null
      }
     },
     "e31e529dada1445f8476409715dc6c9d": {
      "model_module": "@jupyter-widgets/controls",
      "model_module_version": "1.5.0",
      "model_name": "DescriptionStyleModel",
      "state": {
       "_model_module": "@jupyter-widgets/controls",
       "_model_module_version": "1.5.0",
       "_model_name": "DescriptionStyleModel",
       "_view_count": null,
       "_view_module": "@jupyter-widgets/base",
       "_view_module_version": "1.2.0",
       "_view_name": "StyleView",
       "description_width": ""
      }
     },
     "e8383c93488a4f21a8b24df30bb8fd0b": {
      "model_module": "@jupyter-widgets/base",
      "model_module_version": "1.2.0",
      "model_name": "LayoutModel",
      "state": {
       "_model_module": "@jupyter-widgets/base",
       "_model_module_version": "1.2.0",
       "_model_name": "LayoutModel",
       "_view_count": null,
       "_view_module": "@jupyter-widgets/base",
       "_view_module_version": "1.2.0",
       "_view_name": "LayoutView",
       "align_content": null,
       "align_items": null,
       "align_self": null,
       "border": null,
       "bottom": null,
       "display": null,
       "flex": null,
       "flex_flow": null,
       "grid_area": null,
       "grid_auto_columns": null,
       "grid_auto_flow": null,
       "grid_auto_rows": null,
       "grid_column": null,
       "grid_gap": null,
       "grid_row": null,
       "grid_template_areas": null,
       "grid_template_columns": null,
       "grid_template_rows": null,
       "height": null,
       "justify_content": null,
       "justify_items": null,
       "left": null,
       "margin": null,
       "max_height": null,
       "max_width": null,
       "min_height": null,
       "min_width": null,
       "object_fit": null,
       "object_position": null,
       "order": null,
       "overflow": null,
       "overflow_x": null,
       "overflow_y": null,
       "padding": null,
       "right": null,
       "top": null,
       "visibility": null,
       "width": null
      }
     },
     "ec6c011d8ea442a5ac6844ccafc7e337": {
      "model_module": "@jupyter-widgets/controls",
      "model_module_version": "1.5.0",
      "model_name": "ProgressStyleModel",
      "state": {
       "_model_module": "@jupyter-widgets/controls",
       "_model_module_version": "1.5.0",
       "_model_name": "ProgressStyleModel",
       "_view_count": null,
       "_view_module": "@jupyter-widgets/base",
       "_view_module_version": "1.2.0",
       "_view_name": "StyleView",
       "bar_color": null,
       "description_width": ""
      }
     },
     "ed44d26ea02844b9b18048ad6ce2186a": {
      "model_module": "@jupyter-widgets/base",
      "model_module_version": "1.2.0",
      "model_name": "LayoutModel",
      "state": {
       "_model_module": "@jupyter-widgets/base",
       "_model_module_version": "1.2.0",
       "_model_name": "LayoutModel",
       "_view_count": null,
       "_view_module": "@jupyter-widgets/base",
       "_view_module_version": "1.2.0",
       "_view_name": "LayoutView",
       "align_content": null,
       "align_items": null,
       "align_self": null,
       "border": null,
       "bottom": null,
       "display": null,
       "flex": null,
       "flex_flow": null,
       "grid_area": null,
       "grid_auto_columns": null,
       "grid_auto_flow": null,
       "grid_auto_rows": null,
       "grid_column": null,
       "grid_gap": null,
       "grid_row": null,
       "grid_template_areas": null,
       "grid_template_columns": null,
       "grid_template_rows": null,
       "height": null,
       "justify_content": null,
       "justify_items": null,
       "left": null,
       "margin": null,
       "max_height": null,
       "max_width": null,
       "min_height": null,
       "min_width": null,
       "object_fit": null,
       "object_position": null,
       "order": null,
       "overflow": null,
       "overflow_x": null,
       "overflow_y": null,
       "padding": null,
       "right": null,
       "top": null,
       "visibility": null,
       "width": null
      }
     },
     "f346dbf34f5341c186c0ad49ee5abcac": {
      "model_module": "@jupyter-widgets/controls",
      "model_module_version": "1.5.0",
      "model_name": "HTMLModel",
      "state": {
       "_dom_classes": [],
       "_model_module": "@jupyter-widgets/controls",
       "_model_module_version": "1.5.0",
       "_model_name": "HTMLModel",
       "_view_count": null,
       "_view_module": "@jupyter-widgets/controls",
       "_view_module_version": "1.5.0",
       "_view_name": "HTMLView",
       "description": "",
       "description_tooltip": null,
       "layout": "IPY_MODEL_12f6620351d849648031f0e1c9066aa9",
       "placeholder": "​",
       "style": "IPY_MODEL_e31e529dada1445f8476409715dc6c9d",
       "value": " 232k/232k [00:00&lt;00:00, 5.23MB/s]"
      }
     },
     "f8dbe0c7f4224546927b1584758af2a5": {
      "model_module": "@jupyter-widgets/base",
      "model_module_version": "1.2.0",
      "model_name": "LayoutModel",
      "state": {
       "_model_module": "@jupyter-widgets/base",
       "_model_module_version": "1.2.0",
       "_model_name": "LayoutModel",
       "_view_count": null,
       "_view_module": "@jupyter-widgets/base",
       "_view_module_version": "1.2.0",
       "_view_name": "LayoutView",
       "align_content": null,
       "align_items": null,
       "align_self": null,
       "border": null,
       "bottom": null,
       "display": null,
       "flex": null,
       "flex_flow": null,
       "grid_area": null,
       "grid_auto_columns": null,
       "grid_auto_flow": null,
       "grid_auto_rows": null,
       "grid_column": null,
       "grid_gap": null,
       "grid_row": null,
       "grid_template_areas": null,
       "grid_template_columns": null,
       "grid_template_rows": null,
       "height": null,
       "justify_content": null,
       "justify_items": null,
       "left": null,
       "margin": null,
       "max_height": null,
       "max_width": null,
       "min_height": null,
       "min_width": null,
       "object_fit": null,
       "object_position": null,
       "order": null,
       "overflow": null,
       "overflow_x": null,
       "overflow_y": null,
       "padding": null,
       "right": null,
       "top": null,
       "visibility": null,
       "width": null
      }
     }
    },
    "version_major": 2,
    "version_minor": 0
   }
  }
 },
 "nbformat": 4,
 "nbformat_minor": 5
}
