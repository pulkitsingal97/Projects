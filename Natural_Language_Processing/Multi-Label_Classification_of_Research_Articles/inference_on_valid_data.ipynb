{
 "cells": [
  {
   "cell_type": "markdown",
   "id": "d1803553",
   "metadata": {},
   "source": [
    "Importing libraries"
   ]
  },
  {
   "cell_type": "code",
   "execution_count": 1,
   "id": "671e049c",
   "metadata": {
    "_cell_guid": "b1076dfc-b9ad-4769-8c92-a6c4dae69d19",
    "_uuid": "8f2839f25d086af736a60e9eeb907d3b93b6e0e5",
    "execution": {
     "iopub.execute_input": "2024-04-15T15:05:44.244739Z",
     "iopub.status.busy": "2024-04-15T15:05:44.244452Z",
     "iopub.status.idle": "2024-04-15T15:05:52.399526Z",
     "shell.execute_reply": "2024-04-15T15:05:52.398783Z"
    },
    "papermill": {
     "duration": 8.174768,
     "end_time": "2024-04-15T15:05:52.401920",
     "exception": false,
     "start_time": "2024-04-15T15:05:44.227152",
     "status": "completed"
    },
    "tags": []
   },
   "outputs": [],
   "source": [
    "import numpy as np\n",
    "import pandas as pd\n",
    "from sklearn import metrics\n",
    "import matplotlib.pyplot as plt\n",
    "import transformers\n",
    "import torch\n",
    "from torch.utils.data import Dataset, DataLoader, RandomSampler, SequentialSampler\n",
    "from transformers import BertTokenizer, BertModel, BertConfig\n",
    "import csv\n",
    "import torch.nn.functional as F"
   ]
  },
  {
   "cell_type": "markdown",
   "id": "cbbb1338",
   "metadata": {},
   "source": [
    "Setting up device"
   ]
  },
  {
   "cell_type": "code",
   "execution_count": 2,
   "id": "a751a99e",
   "metadata": {
    "execution": {
     "iopub.execute_input": "2024-04-15T15:05:52.436051Z",
     "iopub.status.busy": "2024-04-15T15:05:52.435550Z",
     "iopub.status.idle": "2024-04-15T15:05:52.489461Z",
     "shell.execute_reply": "2024-04-15T15:05:52.488720Z"
    },
    "papermill": {
     "duration": 0.073523,
     "end_time": "2024-04-15T15:05:52.491513",
     "exception": false,
     "start_time": "2024-04-15T15:05:52.417990",
     "status": "completed"
    },
    "tags": []
   },
   "outputs": [],
   "source": [
    "from torch import cuda\n",
    "device = 'cuda' if cuda.is_available() else 'cpu'"
   ]
  },
  {
   "cell_type": "markdown",
   "id": "92da87bc",
   "metadata": {},
   "source": [
    "Loading data"
   ]
  },
  {
   "cell_type": "code",
   "execution_count": 3,
   "id": "b6e8702e",
   "metadata": {
    "execution": {
     "iopub.execute_input": "2024-04-15T15:05:52.525884Z",
     "iopub.status.busy": "2024-04-15T15:05:52.525256Z",
     "iopub.status.idle": "2024-04-15T15:05:52.975234Z",
     "shell.execute_reply": "2024-04-15T15:05:52.974168Z"
    },
    "papermill": {
     "duration": 0.468726,
     "end_time": "2024-04-15T15:05:52.977243",
     "exception": false,
     "start_time": "2024-04-15T15:05:52.508517",
     "status": "completed"
    },
    "tags": []
   },
   "outputs": [
    {
     "name": "stdout",
     "output_type": "stream",
     "text": [
      "                                               Title  \\\n",
      "0  [Identification of a functionally important di...   \n",
      "1  Multilayer capsules: a promising microencapsul...   \n",
      "2  Nanohydrogel with N,N'-bis(acryloyl)cystine cr...   \n",
      "3  A new <i>Panolis</i> H?bner, [1821] species fr...   \n",
      "4  Radiobiologic risk estimation from dental radi...   \n",
      "\n",
      "                                        abstractText  \\\n",
      "0  The occurrence of individual amino acids and d...   \n",
      "1  In 1980, Lim and Sun introduced a microcapsule...   \n",
      "2  Substantially improved hydrogel particles base...   \n",
      "3  Panolis is a well-defined and compact Palearct...   \n",
      "4  The aim of the present study was to generate o...   \n",
      "\n",
      "                                           meshMajor      pmid  \\\n",
      "0  ['Amino Acid Sequence', 'Analgesics, Opioid', ...  19060934   \n",
      "1  ['Acrylic Resins', 'Alginates', 'Animals', 'Bi...  11426874   \n",
      "2  ['Antineoplastic Agents', 'Cell Proliferation'...  28323099   \n",
      "3  ['Animal Distribution', 'Animals', 'Asia', 'La...  28609947   \n",
      "4  ['Bone Marrow', 'Cervical Vertebrae', 'Equipme...   3165508   \n",
      "\n",
      "                                              meshid  \\\n",
      "0  [['G02.111.570.060', 'L01.453.245.667.060'], [...   \n",
      "1  [['D05.750.716.822.111', 'D25.720.716.822.111'...   \n",
      "2  [['D27.505.954.248'], ['G04.161.750', 'G07.345...   \n",
      "3  [['F01.145.113.069', 'G16.049'], ['B01.050'], ...   \n",
      "4  [['A15.382.216'], ['A02.835.232.834.151'], ['E...   \n",
      "\n",
      "                                            meshroot  A  B  C  D  E  F  G  H  \\\n",
      "0  ['Phenomena and Processes [G]', 'Information S...  1  1  0  1  1  0  1  0   \n",
      "1  ['Chemicals and Drugs [D]', 'Technology, Indus...  1  1  1  1  1  0  1  0   \n",
      "2  ['Chemicals and Drugs [D]', 'Phenomena and Pro...  1  1  0  1  1  0  1  0   \n",
      "3  ['Psychiatry and Psychology [F]', 'Phenomena a...  0  1  0  0  0  1  1  0   \n",
      "4  ['Anatomy [A]', 'Analytical, Diagnostic and Th...  1  1  0  0  1  0  1  1   \n",
      "\n",
      "   I  J  L  M  N  Z  \n",
      "0  0  0  1  0  0  0  \n",
      "1  0  1  0  0  0  0  \n",
      "2  0  1  0  0  0  0  \n",
      "3  0  0  0  0  0  1  \n",
      "4  0  1  1  0  1  0  \n"
     ]
    }
   ],
   "source": [
    "df = pd.read_csv(\"/kaggle/input/valid-dataset/valid_dataset.csv\")\n",
    "df = df.dropna()\n",
    "print(df.head())"
   ]
  },
  {
   "cell_type": "markdown",
   "id": "9075068a",
   "metadata": {},
   "source": [
    "Combining the data in title and abstractText columns, and also the ground truth of all labels of a particular row to a list"
   ]
  },
  {
   "cell_type": "code",
   "execution_count": 4,
   "id": "d8d6b68d",
   "metadata": {
    "execution": {
     "iopub.execute_input": "2024-04-15T15:05:53.011572Z",
     "iopub.status.busy": "2024-04-15T15:05:53.010855Z",
     "iopub.status.idle": "2024-04-15T15:05:53.045478Z",
     "shell.execute_reply": "2024-04-15T15:05:53.044140Z"
    },
    "papermill": {
     "duration": 0.053038,
     "end_time": "2024-04-15T15:05:53.047492",
     "exception": false,
     "start_time": "2024-04-15T15:05:52.994454",
     "status": "completed"
    },
    "tags": []
   },
   "outputs": [
    {
     "name": "stdout",
     "output_type": "stream",
     "text": [
      "                                         list  \\\n",
      "0  [1, 1, 0, 1, 1, 0, 1, 0, 0, 0, 1, 0, 0, 0]   \n",
      "1  [1, 1, 1, 1, 1, 0, 1, 0, 0, 1, 0, 0, 0, 0]   \n",
      "2  [1, 1, 0, 1, 1, 0, 1, 0, 0, 1, 0, 0, 0, 0]   \n",
      "3  [0, 1, 0, 0, 0, 1, 1, 0, 0, 0, 0, 0, 0, 1]   \n",
      "4  [1, 1, 0, 0, 1, 0, 1, 1, 0, 1, 1, 0, 1, 0]   \n",
      "\n",
      "                                            Combined  \n",
      "0  [Identification of a functionally important di...  \n",
      "1  Multilayer capsules: a promising microencapsul...  \n",
      "2  Nanohydrogel with N,N'-bis(acryloyl)cystine cr...  \n",
      "3  A new <i>Panolis</i> H?bner, [1821] species fr...  \n",
      "4  Radiobiologic risk estimation from dental radi...  \n",
      "(7499, 2)\n"
     ]
    }
   ],
   "source": [
    "valid_dataset = pd.DataFrame()\n",
    "\n",
    "valid_dataset['list'] = df[df.columns[6:20]].values.tolist()\n",
    "\n",
    "valid_dataset['Combined'] = df['Title'].str.cat(df['abstractText'], sep=' ')\n",
    "\n",
    "print(valid_dataset.head())\n",
    "print(valid_dataset.shape)"
   ]
  },
  {
   "cell_type": "code",
   "execution_count": 5,
   "id": "89e9f063",
   "metadata": {
    "execution": {
     "iopub.execute_input": "2024-04-15T15:05:53.081042Z",
     "iopub.status.busy": "2024-04-15T15:05:53.080223Z",
     "iopub.status.idle": "2024-04-15T15:05:53.091873Z",
     "shell.execute_reply": "2024-04-15T15:05:53.090924Z"
    },
    "papermill": {
     "duration": 0.030214,
     "end_time": "2024-04-15T15:05:53.093882",
     "exception": false,
     "start_time": "2024-04-15T15:05:53.063668",
     "status": "completed"
    },
    "tags": []
   },
   "outputs": [
    {
     "name": "stdout",
     "output_type": "stream",
     "text": [
      "                                               Title  \\\n",
      "0  [Identification of a functionally important di...   \n",
      "1  Multilayer capsules: a promising microencapsul...   \n",
      "2  Nanohydrogel with N,N'-bis(acryloyl)cystine cr...   \n",
      "3  A new <i>Panolis</i> H?bner, [1821] species fr...   \n",
      "4  Radiobiologic risk estimation from dental radi...   \n",
      "\n",
      "                                        abstractText  \\\n",
      "0  The occurrence of individual amino acids and d...   \n",
      "1  In 1980, Lim and Sun introduced a microcapsule...   \n",
      "2  Substantially improved hydrogel particles base...   \n",
      "3  Panolis is a well-defined and compact Palearct...   \n",
      "4  The aim of the present study was to generate o...   \n",
      "\n",
      "                                           meshMajor      pmid  \\\n",
      "0  ['Amino Acid Sequence', 'Analgesics, Opioid', ...  19060934   \n",
      "1  ['Acrylic Resins', 'Alginates', 'Animals', 'Bi...  11426874   \n",
      "2  ['Antineoplastic Agents', 'Cell Proliferation'...  28323099   \n",
      "3  ['Animal Distribution', 'Animals', 'Asia', 'La...  28609947   \n",
      "4  ['Bone Marrow', 'Cervical Vertebrae', 'Equipme...   3165508   \n",
      "\n",
      "                                              meshid  \\\n",
      "0  [['G02.111.570.060', 'L01.453.245.667.060'], [...   \n",
      "1  [['D05.750.716.822.111', 'D25.720.716.822.111'...   \n",
      "2  [['D27.505.954.248'], ['G04.161.750', 'G07.345...   \n",
      "3  [['F01.145.113.069', 'G16.049'], ['B01.050'], ...   \n",
      "4  [['A15.382.216'], ['A02.835.232.834.151'], ['E...   \n",
      "\n",
      "                                            meshroot  \n",
      "0  ['Phenomena and Processes [G]', 'Information S...  \n",
      "1  ['Chemicals and Drugs [D]', 'Technology, Indus...  \n",
      "2  ['Chemicals and Drugs [D]', 'Phenomena and Pro...  \n",
      "3  ['Psychiatry and Psychology [F]', 'Phenomena a...  \n",
      "4  ['Anatomy [A]', 'Analytical, Diagnostic and Th...  \n",
      "(7499, 6)\n"
     ]
    }
   ],
   "source": [
    "valid_data = df[df.columns[:6]].copy()\n",
    "print(valid_data.head())\n",
    "print(valid_data.shape)"
   ]
  },
  {
   "cell_type": "markdown",
   "id": "6a8c4544",
   "metadata": {},
   "source": [
    "Setting up the parameters and importing tokenizer"
   ]
  },
  {
   "cell_type": "code",
   "execution_count": 6,
   "id": "667ae245",
   "metadata": {
    "execution": {
     "iopub.execute_input": "2024-04-15T15:05:53.126709Z",
     "iopub.status.busy": "2024-04-15T15:05:53.126407Z",
     "iopub.status.idle": "2024-04-15T15:05:54.336174Z",
     "shell.execute_reply": "2024-04-15T15:05:54.335257Z"
    },
    "papermill": {
     "duration": 1.228422,
     "end_time": "2024-04-15T15:05:54.338328",
     "exception": false,
     "start_time": "2024-04-15T15:05:53.109906",
     "status": "completed"
    },
    "tags": []
   },
   "outputs": [
    {
     "data": {
      "application/vnd.jupyter.widget-view+json": {
       "model_id": "dac182f536d04e1b980149a84ad64ddd",
       "version_major": 2,
       "version_minor": 0
      },
      "text/plain": [
       "tokenizer_config.json:   0%|          | 0.00/48.0 [00:00<?, ?B/s]"
      ]
     },
     "metadata": {},
     "output_type": "display_data"
    },
    {
     "data": {
      "application/vnd.jupyter.widget-view+json": {
       "model_id": "37173453591f4c4b8ee0cda2c430d4a2",
       "version_major": 2,
       "version_minor": 0
      },
      "text/plain": [
       "vocab.txt:   0%|          | 0.00/232k [00:00<?, ?B/s]"
      ]
     },
     "metadata": {},
     "output_type": "display_data"
    },
    {
     "data": {
      "application/vnd.jupyter.widget-view+json": {
       "model_id": "8e0b4514154e4fc799b6befe21978ce5",
       "version_major": 2,
       "version_minor": 0
      },
      "text/plain": [
       "tokenizer.json:   0%|          | 0.00/466k [00:00<?, ?B/s]"
      ]
     },
     "metadata": {},
     "output_type": "display_data"
    },
    {
     "data": {
      "application/vnd.jupyter.widget-view+json": {
       "model_id": "1383243daff74a4eb1cd11b597f58733",
       "version_major": 2,
       "version_minor": 0
      },
      "text/plain": [
       "config.json:   0%|          | 0.00/570 [00:00<?, ?B/s]"
      ]
     },
     "metadata": {},
     "output_type": "display_data"
    }
   ],
   "source": [
    "MAX_LEN = 512\n",
    "VALID_BATCH_SIZE = 1\n",
    "tokenizer = BertTokenizer.from_pretrained('bert-base-uncased')"
   ]
  },
  {
   "cell_type": "markdown",
   "id": "24d9c878",
   "metadata": {},
   "source": [
    "Defining dataset class"
   ]
  },
  {
   "cell_type": "code",
   "execution_count": 7,
   "id": "f2c7ee63",
   "metadata": {
    "execution": {
     "iopub.execute_input": "2024-04-15T15:05:54.373485Z",
     "iopub.status.busy": "2024-04-15T15:05:54.372806Z",
     "iopub.status.idle": "2024-04-15T15:05:54.381193Z",
     "shell.execute_reply": "2024-04-15T15:05:54.380362Z"
    },
    "papermill": {
     "duration": 0.027857,
     "end_time": "2024-04-15T15:05:54.383013",
     "exception": false,
     "start_time": "2024-04-15T15:05:54.355156",
     "status": "completed"
    },
    "tags": []
   },
   "outputs": [],
   "source": [
    "class CustomDataset(Dataset):\n",
    "\n",
    "    def __init__(self, dataframe, tokenizer, max_len):\n",
    "        self.tokenizer = tokenizer\n",
    "        self.text = dataframe.Combined\n",
    "        self.targets = dataframe.list\n",
    "        self.max_len = max_len\n",
    "\n",
    "    def __len__(self):\n",
    "        return len(self.text)\n",
    "\n",
    "    def __getitem__(self, index):\n",
    "        text = str(self.text[index])\n",
    "        text = \" \".join(text.split())\n",
    "\n",
    "        inputs = self.tokenizer.encode_plus(\n",
    "            text,\n",
    "            None,\n",
    "            add_special_tokens=True,\n",
    "            max_length=self.max_len,\n",
    "            pad_to_max_length=True,\n",
    "#             padding='max_length',\n",
    "#             truncation=True,\n",
    "            return_token_type_ids=True\n",
    "        )\n",
    "        ids = inputs['input_ids']\n",
    "        mask = inputs['attention_mask']\n",
    "        token_type_ids = inputs[\"token_type_ids\"]\n",
    "\n",
    "\n",
    "        return {\n",
    "            'ids': torch.tensor(ids, dtype=torch.long),\n",
    "            'mask': torch.tensor(mask, dtype=torch.long),\n",
    "            'token_type_ids': torch.tensor(token_type_ids, dtype=torch.long),\n",
    "            'targets': torch.tensor(self.targets[index], dtype=torch.float)\n",
    "        }"
   ]
  },
  {
   "cell_type": "markdown",
   "id": "2abedaf1",
   "metadata": {},
   "source": [
    "Creating datasets"
   ]
  },
  {
   "cell_type": "code",
   "execution_count": 8,
   "id": "2a132f12",
   "metadata": {
    "execution": {
     "iopub.execute_input": "2024-04-15T15:05:54.417029Z",
     "iopub.status.busy": "2024-04-15T15:05:54.416754Z",
     "iopub.status.idle": "2024-04-15T15:05:54.420968Z",
     "shell.execute_reply": "2024-04-15T15:05:54.420082Z"
    },
    "papermill": {
     "duration": 0.023129,
     "end_time": "2024-04-15T15:05:54.422888",
     "exception": false,
     "start_time": "2024-04-15T15:05:54.399759",
     "status": "completed"
    },
    "tags": []
   },
   "outputs": [],
   "source": [
    "validation_set = CustomDataset(valid_dataset, tokenizer, MAX_LEN)"
   ]
  },
  {
   "cell_type": "markdown",
   "id": "3fe1d729",
   "metadata": {},
   "source": [
    "Setting up parameters and making dataloaders"
   ]
  },
  {
   "cell_type": "code",
   "execution_count": 9,
   "id": "bb8b4ae4",
   "metadata": {
    "execution": {
     "iopub.execute_input": "2024-04-15T15:05:54.456613Z",
     "iopub.status.busy": "2024-04-15T15:05:54.456322Z",
     "iopub.status.idle": "2024-04-15T15:05:54.460805Z",
     "shell.execute_reply": "2024-04-15T15:05:54.460039Z"
    },
    "papermill": {
     "duration": 0.023416,
     "end_time": "2024-04-15T15:05:54.462706",
     "exception": false,
     "start_time": "2024-04-15T15:05:54.439290",
     "status": "completed"
    },
    "tags": []
   },
   "outputs": [],
   "source": [
    "valid_params = {'batch_size': VALID_BATCH_SIZE,\n",
    "                'shuffle': False,\n",
    "                'num_workers': 0,\n",
    "                'drop_last': True\n",
    "                }\n",
    "\n",
    "validation_loader = DataLoader(validation_set, **valid_params)"
   ]
  },
  {
   "cell_type": "markdown",
   "id": "fd89b9f1",
   "metadata": {},
   "source": [
    "Defining the BERT neural network class"
   ]
  },
  {
   "cell_type": "code",
   "execution_count": 10,
   "id": "120d2b21",
   "metadata": {
    "execution": {
     "iopub.execute_input": "2024-04-15T15:05:54.496608Z",
     "iopub.status.busy": "2024-04-15T15:05:54.496328Z",
     "iopub.status.idle": "2024-04-15T15:05:54.503439Z",
     "shell.execute_reply": "2024-04-15T15:05:54.502623Z"
    },
    "papermill": {
     "duration": 0.026192,
     "end_time": "2024-04-15T15:05:54.505291",
     "exception": false,
     "start_time": "2024-04-15T15:05:54.479099",
     "status": "completed"
    },
    "tags": []
   },
   "outputs": [],
   "source": [
    "class BERTClass(torch.nn.Module):\n",
    "    def __init__(self, fine_tune_layers=1):\n",
    "        super(BERTClass, self).__init__()\n",
    "        self.l1 = transformers.BertModel.from_pretrained('bert-base-uncased')\n",
    "        self.l2 = torch.nn.Dropout(0.3)\n",
    "        self.l3 = torch.nn.Linear(768, 14)\n",
    "        \n",
    "        # Freeze all the parameters\n",
    "        for param in self.l1.parameters():\n",
    "            param.requires_grad = False\n",
    "\n",
    "        # Unfreeze the top n layers\n",
    "        if fine_tune_layers > 0:\n",
    "            for layer in self.l1.encoder.layer[-fine_tune_layers:]:\n",
    "                for param in layer.parameters():\n",
    "                    param.requires_grad = True\n",
    "    \n",
    "    def forward(self, ids, mask, token_type_ids):\n",
    "        _, output_1= self.l1(ids, attention_mask = mask, token_type_ids = token_type_ids, return_dict=False)\n",
    "        output_2 = self.l2(output_1)\n",
    "        output = self.l3(output_2)\n",
    "        return output"
   ]
  },
  {
   "cell_type": "markdown",
   "id": "ae4a8521",
   "metadata": {},
   "source": [
    "Loading the model"
   ]
  },
  {
   "cell_type": "code",
   "execution_count": 11,
   "id": "e647dd0f",
   "metadata": {
    "execution": {
     "iopub.execute_input": "2024-04-15T15:05:54.540274Z",
     "iopub.status.busy": "2024-04-15T15:05:54.539992Z",
     "iopub.status.idle": "2024-04-15T15:06:01.589717Z",
     "shell.execute_reply": "2024-04-15T15:06:01.588836Z"
    },
    "papermill": {
     "duration": 7.069017,
     "end_time": "2024-04-15T15:06:01.591895",
     "exception": false,
     "start_time": "2024-04-15T15:05:54.522878",
     "status": "completed"
    },
    "tags": []
   },
   "outputs": [
    {
     "data": {
      "application/vnd.jupyter.widget-view+json": {
       "model_id": "b1a35d9709c34f99a24e7b4bca48e618",
       "version_major": 2,
       "version_minor": 0
      },
      "text/plain": [
       "model.safetensors:   0%|          | 0.00/440M [00:00<?, ?B/s]"
      ]
     },
     "metadata": {},
     "output_type": "display_data"
    },
    {
     "data": {
      "text/plain": [
       "BERTClass(\n",
       "  (l1): BertModel(\n",
       "    (embeddings): BertEmbeddings(\n",
       "      (word_embeddings): Embedding(30522, 768, padding_idx=0)\n",
       "      (position_embeddings): Embedding(512, 768)\n",
       "      (token_type_embeddings): Embedding(2, 768)\n",
       "      (LayerNorm): LayerNorm((768,), eps=1e-12, elementwise_affine=True)\n",
       "      (dropout): Dropout(p=0.1, inplace=False)\n",
       "    )\n",
       "    (encoder): BertEncoder(\n",
       "      (layer): ModuleList(\n",
       "        (0-11): 12 x BertLayer(\n",
       "          (attention): BertAttention(\n",
       "            (self): BertSelfAttention(\n",
       "              (query): Linear(in_features=768, out_features=768, bias=True)\n",
       "              (key): Linear(in_features=768, out_features=768, bias=True)\n",
       "              (value): Linear(in_features=768, out_features=768, bias=True)\n",
       "              (dropout): Dropout(p=0.1, inplace=False)\n",
       "            )\n",
       "            (output): BertSelfOutput(\n",
       "              (dense): Linear(in_features=768, out_features=768, bias=True)\n",
       "              (LayerNorm): LayerNorm((768,), eps=1e-12, elementwise_affine=True)\n",
       "              (dropout): Dropout(p=0.1, inplace=False)\n",
       "            )\n",
       "          )\n",
       "          (intermediate): BertIntermediate(\n",
       "            (dense): Linear(in_features=768, out_features=3072, bias=True)\n",
       "            (intermediate_act_fn): GELUActivation()\n",
       "          )\n",
       "          (output): BertOutput(\n",
       "            (dense): Linear(in_features=3072, out_features=768, bias=True)\n",
       "            (LayerNorm): LayerNorm((768,), eps=1e-12, elementwise_affine=True)\n",
       "            (dropout): Dropout(p=0.1, inplace=False)\n",
       "          )\n",
       "        )\n",
       "      )\n",
       "    )\n",
       "    (pooler): BertPooler(\n",
       "      (dense): Linear(in_features=768, out_features=768, bias=True)\n",
       "      (activation): Tanh()\n",
       "    )\n",
       "  )\n",
       "  (l2): Dropout(p=0.3, inplace=False)\n",
       "  (l3): Linear(in_features=768, out_features=14, bias=True)\n",
       ")"
      ]
     },
     "execution_count": 11,
     "metadata": {},
     "output_type": "execute_result"
    }
   ],
   "source": [
    "model = BERTClass()\n",
    "model_state = torch.load(\"/kaggle/input/bertmodel/bert_model.pth\", map_location=torch.device(device))\n",
    "model.load_state_dict(model_state)\n",
    "model.to(device)  # Move the model to the appropriate device"
   ]
  },
  {
   "cell_type": "markdown",
   "id": "99364e3d",
   "metadata": {},
   "source": [
    "Defining loss function as Binary Cross Entropy with Logits Loss "
   ]
  },
  {
   "cell_type": "code",
   "execution_count": 12,
   "id": "a66f9d0c",
   "metadata": {
    "execution": {
     "iopub.execute_input": "2024-04-15T15:06:01.627440Z",
     "iopub.status.busy": "2024-04-15T15:06:01.626717Z",
     "iopub.status.idle": "2024-04-15T15:06:01.631144Z",
     "shell.execute_reply": "2024-04-15T15:06:01.630303Z"
    },
    "papermill": {
     "duration": 0.024091,
     "end_time": "2024-04-15T15:06:01.633017",
     "exception": false,
     "start_time": "2024-04-15T15:06:01.608926",
     "status": "completed"
    },
    "tags": []
   },
   "outputs": [],
   "source": [
    "def loss_fn(outputs, targets):\n",
    "    return torch.nn.BCEWithLogitsLoss()(outputs, targets)"
   ]
  },
  {
   "cell_type": "markdown",
   "id": "867e3a97",
   "metadata": {},
   "source": [
    "Defining evaluation function"
   ]
  },
  {
   "cell_type": "code",
   "execution_count": 13,
   "id": "2ae0111d",
   "metadata": {
    "execution": {
     "iopub.execute_input": "2024-04-15T15:06:01.667794Z",
     "iopub.status.busy": "2024-04-15T15:06:01.667501Z",
     "iopub.status.idle": "2024-04-15T15:06:01.681187Z",
     "shell.execute_reply": "2024-04-15T15:06:01.680348Z"
    },
    "papermill": {
     "duration": 0.033211,
     "end_time": "2024-04-15T15:06:01.683077",
     "exception": false,
     "start_time": "2024-04-15T15:06:01.649866",
     "status": "completed"
    },
    "tags": []
   },
   "outputs": [],
   "source": [
    "def evaluate(data_loader, valid_data):\n",
    "    model.eval()\n",
    "    fin_targets=[]\n",
    "    fin_outputs=[]\n",
    "    \n",
    "    total_loss = 0\n",
    "    with torch.no_grad():\n",
    "        for i, data in enumerate(data_loader, 0):\n",
    "            if(i%1000==0):\n",
    "                print(\"Data No.:\",i)\n",
    "            ids = data['ids'].to(device, dtype = torch.long)\n",
    "            mask = data['mask'].to(device, dtype = torch.long)\n",
    "            token_type_ids = data['token_type_ids'].to(device, dtype = torch.long)\n",
    "            targets = data['targets'].to(device, dtype = torch.float)\n",
    "            outputs = model(ids, mask, token_type_ids)\n",
    "            loss = loss_fn(outputs, targets)\n",
    "            total_loss+=loss.data.item()\n",
    "            fin_targets.extend(targets.cpu().detach().numpy().tolist())\n",
    "            fin_outputs.extend(torch.sigmoid(outputs).cpu().detach().numpy().tolist())\n",
    "    total_loss = total_loss/(len(data_loader))\n",
    "\n",
    "    fin_outputs = np.array(fin_outputs) >= 0.5\n",
    "    \n",
    "    accuracy = metrics.accuracy_score(fin_targets, fin_outputs)\n",
    "    print('accuracy:', accuracy)\n",
    "    \n",
    "    target_names = ['A', 'B', 'C', 'D', 'E', 'F', 'G', 'H', 'I', 'J', 'L', 'M', 'N', 'Z']    \n",
    "    print(metrics.classification_report(fin_targets, fin_outputs, target_names=target_names))\n",
    "    \n",
    "    precision = metrics.precision_score(fin_targets, fin_outputs, average=None)\n",
    "    precision_micro = metrics.precision_score(fin_targets, fin_outputs, average='micro')\n",
    "    precision_macro = metrics.precision_score(fin_targets, fin_outputs, average='macro')\n",
    "    \n",
    "    recall = metrics.recall_score(fin_targets, fin_outputs, average=None)\n",
    "    recall_micro = metrics.recall_score(fin_targets, fin_outputs, average='micro')\n",
    "    recall_macro = metrics.recall_score(fin_targets, fin_outputs, average='macro')\n",
    "    \n",
    "    f1_score = metrics.f1_score(fin_targets, fin_outputs, average=None)\n",
    "    f1_score_micro = metrics.f1_score(fin_targets, fin_outputs, average='micro')\n",
    "    f1_score_macro = metrics.f1_score(fin_targets, fin_outputs, average='macro')\n",
    "    \n",
    "    fin_outputs = fin_outputs.astype(int)\n",
    "\n",
    "    new_df = pd.DataFrame(fin_outputs, columns=target_names)\n",
    "\n",
    "    inference = pd.concat([valid_data, new_df], axis=1)\n",
    "\n",
    "    file_path = 'valid_inference.csv'\n",
    "    inference.to_csv(file_path, index=False, header=True)\n",
    "    \n",
    "    return total_loss, accuracy, precision, precision_micro, precision_macro, recall, recall_micro, recall_macro, f1_score, f1_score_micro, f1_score_macro"
   ]
  },
  {
   "cell_type": "markdown",
   "id": "3125c7e3",
   "metadata": {},
   "source": [
    "Evaluation loop"
   ]
  },
  {
   "cell_type": "code",
   "execution_count": 14,
   "id": "495bd4e0",
   "metadata": {
    "execution": {
     "iopub.execute_input": "2024-04-15T15:06:01.717833Z",
     "iopub.status.busy": "2024-04-15T15:06:01.717544Z",
     "iopub.status.idle": "2024-04-15T15:09:48.453293Z",
     "shell.execute_reply": "2024-04-15T15:09:48.452263Z"
    },
    "papermill": {
     "duration": 226.755505,
     "end_time": "2024-04-15T15:09:48.455571",
     "exception": false,
     "start_time": "2024-04-15T15:06:01.700066",
     "status": "completed"
    },
    "tags": []
   },
   "outputs": [
    {
     "name": "stderr",
     "output_type": "stream",
     "text": [
      "Truncation was not explicitly activated but `max_length` is provided a specific value, please use `truncation=True` to explicitly truncate examples to max length. Defaulting to 'longest_first' truncation strategy. If you encode pairs of sequences (GLUE-style) with the tokenizer you can select this strategy more precisely by providing a specific strategy to `truncation`.\n",
      "/opt/conda/lib/python3.10/site-packages/transformers/tokenization_utils_base.py:2688: FutureWarning: The `pad_to_max_length` argument is deprecated and will be removed in a future version, use `padding=True` or `padding='longest'` to pad to the longest sequence in the batch, or use `padding='max_length'` to pad to a max length. In this case, you can give a specific length with `max_length` (e.g. `max_length=45`) or leave max_length to None to pad to the maximal input size of the model (e.g. 512 for Bert).\n",
      "  warnings.warn(\n"
     ]
    },
    {
     "name": "stdout",
     "output_type": "stream",
     "text": [
      "Data No.: 0\n",
      "Data No.: 1000\n",
      "Data No.: 2000\n",
      "Data No.: 3000\n",
      "Data No.: 4000\n",
      "Data No.: 5000\n",
      "Data No.: 6000\n",
      "Data No.: 7000\n",
      "accuracy: 0.18375783437791707\n",
      "              precision    recall  f1-score   support\n",
      "\n",
      "           A       0.82      0.79      0.80      3517\n",
      "           B       0.97      0.98      0.98      6984\n",
      "           C       0.89      0.89      0.89      3975\n",
      "           D       0.92      0.93      0.93      4624\n",
      "           E       0.83      0.94      0.88      5839\n",
      "           F       0.84      0.72      0.77      1342\n",
      "           G       0.86      0.86      0.86      5049\n",
      "           H       0.57      0.12      0.20       884\n",
      "           I       0.68      0.58      0.63       807\n",
      "           J       0.73      0.47      0.57       827\n",
      "           L       0.78      0.45      0.57      1129\n",
      "           M       0.87      0.91      0.89      3180\n",
      "           N       0.80      0.80      0.80      3397\n",
      "           Z       0.77      0.74      0.75      1186\n",
      "\n",
      "   micro avg       0.86      0.85      0.86     42740\n",
      "   macro avg       0.81      0.73      0.75     42740\n",
      "weighted avg       0.86      0.85      0.85     42740\n",
      " samples avg       0.87      0.85      0.85     42740\n",
      "\n"
     ]
    },
    {
     "name": "stderr",
     "output_type": "stream",
     "text": [
      "/opt/conda/lib/python3.10/site-packages/sklearn/metrics/_classification.py:1344: UndefinedMetricWarning: Recall and F-score are ill-defined and being set to 0.0 in samples with no true labels. Use `zero_division` parameter to control this behavior.\n",
      "  _warn_prf(average, modifier, msg_start, len(result))\n"
     ]
    }
   ],
   "source": [
    "valid_loss, accuracy, precision, precision_micro, precision_macro, recall, recall_micro, recall_macro, f1_score, f1_score_micro, f1_score_macro = evaluate(validation_loader, valid_data)"
   ]
  },
  {
   "cell_type": "markdown",
   "id": "891bb8ab",
   "metadata": {},
   "source": [
    "Validation Dataset Results:\n",
    "\n",
    "              precision    recall  f1-score   support\n",
    "\n",
    "           A       0.82      0.79      0.80      3517\n",
    "           B       0.97      0.98      0.98      6984\n",
    "           C       0.89      0.89      0.89      3975\n",
    "           D       0.92      0.93      0.93      4624\n",
    "           E       0.83      0.94      0.88      5839\n",
    "           F       0.84      0.72      0.77      1342\n",
    "           G       0.86      0.86      0.86      5049\n",
    "           H       0.57      0.12      0.20       884\n",
    "           I       0.68      0.58      0.63       807\n",
    "           J       0.73      0.47      0.57       827\n",
    "           L       0.78      0.45      0.57      1129\n",
    "           M       0.87      0.91      0.89      3180\n",
    "           N       0.80      0.80      0.80      3397\n",
    "           Z       0.77      0.74      0.75      1186\n",
    "\n",
    "   micro avg       precision: 0.86      recall: 0.85      f1-score: 0.86     support: 42740\n",
    "\n",
    "   macro avg       precision: 0.81      recall: 0.73      f1-score: 0.75     support: 42740\n",
    "\n",
    "weighted avg       precision: 0.86      recall: 0.85      f1-score: 0.85     support: 42740\n",
    "\n",
    " samples avg       precision: 0.87      recall: 0.85      f1-score: 0.85     support: 42740"
   ]
  },
  {
   "cell_type": "code",
   "execution_count": 15,
   "id": "1dae1772",
   "metadata": {
    "execution": {
     "iopub.execute_input": "2024-04-15T15:09:48.492851Z",
     "iopub.status.busy": "2024-04-15T15:09:48.492522Z",
     "iopub.status.idle": "2024-04-15T15:09:48.497841Z",
     "shell.execute_reply": "2024-04-15T15:09:48.496926Z"
    },
    "papermill": {
     "duration": 0.025857,
     "end_time": "2024-04-15T15:09:48.499711",
     "exception": false,
     "start_time": "2024-04-15T15:09:48.473854",
     "status": "completed"
    },
    "tags": []
   },
   "outputs": [],
   "source": [
    "valid_results = {\n",
    "    'valid_loss': [valid_loss],\n",
    "    'accuracy': [accuracy],\n",
    "    'precision': [precision],\n",
    "    'precision_micro': [precision_micro],\n",
    "    'precision_macro': [precision_macro],\n",
    "    'recall': [recall],\n",
    "    'recall_micro': [recall_micro],\n",
    "    'recall_macro': [recall_macro],\n",
    "    'f1_score': [f1_score],\n",
    "    'f1_score_micro': [f1_score_micro],\n",
    "    'f1_score_macro': [f1_score_macro]\n",
    "}"
   ]
  },
  {
   "cell_type": "code",
   "execution_count": 16,
   "id": "5a147a6e",
   "metadata": {
    "execution": {
     "iopub.execute_input": "2024-04-15T15:09:48.536298Z",
     "iopub.status.busy": "2024-04-15T15:09:48.535796Z",
     "iopub.status.idle": "2024-04-15T15:09:48.828005Z",
     "shell.execute_reply": "2024-04-15T15:09:48.827206Z"
    },
    "papermill": {
     "duration": 0.312849,
     "end_time": "2024-04-15T15:09:48.830202",
     "exception": false,
     "start_time": "2024-04-15T15:09:48.517353",
     "status": "completed"
    },
    "tags": []
   },
   "outputs": [],
   "source": [
    "df = pd.DataFrame(valid_results)\n",
    "file_path = '/kaggle/working/valid_results_list.xlsx'\n",
    "df.to_excel(file_path, index=False, header=True)"
   ]
  }
 ],
 "metadata": {
  "kaggle": {
   "accelerator": "gpu",
   "dataSources": [
    {
     "datasetId": 4803256,
     "sourceId": 8127236,
     "sourceType": "datasetVersion"
    },
    {
     "datasetId": 4803294,
     "sourceId": 8127285,
     "sourceType": "datasetVersion"
    }
   ],
   "dockerImageVersionId": 30683,
   "isGpuEnabled": true,
   "isInternetEnabled": true,
   "language": "python",
   "sourceType": "notebook"
  },
  "kernelspec": {
   "display_name": "Python 3",
   "language": "python",
   "name": "python3"
  },
  "language_info": {
   "codemirror_mode": {
    "name": "ipython",
    "version": 3
   },
   "file_extension": ".py",
   "mimetype": "text/x-python",
   "name": "python",
   "nbconvert_exporter": "python",
   "pygments_lexer": "ipython3",
   "version": "3.11.4"
  },
  "papermill": {
   "default_parameters": {},
   "duration": 248.926157,
   "end_time": "2024-04-15T15:09:50.475362",
   "environment_variables": {},
   "exception": null,
   "input_path": "__notebook__.ipynb",
   "output_path": "__notebook__.ipynb",
   "parameters": {},
   "start_time": "2024-04-15T15:05:41.549205",
   "version": "2.5.0"
  },
  "widgets": {
   "application/vnd.jupyter.widget-state+json": {
    "state": {
     "1383243daff74a4eb1cd11b597f58733": {
      "model_module": "@jupyter-widgets/controls",
      "model_module_version": "1.5.0",
      "model_name": "HBoxModel",
      "state": {
       "_dom_classes": [],
       "_model_module": "@jupyter-widgets/controls",
       "_model_module_version": "1.5.0",
       "_model_name": "HBoxModel",
       "_view_count": null,
       "_view_module": "@jupyter-widgets/controls",
       "_view_module_version": "1.5.0",
       "_view_name": "HBoxView",
       "box_style": "",
       "children": [
        "IPY_MODEL_9a111e0b4491406e87e86c94ddd5c383",
        "IPY_MODEL_efb37d381f0a41fdaf9f75e2e35a21b5",
        "IPY_MODEL_26becd1d4acf469c8dd010ea2668161c"
       ],
       "layout": "IPY_MODEL_54cfd72acc5b4377be15ed9204ed50ea"
      }
     },
     "140ff6c21215441f90dc33e6b02d152b": {
      "model_module": "@jupyter-widgets/controls",
      "model_module_version": "1.5.0",
      "model_name": "ProgressStyleModel",
      "state": {
       "_model_module": "@jupyter-widgets/controls",
       "_model_module_version": "1.5.0",
       "_model_name": "ProgressStyleModel",
       "_view_count": null,
       "_view_module": "@jupyter-widgets/base",
       "_view_module_version": "1.2.0",
       "_view_name": "StyleView",
       "bar_color": null,
       "description_width": ""
      }
     },
     "1b354a448d0d437aa7967fa3df1eff2b": {
      "model_module": "@jupyter-widgets/controls",
      "model_module_version": "1.5.0",
      "model_name": "ProgressStyleModel",
      "state": {
       "_model_module": "@jupyter-widgets/controls",
       "_model_module_version": "1.5.0",
       "_model_name": "ProgressStyleModel",
       "_view_count": null,
       "_view_module": "@jupyter-widgets/base",
       "_view_module_version": "1.2.0",
       "_view_name": "StyleView",
       "bar_color": null,
       "description_width": ""
      }
     },
     "1b3ea650f7124add998b775daf116321": {
      "model_module": "@jupyter-widgets/controls",
      "model_module_version": "1.5.0",
      "model_name": "DescriptionStyleModel",
      "state": {
       "_model_module": "@jupyter-widgets/controls",
       "_model_module_version": "1.5.0",
       "_model_name": "DescriptionStyleModel",
       "_view_count": null,
       "_view_module": "@jupyter-widgets/base",
       "_view_module_version": "1.2.0",
       "_view_name": "StyleView",
       "description_width": ""
      }
     },
     "26becd1d4acf469c8dd010ea2668161c": {
      "model_module": "@jupyter-widgets/controls",
      "model_module_version": "1.5.0",
      "model_name": "HTMLModel",
      "state": {
       "_dom_classes": [],
       "_model_module": "@jupyter-widgets/controls",
       "_model_module_version": "1.5.0",
       "_model_name": "HTMLModel",
       "_view_count": null,
       "_view_module": "@jupyter-widgets/controls",
       "_view_module_version": "1.5.0",
       "_view_name": "HTMLView",
       "description": "",
       "description_tooltip": null,
       "layout": "IPY_MODEL_314a269e20594ceba4f035a24d7db8fe",
       "placeholder": "​",
       "style": "IPY_MODEL_f1a94f13e4644ccc8e1caa100d53ed32",
       "value": " 570/570 [00:00&lt;00:00, 50.0kB/s]"
      }
     },
     "296af851cb734e758355be268e7d7d9c": {
      "model_module": "@jupyter-widgets/controls",
      "model_module_version": "1.5.0",
      "model_name": "FloatProgressModel",
      "state": {
       "_dom_classes": [],
       "_model_module": "@jupyter-widgets/controls",
       "_model_module_version": "1.5.0",
       "_model_name": "FloatProgressModel",
       "_view_count": null,
       "_view_module": "@jupyter-widgets/controls",
       "_view_module_version": "1.5.0",
       "_view_name": "ProgressView",
       "bar_style": "success",
       "description": "",
       "description_tooltip": null,
       "layout": "IPY_MODEL_6f8b79cc92474d01a9837db0b93094f1",
       "max": 231508,
       "min": 0,
       "orientation": "horizontal",
       "style": "IPY_MODEL_e52a778f49d94256abe7eb0d911cb6bf",
       "value": 231508
      }
     },
     "30308eaf4a8d4c2caf1a42708d6cc91b": {
      "model_module": "@jupyter-widgets/controls",
      "model_module_version": "1.5.0",
      "model_name": "DescriptionStyleModel",
      "state": {
       "_model_module": "@jupyter-widgets/controls",
       "_model_module_version": "1.5.0",
       "_model_name": "DescriptionStyleModel",
       "_view_count": null,
       "_view_module": "@jupyter-widgets/base",
       "_view_module_version": "1.2.0",
       "_view_name": "StyleView",
       "description_width": ""
      }
     },
     "30f414a21f79441ea1a7cac8f48c19d4": {
      "model_module": "@jupyter-widgets/controls",
      "model_module_version": "1.5.0",
      "model_name": "HTMLModel",
      "state": {
       "_dom_classes": [],
       "_model_module": "@jupyter-widgets/controls",
       "_model_module_version": "1.5.0",
       "_model_name": "HTMLModel",
       "_view_count": null,
       "_view_module": "@jupyter-widgets/controls",
       "_view_module_version": "1.5.0",
       "_view_name": "HTMLView",
       "description": "",
       "description_tooltip": null,
       "layout": "IPY_MODEL_9522570e97014375b2a8b10a39e20449",
       "placeholder": "​",
       "style": "IPY_MODEL_30308eaf4a8d4c2caf1a42708d6cc91b",
       "value": "tokenizer.json: 100%"
      }
     },
     "314a269e20594ceba4f035a24d7db8fe": {
      "model_module": "@jupyter-widgets/base",
      "model_module_version": "1.2.0",
      "model_name": "LayoutModel",
      "state": {
       "_model_module": "@jupyter-widgets/base",
       "_model_module_version": "1.2.0",
       "_model_name": "LayoutModel",
       "_view_count": null,
       "_view_module": "@jupyter-widgets/base",
       "_view_module_version": "1.2.0",
       "_view_name": "LayoutView",
       "align_content": null,
       "align_items": null,
       "align_self": null,
       "border": null,
       "bottom": null,
       "display": null,
       "flex": null,
       "flex_flow": null,
       "grid_area": null,
       "grid_auto_columns": null,
       "grid_auto_flow": null,
       "grid_auto_rows": null,
       "grid_column": null,
       "grid_gap": null,
       "grid_row": null,
       "grid_template_areas": null,
       "grid_template_columns": null,
       "grid_template_rows": null,
       "height": null,
       "justify_content": null,
       "justify_items": null,
       "left": null,
       "margin": null,
       "max_height": null,
       "max_width": null,
       "min_height": null,
       "min_width": null,
       "object_fit": null,
       "object_position": null,
       "order": null,
       "overflow": null,
       "overflow_x": null,
       "overflow_y": null,
       "padding": null,
       "right": null,
       "top": null,
       "visibility": null,
       "width": null
      }
     },
     "37173453591f4c4b8ee0cda2c430d4a2": {
      "model_module": "@jupyter-widgets/controls",
      "model_module_version": "1.5.0",
      "model_name": "HBoxModel",
      "state": {
       "_dom_classes": [],
       "_model_module": "@jupyter-widgets/controls",
       "_model_module_version": "1.5.0",
       "_model_name": "HBoxModel",
       "_view_count": null,
       "_view_module": "@jupyter-widgets/controls",
       "_view_module_version": "1.5.0",
       "_view_name": "HBoxView",
       "box_style": "",
       "children": [
        "IPY_MODEL_a68d4820de7a4d1d864cdf2379d65d12",
        "IPY_MODEL_296af851cb734e758355be268e7d7d9c",
        "IPY_MODEL_e078564090b34ed091e0a36040ead233"
       ],
       "layout": "IPY_MODEL_4565aacd292b4cd18f9761efdeb3e2ca"
      }
     },
     "399c56aff9954c3ba58d772e3a0543ef": {
      "model_module": "@jupyter-widgets/controls",
      "model_module_version": "1.5.0",
      "model_name": "HTMLModel",
      "state": {
       "_dom_classes": [],
       "_model_module": "@jupyter-widgets/controls",
       "_model_module_version": "1.5.0",
       "_model_name": "HTMLModel",
       "_view_count": null,
       "_view_module": "@jupyter-widgets/controls",
       "_view_module_version": "1.5.0",
       "_view_name": "HTMLView",
       "description": "",
       "description_tooltip": null,
       "layout": "IPY_MODEL_98f094a57aad423d9ad68ce3bed3a61b",
       "placeholder": "​",
       "style": "IPY_MODEL_1b3ea650f7124add998b775daf116321",
       "value": " 466k/466k [00:00&lt;00:00, 33.6MB/s]"
      }
     },
     "3e3fdf9d8ed84aa193e704dd7be3be03": {
      "model_module": "@jupyter-widgets/controls",
      "model_module_version": "1.5.0",
      "model_name": "DescriptionStyleModel",
      "state": {
       "_model_module": "@jupyter-widgets/controls",
       "_model_module_version": "1.5.0",
       "_model_name": "DescriptionStyleModel",
       "_view_count": null,
       "_view_module": "@jupyter-widgets/base",
       "_view_module_version": "1.2.0",
       "_view_name": "StyleView",
       "description_width": ""
      }
     },
     "4287cf98ea4341aeb19cbdc63d2659b5": {
      "model_module": "@jupyter-widgets/controls",
      "model_module_version": "1.5.0",
      "model_name": "FloatProgressModel",
      "state": {
       "_dom_classes": [],
       "_model_module": "@jupyter-widgets/controls",
       "_model_module_version": "1.5.0",
       "_model_name": "FloatProgressModel",
       "_view_count": null,
       "_view_module": "@jupyter-widgets/controls",
       "_view_module_version": "1.5.0",
       "_view_name": "ProgressView",
       "bar_style": "success",
       "description": "",
       "description_tooltip": null,
       "layout": "IPY_MODEL_dc0d66de20274edabee5d643b2a8f361",
       "max": 440449768,
       "min": 0,
       "orientation": "horizontal",
       "style": "IPY_MODEL_71cb7cc65ac9487ea1d6a2b1066b4658",
       "value": 440449768
      }
     },
     "4565aacd292b4cd18f9761efdeb3e2ca": {
      "model_module": "@jupyter-widgets/base",
      "model_module_version": "1.2.0",
      "model_name": "LayoutModel",
      "state": {
       "_model_module": "@jupyter-widgets/base",
       "_model_module_version": "1.2.0",
       "_model_name": "LayoutModel",
       "_view_count": null,
       "_view_module": "@jupyter-widgets/base",
       "_view_module_version": "1.2.0",
       "_view_name": "LayoutView",
       "align_content": null,
       "align_items": null,
       "align_self": null,
       "border": null,
       "bottom": null,
       "display": null,
       "flex": null,
       "flex_flow": null,
       "grid_area": null,
       "grid_auto_columns": null,
       "grid_auto_flow": null,
       "grid_auto_rows": null,
       "grid_column": null,
       "grid_gap": null,
       "grid_row": null,
       "grid_template_areas": null,
       "grid_template_columns": null,
       "grid_template_rows": null,
       "height": null,
       "justify_content": null,
       "justify_items": null,
       "left": null,
       "margin": null,
       "max_height": null,
       "max_width": null,
       "min_height": null,
       "min_width": null,
       "object_fit": null,
       "object_position": null,
       "order": null,
       "overflow": null,
       "overflow_x": null,
       "overflow_y": null,
       "padding": null,
       "right": null,
       "top": null,
       "visibility": null,
       "width": null
      }
     },
     "54cfd72acc5b4377be15ed9204ed50ea": {
      "model_module": "@jupyter-widgets/base",
      "model_module_version": "1.2.0",
      "model_name": "LayoutModel",
      "state": {
       "_model_module": "@jupyter-widgets/base",
       "_model_module_version": "1.2.0",
       "_model_name": "LayoutModel",
       "_view_count": null,
       "_view_module": "@jupyter-widgets/base",
       "_view_module_version": "1.2.0",
       "_view_name": "LayoutView",
       "align_content": null,
       "align_items": null,
       "align_self": null,
       "border": null,
       "bottom": null,
       "display": null,
       "flex": null,
       "flex_flow": null,
       "grid_area": null,
       "grid_auto_columns": null,
       "grid_auto_flow": null,
       "grid_auto_rows": null,
       "grid_column": null,
       "grid_gap": null,
       "grid_row": null,
       "grid_template_areas": null,
       "grid_template_columns": null,
       "grid_template_rows": null,
       "height": null,
       "justify_content": null,
       "justify_items": null,
       "left": null,
       "margin": null,
       "max_height": null,
       "max_width": null,
       "min_height": null,
       "min_width": null,
       "object_fit": null,
       "object_position": null,
       "order": null,
       "overflow": null,
       "overflow_x": null,
       "overflow_y": null,
       "padding": null,
       "right": null,
       "top": null,
       "visibility": null,
       "width": null
      }
     },
     "58115e2e9fca483887b73ff3a555b479": {
      "model_module": "@jupyter-widgets/base",
      "model_module_version": "1.2.0",
      "model_name": "LayoutModel",
      "state": {
       "_model_module": "@jupyter-widgets/base",
       "_model_module_version": "1.2.0",
       "_model_name": "LayoutModel",
       "_view_count": null,
       "_view_module": "@jupyter-widgets/base",
       "_view_module_version": "1.2.0",
       "_view_name": "LayoutView",
       "align_content": null,
       "align_items": null,
       "align_self": null,
       "border": null,
       "bottom": null,
       "display": null,
       "flex": null,
       "flex_flow": null,
       "grid_area": null,
       "grid_auto_columns": null,
       "grid_auto_flow": null,
       "grid_auto_rows": null,
       "grid_column": null,
       "grid_gap": null,
       "grid_row": null,
       "grid_template_areas": null,
       "grid_template_columns": null,
       "grid_template_rows": null,
       "height": null,
       "justify_content": null,
       "justify_items": null,
       "left": null,
       "margin": null,
       "max_height": null,
       "max_width": null,
       "min_height": null,
       "min_width": null,
       "object_fit": null,
       "object_position": null,
       "order": null,
       "overflow": null,
       "overflow_x": null,
       "overflow_y": null,
       "padding": null,
       "right": null,
       "top": null,
       "visibility": null,
       "width": null
      }
     },
     "59c162c8a21f4371a4445aeb3d9949d0": {
      "model_module": "@jupyter-widgets/controls",
      "model_module_version": "1.5.0",
      "model_name": "DescriptionStyleModel",
      "state": {
       "_model_module": "@jupyter-widgets/controls",
       "_model_module_version": "1.5.0",
       "_model_name": "DescriptionStyleModel",
       "_view_count": null,
       "_view_module": "@jupyter-widgets/base",
       "_view_module_version": "1.2.0",
       "_view_name": "StyleView",
       "description_width": ""
      }
     },
     "5a89e7d862d942849d4115228b21c9be": {
      "model_module": "@jupyter-widgets/base",
      "model_module_version": "1.2.0",
      "model_name": "LayoutModel",
      "state": {
       "_model_module": "@jupyter-widgets/base",
       "_model_module_version": "1.2.0",
       "_model_name": "LayoutModel",
       "_view_count": null,
       "_view_module": "@jupyter-widgets/base",
       "_view_module_version": "1.2.0",
       "_view_name": "LayoutView",
       "align_content": null,
       "align_items": null,
       "align_self": null,
       "border": null,
       "bottom": null,
       "display": null,
       "flex": null,
       "flex_flow": null,
       "grid_area": null,
       "grid_auto_columns": null,
       "grid_auto_flow": null,
       "grid_auto_rows": null,
       "grid_column": null,
       "grid_gap": null,
       "grid_row": null,
       "grid_template_areas": null,
       "grid_template_columns": null,
       "grid_template_rows": null,
       "height": null,
       "justify_content": null,
       "justify_items": null,
       "left": null,
       "margin": null,
       "max_height": null,
       "max_width": null,
       "min_height": null,
       "min_width": null,
       "object_fit": null,
       "object_position": null,
       "order": null,
       "overflow": null,
       "overflow_x": null,
       "overflow_y": null,
       "padding": null,
       "right": null,
       "top": null,
       "visibility": null,
       "width": null
      }
     },
     "62a4ed9fe74a4016826621e762afe1f5": {
      "model_module": "@jupyter-widgets/controls",
      "model_module_version": "1.5.0",
      "model_name": "ProgressStyleModel",
      "state": {
       "_model_module": "@jupyter-widgets/controls",
       "_model_module_version": "1.5.0",
       "_model_name": "ProgressStyleModel",
       "_view_count": null,
       "_view_module": "@jupyter-widgets/base",
       "_view_module_version": "1.2.0",
       "_view_name": "StyleView",
       "bar_color": null,
       "description_width": ""
      }
     },
     "68ad9d7e50914514ba372e118a9e3d7b": {
      "model_module": "@jupyter-widgets/base",
      "model_module_version": "1.2.0",
      "model_name": "LayoutModel",
      "state": {
       "_model_module": "@jupyter-widgets/base",
       "_model_module_version": "1.2.0",
       "_model_name": "LayoutModel",
       "_view_count": null,
       "_view_module": "@jupyter-widgets/base",
       "_view_module_version": "1.2.0",
       "_view_name": "LayoutView",
       "align_content": null,
       "align_items": null,
       "align_self": null,
       "border": null,
       "bottom": null,
       "display": null,
       "flex": null,
       "flex_flow": null,
       "grid_area": null,
       "grid_auto_columns": null,
       "grid_auto_flow": null,
       "grid_auto_rows": null,
       "grid_column": null,
       "grid_gap": null,
       "grid_row": null,
       "grid_template_areas": null,
       "grid_template_columns": null,
       "grid_template_rows": null,
       "height": null,
       "justify_content": null,
       "justify_items": null,
       "left": null,
       "margin": null,
       "max_height": null,
       "max_width": null,
       "min_height": null,
       "min_width": null,
       "object_fit": null,
       "object_position": null,
       "order": null,
       "overflow": null,
       "overflow_x": null,
       "overflow_y": null,
       "padding": null,
       "right": null,
       "top": null,
       "visibility": null,
       "width": null
      }
     },
     "6a1e57267ce748d2902e4f23360b2777": {
      "model_module": "@jupyter-widgets/base",
      "model_module_version": "1.2.0",
      "model_name": "LayoutModel",
      "state": {
       "_model_module": "@jupyter-widgets/base",
       "_model_module_version": "1.2.0",
       "_model_name": "LayoutModel",
       "_view_count": null,
       "_view_module": "@jupyter-widgets/base",
       "_view_module_version": "1.2.0",
       "_view_name": "LayoutView",
       "align_content": null,
       "align_items": null,
       "align_self": null,
       "border": null,
       "bottom": null,
       "display": null,
       "flex": null,
       "flex_flow": null,
       "grid_area": null,
       "grid_auto_columns": null,
       "grid_auto_flow": null,
       "grid_auto_rows": null,
       "grid_column": null,
       "grid_gap": null,
       "grid_row": null,
       "grid_template_areas": null,
       "grid_template_columns": null,
       "grid_template_rows": null,
       "height": null,
       "justify_content": null,
       "justify_items": null,
       "left": null,
       "margin": null,
       "max_height": null,
       "max_width": null,
       "min_height": null,
       "min_width": null,
       "object_fit": null,
       "object_position": null,
       "order": null,
       "overflow": null,
       "overflow_x": null,
       "overflow_y": null,
       "padding": null,
       "right": null,
       "top": null,
       "visibility": null,
       "width": null
      }
     },
     "6f8b79cc92474d01a9837db0b93094f1": {
      "model_module": "@jupyter-widgets/base",
      "model_module_version": "1.2.0",
      "model_name": "LayoutModel",
      "state": {
       "_model_module": "@jupyter-widgets/base",
       "_model_module_version": "1.2.0",
       "_model_name": "LayoutModel",
       "_view_count": null,
       "_view_module": "@jupyter-widgets/base",
       "_view_module_version": "1.2.0",
       "_view_name": "LayoutView",
       "align_content": null,
       "align_items": null,
       "align_self": null,
       "border": null,
       "bottom": null,
       "display": null,
       "flex": null,
       "flex_flow": null,
       "grid_area": null,
       "grid_auto_columns": null,
       "grid_auto_flow": null,
       "grid_auto_rows": null,
       "grid_column": null,
       "grid_gap": null,
       "grid_row": null,
       "grid_template_areas": null,
       "grid_template_columns": null,
       "grid_template_rows": null,
       "height": null,
       "justify_content": null,
       "justify_items": null,
       "left": null,
       "margin": null,
       "max_height": null,
       "max_width": null,
       "min_height": null,
       "min_width": null,
       "object_fit": null,
       "object_position": null,
       "order": null,
       "overflow": null,
       "overflow_x": null,
       "overflow_y": null,
       "padding": null,
       "right": null,
       "top": null,
       "visibility": null,
       "width": null
      }
     },
     "71cb7cc65ac9487ea1d6a2b1066b4658": {
      "model_module": "@jupyter-widgets/controls",
      "model_module_version": "1.5.0",
      "model_name": "ProgressStyleModel",
      "state": {
       "_model_module": "@jupyter-widgets/controls",
       "_model_module_version": "1.5.0",
       "_model_name": "ProgressStyleModel",
       "_view_count": null,
       "_view_module": "@jupyter-widgets/base",
       "_view_module_version": "1.2.0",
       "_view_name": "StyleView",
       "bar_color": null,
       "description_width": ""
      }
     },
     "83f6a2686f21452db9276c76f4f1240b": {
      "model_module": "@jupyter-widgets/base",
      "model_module_version": "1.2.0",
      "model_name": "LayoutModel",
      "state": {
       "_model_module": "@jupyter-widgets/base",
       "_model_module_version": "1.2.0",
       "_model_name": "LayoutModel",
       "_view_count": null,
       "_view_module": "@jupyter-widgets/base",
       "_view_module_version": "1.2.0",
       "_view_name": "LayoutView",
       "align_content": null,
       "align_items": null,
       "align_self": null,
       "border": null,
       "bottom": null,
       "display": null,
       "flex": null,
       "flex_flow": null,
       "grid_area": null,
       "grid_auto_columns": null,
       "grid_auto_flow": null,
       "grid_auto_rows": null,
       "grid_column": null,
       "grid_gap": null,
       "grid_row": null,
       "grid_template_areas": null,
       "grid_template_columns": null,
       "grid_template_rows": null,
       "height": null,
       "justify_content": null,
       "justify_items": null,
       "left": null,
       "margin": null,
       "max_height": null,
       "max_width": null,
       "min_height": null,
       "min_width": null,
       "object_fit": null,
       "object_position": null,
       "order": null,
       "overflow": null,
       "overflow_x": null,
       "overflow_y": null,
       "padding": null,
       "right": null,
       "top": null,
       "visibility": null,
       "width": null
      }
     },
     "8492b8905fc24ca7bce79ec3a54d6aaa": {
      "model_module": "@jupyter-widgets/controls",
      "model_module_version": "1.5.0",
      "model_name": "DescriptionStyleModel",
      "state": {
       "_model_module": "@jupyter-widgets/controls",
       "_model_module_version": "1.5.0",
       "_model_name": "DescriptionStyleModel",
       "_view_count": null,
       "_view_module": "@jupyter-widgets/base",
       "_view_module_version": "1.2.0",
       "_view_name": "StyleView",
       "description_width": ""
      }
     },
     "85a37d974e4f413a8735858fbaed1dee": {
      "model_module": "@jupyter-widgets/base",
      "model_module_version": "1.2.0",
      "model_name": "LayoutModel",
      "state": {
       "_model_module": "@jupyter-widgets/base",
       "_model_module_version": "1.2.0",
       "_model_name": "LayoutModel",
       "_view_count": null,
       "_view_module": "@jupyter-widgets/base",
       "_view_module_version": "1.2.0",
       "_view_name": "LayoutView",
       "align_content": null,
       "align_items": null,
       "align_self": null,
       "border": null,
       "bottom": null,
       "display": null,
       "flex": null,
       "flex_flow": null,
       "grid_area": null,
       "grid_auto_columns": null,
       "grid_auto_flow": null,
       "grid_auto_rows": null,
       "grid_column": null,
       "grid_gap": null,
       "grid_row": null,
       "grid_template_areas": null,
       "grid_template_columns": null,
       "grid_template_rows": null,
       "height": null,
       "justify_content": null,
       "justify_items": null,
       "left": null,
       "margin": null,
       "max_height": null,
       "max_width": null,
       "min_height": null,
       "min_width": null,
       "object_fit": null,
       "object_position": null,
       "order": null,
       "overflow": null,
       "overflow_x": null,
       "overflow_y": null,
       "padding": null,
       "right": null,
       "top": null,
       "visibility": null,
       "width": null
      }
     },
     "8a96f7c5bc284ae38423a0340d089aec": {
      "model_module": "@jupyter-widgets/base",
      "model_module_version": "1.2.0",
      "model_name": "LayoutModel",
      "state": {
       "_model_module": "@jupyter-widgets/base",
       "_model_module_version": "1.2.0",
       "_model_name": "LayoutModel",
       "_view_count": null,
       "_view_module": "@jupyter-widgets/base",
       "_view_module_version": "1.2.0",
       "_view_name": "LayoutView",
       "align_content": null,
       "align_items": null,
       "align_self": null,
       "border": null,
       "bottom": null,
       "display": null,
       "flex": null,
       "flex_flow": null,
       "grid_area": null,
       "grid_auto_columns": null,
       "grid_auto_flow": null,
       "grid_auto_rows": null,
       "grid_column": null,
       "grid_gap": null,
       "grid_row": null,
       "grid_template_areas": null,
       "grid_template_columns": null,
       "grid_template_rows": null,
       "height": null,
       "justify_content": null,
       "justify_items": null,
       "left": null,
       "margin": null,
       "max_height": null,
       "max_width": null,
       "min_height": null,
       "min_width": null,
       "object_fit": null,
       "object_position": null,
       "order": null,
       "overflow": null,
       "overflow_x": null,
       "overflow_y": null,
       "padding": null,
       "right": null,
       "top": null,
       "visibility": null,
       "width": null
      }
     },
     "8d29cb7c53794fdd951606f59b833298": {
      "model_module": "@jupyter-widgets/controls",
      "model_module_version": "1.5.0",
      "model_name": "HTMLModel",
      "state": {
       "_dom_classes": [],
       "_model_module": "@jupyter-widgets/controls",
       "_model_module_version": "1.5.0",
       "_model_name": "HTMLModel",
       "_view_count": null,
       "_view_module": "@jupyter-widgets/controls",
       "_view_module_version": "1.5.0",
       "_view_name": "HTMLView",
       "description": "",
       "description_tooltip": null,
       "layout": "IPY_MODEL_e420c3e7d6c64fed96c8f93b32c2ccc9",
       "placeholder": "​",
       "style": "IPY_MODEL_f33970e2c90246b78090b50afb37c4ef",
       "value": " 440M/440M [00:01&lt;00:00, 305MB/s]"
      }
     },
     "8e0b4514154e4fc799b6befe21978ce5": {
      "model_module": "@jupyter-widgets/controls",
      "model_module_version": "1.5.0",
      "model_name": "HBoxModel",
      "state": {
       "_dom_classes": [],
       "_model_module": "@jupyter-widgets/controls",
       "_model_module_version": "1.5.0",
       "_model_name": "HBoxModel",
       "_view_count": null,
       "_view_module": "@jupyter-widgets/controls",
       "_view_module_version": "1.5.0",
       "_view_name": "HBoxView",
       "box_style": "",
       "children": [
        "IPY_MODEL_30f414a21f79441ea1a7cac8f48c19d4",
        "IPY_MODEL_97015d1c22b34251a70533322f9c378d",
        "IPY_MODEL_399c56aff9954c3ba58d772e3a0543ef"
       ],
       "layout": "IPY_MODEL_c9b7ee4267894daba4242371cdb942b9"
      }
     },
     "9522570e97014375b2a8b10a39e20449": {
      "model_module": "@jupyter-widgets/base",
      "model_module_version": "1.2.0",
      "model_name": "LayoutModel",
      "state": {
       "_model_module": "@jupyter-widgets/base",
       "_model_module_version": "1.2.0",
       "_model_name": "LayoutModel",
       "_view_count": null,
       "_view_module": "@jupyter-widgets/base",
       "_view_module_version": "1.2.0",
       "_view_name": "LayoutView",
       "align_content": null,
       "align_items": null,
       "align_self": null,
       "border": null,
       "bottom": null,
       "display": null,
       "flex": null,
       "flex_flow": null,
       "grid_area": null,
       "grid_auto_columns": null,
       "grid_auto_flow": null,
       "grid_auto_rows": null,
       "grid_column": null,
       "grid_gap": null,
       "grid_row": null,
       "grid_template_areas": null,
       "grid_template_columns": null,
       "grid_template_rows": null,
       "height": null,
       "justify_content": null,
       "justify_items": null,
       "left": null,
       "margin": null,
       "max_height": null,
       "max_width": null,
       "min_height": null,
       "min_width": null,
       "object_fit": null,
       "object_position": null,
       "order": null,
       "overflow": null,
       "overflow_x": null,
       "overflow_y": null,
       "padding": null,
       "right": null,
       "top": null,
       "visibility": null,
       "width": null
      }
     },
     "97015d1c22b34251a70533322f9c378d": {
      "model_module": "@jupyter-widgets/controls",
      "model_module_version": "1.5.0",
      "model_name": "FloatProgressModel",
      "state": {
       "_dom_classes": [],
       "_model_module": "@jupyter-widgets/controls",
       "_model_module_version": "1.5.0",
       "_model_name": "FloatProgressModel",
       "_view_count": null,
       "_view_module": "@jupyter-widgets/controls",
       "_view_module_version": "1.5.0",
       "_view_name": "ProgressView",
       "bar_style": "success",
       "description": "",
       "description_tooltip": null,
       "layout": "IPY_MODEL_8a96f7c5bc284ae38423a0340d089aec",
       "max": 466062,
       "min": 0,
       "orientation": "horizontal",
       "style": "IPY_MODEL_1b354a448d0d437aa7967fa3df1eff2b",
       "value": 466062
      }
     },
     "98f094a57aad423d9ad68ce3bed3a61b": {
      "model_module": "@jupyter-widgets/base",
      "model_module_version": "1.2.0",
      "model_name": "LayoutModel",
      "state": {
       "_model_module": "@jupyter-widgets/base",
       "_model_module_version": "1.2.0",
       "_model_name": "LayoutModel",
       "_view_count": null,
       "_view_module": "@jupyter-widgets/base",
       "_view_module_version": "1.2.0",
       "_view_name": "LayoutView",
       "align_content": null,
       "align_items": null,
       "align_self": null,
       "border": null,
       "bottom": null,
       "display": null,
       "flex": null,
       "flex_flow": null,
       "grid_area": null,
       "grid_auto_columns": null,
       "grid_auto_flow": null,
       "grid_auto_rows": null,
       "grid_column": null,
       "grid_gap": null,
       "grid_row": null,
       "grid_template_areas": null,
       "grid_template_columns": null,
       "grid_template_rows": null,
       "height": null,
       "justify_content": null,
       "justify_items": null,
       "left": null,
       "margin": null,
       "max_height": null,
       "max_width": null,
       "min_height": null,
       "min_width": null,
       "object_fit": null,
       "object_position": null,
       "order": null,
       "overflow": null,
       "overflow_x": null,
       "overflow_y": null,
       "padding": null,
       "right": null,
       "top": null,
       "visibility": null,
       "width": null
      }
     },
     "9a111e0b4491406e87e86c94ddd5c383": {
      "model_module": "@jupyter-widgets/controls",
      "model_module_version": "1.5.0",
      "model_name": "HTMLModel",
      "state": {
       "_dom_classes": [],
       "_model_module": "@jupyter-widgets/controls",
       "_model_module_version": "1.5.0",
       "_model_name": "HTMLModel",
       "_view_count": null,
       "_view_module": "@jupyter-widgets/controls",
       "_view_module_version": "1.5.0",
       "_view_name": "HTMLView",
       "description": "",
       "description_tooltip": null,
       "layout": "IPY_MODEL_e04c42cd00a3467fa404ce88ee3fa578",
       "placeholder": "​",
       "style": "IPY_MODEL_a714e0cf1e8f430090a908b391727271",
       "value": "config.json: 100%"
      }
     },
     "a68d4820de7a4d1d864cdf2379d65d12": {
      "model_module": "@jupyter-widgets/controls",
      "model_module_version": "1.5.0",
      "model_name": "HTMLModel",
      "state": {
       "_dom_classes": [],
       "_model_module": "@jupyter-widgets/controls",
       "_model_module_version": "1.5.0",
       "_model_name": "HTMLModel",
       "_view_count": null,
       "_view_module": "@jupyter-widgets/controls",
       "_view_module_version": "1.5.0",
       "_view_name": "HTMLView",
       "description": "",
       "description_tooltip": null,
       "layout": "IPY_MODEL_58115e2e9fca483887b73ff3a555b479",
       "placeholder": "​",
       "style": "IPY_MODEL_3e3fdf9d8ed84aa193e704dd7be3be03",
       "value": "vocab.txt: 100%"
      }
     },
     "a6efdc21c95c4aebbbea132b86bfba34": {
      "model_module": "@jupyter-widgets/controls",
      "model_module_version": "1.5.0",
      "model_name": "HTMLModel",
      "state": {
       "_dom_classes": [],
       "_model_module": "@jupyter-widgets/controls",
       "_model_module_version": "1.5.0",
       "_model_name": "HTMLModel",
       "_view_count": null,
       "_view_module": "@jupyter-widgets/controls",
       "_view_module_version": "1.5.0",
       "_view_name": "HTMLView",
       "description": "",
       "description_tooltip": null,
       "layout": "IPY_MODEL_83f6a2686f21452db9276c76f4f1240b",
       "placeholder": "​",
       "style": "IPY_MODEL_8492b8905fc24ca7bce79ec3a54d6aaa",
       "value": "tokenizer_config.json: 100%"
      }
     },
     "a714e0cf1e8f430090a908b391727271": {
      "model_module": "@jupyter-widgets/controls",
      "model_module_version": "1.5.0",
      "model_name": "DescriptionStyleModel",
      "state": {
       "_model_module": "@jupyter-widgets/controls",
       "_model_module_version": "1.5.0",
       "_model_name": "DescriptionStyleModel",
       "_view_count": null,
       "_view_module": "@jupyter-widgets/base",
       "_view_module_version": "1.2.0",
       "_view_name": "StyleView",
       "description_width": ""
      }
     },
     "b1a35d9709c34f99a24e7b4bca48e618": {
      "model_module": "@jupyter-widgets/controls",
      "model_module_version": "1.5.0",
      "model_name": "HBoxModel",
      "state": {
       "_dom_classes": [],
       "_model_module": "@jupyter-widgets/controls",
       "_model_module_version": "1.5.0",
       "_model_name": "HBoxModel",
       "_view_count": null,
       "_view_module": "@jupyter-widgets/controls",
       "_view_module_version": "1.5.0",
       "_view_name": "HBoxView",
       "box_style": "",
       "children": [
        "IPY_MODEL_c85ffb5047cb40d4a6c7517f34784a0f",
        "IPY_MODEL_4287cf98ea4341aeb19cbdc63d2659b5",
        "IPY_MODEL_8d29cb7c53794fdd951606f59b833298"
       ],
       "layout": "IPY_MODEL_68ad9d7e50914514ba372e118a9e3d7b"
      }
     },
     "b5611c8f9eee438bb93eec328189aefc": {
      "model_module": "@jupyter-widgets/base",
      "model_module_version": "1.2.0",
      "model_name": "LayoutModel",
      "state": {
       "_model_module": "@jupyter-widgets/base",
       "_model_module_version": "1.2.0",
       "_model_name": "LayoutModel",
       "_view_count": null,
       "_view_module": "@jupyter-widgets/base",
       "_view_module_version": "1.2.0",
       "_view_name": "LayoutView",
       "align_content": null,
       "align_items": null,
       "align_self": null,
       "border": null,
       "bottom": null,
       "display": null,
       "flex": null,
       "flex_flow": null,
       "grid_area": null,
       "grid_auto_columns": null,
       "grid_auto_flow": null,
       "grid_auto_rows": null,
       "grid_column": null,
       "grid_gap": null,
       "grid_row": null,
       "grid_template_areas": null,
       "grid_template_columns": null,
       "grid_template_rows": null,
       "height": null,
       "justify_content": null,
       "justify_items": null,
       "left": null,
       "margin": null,
       "max_height": null,
       "max_width": null,
       "min_height": null,
       "min_width": null,
       "object_fit": null,
       "object_position": null,
       "order": null,
       "overflow": null,
       "overflow_x": null,
       "overflow_y": null,
       "padding": null,
       "right": null,
       "top": null,
       "visibility": null,
       "width": null
      }
     },
     "c007a80215724bb2a39739300611e76c": {
      "model_module": "@jupyter-widgets/controls",
      "model_module_version": "1.5.0",
      "model_name": "FloatProgressModel",
      "state": {
       "_dom_classes": [],
       "_model_module": "@jupyter-widgets/controls",
       "_model_module_version": "1.5.0",
       "_model_name": "FloatProgressModel",
       "_view_count": null,
       "_view_module": "@jupyter-widgets/controls",
       "_view_module_version": "1.5.0",
       "_view_name": "ProgressView",
       "bar_style": "success",
       "description": "",
       "description_tooltip": null,
       "layout": "IPY_MODEL_efc7ff27fe9d4403be4698cf6268f720",
       "max": 48,
       "min": 0,
       "orientation": "horizontal",
       "style": "IPY_MODEL_62a4ed9fe74a4016826621e762afe1f5",
       "value": 48
      }
     },
     "c85ffb5047cb40d4a6c7517f34784a0f": {
      "model_module": "@jupyter-widgets/controls",
      "model_module_version": "1.5.0",
      "model_name": "HTMLModel",
      "state": {
       "_dom_classes": [],
       "_model_module": "@jupyter-widgets/controls",
       "_model_module_version": "1.5.0",
       "_model_name": "HTMLModel",
       "_view_count": null,
       "_view_module": "@jupyter-widgets/controls",
       "_view_module_version": "1.5.0",
       "_view_name": "HTMLView",
       "description": "",
       "description_tooltip": null,
       "layout": "IPY_MODEL_6a1e57267ce748d2902e4f23360b2777",
       "placeholder": "​",
       "style": "IPY_MODEL_59c162c8a21f4371a4445aeb3d9949d0",
       "value": "model.safetensors: 100%"
      }
     },
     "c9b7ee4267894daba4242371cdb942b9": {
      "model_module": "@jupyter-widgets/base",
      "model_module_version": "1.2.0",
      "model_name": "LayoutModel",
      "state": {
       "_model_module": "@jupyter-widgets/base",
       "_model_module_version": "1.2.0",
       "_model_name": "LayoutModel",
       "_view_count": null,
       "_view_module": "@jupyter-widgets/base",
       "_view_module_version": "1.2.0",
       "_view_name": "LayoutView",
       "align_content": null,
       "align_items": null,
       "align_self": null,
       "border": null,
       "bottom": null,
       "display": null,
       "flex": null,
       "flex_flow": null,
       "grid_area": null,
       "grid_auto_columns": null,
       "grid_auto_flow": null,
       "grid_auto_rows": null,
       "grid_column": null,
       "grid_gap": null,
       "grid_row": null,
       "grid_template_areas": null,
       "grid_template_columns": null,
       "grid_template_rows": null,
       "height": null,
       "justify_content": null,
       "justify_items": null,
       "left": null,
       "margin": null,
       "max_height": null,
       "max_width": null,
       "min_height": null,
       "min_width": null,
       "object_fit": null,
       "object_position": null,
       "order": null,
       "overflow": null,
       "overflow_x": null,
       "overflow_y": null,
       "padding": null,
       "right": null,
       "top": null,
       "visibility": null,
       "width": null
      }
     },
     "cbf04b235ee6450886fe1c44cb7cf808": {
      "model_module": "@jupyter-widgets/controls",
      "model_module_version": "1.5.0",
      "model_name": "DescriptionStyleModel",
      "state": {
       "_model_module": "@jupyter-widgets/controls",
       "_model_module_version": "1.5.0",
       "_model_name": "DescriptionStyleModel",
       "_view_count": null,
       "_view_module": "@jupyter-widgets/base",
       "_view_module_version": "1.2.0",
       "_view_name": "StyleView",
       "description_width": ""
      }
     },
     "cf6cc74ff06440e2958d534b41b7036c": {
      "model_module": "@jupyter-widgets/controls",
      "model_module_version": "1.5.0",
      "model_name": "DescriptionStyleModel",
      "state": {
       "_model_module": "@jupyter-widgets/controls",
       "_model_module_version": "1.5.0",
       "_model_name": "DescriptionStyleModel",
       "_view_count": null,
       "_view_module": "@jupyter-widgets/base",
       "_view_module_version": "1.2.0",
       "_view_name": "StyleView",
       "description_width": ""
      }
     },
     "dac182f536d04e1b980149a84ad64ddd": {
      "model_module": "@jupyter-widgets/controls",
      "model_module_version": "1.5.0",
      "model_name": "HBoxModel",
      "state": {
       "_dom_classes": [],
       "_model_module": "@jupyter-widgets/controls",
       "_model_module_version": "1.5.0",
       "_model_name": "HBoxModel",
       "_view_count": null,
       "_view_module": "@jupyter-widgets/controls",
       "_view_module_version": "1.5.0",
       "_view_name": "HBoxView",
       "box_style": "",
       "children": [
        "IPY_MODEL_a6efdc21c95c4aebbbea132b86bfba34",
        "IPY_MODEL_c007a80215724bb2a39739300611e76c",
        "IPY_MODEL_de4e370adcde4446a0fa314fdaba64d9"
       ],
       "layout": "IPY_MODEL_85a37d974e4f413a8735858fbaed1dee"
      }
     },
     "dc0d66de20274edabee5d643b2a8f361": {
      "model_module": "@jupyter-widgets/base",
      "model_module_version": "1.2.0",
      "model_name": "LayoutModel",
      "state": {
       "_model_module": "@jupyter-widgets/base",
       "_model_module_version": "1.2.0",
       "_model_name": "LayoutModel",
       "_view_count": null,
       "_view_module": "@jupyter-widgets/base",
       "_view_module_version": "1.2.0",
       "_view_name": "LayoutView",
       "align_content": null,
       "align_items": null,
       "align_self": null,
       "border": null,
       "bottom": null,
       "display": null,
       "flex": null,
       "flex_flow": null,
       "grid_area": null,
       "grid_auto_columns": null,
       "grid_auto_flow": null,
       "grid_auto_rows": null,
       "grid_column": null,
       "grid_gap": null,
       "grid_row": null,
       "grid_template_areas": null,
       "grid_template_columns": null,
       "grid_template_rows": null,
       "height": null,
       "justify_content": null,
       "justify_items": null,
       "left": null,
       "margin": null,
       "max_height": null,
       "max_width": null,
       "min_height": null,
       "min_width": null,
       "object_fit": null,
       "object_position": null,
       "order": null,
       "overflow": null,
       "overflow_x": null,
       "overflow_y": null,
       "padding": null,
       "right": null,
       "top": null,
       "visibility": null,
       "width": null
      }
     },
     "de4e370adcde4446a0fa314fdaba64d9": {
      "model_module": "@jupyter-widgets/controls",
      "model_module_version": "1.5.0",
      "model_name": "HTMLModel",
      "state": {
       "_dom_classes": [],
       "_model_module": "@jupyter-widgets/controls",
       "_model_module_version": "1.5.0",
       "_model_name": "HTMLModel",
       "_view_count": null,
       "_view_module": "@jupyter-widgets/controls",
       "_view_module_version": "1.5.0",
       "_view_name": "HTMLView",
       "description": "",
       "description_tooltip": null,
       "layout": "IPY_MODEL_5a89e7d862d942849d4115228b21c9be",
       "placeholder": "​",
       "style": "IPY_MODEL_cbf04b235ee6450886fe1c44cb7cf808",
       "value": " 48.0/48.0 [00:00&lt;00:00, 4.14kB/s]"
      }
     },
     "e04c42cd00a3467fa404ce88ee3fa578": {
      "model_module": "@jupyter-widgets/base",
      "model_module_version": "1.2.0",
      "model_name": "LayoutModel",
      "state": {
       "_model_module": "@jupyter-widgets/base",
       "_model_module_version": "1.2.0",
       "_model_name": "LayoutModel",
       "_view_count": null,
       "_view_module": "@jupyter-widgets/base",
       "_view_module_version": "1.2.0",
       "_view_name": "LayoutView",
       "align_content": null,
       "align_items": null,
       "align_self": null,
       "border": null,
       "bottom": null,
       "display": null,
       "flex": null,
       "flex_flow": null,
       "grid_area": null,
       "grid_auto_columns": null,
       "grid_auto_flow": null,
       "grid_auto_rows": null,
       "grid_column": null,
       "grid_gap": null,
       "grid_row": null,
       "grid_template_areas": null,
       "grid_template_columns": null,
       "grid_template_rows": null,
       "height": null,
       "justify_content": null,
       "justify_items": null,
       "left": null,
       "margin": null,
       "max_height": null,
       "max_width": null,
       "min_height": null,
       "min_width": null,
       "object_fit": null,
       "object_position": null,
       "order": null,
       "overflow": null,
       "overflow_x": null,
       "overflow_y": null,
       "padding": null,
       "right": null,
       "top": null,
       "visibility": null,
       "width": null
      }
     },
     "e078564090b34ed091e0a36040ead233": {
      "model_module": "@jupyter-widgets/controls",
      "model_module_version": "1.5.0",
      "model_name": "HTMLModel",
      "state": {
       "_dom_classes": [],
       "_model_module": "@jupyter-widgets/controls",
       "_model_module_version": "1.5.0",
       "_model_name": "HTMLModel",
       "_view_count": null,
       "_view_module": "@jupyter-widgets/controls",
       "_view_module_version": "1.5.0",
       "_view_name": "HTMLView",
       "description": "",
       "description_tooltip": null,
       "layout": "IPY_MODEL_fb66349724f343448b1822bd35327ef2",
       "placeholder": "​",
       "style": "IPY_MODEL_cf6cc74ff06440e2958d534b41b7036c",
       "value": " 232k/232k [00:00&lt;00:00, 6.67MB/s]"
      }
     },
     "e420c3e7d6c64fed96c8f93b32c2ccc9": {
      "model_module": "@jupyter-widgets/base",
      "model_module_version": "1.2.0",
      "model_name": "LayoutModel",
      "state": {
       "_model_module": "@jupyter-widgets/base",
       "_model_module_version": "1.2.0",
       "_model_name": "LayoutModel",
       "_view_count": null,
       "_view_module": "@jupyter-widgets/base",
       "_view_module_version": "1.2.0",
       "_view_name": "LayoutView",
       "align_content": null,
       "align_items": null,
       "align_self": null,
       "border": null,
       "bottom": null,
       "display": null,
       "flex": null,
       "flex_flow": null,
       "grid_area": null,
       "grid_auto_columns": null,
       "grid_auto_flow": null,
       "grid_auto_rows": null,
       "grid_column": null,
       "grid_gap": null,
       "grid_row": null,
       "grid_template_areas": null,
       "grid_template_columns": null,
       "grid_template_rows": null,
       "height": null,
       "justify_content": null,
       "justify_items": null,
       "left": null,
       "margin": null,
       "max_height": null,
       "max_width": null,
       "min_height": null,
       "min_width": null,
       "object_fit": null,
       "object_position": null,
       "order": null,
       "overflow": null,
       "overflow_x": null,
       "overflow_y": null,
       "padding": null,
       "right": null,
       "top": null,
       "visibility": null,
       "width": null
      }
     },
     "e52a778f49d94256abe7eb0d911cb6bf": {
      "model_module": "@jupyter-widgets/controls",
      "model_module_version": "1.5.0",
      "model_name": "ProgressStyleModel",
      "state": {
       "_model_module": "@jupyter-widgets/controls",
       "_model_module_version": "1.5.0",
       "_model_name": "ProgressStyleModel",
       "_view_count": null,
       "_view_module": "@jupyter-widgets/base",
       "_view_module_version": "1.2.0",
       "_view_name": "StyleView",
       "bar_color": null,
       "description_width": ""
      }
     },
     "efb37d381f0a41fdaf9f75e2e35a21b5": {
      "model_module": "@jupyter-widgets/controls",
      "model_module_version": "1.5.0",
      "model_name": "FloatProgressModel",
      "state": {
       "_dom_classes": [],
       "_model_module": "@jupyter-widgets/controls",
       "_model_module_version": "1.5.0",
       "_model_name": "FloatProgressModel",
       "_view_count": null,
       "_view_module": "@jupyter-widgets/controls",
       "_view_module_version": "1.5.0",
       "_view_name": "ProgressView",
       "bar_style": "success",
       "description": "",
       "description_tooltip": null,
       "layout": "IPY_MODEL_b5611c8f9eee438bb93eec328189aefc",
       "max": 570,
       "min": 0,
       "orientation": "horizontal",
       "style": "IPY_MODEL_140ff6c21215441f90dc33e6b02d152b",
       "value": 570
      }
     },
     "efc7ff27fe9d4403be4698cf6268f720": {
      "model_module": "@jupyter-widgets/base",
      "model_module_version": "1.2.0",
      "model_name": "LayoutModel",
      "state": {
       "_model_module": "@jupyter-widgets/base",
       "_model_module_version": "1.2.0",
       "_model_name": "LayoutModel",
       "_view_count": null,
       "_view_module": "@jupyter-widgets/base",
       "_view_module_version": "1.2.0",
       "_view_name": "LayoutView",
       "align_content": null,
       "align_items": null,
       "align_self": null,
       "border": null,
       "bottom": null,
       "display": null,
       "flex": null,
       "flex_flow": null,
       "grid_area": null,
       "grid_auto_columns": null,
       "grid_auto_flow": null,
       "grid_auto_rows": null,
       "grid_column": null,
       "grid_gap": null,
       "grid_row": null,
       "grid_template_areas": null,
       "grid_template_columns": null,
       "grid_template_rows": null,
       "height": null,
       "justify_content": null,
       "justify_items": null,
       "left": null,
       "margin": null,
       "max_height": null,
       "max_width": null,
       "min_height": null,
       "min_width": null,
       "object_fit": null,
       "object_position": null,
       "order": null,
       "overflow": null,
       "overflow_x": null,
       "overflow_y": null,
       "padding": null,
       "right": null,
       "top": null,
       "visibility": null,
       "width": null
      }
     },
     "f1a94f13e4644ccc8e1caa100d53ed32": {
      "model_module": "@jupyter-widgets/controls",
      "model_module_version": "1.5.0",
      "model_name": "DescriptionStyleModel",
      "state": {
       "_model_module": "@jupyter-widgets/controls",
       "_model_module_version": "1.5.0",
       "_model_name": "DescriptionStyleModel",
       "_view_count": null,
       "_view_module": "@jupyter-widgets/base",
       "_view_module_version": "1.2.0",
       "_view_name": "StyleView",
       "description_width": ""
      }
     },
     "f33970e2c90246b78090b50afb37c4ef": {
      "model_module": "@jupyter-widgets/controls",
      "model_module_version": "1.5.0",
      "model_name": "DescriptionStyleModel",
      "state": {
       "_model_module": "@jupyter-widgets/controls",
       "_model_module_version": "1.5.0",
       "_model_name": "DescriptionStyleModel",
       "_view_count": null,
       "_view_module": "@jupyter-widgets/base",
       "_view_module_version": "1.2.0",
       "_view_name": "StyleView",
       "description_width": ""
      }
     },
     "fb66349724f343448b1822bd35327ef2": {
      "model_module": "@jupyter-widgets/base",
      "model_module_version": "1.2.0",
      "model_name": "LayoutModel",
      "state": {
       "_model_module": "@jupyter-widgets/base",
       "_model_module_version": "1.2.0",
       "_model_name": "LayoutModel",
       "_view_count": null,
       "_view_module": "@jupyter-widgets/base",
       "_view_module_version": "1.2.0",
       "_view_name": "LayoutView",
       "align_content": null,
       "align_items": null,
       "align_self": null,
       "border": null,
       "bottom": null,
       "display": null,
       "flex": null,
       "flex_flow": null,
       "grid_area": null,
       "grid_auto_columns": null,
       "grid_auto_flow": null,
       "grid_auto_rows": null,
       "grid_column": null,
       "grid_gap": null,
       "grid_row": null,
       "grid_template_areas": null,
       "grid_template_columns": null,
       "grid_template_rows": null,
       "height": null,
       "justify_content": null,
       "justify_items": null,
       "left": null,
       "margin": null,
       "max_height": null,
       "max_width": null,
       "min_height": null,
       "min_width": null,
       "object_fit": null,
       "object_position": null,
       "order": null,
       "overflow": null,
       "overflow_x": null,
       "overflow_y": null,
       "padding": null,
       "right": null,
       "top": null,
       "visibility": null,
       "width": null
      }
     }
    },
    "version_major": 2,
    "version_minor": 0
   }
  }
 },
 "nbformat": 4,
 "nbformat_minor": 5
}
