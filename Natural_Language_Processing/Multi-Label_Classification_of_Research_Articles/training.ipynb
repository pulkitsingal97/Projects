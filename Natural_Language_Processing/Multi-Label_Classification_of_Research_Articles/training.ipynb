{
 "cells": [
  {
   "cell_type": "markdown",
   "id": "4dee9652",
   "metadata": {},
   "source": [
    "Importing libraries"
   ]
  },
  {
   "cell_type": "code",
   "execution_count": 1,
   "id": "beced129",
   "metadata": {
    "execution": {
     "iopub.execute_input": "2024-04-13T08:13:13.140916Z",
     "iopub.status.busy": "2024-04-13T08:13:13.140539Z",
     "iopub.status.idle": "2024-04-13T08:13:22.554571Z",
     "shell.execute_reply": "2024-04-13T08:13:22.553639Z"
    },
    "papermill": {
     "duration": 9.440848,
     "end_time": "2024-04-13T08:13:22.557121",
     "exception": false,
     "start_time": "2024-04-13T08:13:13.116273",
     "status": "completed"
    },
    "tags": []
   },
   "outputs": [],
   "source": [
    "import numpy as np\n",
    "import pandas as pd\n",
    "from sklearn import metrics\n",
    "import matplotlib.pyplot as plt\n",
    "import transformers\n",
    "import torch\n",
    "from torch.utils.data import Dataset, DataLoader, RandomSampler, SequentialSampler\n",
    "from transformers import BertTokenizer, BertModel, BertConfig\n",
    "import csv\n",
    "import torch.nn.functional as F"
   ]
  },
  {
   "cell_type": "markdown",
   "id": "44551f34",
   "metadata": {},
   "source": [
    "Setting up device"
   ]
  },
  {
   "cell_type": "code",
   "execution_count": 2,
   "id": "2378665d",
   "metadata": {
    "execution": {
     "iopub.execute_input": "2024-04-13T08:13:22.605657Z",
     "iopub.status.busy": "2024-04-13T08:13:22.604628Z",
     "iopub.status.idle": "2024-04-13T08:13:22.656860Z",
     "shell.execute_reply": "2024-04-13T08:13:22.655747Z"
    },
    "papermill": {
     "duration": 0.079054,
     "end_time": "2024-04-13T08:13:22.659120",
     "exception": false,
     "start_time": "2024-04-13T08:13:22.580066",
     "status": "completed"
    },
    "tags": []
   },
   "outputs": [],
   "source": [
    "from torch import cuda\n",
    "device = 'cuda' if cuda.is_available() else 'cpu'"
   ]
  },
  {
   "cell_type": "markdown",
   "id": "d9c0e7af",
   "metadata": {},
   "source": [
    "Loading data"
   ]
  },
  {
   "cell_type": "code",
   "execution_count": 3,
   "id": "97756fdd",
   "metadata": {
    "execution": {
     "iopub.execute_input": "2024-04-13T08:13:22.707280Z",
     "iopub.status.busy": "2024-04-13T08:13:22.706922Z",
     "iopub.status.idle": "2024-04-13T08:13:25.580330Z",
     "shell.execute_reply": "2024-04-13T08:13:25.579228Z"
    },
    "papermill": {
     "duration": 2.899204,
     "end_time": "2024-04-13T08:13:25.582959",
     "exception": false,
     "start_time": "2024-04-13T08:13:22.683755",
     "status": "completed"
    },
    "tags": []
   },
   "outputs": [],
   "source": [
    "df = pd.read_csv(\"/kaggle/input/dataset/Multi-Label Text Classification Dataset.csv\")\n",
    "df = df.dropna()"
   ]
  },
  {
   "cell_type": "markdown",
   "id": "dda44c0c",
   "metadata": {},
   "source": [
    "Splitting data into train, validation and test data"
   ]
  },
  {
   "cell_type": "code",
   "execution_count": 4,
   "id": "66529108",
   "metadata": {
    "execution": {
     "iopub.execute_input": "2024-04-13T08:13:25.631614Z",
     "iopub.status.busy": "2024-04-13T08:13:25.630791Z",
     "iopub.status.idle": "2024-04-13T08:13:25.688503Z",
     "shell.execute_reply": "2024-04-13T08:13:25.687477Z"
    },
    "papermill": {
     "duration": 0.084948,
     "end_time": "2024-04-13T08:13:25.691080",
     "exception": false,
     "start_time": "2024-04-13T08:13:25.606132",
     "status": "completed"
    },
    "tags": []
   },
   "outputs": [
    {
     "name": "stdout",
     "output_type": "stream",
     "text": [
      "FULL Dataset: (49998, 20)\n",
      "TRAIN Dataset: (34999, 20)\n",
      "VALID Dataset: (7499, 20)\n",
      "TEST Dataset: (7500, 20)\n"
     ]
    }
   ],
   "source": [
    "train_dataset=df.sample(frac=0.7,random_state=200)\n",
    "\n",
    "valid_dataset=df.drop(train_dataset.index).reset_index(drop=True)\n",
    "train_dataset=train_dataset.reset_index(drop=True)\n",
    "\n",
    "test_dataset=valid_dataset.sample(frac=0.5,random_state=200)\n",
    "valid_dataset=valid_dataset.drop(test_dataset.index).reset_index(drop=True)\n",
    "test_dataset=test_dataset.reset_index(drop=True)\n",
    "\n",
    "print(\"FULL Dataset: {}\".format(df.shape))\n",
    "print(\"TRAIN Dataset: {}\".format(train_dataset.shape))\n",
    "print(\"VALID Dataset: {}\".format(valid_dataset.shape))\n",
    "print(\"TEST Dataset: {}\".format(test_dataset.shape))"
   ]
  },
  {
   "cell_type": "code",
   "execution_count": 5,
   "id": "4299e393",
   "metadata": {
    "execution": {
     "iopub.execute_input": "2024-04-13T08:13:25.739562Z",
     "iopub.status.busy": "2024-04-13T08:13:25.738760Z",
     "iopub.status.idle": "2024-04-13T08:13:25.755288Z",
     "shell.execute_reply": "2024-04-13T08:13:25.754021Z"
    },
    "papermill": {
     "duration": 0.043533,
     "end_time": "2024-04-13T08:13:25.757594",
     "exception": false,
     "start_time": "2024-04-13T08:13:25.714061",
     "status": "completed"
    },
    "tags": []
   },
   "outputs": [
    {
     "name": "stdout",
     "output_type": "stream",
     "text": [
      "                                               Title  \\\n",
      "0  [Identification of a functionally important di...   \n",
      "1  Multilayer capsules: a promising microencapsul...   \n",
      "2  Nanohydrogel with N,N'-bis(acryloyl)cystine cr...   \n",
      "3  A new <i>Panolis</i> H?bner, [1821] species fr...   \n",
      "4  Radiobiologic risk estimation from dental radi...   \n",
      "\n",
      "                                        abstractText  \\\n",
      "0  The occurrence of individual amino acids and d...   \n",
      "1  In 1980, Lim and Sun introduced a microcapsule...   \n",
      "2  Substantially improved hydrogel particles base...   \n",
      "3  Panolis is a well-defined and compact Palearct...   \n",
      "4  The aim of the present study was to generate o...   \n",
      "\n",
      "                                           meshMajor      pmid  \\\n",
      "0  ['Amino Acid Sequence', 'Analgesics, Opioid', ...  19060934   \n",
      "1  ['Acrylic Resins', 'Alginates', 'Animals', 'Bi...  11426874   \n",
      "2  ['Antineoplastic Agents', 'Cell Proliferation'...  28323099   \n",
      "3  ['Animal Distribution', 'Animals', 'Asia', 'La...  28609947   \n",
      "4  ['Bone Marrow', 'Cervical Vertebrae', 'Equipme...   3165508   \n",
      "\n",
      "                                              meshid  \\\n",
      "0  [['G02.111.570.060', 'L01.453.245.667.060'], [...   \n",
      "1  [['D05.750.716.822.111', 'D25.720.716.822.111'...   \n",
      "2  [['D27.505.954.248'], ['G04.161.750', 'G07.345...   \n",
      "3  [['F01.145.113.069', 'G16.049'], ['B01.050'], ...   \n",
      "4  [['A15.382.216'], ['A02.835.232.834.151'], ['E...   \n",
      "\n",
      "                                            meshroot  \n",
      "0  ['Phenomena and Processes [G]', 'Information S...  \n",
      "1  ['Chemicals and Drugs [D]', 'Technology, Indus...  \n",
      "2  ['Chemicals and Drugs [D]', 'Phenomena and Pro...  \n",
      "3  ['Psychiatry and Psychology [F]', 'Phenomena a...  \n",
      "4  ['Anatomy [A]', 'Analytical, Diagnostic and Th...  \n",
      "(7499, 6)\n"
     ]
    }
   ],
   "source": [
    "valid_data = valid_dataset[valid_dataset.columns[:6]].copy()\n",
    "print(valid_data.head())\n",
    "print(valid_data.shape)"
   ]
  },
  {
   "cell_type": "markdown",
   "id": "b0de9321",
   "metadata": {},
   "source": [
    "Writing the train, validation and test data to csv file"
   ]
  },
  {
   "cell_type": "code",
   "execution_count": 6,
   "id": "da7d582d",
   "metadata": {
    "execution": {
     "iopub.execute_input": "2024-04-13T08:13:25.806240Z",
     "iopub.status.busy": "2024-04-13T08:13:25.805361Z",
     "iopub.status.idle": "2024-04-13T08:13:29.832868Z",
     "shell.execute_reply": "2024-04-13T08:13:29.832004Z"
    },
    "papermill": {
     "duration": 4.054774,
     "end_time": "2024-04-13T08:13:29.835416",
     "exception": false,
     "start_time": "2024-04-13T08:13:25.780642",
     "status": "completed"
    },
    "tags": []
   },
   "outputs": [],
   "source": [
    "file_path = '/kaggle/working/train_dataset.csv'\n",
    "train_dataset.to_csv(file_path, index=False, header=True)"
   ]
  },
  {
   "cell_type": "code",
   "execution_count": 7,
   "id": "4048a037",
   "metadata": {
    "execution": {
     "iopub.execute_input": "2024-04-13T08:13:29.883669Z",
     "iopub.status.busy": "2024-04-13T08:13:29.882901Z",
     "iopub.status.idle": "2024-04-13T08:13:30.750184Z",
     "shell.execute_reply": "2024-04-13T08:13:30.749131Z"
    },
    "papermill": {
     "duration": 0.894025,
     "end_time": "2024-04-13T08:13:30.752835",
     "exception": false,
     "start_time": "2024-04-13T08:13:29.858810",
     "status": "completed"
    },
    "tags": []
   },
   "outputs": [],
   "source": [
    "file_path = '/kaggle/working/valid_dataset.csv'\n",
    "valid_dataset.to_csv(file_path, index=False, header=True)"
   ]
  },
  {
   "cell_type": "code",
   "execution_count": 8,
   "id": "88eb8fb6",
   "metadata": {
    "execution": {
     "iopub.execute_input": "2024-04-13T08:13:30.802494Z",
     "iopub.status.busy": "2024-04-13T08:13:30.802145Z",
     "iopub.status.idle": "2024-04-13T08:13:31.664978Z",
     "shell.execute_reply": "2024-04-13T08:13:31.664047Z"
    },
    "papermill": {
     "duration": 0.890569,
     "end_time": "2024-04-13T08:13:31.667556",
     "exception": false,
     "start_time": "2024-04-13T08:13:30.776987",
     "status": "completed"
    },
    "tags": []
   },
   "outputs": [],
   "source": [
    "file_path = '/kaggle/working/test_dataset.csv'\n",
    "test_dataset.to_csv(file_path, index=False, header=True)"
   ]
  },
  {
   "cell_type": "markdown",
   "id": "6d9deadf",
   "metadata": {},
   "source": [
    "Combining the data in title and abstractText columns, and also the ground truth of all labels of a particular row to a list"
   ]
  },
  {
   "cell_type": "code",
   "execution_count": 9,
   "id": "20effcef",
   "metadata": {
    "execution": {
     "iopub.execute_input": "2024-04-13T08:13:31.716457Z",
     "iopub.status.busy": "2024-04-13T08:13:31.715570Z",
     "iopub.status.idle": "2024-04-13T08:13:31.846140Z",
     "shell.execute_reply": "2024-04-13T08:13:31.845031Z"
    },
    "papermill": {
     "duration": 0.157561,
     "end_time": "2024-04-13T08:13:31.848661",
     "exception": false,
     "start_time": "2024-04-13T08:13:31.691100",
     "status": "completed"
    },
    "tags": []
   },
   "outputs": [
    {
     "name": "stdout",
     "output_type": "stream",
     "text": [
      "                                            Combined  \\\n",
      "0  [Recommendations in relation to shift work]. T...   \n",
      "1  Orbital venous approach to the cavernous sinus...   \n",
      "2  Effects of cadmium on photosynthetic oxygen ev...   \n",
      "3  Captopril in congestive heart failure: improve...   \n",
      "4  Glycerol-induced development of catalytically ...   \n",
      "\n",
      "                                         list  \n",
      "0  [0, 1, 0, 0, 0, 0, 0, 0, 1, 0, 0, 0, 1, 0]  \n",
      "1  [1, 1, 1, 0, 0, 0, 0, 0, 0, 0, 0, 1, 0, 0]  \n",
      "2  [1, 1, 0, 1, 0, 0, 1, 0, 0, 0, 0, 0, 0, 0]  \n",
      "3  [1, 1, 1, 1, 0, 0, 1, 0, 0, 0, 0, 0, 0, 0]  \n",
      "4  [0, 1, 0, 1, 1, 0, 1, 0, 0, 0, 0, 0, 0, 0]  \n",
      "(34999, 2)\n"
     ]
    }
   ],
   "source": [
    "train_dataset['list'] = train_dataset[train_dataset.columns[6:20]].values.tolist()\n",
    "\n",
    "train_dataset['Combined'] = train_dataset['Title'].str.cat(train_dataset['abstractText'], sep=' ')\n",
    "\n",
    "train_dataset = train_dataset[['Combined', 'list']].copy()\n",
    "\n",
    "print(train_dataset.head())\n",
    "print(train_dataset.shape)"
   ]
  },
  {
   "cell_type": "code",
   "execution_count": 10,
   "id": "be01f7e9",
   "metadata": {
    "execution": {
     "iopub.execute_input": "2024-04-13T08:13:31.896428Z",
     "iopub.status.busy": "2024-04-13T08:13:31.896095Z",
     "iopub.status.idle": "2024-04-13T08:13:31.931455Z",
     "shell.execute_reply": "2024-04-13T08:13:31.930097Z"
    },
    "papermill": {
     "duration": 0.062095,
     "end_time": "2024-04-13T08:13:31.933858",
     "exception": false,
     "start_time": "2024-04-13T08:13:31.871763",
     "status": "completed"
    },
    "tags": []
   },
   "outputs": [
    {
     "name": "stdout",
     "output_type": "stream",
     "text": [
      "                                            Combined  \\\n",
      "0  [Identification of a functionally important di...   \n",
      "1  Multilayer capsules: a promising microencapsul...   \n",
      "2  Nanohydrogel with N,N'-bis(acryloyl)cystine cr...   \n",
      "3  A new <i>Panolis</i> H?bner, [1821] species fr...   \n",
      "4  Radiobiologic risk estimation from dental radi...   \n",
      "\n",
      "                                         list  \n",
      "0  [1, 1, 0, 1, 1, 0, 1, 0, 0, 0, 1, 0, 0, 0]  \n",
      "1  [1, 1, 1, 1, 1, 0, 1, 0, 0, 1, 0, 0, 0, 0]  \n",
      "2  [1, 1, 0, 1, 1, 0, 1, 0, 0, 1, 0, 0, 0, 0]  \n",
      "3  [0, 1, 0, 0, 0, 1, 1, 0, 0, 0, 0, 0, 0, 1]  \n",
      "4  [1, 1, 0, 0, 1, 0, 1, 1, 0, 1, 1, 0, 1, 0]  \n",
      "(7499, 2)\n"
     ]
    }
   ],
   "source": [
    "valid_dataset['list'] = valid_dataset[valid_dataset.columns[6:20]].values.tolist()\n",
    "\n",
    "valid_dataset['Combined'] = valid_dataset['Title'].str.cat(valid_dataset['abstractText'], sep=' ')\n",
    "\n",
    "valid_dataset = valid_dataset[['Combined', 'list']].copy()\n",
    "\n",
    "print(valid_dataset.head())\n",
    "print(valid_dataset.shape)"
   ]
  },
  {
   "cell_type": "markdown",
   "id": "1d9a844a",
   "metadata": {},
   "source": [
    "Setting up the learning parameters and importing tokenizer"
   ]
  },
  {
   "cell_type": "code",
   "execution_count": 11,
   "id": "bb80e075",
   "metadata": {
    "execution": {
     "iopub.execute_input": "2024-04-13T08:13:31.982604Z",
     "iopub.status.busy": "2024-04-13T08:13:31.982263Z",
     "iopub.status.idle": "2024-04-13T08:13:32.950358Z",
     "shell.execute_reply": "2024-04-13T08:13:32.949280Z"
    },
    "papermill": {
     "duration": 0.995388,
     "end_time": "2024-04-13T08:13:32.952870",
     "exception": false,
     "start_time": "2024-04-13T08:13:31.957482",
     "status": "completed"
    },
    "tags": []
   },
   "outputs": [
    {
     "data": {
      "application/vnd.jupyter.widget-view+json": {
       "model_id": "4b2bf1803ebb401e9333fb639cecd5ff",
       "version_major": 2,
       "version_minor": 0
      },
      "text/plain": [
       "tokenizer_config.json:   0%|          | 0.00/48.0 [00:00<?, ?B/s]"
      ]
     },
     "metadata": {},
     "output_type": "display_data"
    },
    {
     "data": {
      "application/vnd.jupyter.widget-view+json": {
       "model_id": "f069c43842394b63852a06c86f277d14",
       "version_major": 2,
       "version_minor": 0
      },
      "text/plain": [
       "vocab.txt:   0%|          | 0.00/232k [00:00<?, ?B/s]"
      ]
     },
     "metadata": {},
     "output_type": "display_data"
    },
    {
     "data": {
      "application/vnd.jupyter.widget-view+json": {
       "model_id": "98492e404bcc4f5c93c16e77e19bd91b",
       "version_major": 2,
       "version_minor": 0
      },
      "text/plain": [
       "tokenizer.json:   0%|          | 0.00/466k [00:00<?, ?B/s]"
      ]
     },
     "metadata": {},
     "output_type": "display_data"
    },
    {
     "data": {
      "application/vnd.jupyter.widget-view+json": {
       "model_id": "15b5267ccc754c55a73a600a6fd25350",
       "version_major": 2,
       "version_minor": 0
      },
      "text/plain": [
       "config.json:   0%|          | 0.00/570 [00:00<?, ?B/s]"
      ]
     },
     "metadata": {},
     "output_type": "display_data"
    }
   ],
   "source": [
    "MAX_LEN = 512\n",
    "TRAIN_BATCH_SIZE = 16\n",
    "VALID_BATCH_SIZE = 1\n",
    "EPOCHS = 20\n",
    "LEARNING_RATE = 1e-05\n",
    "tokenizer = BertTokenizer.from_pretrained('bert-base-uncased')"
   ]
  },
  {
   "cell_type": "markdown",
   "id": "59e30530",
   "metadata": {},
   "source": [
    "Defining dataset class"
   ]
  },
  {
   "cell_type": "code",
   "execution_count": 12,
   "id": "3cefef9a",
   "metadata": {
    "execution": {
     "iopub.execute_input": "2024-04-13T08:13:33.003114Z",
     "iopub.status.busy": "2024-04-13T08:13:33.002166Z",
     "iopub.status.idle": "2024-04-13T08:13:33.011708Z",
     "shell.execute_reply": "2024-04-13T08:13:33.010695Z"
    },
    "papermill": {
     "duration": 0.036544,
     "end_time": "2024-04-13T08:13:33.013780",
     "exception": false,
     "start_time": "2024-04-13T08:13:32.977236",
     "status": "completed"
    },
    "tags": []
   },
   "outputs": [],
   "source": [
    "class CustomDataset(Dataset):\n",
    "\n",
    "    def __init__(self, dataframe, tokenizer, max_len):\n",
    "        self.tokenizer = tokenizer\n",
    "        self.text = dataframe.Combined\n",
    "        self.targets = dataframe.list\n",
    "        self.max_len = max_len\n",
    "\n",
    "    def __len__(self):\n",
    "        return len(self.text)\n",
    "\n",
    "    def __getitem__(self, index):\n",
    "        text = str(self.text[index])\n",
    "        text = \" \".join(text.split())\n",
    "\n",
    "        inputs = self.tokenizer.encode_plus(\n",
    "            text,\n",
    "            None,\n",
    "            add_special_tokens=True,\n",
    "            max_length=self.max_len,\n",
    "            pad_to_max_length=True,\n",
    "#             padding='max_length',\n",
    "#             truncation=True,\n",
    "            return_token_type_ids=True\n",
    "        )\n",
    "        ids = inputs['input_ids']\n",
    "        mask = inputs['attention_mask']\n",
    "        token_type_ids = inputs[\"token_type_ids\"]\n",
    "\n",
    "\n",
    "        return {\n",
    "            'ids': torch.tensor(ids, dtype=torch.long),\n",
    "            'mask': torch.tensor(mask, dtype=torch.long),\n",
    "            'token_type_ids': torch.tensor(token_type_ids, dtype=torch.long),\n",
    "            'targets': torch.tensor(self.targets[index], dtype=torch.float)\n",
    "        }"
   ]
  },
  {
   "cell_type": "markdown",
   "id": "574dac9d",
   "metadata": {},
   "source": [
    "Creating datasets"
   ]
  },
  {
   "cell_type": "code",
   "execution_count": 13,
   "id": "6b87cc13",
   "metadata": {
    "execution": {
     "iopub.execute_input": "2024-04-13T08:13:33.061473Z",
     "iopub.status.busy": "2024-04-13T08:13:33.061161Z",
     "iopub.status.idle": "2024-04-13T08:13:33.065946Z",
     "shell.execute_reply": "2024-04-13T08:13:33.065047Z"
    },
    "papermill": {
     "duration": 0.031191,
     "end_time": "2024-04-13T08:13:33.068036",
     "exception": false,
     "start_time": "2024-04-13T08:13:33.036845",
     "status": "completed"
    },
    "tags": []
   },
   "outputs": [],
   "source": [
    "training_set = CustomDataset(train_dataset, tokenizer, MAX_LEN)\n",
    "validation_set = CustomDataset(valid_dataset, tokenizer, MAX_LEN)"
   ]
  },
  {
   "cell_type": "markdown",
   "id": "67bc5a82",
   "metadata": {},
   "source": [
    "Setting up training and validation parameters, and making dataloaders"
   ]
  },
  {
   "cell_type": "code",
   "execution_count": 14,
   "id": "5045d458",
   "metadata": {
    "execution": {
     "iopub.execute_input": "2024-04-13T08:13:33.117686Z",
     "iopub.status.busy": "2024-04-13T08:13:33.116623Z",
     "iopub.status.idle": "2024-04-13T08:13:33.122912Z",
     "shell.execute_reply": "2024-04-13T08:13:33.121968Z"
    },
    "papermill": {
     "duration": 0.033733,
     "end_time": "2024-04-13T08:13:33.124910",
     "exception": false,
     "start_time": "2024-04-13T08:13:33.091177",
     "status": "completed"
    },
    "tags": []
   },
   "outputs": [],
   "source": [
    "train_params = {'batch_size': TRAIN_BATCH_SIZE,\n",
    "                'shuffle': False,\n",
    "                'num_workers': 0,\n",
    "                'drop_last': True\n",
    "                }\n",
    "\n",
    "valid_params = {'batch_size': VALID_BATCH_SIZE,\n",
    "                'shuffle': False,\n",
    "                'num_workers': 0,\n",
    "                'drop_last': True\n",
    "                }\n",
    "\n",
    "training_loader = DataLoader(training_set, **train_params)\n",
    "validation_loader = DataLoader(validation_set, **valid_params)"
   ]
  },
  {
   "cell_type": "markdown",
   "id": "e64d1da2",
   "metadata": {},
   "source": [
    "Defining the BERT neural network class"
   ]
  },
  {
   "cell_type": "code",
   "execution_count": 15,
   "id": "bcd085e1",
   "metadata": {
    "execution": {
     "iopub.execute_input": "2024-04-13T08:13:33.173345Z",
     "iopub.status.busy": "2024-04-13T08:13:33.172736Z",
     "iopub.status.idle": "2024-04-13T08:13:33.181521Z",
     "shell.execute_reply": "2024-04-13T08:13:33.180554Z"
    },
    "papermill": {
     "duration": 0.0354,
     "end_time": "2024-04-13T08:13:33.183629",
     "exception": false,
     "start_time": "2024-04-13T08:13:33.148229",
     "status": "completed"
    },
    "tags": []
   },
   "outputs": [],
   "source": [
    "class BERTClass(torch.nn.Module):\n",
    "    def __init__(self, fine_tune_layers=1):\n",
    "        super(BERTClass, self).__init__()\n",
    "        self.l1 = transformers.BertModel.from_pretrained('bert-base-uncased')\n",
    "        self.l2 = torch.nn.Dropout(0.3)\n",
    "        self.l3 = torch.nn.Linear(768, 14)\n",
    "        \n",
    "        # Freeze all the parameters\n",
    "        for param in self.l1.parameters():\n",
    "            param.requires_grad = False\n",
    "\n",
    "        # Unfreeze the top n layers\n",
    "        if fine_tune_layers > 0:\n",
    "            for layer in self.l1.encoder.layer[-fine_tune_layers:]:\n",
    "                for param in layer.parameters():\n",
    "                    param.requires_grad = True\n",
    "    \n",
    "    def forward(self, ids, mask, token_type_ids):\n",
    "        _, output_1= self.l1(ids, attention_mask = mask, token_type_ids = token_type_ids, return_dict=False)\n",
    "        output_2 = self.l2(output_1)\n",
    "        output = self.l3(output_2)\n",
    "        return output"
   ]
  },
  {
   "cell_type": "markdown",
   "id": "871383a2",
   "metadata": {},
   "source": [
    "Creating the model"
   ]
  },
  {
   "cell_type": "code",
   "execution_count": 16,
   "id": "cc447aa2",
   "metadata": {
    "execution": {
     "iopub.execute_input": "2024-04-13T08:13:33.231158Z",
     "iopub.status.busy": "2024-04-13T08:13:33.230661Z",
     "iopub.status.idle": "2024-04-13T08:13:36.190070Z",
     "shell.execute_reply": "2024-04-13T08:13:36.189000Z"
    },
    "papermill": {
     "duration": 2.986049,
     "end_time": "2024-04-13T08:13:36.192594",
     "exception": false,
     "start_time": "2024-04-13T08:13:33.206545",
     "status": "completed"
    },
    "tags": []
   },
   "outputs": [
    {
     "data": {
      "application/vnd.jupyter.widget-view+json": {
       "model_id": "ad022e3ed04b493fa3d67fd4c6e04c75",
       "version_major": 2,
       "version_minor": 0
      },
      "text/plain": [
       "model.safetensors:   0%|          | 0.00/440M [00:00<?, ?B/s]"
      ]
     },
     "metadata": {},
     "output_type": "display_data"
    },
    {
     "data": {
      "text/plain": [
       "BERTClass(\n",
       "  (l1): BertModel(\n",
       "    (embeddings): BertEmbeddings(\n",
       "      (word_embeddings): Embedding(30522, 768, padding_idx=0)\n",
       "      (position_embeddings): Embedding(512, 768)\n",
       "      (token_type_embeddings): Embedding(2, 768)\n",
       "      (LayerNorm): LayerNorm((768,), eps=1e-12, elementwise_affine=True)\n",
       "      (dropout): Dropout(p=0.1, inplace=False)\n",
       "    )\n",
       "    (encoder): BertEncoder(\n",
       "      (layer): ModuleList(\n",
       "        (0-11): 12 x BertLayer(\n",
       "          (attention): BertAttention(\n",
       "            (self): BertSelfAttention(\n",
       "              (query): Linear(in_features=768, out_features=768, bias=True)\n",
       "              (key): Linear(in_features=768, out_features=768, bias=True)\n",
       "              (value): Linear(in_features=768, out_features=768, bias=True)\n",
       "              (dropout): Dropout(p=0.1, inplace=False)\n",
       "            )\n",
       "            (output): BertSelfOutput(\n",
       "              (dense): Linear(in_features=768, out_features=768, bias=True)\n",
       "              (LayerNorm): LayerNorm((768,), eps=1e-12, elementwise_affine=True)\n",
       "              (dropout): Dropout(p=0.1, inplace=False)\n",
       "            )\n",
       "          )\n",
       "          (intermediate): BertIntermediate(\n",
       "            (dense): Linear(in_features=768, out_features=3072, bias=True)\n",
       "            (intermediate_act_fn): GELUActivation()\n",
       "          )\n",
       "          (output): BertOutput(\n",
       "            (dense): Linear(in_features=3072, out_features=768, bias=True)\n",
       "            (LayerNorm): LayerNorm((768,), eps=1e-12, elementwise_affine=True)\n",
       "            (dropout): Dropout(p=0.1, inplace=False)\n",
       "          )\n",
       "        )\n",
       "      )\n",
       "    )\n",
       "    (pooler): BertPooler(\n",
       "      (dense): Linear(in_features=768, out_features=768, bias=True)\n",
       "      (activation): Tanh()\n",
       "    )\n",
       "  )\n",
       "  (l2): Dropout(p=0.3, inplace=False)\n",
       "  (l3): Linear(in_features=768, out_features=14, bias=True)\n",
       ")"
      ]
     },
     "execution_count": 16,
     "metadata": {},
     "output_type": "execute_result"
    }
   ],
   "source": [
    "model = BERTClass()\n",
    "model.to(device)"
   ]
  },
  {
   "cell_type": "markdown",
   "id": "c420d133",
   "metadata": {},
   "source": [
    "Defining loss function as Binary Cross Entropy with Logits Loss "
   ]
  },
  {
   "cell_type": "code",
   "execution_count": 17,
   "id": "64c17980",
   "metadata": {
    "execution": {
     "iopub.execute_input": "2024-04-13T08:13:36.243185Z",
     "iopub.status.busy": "2024-04-13T08:13:36.242494Z",
     "iopub.status.idle": "2024-04-13T08:13:36.247640Z",
     "shell.execute_reply": "2024-04-13T08:13:36.246626Z"
    },
    "papermill": {
     "duration": 0.033177,
     "end_time": "2024-04-13T08:13:36.249842",
     "exception": false,
     "start_time": "2024-04-13T08:13:36.216665",
     "status": "completed"
    },
    "tags": []
   },
   "outputs": [],
   "source": [
    "def loss_fn(outputs, targets):\n",
    "    return torch.nn.BCEWithLogitsLoss()(outputs, targets)"
   ]
  },
  {
   "cell_type": "markdown",
   "id": "6f2f0ba7",
   "metadata": {},
   "source": [
    "Defining Adam optimizer"
   ]
  },
  {
   "cell_type": "code",
   "execution_count": 18,
   "id": "61aab33f",
   "metadata": {
    "execution": {
     "iopub.execute_input": "2024-04-13T08:13:36.301555Z",
     "iopub.status.busy": "2024-04-13T08:13:36.301185Z",
     "iopub.status.idle": "2024-04-13T08:13:36.307651Z",
     "shell.execute_reply": "2024-04-13T08:13:36.306836Z"
    },
    "papermill": {
     "duration": 0.034744,
     "end_time": "2024-04-13T08:13:36.309794",
     "exception": false,
     "start_time": "2024-04-13T08:13:36.275050",
     "status": "completed"
    },
    "tags": []
   },
   "outputs": [],
   "source": [
    "optimizer = torch.optim.Adam(params =  model.parameters(), lr=LEARNING_RATE)"
   ]
  },
  {
   "cell_type": "markdown",
   "id": "95c66868",
   "metadata": {},
   "source": [
    "Defining evaluation function"
   ]
  },
  {
   "cell_type": "code",
   "execution_count": 19,
   "id": "956789d4",
   "metadata": {
    "execution": {
     "iopub.execute_input": "2024-04-13T08:13:36.360032Z",
     "iopub.status.busy": "2024-04-13T08:13:36.359621Z",
     "iopub.status.idle": "2024-04-13T08:13:36.376454Z",
     "shell.execute_reply": "2024-04-13T08:13:36.375462Z"
    },
    "papermill": {
     "duration": 0.045042,
     "end_time": "2024-04-13T08:13:36.378471",
     "exception": false,
     "start_time": "2024-04-13T08:13:36.333429",
     "status": "completed"
    },
    "tags": []
   },
   "outputs": [],
   "source": [
    "def evaluate(data_loader, valid_data):\n",
    "    model.eval()\n",
    "    fin_targets=[]\n",
    "    fin_outputs=[]\n",
    "    \n",
    "    total_loss = 0\n",
    "    with torch.no_grad():\n",
    "        for i, data in enumerate(data_loader, 0):\n",
    "            if(i%1000==0):\n",
    "                print(\"Data No.:\",i)\n",
    "            ids = data['ids'].to(device, dtype = torch.long)\n",
    "            mask = data['mask'].to(device, dtype = torch.long)\n",
    "            token_type_ids = data['token_type_ids'].to(device, dtype = torch.long)\n",
    "            targets = data['targets'].to(device, dtype = torch.float)\n",
    "            outputs = model(ids, mask, token_type_ids)\n",
    "            loss = loss_fn(outputs, targets)\n",
    "            total_loss+=loss.data.item()\n",
    "            fin_targets.extend(targets.cpu().detach().numpy().tolist())\n",
    "            fin_outputs.extend(torch.sigmoid(outputs).cpu().detach().numpy().tolist())\n",
    "    total_loss = total_loss/(len(data_loader))\n",
    "\n",
    "    fin_outputs = np.array(fin_outputs) >= 0.5\n",
    "    \n",
    "    accuracy = metrics.accuracy_score(fin_targets, fin_outputs)\n",
    "    print('accuracy:', accuracy)\n",
    "    \n",
    "    target_names = ['A', 'B', 'C', 'D', 'E', 'F', 'G', 'H', 'I', 'J', 'L', 'M', 'N', 'Z']    \n",
    "    print(metrics.classification_report(fin_targets, fin_outputs, target_names=target_names))\n",
    "    \n",
    "    precision = metrics.precision_score(fin_targets, fin_outputs, average=None)\n",
    "    precision_micro = metrics.precision_score(fin_targets, fin_outputs, average='micro')\n",
    "    precision_macro = metrics.precision_score(fin_targets, fin_outputs, average='macro')\n",
    "    \n",
    "    recall = metrics.recall_score(fin_targets, fin_outputs, average=None)\n",
    "    recall_micro = metrics.recall_score(fin_targets, fin_outputs, average='micro')\n",
    "    recall_macro = metrics.recall_score(fin_targets, fin_outputs, average='macro')\n",
    "    \n",
    "    f1_score = metrics.f1_score(fin_targets, fin_outputs, average=None)\n",
    "    f1_score_micro = metrics.f1_score(fin_targets, fin_outputs, average='micro')\n",
    "    f1_score_macro = metrics.f1_score(fin_targets, fin_outputs, average='macro')\n",
    "    \n",
    "    fin_outputs = fin_outputs.astype(int)\n",
    "\n",
    "    new_df = pd.DataFrame(fin_outputs, columns=target_names)\n",
    "\n",
    "    inference = pd.concat([valid_data, new_df], axis=1)\n",
    "\n",
    "    file_path = '/kaggle/working/valid_inference.csv'\n",
    "    inference.to_csv(file_path, index=False, header=True)\n",
    "    \n",
    "    return total_loss, accuracy, precision, precision_micro, precision_macro, recall, recall_micro, recall_macro, f1_score, f1_score_micro, f1_score_macro"
   ]
  },
  {
   "cell_type": "markdown",
   "id": "02d028c8",
   "metadata": {},
   "source": [
    "Defining training function"
   ]
  },
  {
   "cell_type": "code",
   "execution_count": 20,
   "id": "14493ed7",
   "metadata": {
    "execution": {
     "iopub.execute_input": "2024-04-13T08:13:36.428576Z",
     "iopub.status.busy": "2024-04-13T08:13:36.427605Z",
     "iopub.status.idle": "2024-04-13T08:13:36.438083Z",
     "shell.execute_reply": "2024-04-13T08:13:36.437156Z"
    },
    "papermill": {
     "duration": 0.037759,
     "end_time": "2024-04-13T08:13:36.440256",
     "exception": false,
     "start_time": "2024-04-13T08:13:36.402497",
     "status": "completed"
    },
    "tags": []
   },
   "outputs": [],
   "source": [
    "def train(epoch):\n",
    "    model.train()\n",
    "    epoch_train_loss = 0\n",
    "    for batch_num,data in enumerate(training_loader, 0):\n",
    "        ids = data['ids'].to(device, dtype = torch.long)\n",
    "        mask = data['mask'].to(device, dtype = torch.long)\n",
    "        token_type_ids = data['token_type_ids'].to(device, dtype = torch.long)\n",
    "        targets = data['targets'].to(device, dtype = torch.float)\n",
    "        outputs = model(ids, mask, token_type_ids)\n",
    "        optimizer.zero_grad()\n",
    "        loss = loss_fn(outputs, targets)\n",
    "        if(batch_num%100==0):\n",
    "            print(f'Epoch: {epoch}, Batch_Num: {batch_num}, Batch_Loss: {loss.data.item()}')\n",
    "        epoch_train_loss+=loss.data.item()\n",
    "        optimizer.zero_grad()\n",
    "        loss.backward()\n",
    "        optimizer.step()\n",
    "#         break\n",
    "    epoch_train_loss = epoch_train_loss/(len(training_loader))\n",
    "    valid_loss, accuracy, precision, precision_micro, precision_macro, recall, recall_micro, recall_macro, f1_score, f1_score_micro, f1_score_macro = evaluate(validation_loader, valid_data)\n",
    "    return epoch_train_loss, valid_loss, accuracy, precision, precision_micro, precision_macro, recall, recall_micro, recall_macro, f1_score, f1_score_micro, f1_score_macro"
   ]
  },
  {
   "cell_type": "markdown",
   "id": "d8d190e4",
   "metadata": {},
   "source": [
    "Training loop"
   ]
  },
  {
   "cell_type": "code",
   "execution_count": 21,
   "id": "dcca6533",
   "metadata": {
    "execution": {
     "iopub.execute_input": "2024-04-13T08:13:36.539181Z",
     "iopub.status.busy": "2024-04-13T08:13:36.538778Z",
     "iopub.status.idle": "2024-04-13T15:13:42.151897Z",
     "shell.execute_reply": "2024-04-13T15:13:42.150593Z"
    },
    "papermill": {
     "duration": 25205.690428,
     "end_time": "2024-04-13T15:13:42.154172",
     "exception": false,
     "start_time": "2024-04-13T08:13:36.463744",
     "status": "completed"
    },
    "tags": []
   },
   "outputs": [
    {
     "name": "stderr",
     "output_type": "stream",
     "text": [
      "Truncation was not explicitly activated but `max_length` is provided a specific value, please use `truncation=True` to explicitly truncate examples to max length. Defaulting to 'longest_first' truncation strategy. If you encode pairs of sequences (GLUE-style) with the tokenizer you can select this strategy more precisely by providing a specific strategy to `truncation`.\n",
      "/opt/conda/lib/python3.10/site-packages/transformers/tokenization_utils_base.py:2688: FutureWarning: The `pad_to_max_length` argument is deprecated and will be removed in a future version, use `padding=True` or `padding='longest'` to pad to the longest sequence in the batch, or use `padding='max_length'` to pad to a max length. In this case, you can give a specific length with `max_length` (e.g. `max_length=45`) or leave max_length to None to pad to the maximal input size of the model (e.g. 512 for Bert).\n",
      "  warnings.warn(\n"
     ]
    },
    {
     "name": "stdout",
     "output_type": "stream",
     "text": [
      "Epoch: 0, Batch_Num: 0, Batch_Loss: 0.6763616800308228\n",
      "Epoch: 0, Batch_Num: 100, Batch_Loss: 0.5192564725875854\n",
      "Epoch: 0, Batch_Num: 200, Batch_Loss: 0.48997774720191956\n",
      "Epoch: 0, Batch_Num: 300, Batch_Loss: 0.4896693229675293\n",
      "Epoch: 0, Batch_Num: 400, Batch_Loss: 0.44961053133010864\n",
      "Epoch: 0, Batch_Num: 500, Batch_Loss: 0.44241517782211304\n",
      "Epoch: 0, Batch_Num: 600, Batch_Loss: 0.4242211878299713\n",
      "Epoch: 0, Batch_Num: 700, Batch_Loss: 0.3690536320209503\n",
      "Epoch: 0, Batch_Num: 800, Batch_Loss: 0.4815064072608948\n",
      "Epoch: 0, Batch_Num: 900, Batch_Loss: 0.33185911178588867\n",
      "Epoch: 0, Batch_Num: 1000, Batch_Loss: 0.42886170744895935\n",
      "Epoch: 0, Batch_Num: 1100, Batch_Loss: 0.3078400194644928\n",
      "Epoch: 0, Batch_Num: 1200, Batch_Loss: 0.37679392099380493\n",
      "Epoch: 0, Batch_Num: 1300, Batch_Loss: 0.4013310372829437\n",
      "Epoch: 0, Batch_Num: 1400, Batch_Loss: 0.3879273235797882\n",
      "Epoch: 0, Batch_Num: 1500, Batch_Loss: 0.357032835483551\n",
      "Epoch: 0, Batch_Num: 1600, Batch_Loss: 0.4090721309185028\n",
      "Epoch: 0, Batch_Num: 1700, Batch_Loss: 0.44496625661849976\n",
      "Epoch: 0, Batch_Num: 1800, Batch_Loss: 0.3027421534061432\n",
      "Epoch: 0, Batch_Num: 1900, Batch_Loss: 0.38436147570610046\n",
      "Epoch: 0, Batch_Num: 2000, Batch_Loss: 0.31300538778305054\n",
      "Epoch: 0, Batch_Num: 2100, Batch_Loss: 0.40559712052345276\n",
      "Data No.: 0\n",
      "Data No.: 1000\n",
      "Data No.: 2000\n",
      "Data No.: 3000\n",
      "Data No.: 4000\n",
      "Data No.: 5000\n",
      "Data No.: 6000\n",
      "Data No.: 7000\n",
      "accuracy: 0.11254833977863715\n",
      "              precision    recall  f1-score   support\n",
      "\n",
      "           A       0.75      0.75      0.75      3517\n",
      "           B       0.93      1.00      0.97      6984\n",
      "           C       0.84      0.86      0.85      3975\n",
      "           D       0.89      0.91      0.90      4624\n",
      "           E       0.78      1.00      0.88      5839\n",
      "           F       0.81      0.54      0.64      1342\n",
      "           G       0.81      0.86      0.83      5049\n",
      "           H       0.78      0.01      0.02       884\n",
      "           I       0.61      0.47      0.53       807\n",
      "           J       0.63      0.05      0.09       827\n",
      "           L       1.00      0.00      0.01      1129\n",
      "           M       0.84      0.89      0.87      3180\n",
      "           N       0.78      0.75      0.76      3397\n",
      "           Z       0.72      0.53      0.61      1186\n",
      "\n",
      "   micro avg       0.83      0.81      0.82     42740\n",
      "   macro avg       0.80      0.61      0.62     42740\n",
      "weighted avg       0.83      0.81      0.79     42740\n",
      " samples avg       0.83      0.82      0.81     42740\n",
      "\n"
     ]
    },
    {
     "name": "stderr",
     "output_type": "stream",
     "text": [
      "/opt/conda/lib/python3.10/site-packages/sklearn/metrics/_classification.py:1344: UndefinedMetricWarning: Recall and F-score are ill-defined and being set to 0.0 in samples with no true labels. Use `zero_division` parameter to control this behavior.\n",
      "  _warn_prf(average, modifier, msg_start, len(result))\n"
     ]
    },
    {
     "name": "stdout",
     "output_type": "stream",
     "text": [
      "Epoch: 0, Train_Loss: 0.41211202661632457, Valid_Loss: 0.3482033712887529\n"
     ]
    },
    {
     "name": "stderr",
     "output_type": "stream",
     "text": [
      "/opt/conda/lib/python3.10/site-packages/transformers/tokenization_utils_base.py:2688: FutureWarning: The `pad_to_max_length` argument is deprecated and will be removed in a future version, use `padding=True` or `padding='longest'` to pad to the longest sequence in the batch, or use `padding='max_length'` to pad to a max length. In this case, you can give a specific length with `max_length` (e.g. `max_length=45`) or leave max_length to None to pad to the maximal input size of the model (e.g. 512 for Bert).\n",
      "  warnings.warn(\n"
     ]
    },
    {
     "name": "stdout",
     "output_type": "stream",
     "text": [
      "Epoch: 1, Batch_Num: 0, Batch_Loss: 0.3548942506313324\n",
      "Epoch: 1, Batch_Num: 100, Batch_Loss: 0.28891587257385254\n",
      "Epoch: 1, Batch_Num: 200, Batch_Loss: 0.33115074038505554\n",
      "Epoch: 1, Batch_Num: 300, Batch_Loss: 0.37237831950187683\n",
      "Epoch: 1, Batch_Num: 400, Batch_Loss: 0.371169775724411\n",
      "Epoch: 1, Batch_Num: 500, Batch_Loss: 0.3829209506511688\n",
      "Epoch: 1, Batch_Num: 600, Batch_Loss: 0.3210467994213104\n",
      "Epoch: 1, Batch_Num: 700, Batch_Loss: 0.2676332890987396\n",
      "Epoch: 1, Batch_Num: 800, Batch_Loss: 0.43723735213279724\n",
      "Epoch: 1, Batch_Num: 900, Batch_Loss: 0.2718580365180969\n",
      "Epoch: 1, Batch_Num: 1000, Batch_Loss: 0.3896835446357727\n",
      "Epoch: 1, Batch_Num: 1100, Batch_Loss: 0.26124587655067444\n",
      "Epoch: 1, Batch_Num: 1200, Batch_Loss: 0.3284032940864563\n",
      "Epoch: 1, Batch_Num: 1300, Batch_Loss: 0.37291795015335083\n",
      "Epoch: 1, Batch_Num: 1400, Batch_Loss: 0.352507621049881\n",
      "Epoch: 1, Batch_Num: 1500, Batch_Loss: 0.29955029487609863\n",
      "Epoch: 1, Batch_Num: 1600, Batch_Loss: 0.35325372219085693\n",
      "Epoch: 1, Batch_Num: 1700, Batch_Loss: 0.4041435420513153\n",
      "Epoch: 1, Batch_Num: 1800, Batch_Loss: 0.29194802045822144\n",
      "Epoch: 1, Batch_Num: 1900, Batch_Loss: 0.3214139938354492\n",
      "Epoch: 1, Batch_Num: 2000, Batch_Loss: 0.2824227809906006\n",
      "Epoch: 1, Batch_Num: 2100, Batch_Loss: 0.3775966763496399\n",
      "Data No.: 0\n",
      "Data No.: 1000\n",
      "Data No.: 2000\n",
      "Data No.: 3000\n",
      "Data No.: 4000\n",
      "Data No.: 5000\n",
      "Data No.: 6000\n",
      "Data No.: 7000\n",
      "accuracy: 0.12801706894252568\n",
      "              precision    recall  f1-score   support\n",
      "\n",
      "           A       0.79      0.75      0.77      3517\n",
      "           B       0.96      0.99      0.97      6984\n",
      "           C       0.87      0.84      0.85      3975\n",
      "           D       0.90      0.93      0.92      4624\n",
      "           E       0.78      1.00      0.88      5839\n",
      "           F       0.82      0.59      0.68      1342\n",
      "           G       0.82      0.87      0.85      5049\n",
      "           H       0.53      0.02      0.04       884\n",
      "           I       0.62      0.53      0.57       807\n",
      "           J       0.64      0.23      0.33       827\n",
      "           L       0.82      0.08      0.15      1129\n",
      "           M       0.86      0.89      0.87      3180\n",
      "           N       0.78      0.77      0.77      3397\n",
      "           Z       0.74      0.64      0.69      1186\n",
      "\n",
      "   micro avg       0.84      0.82      0.83     42740\n",
      "   macro avg       0.78      0.65      0.67     42740\n",
      "weighted avg       0.83      0.82      0.81     42740\n",
      " samples avg       0.84      0.83      0.82     42740\n",
      "\n"
     ]
    },
    {
     "name": "stderr",
     "output_type": "stream",
     "text": [
      "/opt/conda/lib/python3.10/site-packages/sklearn/metrics/_classification.py:1344: UndefinedMetricWarning: Recall and F-score are ill-defined and being set to 0.0 in samples with no true labels. Use `zero_division` parameter to control this behavior.\n",
      "  _warn_prf(average, modifier, msg_start, len(result))\n"
     ]
    },
    {
     "name": "stdout",
     "output_type": "stream",
     "text": [
      "Epoch: 1, Train_Loss: 0.3428528068828212, Valid_Loss: 0.3236345387582923\n"
     ]
    },
    {
     "name": "stderr",
     "output_type": "stream",
     "text": [
      "/opt/conda/lib/python3.10/site-packages/transformers/tokenization_utils_base.py:2688: FutureWarning: The `pad_to_max_length` argument is deprecated and will be removed in a future version, use `padding=True` or `padding='longest'` to pad to the longest sequence in the batch, or use `padding='max_length'` to pad to a max length. In this case, you can give a specific length with `max_length` (e.g. `max_length=45`) or leave max_length to None to pad to the maximal input size of the model (e.g. 512 for Bert).\n",
      "  warnings.warn(\n"
     ]
    },
    {
     "name": "stdout",
     "output_type": "stream",
     "text": [
      "Epoch: 2, Batch_Num: 0, Batch_Loss: 0.3269753158092499\n",
      "Epoch: 2, Batch_Num: 100, Batch_Loss: 0.26516589522361755\n",
      "Epoch: 2, Batch_Num: 200, Batch_Loss: 0.30993327498435974\n",
      "Epoch: 2, Batch_Num: 300, Batch_Loss: 0.3475642502307892\n",
      "Epoch: 2, Batch_Num: 400, Batch_Loss: 0.3371475338935852\n",
      "Epoch: 2, Batch_Num: 500, Batch_Loss: 0.38561883568763733\n",
      "Epoch: 2, Batch_Num: 600, Batch_Loss: 0.2846117615699768\n",
      "Epoch: 2, Batch_Num: 700, Batch_Loss: 0.25098392367362976\n",
      "Epoch: 2, Batch_Num: 800, Batch_Loss: 0.39008089900016785\n",
      "Epoch: 2, Batch_Num: 900, Batch_Loss: 0.2561921775341034\n",
      "Epoch: 2, Batch_Num: 1000, Batch_Loss: 0.379605233669281\n",
      "Epoch: 2, Batch_Num: 1100, Batch_Loss: 0.2489616870880127\n",
      "Epoch: 2, Batch_Num: 1200, Batch_Loss: 0.3250151574611664\n",
      "Epoch: 2, Batch_Num: 1300, Batch_Loss: 0.347385436296463\n",
      "Epoch: 2, Batch_Num: 1400, Batch_Loss: 0.3240152597427368\n",
      "Epoch: 2, Batch_Num: 1500, Batch_Loss: 0.31855183839797974\n",
      "Epoch: 2, Batch_Num: 1600, Batch_Loss: 0.34611377120018005\n",
      "Epoch: 2, Batch_Num: 1700, Batch_Loss: 0.3471979796886444\n",
      "Epoch: 2, Batch_Num: 1800, Batch_Loss: 0.26379406452178955\n",
      "Epoch: 2, Batch_Num: 1900, Batch_Loss: 0.3283044397830963\n",
      "Epoch: 2, Batch_Num: 2000, Batch_Loss: 0.2570576071739197\n",
      "Epoch: 2, Batch_Num: 2100, Batch_Loss: 0.3536984622478485\n",
      "Data No.: 0\n",
      "Data No.: 1000\n",
      "Data No.: 2000\n",
      "Data No.: 3000\n",
      "Data No.: 4000\n",
      "Data No.: 5000\n",
      "Data No.: 6000\n",
      "Data No.: 7000\n",
      "accuracy: 0.13935191358847845\n",
      "              precision    recall  f1-score   support\n",
      "\n",
      "           A       0.80      0.75      0.78      3517\n",
      "           B       0.96      0.99      0.97      6984\n",
      "           C       0.87      0.85      0.86      3975\n",
      "           D       0.91      0.93      0.92      4624\n",
      "           E       0.79      0.99      0.88      5839\n",
      "           F       0.83      0.61      0.70      1342\n",
      "           G       0.83      0.87      0.85      5049\n",
      "           H       0.47      0.04      0.07       884\n",
      "           I       0.64      0.54      0.59       807\n",
      "           J       0.68      0.26      0.38       827\n",
      "           L       0.83      0.18      0.30      1129\n",
      "           M       0.86      0.90      0.88      3180\n",
      "           N       0.79      0.77      0.78      3397\n",
      "           Z       0.75      0.68      0.71      1186\n",
      "\n",
      "   micro avg       0.85      0.83      0.84     42740\n",
      "   macro avg       0.79      0.67      0.69     42740\n",
      "weighted avg       0.84      0.83      0.82     42740\n",
      " samples avg       0.85      0.84      0.83     42740\n",
      "\n"
     ]
    },
    {
     "name": "stderr",
     "output_type": "stream",
     "text": [
      "/opt/conda/lib/python3.10/site-packages/sklearn/metrics/_classification.py:1344: UndefinedMetricWarning: Recall and F-score are ill-defined and being set to 0.0 in samples with no true labels. Use `zero_division` parameter to control this behavior.\n",
      "  _warn_prf(average, modifier, msg_start, len(result))\n"
     ]
    },
    {
     "name": "stdout",
     "output_type": "stream",
     "text": [
      "Epoch: 2, Train_Loss: 0.3233055061995847, Valid_Loss: 0.3101985279795074\n"
     ]
    },
    {
     "name": "stderr",
     "output_type": "stream",
     "text": [
      "/opt/conda/lib/python3.10/site-packages/transformers/tokenization_utils_base.py:2688: FutureWarning: The `pad_to_max_length` argument is deprecated and will be removed in a future version, use `padding=True` or `padding='longest'` to pad to the longest sequence in the batch, or use `padding='max_length'` to pad to a max length. In this case, you can give a specific length with `max_length` (e.g. `max_length=45`) or leave max_length to None to pad to the maximal input size of the model (e.g. 512 for Bert).\n",
      "  warnings.warn(\n"
     ]
    },
    {
     "name": "stdout",
     "output_type": "stream",
     "text": [
      "Epoch: 3, Batch_Num: 0, Batch_Loss: 0.3155396580696106\n",
      "Epoch: 3, Batch_Num: 100, Batch_Loss: 0.26318785548210144\n",
      "Epoch: 3, Batch_Num: 200, Batch_Loss: 0.286037415266037\n",
      "Epoch: 3, Batch_Num: 300, Batch_Loss: 0.316598117351532\n",
      "Epoch: 3, Batch_Num: 400, Batch_Loss: 0.3278700113296509\n",
      "Epoch: 3, Batch_Num: 500, Batch_Loss: 0.36271950602531433\n",
      "Epoch: 3, Batch_Num: 600, Batch_Loss: 0.2637518048286438\n",
      "Epoch: 3, Batch_Num: 700, Batch_Loss: 0.23541423678398132\n",
      "Epoch: 3, Batch_Num: 800, Batch_Loss: 0.3786850869655609\n",
      "Epoch: 3, Batch_Num: 900, Batch_Loss: 0.25312885642051697\n",
      "Epoch: 3, Batch_Num: 1000, Batch_Loss: 0.3638182282447815\n",
      "Epoch: 3, Batch_Num: 1100, Batch_Loss: 0.2267218977212906\n",
      "Epoch: 3, Batch_Num: 1200, Batch_Loss: 0.3065679967403412\n",
      "Epoch: 3, Batch_Num: 1300, Batch_Loss: 0.343037486076355\n",
      "Epoch: 3, Batch_Num: 1400, Batch_Loss: 0.31272202730178833\n",
      "Epoch: 3, Batch_Num: 1500, Batch_Loss: 0.2960797846317291\n",
      "Epoch: 3, Batch_Num: 1600, Batch_Loss: 0.3298061490058899\n",
      "Epoch: 3, Batch_Num: 1700, Batch_Loss: 0.3656470477581024\n",
      "Epoch: 3, Batch_Num: 1800, Batch_Loss: 0.2714628577232361\n",
      "Epoch: 3, Batch_Num: 1900, Batch_Loss: 0.3197055757045746\n",
      "Epoch: 3, Batch_Num: 2000, Batch_Loss: 0.25933900475502014\n",
      "Epoch: 3, Batch_Num: 2100, Batch_Loss: 0.3490673005580902\n",
      "Data No.: 0\n",
      "Data No.: 1000\n",
      "Data No.: 2000\n",
      "Data No.: 3000\n",
      "Data No.: 4000\n",
      "Data No.: 5000\n",
      "Data No.: 6000\n",
      "Data No.: 7000\n",
      "accuracy: 0.14495266035471396\n",
      "              precision    recall  f1-score   support\n",
      "\n",
      "           A       0.81      0.75      0.78      3517\n",
      "           B       0.96      0.99      0.97      6984\n",
      "           C       0.89      0.83      0.86      3975\n",
      "           D       0.91      0.94      0.92      4624\n",
      "           E       0.79      0.98      0.88      5839\n",
      "           F       0.83      0.63      0.71      1342\n",
      "           G       0.82      0.88      0.85      5049\n",
      "           H       0.52      0.06      0.10       884\n",
      "           I       0.65      0.54      0.59       807\n",
      "           J       0.69      0.30      0.42       827\n",
      "           L       0.82      0.26      0.39      1129\n",
      "           M       0.87      0.89      0.88      3180\n",
      "           N       0.79      0.77      0.78      3397\n",
      "           Z       0.76      0.67      0.71      1186\n",
      "\n",
      "   micro avg       0.85      0.83      0.84     42740\n",
      "   macro avg       0.80      0.68      0.70     42740\n",
      "weighted avg       0.84      0.83      0.83     42740\n",
      " samples avg       0.85      0.84      0.83     42740\n",
      "\n"
     ]
    },
    {
     "name": "stderr",
     "output_type": "stream",
     "text": [
      "/opt/conda/lib/python3.10/site-packages/sklearn/metrics/_classification.py:1344: UndefinedMetricWarning: Recall and F-score are ill-defined and being set to 0.0 in samples with no true labels. Use `zero_division` parameter to control this behavior.\n",
      "  _warn_prf(average, modifier, msg_start, len(result))\n"
     ]
    },
    {
     "name": "stdout",
     "output_type": "stream",
     "text": [
      "Epoch: 3, Train_Loss: 0.3120328566433362, Valid_Loss: 0.30304637258808553\n"
     ]
    },
    {
     "name": "stderr",
     "output_type": "stream",
     "text": [
      "/opt/conda/lib/python3.10/site-packages/transformers/tokenization_utils_base.py:2688: FutureWarning: The `pad_to_max_length` argument is deprecated and will be removed in a future version, use `padding=True` or `padding='longest'` to pad to the longest sequence in the batch, or use `padding='max_length'` to pad to a max length. In this case, you can give a specific length with `max_length` (e.g. `max_length=45`) or leave max_length to None to pad to the maximal input size of the model (e.g. 512 for Bert).\n",
      "  warnings.warn(\n"
     ]
    },
    {
     "name": "stdout",
     "output_type": "stream",
     "text": [
      "Epoch: 4, Batch_Num: 0, Batch_Loss: 0.3245953619480133\n",
      "Epoch: 4, Batch_Num: 100, Batch_Loss: 0.23653773963451385\n",
      "Epoch: 4, Batch_Num: 200, Batch_Loss: 0.27237364649772644\n",
      "Epoch: 4, Batch_Num: 300, Batch_Loss: 0.3108116090297699\n",
      "Epoch: 4, Batch_Num: 400, Batch_Loss: 0.3321729600429535\n",
      "Epoch: 4, Batch_Num: 500, Batch_Loss: 0.36301910877227783\n",
      "Epoch: 4, Batch_Num: 600, Batch_Loss: 0.24487993121147156\n",
      "Epoch: 4, Batch_Num: 700, Batch_Loss: 0.24131076037883759\n",
      "Epoch: 4, Batch_Num: 800, Batch_Loss: 0.3737438917160034\n",
      "Epoch: 4, Batch_Num: 900, Batch_Loss: 0.27591851353645325\n",
      "Epoch: 4, Batch_Num: 1000, Batch_Loss: 0.3738115429878235\n",
      "Epoch: 4, Batch_Num: 1100, Batch_Loss: 0.22092071175575256\n",
      "Epoch: 4, Batch_Num: 1200, Batch_Loss: 0.3015856146812439\n",
      "Epoch: 4, Batch_Num: 1300, Batch_Loss: 0.3248303532600403\n",
      "Epoch: 4, Batch_Num: 1400, Batch_Loss: 0.32266637682914734\n",
      "Epoch: 4, Batch_Num: 1500, Batch_Loss: 0.3111427426338196\n",
      "Epoch: 4, Batch_Num: 1600, Batch_Loss: 0.32321852445602417\n",
      "Epoch: 4, Batch_Num: 1700, Batch_Loss: 0.3140546679496765\n",
      "Epoch: 4, Batch_Num: 1800, Batch_Loss: 0.25466787815093994\n",
      "Epoch: 4, Batch_Num: 1900, Batch_Loss: 0.2986704409122467\n",
      "Epoch: 4, Batch_Num: 2000, Batch_Loss: 0.26182934641838074\n",
      "Epoch: 4, Batch_Num: 2100, Batch_Loss: 0.3332715928554535\n",
      "Data No.: 0\n",
      "Data No.: 1000\n",
      "Data No.: 2000\n",
      "Data No.: 3000\n",
      "Data No.: 4000\n",
      "Data No.: 5000\n",
      "Data No.: 6000\n",
      "Data No.: 7000\n",
      "accuracy: 0.15148686491532204\n",
      "              precision    recall  f1-score   support\n",
      "\n",
      "           A       0.81      0.77      0.79      3517\n",
      "           B       0.97      0.98      0.97      6984\n",
      "           C       0.89      0.84      0.87      3975\n",
      "           D       0.90      0.94      0.92      4624\n",
      "           E       0.80      0.97      0.88      5839\n",
      "           F       0.86      0.62      0.72      1342\n",
      "           G       0.83      0.89      0.86      5049\n",
      "           H       0.50      0.07      0.13       884\n",
      "           I       0.65      0.52      0.58       807\n",
      "           J       0.68      0.36      0.47       827\n",
      "           L       0.81      0.32      0.45      1129\n",
      "           M       0.88      0.88      0.88      3180\n",
      "           N       0.80      0.77      0.78      3397\n",
      "           Z       0.76      0.70      0.73      1186\n",
      "\n",
      "   micro avg       0.85      0.83      0.84     42740\n",
      "   macro avg       0.79      0.69      0.72     42740\n",
      "weighted avg       0.85      0.83      0.83     42740\n",
      " samples avg       0.86      0.84      0.84     42740\n",
      "\n"
     ]
    },
    {
     "name": "stderr",
     "output_type": "stream",
     "text": [
      "/opt/conda/lib/python3.10/site-packages/sklearn/metrics/_classification.py:1344: UndefinedMetricWarning: Recall and F-score are ill-defined and being set to 0.0 in samples with no true labels. Use `zero_division` parameter to control this behavior.\n",
      "  _warn_prf(average, modifier, msg_start, len(result))\n"
     ]
    },
    {
     "name": "stdout",
     "output_type": "stream",
     "text": [
      "Epoch: 4, Train_Loss: 0.30461032086984174, Valid_Loss: 0.29757593894196777\n"
     ]
    },
    {
     "name": "stderr",
     "output_type": "stream",
     "text": [
      "/opt/conda/lib/python3.10/site-packages/transformers/tokenization_utils_base.py:2688: FutureWarning: The `pad_to_max_length` argument is deprecated and will be removed in a future version, use `padding=True` or `padding='longest'` to pad to the longest sequence in the batch, or use `padding='max_length'` to pad to a max length. In this case, you can give a specific length with `max_length` (e.g. `max_length=45`) or leave max_length to None to pad to the maximal input size of the model (e.g. 512 for Bert).\n",
      "  warnings.warn(\n"
     ]
    },
    {
     "name": "stdout",
     "output_type": "stream",
     "text": [
      "Epoch: 5, Batch_Num: 0, Batch_Loss: 0.31971675157546997\n",
      "Epoch: 5, Batch_Num: 100, Batch_Loss: 0.23383864760398865\n",
      "Epoch: 5, Batch_Num: 200, Batch_Loss: 0.284768283367157\n",
      "Epoch: 5, Batch_Num: 300, Batch_Loss: 0.287638783454895\n",
      "Epoch: 5, Batch_Num: 400, Batch_Loss: 0.32441410422325134\n",
      "Epoch: 5, Batch_Num: 500, Batch_Loss: 0.3725942373275757\n",
      "Epoch: 5, Batch_Num: 600, Batch_Loss: 0.25251883268356323\n",
      "Epoch: 5, Batch_Num: 700, Batch_Loss: 0.2426411658525467\n",
      "Epoch: 5, Batch_Num: 800, Batch_Loss: 0.35121551156044006\n",
      "Epoch: 5, Batch_Num: 900, Batch_Loss: 0.2534479796886444\n",
      "Epoch: 5, Batch_Num: 1000, Batch_Loss: 0.3582488000392914\n",
      "Epoch: 5, Batch_Num: 1100, Batch_Loss: 0.22289802134037018\n",
      "Epoch: 5, Batch_Num: 1200, Batch_Loss: 0.29731428623199463\n",
      "Epoch: 5, Batch_Num: 1300, Batch_Loss: 0.3220473527908325\n",
      "Epoch: 5, Batch_Num: 1400, Batch_Loss: 0.3126825988292694\n",
      "Epoch: 5, Batch_Num: 1500, Batch_Loss: 0.3004792332649231\n",
      "Epoch: 5, Batch_Num: 1600, Batch_Loss: 0.30531740188598633\n",
      "Epoch: 5, Batch_Num: 1700, Batch_Loss: 0.331230103969574\n",
      "Epoch: 5, Batch_Num: 1800, Batch_Loss: 0.2495676875114441\n",
      "Epoch: 5, Batch_Num: 1900, Batch_Loss: 0.29632601141929626\n",
      "Epoch: 5, Batch_Num: 2000, Batch_Loss: 0.24687904119491577\n",
      "Epoch: 5, Batch_Num: 2100, Batch_Loss: 0.345013290643692\n",
      "Data No.: 0\n",
      "Data No.: 1000\n",
      "Data No.: 2000\n",
      "Data No.: 3000\n",
      "Data No.: 4000\n",
      "Data No.: 5000\n",
      "Data No.: 6000\n",
      "Data No.: 7000\n",
      "accuracy: 0.1549539938658488\n",
      "              precision    recall  f1-score   support\n",
      "\n",
      "           A       0.82      0.76      0.78      3517\n",
      "           B       0.97      0.98      0.98      6984\n",
      "           C       0.90      0.85      0.87      3975\n",
      "           D       0.91      0.94      0.92      4624\n",
      "           E       0.80      0.97      0.88      5839\n",
      "           F       0.85      0.66      0.74      1342\n",
      "           G       0.83      0.88      0.86      5049\n",
      "           H       0.52      0.07      0.13       884\n",
      "           I       0.65      0.53      0.59       807\n",
      "           J       0.70      0.35      0.47       827\n",
      "           L       0.79      0.35      0.48      1129\n",
      "           M       0.87      0.90      0.89      3180\n",
      "           N       0.79      0.78      0.79      3397\n",
      "           Z       0.76      0.71      0.74      1186\n",
      "\n",
      "   micro avg       0.86      0.84      0.85     42740\n",
      "   macro avg       0.80      0.70      0.72     42740\n",
      "weighted avg       0.85      0.84      0.83     42740\n",
      " samples avg       0.86      0.85      0.84     42740\n",
      "\n"
     ]
    },
    {
     "name": "stderr",
     "output_type": "stream",
     "text": [
      "/opt/conda/lib/python3.10/site-packages/sklearn/metrics/_classification.py:1344: UndefinedMetricWarning: Recall and F-score are ill-defined and being set to 0.0 in samples with no true labels. Use `zero_division` parameter to control this behavior.\n",
      "  _warn_prf(average, modifier, msg_start, len(result))\n"
     ]
    },
    {
     "name": "stdout",
     "output_type": "stream",
     "text": [
      "Epoch: 5, Train_Loss: 0.2982838449000658, Valid_Loss: 0.2930850260653191\n"
     ]
    },
    {
     "name": "stderr",
     "output_type": "stream",
     "text": [
      "/opt/conda/lib/python3.10/site-packages/transformers/tokenization_utils_base.py:2688: FutureWarning: The `pad_to_max_length` argument is deprecated and will be removed in a future version, use `padding=True` or `padding='longest'` to pad to the longest sequence in the batch, or use `padding='max_length'` to pad to a max length. In this case, you can give a specific length with `max_length` (e.g. `max_length=45`) or leave max_length to None to pad to the maximal input size of the model (e.g. 512 for Bert).\n",
      "  warnings.warn(\n"
     ]
    },
    {
     "name": "stdout",
     "output_type": "stream",
     "text": [
      "Epoch: 6, Batch_Num: 0, Batch_Loss: 0.31685662269592285\n",
      "Epoch: 6, Batch_Num: 100, Batch_Loss: 0.24201366305351257\n",
      "Epoch: 6, Batch_Num: 200, Batch_Loss: 0.2696993947029114\n",
      "Epoch: 6, Batch_Num: 300, Batch_Loss: 0.2903095781803131\n",
      "Epoch: 6, Batch_Num: 400, Batch_Loss: 0.2986624836921692\n",
      "Epoch: 6, Batch_Num: 500, Batch_Loss: 0.35459309816360474\n",
      "Epoch: 6, Batch_Num: 600, Batch_Loss: 0.23948892951011658\n",
      "Epoch: 6, Batch_Num: 700, Batch_Loss: 0.2390478551387787\n",
      "Epoch: 6, Batch_Num: 800, Batch_Loss: 0.34807369112968445\n",
      "Epoch: 6, Batch_Num: 900, Batch_Loss: 0.24419718980789185\n",
      "Epoch: 6, Batch_Num: 1000, Batch_Loss: 0.3459097445011139\n",
      "Epoch: 6, Batch_Num: 1100, Batch_Loss: 0.20777259767055511\n",
      "Epoch: 6, Batch_Num: 1200, Batch_Loss: 0.27782270312309265\n",
      "Epoch: 6, Batch_Num: 1300, Batch_Loss: 0.3187495768070221\n",
      "Epoch: 6, Batch_Num: 1400, Batch_Loss: 0.3127714693546295\n",
      "Epoch: 6, Batch_Num: 1500, Batch_Loss: 0.29285651445388794\n",
      "Epoch: 6, Batch_Num: 1600, Batch_Loss: 0.30580854415893555\n",
      "Epoch: 6, Batch_Num: 1700, Batch_Loss: 0.31986770033836365\n",
      "Epoch: 6, Batch_Num: 1800, Batch_Loss: 0.24331700801849365\n",
      "Epoch: 6, Batch_Num: 1900, Batch_Loss: 0.2803766429424286\n",
      "Epoch: 6, Batch_Num: 2000, Batch_Loss: 0.24900856614112854\n",
      "Epoch: 6, Batch_Num: 2100, Batch_Loss: 0.34760817885398865\n",
      "Data No.: 0\n",
      "Data No.: 1000\n",
      "Data No.: 2000\n",
      "Data No.: 3000\n",
      "Data No.: 4000\n",
      "Data No.: 5000\n",
      "Data No.: 6000\n",
      "Data No.: 7000\n",
      "accuracy: 0.1606880917455661\n",
      "              precision    recall  f1-score   support\n",
      "\n",
      "           A       0.82      0.77      0.79      3517\n",
      "           B       0.96      0.99      0.98      6984\n",
      "           C       0.90      0.84      0.87      3975\n",
      "           D       0.91      0.94      0.92      4624\n",
      "           E       0.80      0.97      0.88      5839\n",
      "           F       0.86      0.66      0.74      1342\n",
      "           G       0.83      0.88      0.86      5049\n",
      "           H       0.52      0.07      0.13       884\n",
      "           I       0.66      0.52      0.58       807\n",
      "           J       0.73      0.36      0.48       827\n",
      "           L       0.81      0.34      0.48      1129\n",
      "           M       0.88      0.90      0.89      3180\n",
      "           N       0.80      0.79      0.79      3397\n",
      "           Z       0.77      0.70      0.74      1186\n",
      "\n",
      "   micro avg       0.86      0.84      0.85     42740\n",
      "   macro avg       0.80      0.69      0.72     42740\n",
      "weighted avg       0.85      0.84      0.83     42740\n",
      " samples avg       0.86      0.85      0.84     42740\n",
      "\n"
     ]
    },
    {
     "name": "stderr",
     "output_type": "stream",
     "text": [
      "/opt/conda/lib/python3.10/site-packages/sklearn/metrics/_classification.py:1344: UndefinedMetricWarning: Recall and F-score are ill-defined and being set to 0.0 in samples with no true labels. Use `zero_division` parameter to control this behavior.\n",
      "  _warn_prf(average, modifier, msg_start, len(result))\n"
     ]
    },
    {
     "name": "stdout",
     "output_type": "stream",
     "text": [
      "Epoch: 6, Train_Loss: 0.2932980813198456, Valid_Loss: 0.2892856311864266\n"
     ]
    },
    {
     "name": "stderr",
     "output_type": "stream",
     "text": [
      "/opt/conda/lib/python3.10/site-packages/transformers/tokenization_utils_base.py:2688: FutureWarning: The `pad_to_max_length` argument is deprecated and will be removed in a future version, use `padding=True` or `padding='longest'` to pad to the longest sequence in the batch, or use `padding='max_length'` to pad to a max length. In this case, you can give a specific length with `max_length` (e.g. `max_length=45`) or leave max_length to None to pad to the maximal input size of the model (e.g. 512 for Bert).\n",
      "  warnings.warn(\n"
     ]
    },
    {
     "name": "stdout",
     "output_type": "stream",
     "text": [
      "Epoch: 7, Batch_Num: 0, Batch_Loss: 0.3179382085800171\n",
      "Epoch: 7, Batch_Num: 100, Batch_Loss: 0.22802996635437012\n",
      "Epoch: 7, Batch_Num: 200, Batch_Loss: 0.2691044807434082\n",
      "Epoch: 7, Batch_Num: 300, Batch_Loss: 0.29255127906799316\n",
      "Epoch: 7, Batch_Num: 400, Batch_Loss: 0.31246626377105713\n",
      "Epoch: 7, Batch_Num: 500, Batch_Loss: 0.3473997414112091\n",
      "Epoch: 7, Batch_Num: 600, Batch_Loss: 0.24950912594795227\n",
      "Epoch: 7, Batch_Num: 700, Batch_Loss: 0.21294161677360535\n",
      "Epoch: 7, Batch_Num: 800, Batch_Loss: 0.34269171953201294\n",
      "Epoch: 7, Batch_Num: 900, Batch_Loss: 0.24818003177642822\n",
      "Epoch: 7, Batch_Num: 1000, Batch_Loss: 0.3346494436264038\n",
      "Epoch: 7, Batch_Num: 1100, Batch_Loss: 0.20529809594154358\n",
      "Epoch: 7, Batch_Num: 1200, Batch_Loss: 0.2950829863548279\n",
      "Epoch: 7, Batch_Num: 1300, Batch_Loss: 0.3065476417541504\n",
      "Epoch: 7, Batch_Num: 1400, Batch_Loss: 0.3109816610813141\n",
      "Epoch: 7, Batch_Num: 1500, Batch_Loss: 0.27982497215270996\n",
      "Epoch: 7, Batch_Num: 1600, Batch_Loss: 0.3015855550765991\n",
      "Epoch: 7, Batch_Num: 1700, Batch_Loss: 0.3322694003582001\n",
      "Epoch: 7, Batch_Num: 1800, Batch_Loss: 0.23418062925338745\n",
      "Epoch: 7, Batch_Num: 1900, Batch_Loss: 0.27984508872032166\n",
      "Epoch: 7, Batch_Num: 2000, Batch_Loss: 0.2621925473213196\n",
      "Epoch: 7, Batch_Num: 2100, Batch_Loss: 0.33054107427597046\n",
      "Data No.: 0\n",
      "Data No.: 1000\n",
      "Data No.: 2000\n",
      "Data No.: 3000\n",
      "Data No.: 4000\n",
      "Data No.: 5000\n",
      "Data No.: 6000\n",
      "Data No.: 7000\n",
      "accuracy: 0.1648219762635018\n",
      "              precision    recall  f1-score   support\n",
      "\n",
      "           A       0.81      0.78      0.79      3517\n",
      "           B       0.97      0.98      0.98      6984\n",
      "           C       0.89      0.87      0.88      3975\n",
      "           D       0.91      0.94      0.92      4624\n",
      "           E       0.81      0.96      0.88      5839\n",
      "           F       0.85      0.67      0.75      1342\n",
      "           G       0.83      0.88      0.86      5049\n",
      "           H       0.52      0.09      0.15       884\n",
      "           I       0.65      0.56      0.60       807\n",
      "           J       0.71      0.42      0.52       827\n",
      "           L       0.79      0.38      0.51      1129\n",
      "           M       0.87      0.91      0.89      3180\n",
      "           N       0.80      0.78      0.79      3397\n",
      "           Z       0.76      0.74      0.75      1186\n",
      "\n",
      "   micro avg       0.86      0.85      0.85     42740\n",
      "   macro avg       0.80      0.71      0.73     42740\n",
      "weighted avg       0.85      0.85      0.84     42740\n",
      " samples avg       0.86      0.85      0.84     42740\n",
      "\n"
     ]
    },
    {
     "name": "stderr",
     "output_type": "stream",
     "text": [
      "/opt/conda/lib/python3.10/site-packages/sklearn/metrics/_classification.py:1344: UndefinedMetricWarning: Recall and F-score are ill-defined and being set to 0.0 in samples with no true labels. Use `zero_division` parameter to control this behavior.\n",
      "  _warn_prf(average, modifier, msg_start, len(result))\n"
     ]
    },
    {
     "name": "stdout",
     "output_type": "stream",
     "text": [
      "Epoch: 7, Train_Loss: 0.28900662576247416, Valid_Loss: 0.2863923060160181\n"
     ]
    },
    {
     "name": "stderr",
     "output_type": "stream",
     "text": [
      "/opt/conda/lib/python3.10/site-packages/transformers/tokenization_utils_base.py:2688: FutureWarning: The `pad_to_max_length` argument is deprecated and will be removed in a future version, use `padding=True` or `padding='longest'` to pad to the longest sequence in the batch, or use `padding='max_length'` to pad to a max length. In this case, you can give a specific length with `max_length` (e.g. `max_length=45`) or leave max_length to None to pad to the maximal input size of the model (e.g. 512 for Bert).\n",
      "  warnings.warn(\n"
     ]
    },
    {
     "name": "stdout",
     "output_type": "stream",
     "text": [
      "Epoch: 8, Batch_Num: 0, Batch_Loss: 0.30659499764442444\n",
      "Epoch: 8, Batch_Num: 100, Batch_Loss: 0.23946969211101532\n",
      "Epoch: 8, Batch_Num: 200, Batch_Loss: 0.2732848525047302\n",
      "Epoch: 8, Batch_Num: 300, Batch_Loss: 0.2689772844314575\n",
      "Epoch: 8, Batch_Num: 400, Batch_Loss: 0.3189352750778198\n",
      "Epoch: 8, Batch_Num: 500, Batch_Loss: 0.3466152846813202\n",
      "Epoch: 8, Batch_Num: 600, Batch_Loss: 0.22467690706253052\n",
      "Epoch: 8, Batch_Num: 700, Batch_Loss: 0.22883737087249756\n",
      "Epoch: 8, Batch_Num: 800, Batch_Loss: 0.33804813027381897\n",
      "Epoch: 8, Batch_Num: 900, Batch_Loss: 0.26204967498779297\n",
      "Epoch: 8, Batch_Num: 1000, Batch_Loss: 0.34078449010849\n",
      "Epoch: 8, Batch_Num: 1100, Batch_Loss: 0.196165531873703\n",
      "Epoch: 8, Batch_Num: 1200, Batch_Loss: 0.27062568068504333\n",
      "Epoch: 8, Batch_Num: 1300, Batch_Loss: 0.31944575905799866\n",
      "Epoch: 8, Batch_Num: 1400, Batch_Loss: 0.2900269031524658\n",
      "Epoch: 8, Batch_Num: 1500, Batch_Loss: 0.275047242641449\n",
      "Epoch: 8, Batch_Num: 1600, Batch_Loss: 0.2827517092227936\n",
      "Epoch: 8, Batch_Num: 1700, Batch_Loss: 0.30101510882377625\n",
      "Epoch: 8, Batch_Num: 1800, Batch_Loss: 0.22800804674625397\n",
      "Epoch: 8, Batch_Num: 1900, Batch_Loss: 0.2850891947746277\n",
      "Epoch: 8, Batch_Num: 2000, Batch_Loss: 0.24727097153663635\n",
      "Epoch: 8, Batch_Num: 2100, Batch_Loss: 0.3220633864402771\n",
      "Data No.: 0\n",
      "Data No.: 1000\n",
      "Data No.: 2000\n",
      "Data No.: 3000\n",
      "Data No.: 4000\n",
      "Data No.: 5000\n",
      "Data No.: 6000\n",
      "Data No.: 7000\n",
      "accuracy: 0.16708894519269235\n",
      "              precision    recall  f1-score   support\n",
      "\n",
      "           A       0.82      0.78      0.80      3517\n",
      "           B       0.97      0.99      0.98      6984\n",
      "           C       0.90      0.86      0.88      3975\n",
      "           D       0.92      0.93      0.93      4624\n",
      "           E       0.81      0.96      0.88      5839\n",
      "           F       0.85      0.68      0.75      1342\n",
      "           G       0.84      0.87      0.86      5049\n",
      "           H       0.54      0.10      0.17       884\n",
      "           I       0.66      0.55      0.60       807\n",
      "           J       0.71      0.41      0.52       827\n",
      "           L       0.78      0.39      0.52      1129\n",
      "           M       0.87      0.91      0.89      3180\n",
      "           N       0.79      0.79      0.79      3397\n",
      "           Z       0.77      0.74      0.75      1186\n",
      "\n",
      "   micro avg       0.86      0.84      0.85     42740\n",
      "   macro avg       0.80      0.71      0.74     42740\n",
      "weighted avg       0.85      0.84      0.84     42740\n",
      " samples avg       0.86      0.85      0.84     42740\n",
      "\n"
     ]
    },
    {
     "name": "stderr",
     "output_type": "stream",
     "text": [
      "/opt/conda/lib/python3.10/site-packages/sklearn/metrics/_classification.py:1344: UndefinedMetricWarning: Recall and F-score are ill-defined and being set to 0.0 in samples with no true labels. Use `zero_division` parameter to control this behavior.\n",
      "  _warn_prf(average, modifier, msg_start, len(result))\n"
     ]
    },
    {
     "name": "stdout",
     "output_type": "stream",
     "text": [
      "Epoch: 8, Train_Loss: 0.28527658696745867, Valid_Loss: 0.28414246939139565\n"
     ]
    },
    {
     "name": "stderr",
     "output_type": "stream",
     "text": [
      "/opt/conda/lib/python3.10/site-packages/transformers/tokenization_utils_base.py:2688: FutureWarning: The `pad_to_max_length` argument is deprecated and will be removed in a future version, use `padding=True` or `padding='longest'` to pad to the longest sequence in the batch, or use `padding='max_length'` to pad to a max length. In this case, you can give a specific length with `max_length` (e.g. `max_length=45`) or leave max_length to None to pad to the maximal input size of the model (e.g. 512 for Bert).\n",
      "  warnings.warn(\n"
     ]
    },
    {
     "name": "stdout",
     "output_type": "stream",
     "text": [
      "Epoch: 9, Batch_Num: 0, Batch_Loss: 0.31441599130630493\n",
      "Epoch: 9, Batch_Num: 100, Batch_Loss: 0.2230120450258255\n",
      "Epoch: 9, Batch_Num: 200, Batch_Loss: 0.26405662298202515\n",
      "Epoch: 9, Batch_Num: 300, Batch_Loss: 0.26008689403533936\n",
      "Epoch: 9, Batch_Num: 400, Batch_Loss: 0.2992619276046753\n",
      "Epoch: 9, Batch_Num: 500, Batch_Loss: 0.3442371189594269\n",
      "Epoch: 9, Batch_Num: 600, Batch_Loss: 0.20739151537418365\n",
      "Epoch: 9, Batch_Num: 700, Batch_Loss: 0.23938550055027008\n",
      "Epoch: 9, Batch_Num: 800, Batch_Loss: 0.32816147804260254\n",
      "Epoch: 9, Batch_Num: 900, Batch_Loss: 0.2552191913127899\n",
      "Epoch: 9, Batch_Num: 1000, Batch_Loss: 0.3209834098815918\n",
      "Epoch: 9, Batch_Num: 1100, Batch_Loss: 0.19701488316059113\n",
      "Epoch: 9, Batch_Num: 1200, Batch_Loss: 0.27819886803627014\n",
      "Epoch: 9, Batch_Num: 1300, Batch_Loss: 0.2891576290130615\n",
      "Epoch: 9, Batch_Num: 1400, Batch_Loss: 0.2952970862388611\n",
      "Epoch: 9, Batch_Num: 1500, Batch_Loss: 0.28323230147361755\n",
      "Epoch: 9, Batch_Num: 1600, Batch_Loss: 0.2888944745063782\n",
      "Epoch: 9, Batch_Num: 1700, Batch_Loss: 0.29088252782821655\n",
      "Epoch: 9, Batch_Num: 1800, Batch_Loss: 0.24600455164909363\n",
      "Epoch: 9, Batch_Num: 1900, Batch_Loss: 0.28128838539123535\n",
      "Epoch: 9, Batch_Num: 2000, Batch_Loss: 0.23553435504436493\n",
      "Epoch: 9, Batch_Num: 2100, Batch_Loss: 0.3343427777290344\n",
      "Data No.: 0\n",
      "Data No.: 1000\n",
      "Data No.: 2000\n",
      "Data No.: 3000\n",
      "Data No.: 4000\n",
      "Data No.: 5000\n",
      "Data No.: 6000\n",
      "Data No.: 7000\n",
      "accuracy: 0.16882250966795573\n",
      "              precision    recall  f1-score   support\n",
      "\n",
      "           A       0.81      0.78      0.79      3517\n",
      "           B       0.97      0.98      0.98      6984\n",
      "           C       0.89      0.87      0.88      3975\n",
      "           D       0.92      0.93      0.92      4624\n",
      "           E       0.81      0.96      0.88      5839\n",
      "           F       0.85      0.69      0.76      1342\n",
      "           G       0.84      0.87      0.86      5049\n",
      "           H       0.55      0.10      0.17       884\n",
      "           I       0.66      0.56      0.61       807\n",
      "           J       0.71      0.44      0.55       827\n",
      "           L       0.76      0.41      0.54      1129\n",
      "           M       0.87      0.91      0.89      3180\n",
      "           N       0.80      0.78      0.79      3397\n",
      "           Z       0.77      0.72      0.75      1186\n",
      "\n",
      "   micro avg       0.86      0.84      0.85     42740\n",
      "   macro avg       0.80      0.72      0.74     42740\n",
      "weighted avg       0.85      0.84      0.84     42740\n",
      " samples avg       0.86      0.85      0.84     42740\n",
      "\n"
     ]
    },
    {
     "name": "stderr",
     "output_type": "stream",
     "text": [
      "/opt/conda/lib/python3.10/site-packages/sklearn/metrics/_classification.py:1344: UndefinedMetricWarning: Recall and F-score are ill-defined and being set to 0.0 in samples with no true labels. Use `zero_division` parameter to control this behavior.\n",
      "  _warn_prf(average, modifier, msg_start, len(result))\n"
     ]
    },
    {
     "name": "stdout",
     "output_type": "stream",
     "text": [
      "Epoch: 9, Train_Loss: 0.2820456159553628, Valid_Loss: 0.2822799079869291\n"
     ]
    },
    {
     "name": "stderr",
     "output_type": "stream",
     "text": [
      "/opt/conda/lib/python3.10/site-packages/transformers/tokenization_utils_base.py:2688: FutureWarning: The `pad_to_max_length` argument is deprecated and will be removed in a future version, use `padding=True` or `padding='longest'` to pad to the longest sequence in the batch, or use `padding='max_length'` to pad to a max length. In this case, you can give a specific length with `max_length` (e.g. `max_length=45`) or leave max_length to None to pad to the maximal input size of the model (e.g. 512 for Bert).\n",
      "  warnings.warn(\n"
     ]
    },
    {
     "name": "stdout",
     "output_type": "stream",
     "text": [
      "Epoch: 10, Batch_Num: 0, Batch_Loss: 0.3102983832359314\n",
      "Epoch: 10, Batch_Num: 100, Batch_Loss: 0.2387629747390747\n",
      "Epoch: 10, Batch_Num: 200, Batch_Loss: 0.25143733620643616\n",
      "Epoch: 10, Batch_Num: 300, Batch_Loss: 0.2654954195022583\n",
      "Epoch: 10, Batch_Num: 400, Batch_Loss: 0.3002101480960846\n",
      "Epoch: 10, Batch_Num: 500, Batch_Loss: 0.3322685956954956\n",
      "Epoch: 10, Batch_Num: 600, Batch_Loss: 0.20772093534469604\n",
      "Epoch: 10, Batch_Num: 700, Batch_Loss: 0.2216048687696457\n",
      "Epoch: 10, Batch_Num: 800, Batch_Loss: 0.33531543612480164\n",
      "Epoch: 10, Batch_Num: 900, Batch_Loss: 0.23943939805030823\n",
      "Epoch: 10, Batch_Num: 1000, Batch_Loss: 0.3088073134422302\n",
      "Epoch: 10, Batch_Num: 1100, Batch_Loss: 0.18786686658859253\n",
      "Epoch: 10, Batch_Num: 1200, Batch_Loss: 0.27608609199523926\n",
      "Epoch: 10, Batch_Num: 1300, Batch_Loss: 0.2973155677318573\n",
      "Epoch: 10, Batch_Num: 1400, Batch_Loss: 0.3111051023006439\n",
      "Epoch: 10, Batch_Num: 1500, Batch_Loss: 0.286847323179245\n",
      "Epoch: 10, Batch_Num: 1600, Batch_Loss: 0.2899106740951538\n",
      "Epoch: 10, Batch_Num: 1700, Batch_Loss: 0.3028246760368347\n",
      "Epoch: 10, Batch_Num: 1800, Batch_Loss: 0.22334150969982147\n",
      "Epoch: 10, Batch_Num: 1900, Batch_Loss: 0.2666245102882385\n",
      "Epoch: 10, Batch_Num: 2000, Batch_Loss: 0.2482621818780899\n",
      "Epoch: 10, Batch_Num: 2100, Batch_Loss: 0.304704874753952\n",
      "Data No.: 0\n",
      "Data No.: 1000\n",
      "Data No.: 2000\n",
      "Data No.: 3000\n",
      "Data No.: 4000\n",
      "Data No.: 5000\n",
      "Data No.: 6000\n",
      "Data No.: 7000\n",
      "accuracy: 0.17215628750500067\n",
      "              precision    recall  f1-score   support\n",
      "\n",
      "           A       0.81      0.78      0.80      3517\n",
      "           B       0.97      0.98      0.98      6984\n",
      "           C       0.89      0.87      0.88      3975\n",
      "           D       0.91      0.94      0.92      4624\n",
      "           E       0.81      0.95      0.88      5839\n",
      "           F       0.84      0.70      0.76      1342\n",
      "           G       0.84      0.88      0.86      5049\n",
      "           H       0.57      0.11      0.18       884\n",
      "           I       0.67      0.55      0.60       807\n",
      "           J       0.73      0.43      0.54       827\n",
      "           L       0.77      0.41      0.54      1129\n",
      "           M       0.87      0.91      0.89      3180\n",
      "           N       0.80      0.78      0.79      3397\n",
      "           Z       0.78      0.72      0.75      1186\n",
      "\n",
      "   micro avg       0.86      0.85      0.85     42740\n",
      "   macro avg       0.81      0.72      0.74     42740\n",
      "weighted avg       0.85      0.85      0.84     42740\n",
      " samples avg       0.86      0.85      0.84     42740\n",
      "\n"
     ]
    },
    {
     "name": "stderr",
     "output_type": "stream",
     "text": [
      "/opt/conda/lib/python3.10/site-packages/sklearn/metrics/_classification.py:1344: UndefinedMetricWarning: Recall and F-score are ill-defined and being set to 0.0 in samples with no true labels. Use `zero_division` parameter to control this behavior.\n",
      "  _warn_prf(average, modifier, msg_start, len(result))\n"
     ]
    },
    {
     "name": "stdout",
     "output_type": "stream",
     "text": [
      "Epoch: 10, Train_Loss: 0.27907210621841433, Valid_Loss: 0.2805860572026235\n"
     ]
    },
    {
     "name": "stderr",
     "output_type": "stream",
     "text": [
      "/opt/conda/lib/python3.10/site-packages/transformers/tokenization_utils_base.py:2688: FutureWarning: The `pad_to_max_length` argument is deprecated and will be removed in a future version, use `padding=True` or `padding='longest'` to pad to the longest sequence in the batch, or use `padding='max_length'` to pad to a max length. In this case, you can give a specific length with `max_length` (e.g. `max_length=45`) or leave max_length to None to pad to the maximal input size of the model (e.g. 512 for Bert).\n",
      "  warnings.warn(\n"
     ]
    },
    {
     "name": "stdout",
     "output_type": "stream",
     "text": [
      "Epoch: 11, Batch_Num: 0, Batch_Loss: 0.30372804403305054\n",
      "Epoch: 11, Batch_Num: 100, Batch_Loss: 0.2215721309185028\n",
      "Epoch: 11, Batch_Num: 200, Batch_Loss: 0.2589912414550781\n",
      "Epoch: 11, Batch_Num: 300, Batch_Loss: 0.25646430253982544\n",
      "Epoch: 11, Batch_Num: 400, Batch_Loss: 0.277152955532074\n",
      "Epoch: 11, Batch_Num: 500, Batch_Loss: 0.35708001255989075\n",
      "Epoch: 11, Batch_Num: 600, Batch_Loss: 0.20794139802455902\n",
      "Epoch: 11, Batch_Num: 700, Batch_Loss: 0.22715868055820465\n",
      "Epoch: 11, Batch_Num: 800, Batch_Loss: 0.3174855411052704\n",
      "Epoch: 11, Batch_Num: 900, Batch_Loss: 0.2600574493408203\n",
      "Epoch: 11, Batch_Num: 1000, Batch_Loss: 0.31683504581451416\n",
      "Epoch: 11, Batch_Num: 1100, Batch_Loss: 0.1809723675251007\n",
      "Epoch: 11, Batch_Num: 1200, Batch_Loss: 0.26579681038856506\n",
      "Epoch: 11, Batch_Num: 1300, Batch_Loss: 0.29260843992233276\n",
      "Epoch: 11, Batch_Num: 1400, Batch_Loss: 0.302670419216156\n",
      "Epoch: 11, Batch_Num: 1500, Batch_Loss: 0.26020264625549316\n",
      "Epoch: 11, Batch_Num: 1600, Batch_Loss: 0.2878020405769348\n",
      "Epoch: 11, Batch_Num: 1700, Batch_Loss: 0.2765689492225647\n",
      "Epoch: 11, Batch_Num: 1800, Batch_Loss: 0.23735596239566803\n",
      "Epoch: 11, Batch_Num: 1900, Batch_Loss: 0.25619035959243774\n",
      "Epoch: 11, Batch_Num: 2000, Batch_Loss: 0.2395930290222168\n",
      "Epoch: 11, Batch_Num: 2100, Batch_Loss: 0.3103832006454468\n",
      "Data No.: 0\n",
      "Data No.: 1000\n",
      "Data No.: 2000\n",
      "Data No.: 3000\n",
      "Data No.: 4000\n",
      "Data No.: 5000\n",
      "Data No.: 6000\n",
      "Data No.: 7000\n",
      "accuracy: 0.1753567142285638\n",
      "              precision    recall  f1-score   support\n",
      "\n",
      "           A       0.81      0.80      0.80      3517\n",
      "           B       0.97      0.98      0.98      6984\n",
      "           C       0.87      0.90      0.88      3975\n",
      "           D       0.92      0.93      0.93      4624\n",
      "           E       0.81      0.95      0.88      5839\n",
      "           F       0.83      0.71      0.77      1342\n",
      "           G       0.84      0.88      0.86      5049\n",
      "           H       0.54      0.11      0.18       884\n",
      "           I       0.67      0.57      0.62       807\n",
      "           J       0.72      0.44      0.55       827\n",
      "           L       0.77      0.42      0.54      1129\n",
      "           M       0.87      0.92      0.89      3180\n",
      "           N       0.80      0.79      0.79      3397\n",
      "           Z       0.77      0.73      0.75      1186\n",
      "\n",
      "   micro avg       0.86      0.85      0.85     42740\n",
      "   macro avg       0.80      0.72      0.74     42740\n",
      "weighted avg       0.85      0.85      0.84     42740\n",
      " samples avg       0.86      0.86      0.85     42740\n",
      "\n"
     ]
    },
    {
     "name": "stderr",
     "output_type": "stream",
     "text": [
      "/opt/conda/lib/python3.10/site-packages/sklearn/metrics/_classification.py:1344: UndefinedMetricWarning: Recall and F-score are ill-defined and being set to 0.0 in samples with no true labels. Use `zero_division` parameter to control this behavior.\n",
      "  _warn_prf(average, modifier, msg_start, len(result))\n"
     ]
    },
    {
     "name": "stdout",
     "output_type": "stream",
     "text": [
      "Epoch: 11, Train_Loss: 0.2761065371038165, Valid_Loss: 0.2798689804893722\n"
     ]
    },
    {
     "name": "stderr",
     "output_type": "stream",
     "text": [
      "/opt/conda/lib/python3.10/site-packages/transformers/tokenization_utils_base.py:2688: FutureWarning: The `pad_to_max_length` argument is deprecated and will be removed in a future version, use `padding=True` or `padding='longest'` to pad to the longest sequence in the batch, or use `padding='max_length'` to pad to a max length. In this case, you can give a specific length with `max_length` (e.g. `max_length=45`) or leave max_length to None to pad to the maximal input size of the model (e.g. 512 for Bert).\n",
      "  warnings.warn(\n"
     ]
    },
    {
     "name": "stdout",
     "output_type": "stream",
     "text": [
      "Epoch: 12, Batch_Num: 0, Batch_Loss: 0.3053430914878845\n",
      "Epoch: 12, Batch_Num: 100, Batch_Loss: 0.22468745708465576\n",
      "Epoch: 12, Batch_Num: 200, Batch_Loss: 0.2552255392074585\n",
      "Epoch: 12, Batch_Num: 300, Batch_Loss: 0.2789592146873474\n",
      "Epoch: 12, Batch_Num: 400, Batch_Loss: 0.2903977036476135\n",
      "Epoch: 12, Batch_Num: 500, Batch_Loss: 0.3359268307685852\n",
      "Epoch: 12, Batch_Num: 600, Batch_Loss: 0.21902672946453094\n",
      "Epoch: 12, Batch_Num: 700, Batch_Loss: 0.2194911688566208\n",
      "Epoch: 12, Batch_Num: 800, Batch_Loss: 0.3107303977012634\n",
      "Epoch: 12, Batch_Num: 900, Batch_Loss: 0.2554188668727875\n",
      "Epoch: 12, Batch_Num: 1000, Batch_Loss: 0.3029121160507202\n",
      "Epoch: 12, Batch_Num: 1100, Batch_Loss: 0.18966920673847198\n",
      "Epoch: 12, Batch_Num: 1200, Batch_Loss: 0.2751310467720032\n",
      "Epoch: 12, Batch_Num: 1300, Batch_Loss: 0.2840335965156555\n",
      "Epoch: 12, Batch_Num: 1400, Batch_Loss: 0.2987699508666992\n",
      "Epoch: 12, Batch_Num: 1500, Batch_Loss: 0.25754621624946594\n",
      "Epoch: 12, Batch_Num: 1600, Batch_Loss: 0.2706155478954315\n",
      "Epoch: 12, Batch_Num: 1700, Batch_Loss: 0.28379929065704346\n",
      "Epoch: 12, Batch_Num: 1800, Batch_Loss: 0.21154813468456268\n",
      "Epoch: 12, Batch_Num: 1900, Batch_Loss: 0.24340654909610748\n",
      "Epoch: 12, Batch_Num: 2000, Batch_Loss: 0.22109979391098022\n",
      "Epoch: 12, Batch_Num: 2100, Batch_Loss: 0.30545681715011597\n",
      "Data No.: 0\n",
      "Data No.: 1000\n",
      "Data No.: 2000\n",
      "Data No.: 3000\n",
      "Data No.: 4000\n",
      "Data No.: 5000\n",
      "Data No.: 6000\n",
      "Data No.: 7000\n",
      "accuracy: 0.17482330977463661\n",
      "              precision    recall  f1-score   support\n",
      "\n",
      "           A       0.81      0.80      0.80      3517\n",
      "           B       0.96      0.99      0.98      6984\n",
      "           C       0.88      0.89      0.88      3975\n",
      "           D       0.91      0.94      0.93      4624\n",
      "           E       0.81      0.96      0.88      5839\n",
      "           F       0.84      0.70      0.77      1342\n",
      "           G       0.85      0.87      0.86      5049\n",
      "           H       0.56      0.10      0.17       884\n",
      "           I       0.67      0.57      0.61       807\n",
      "           J       0.73      0.42      0.53       827\n",
      "           L       0.76      0.43      0.55      1129\n",
      "           M       0.87      0.92      0.89      3180\n",
      "           N       0.81      0.78      0.79      3397\n",
      "           Z       0.77      0.73      0.75      1186\n",
      "\n",
      "   micro avg       0.86      0.85      0.85     42740\n",
      "   macro avg       0.80      0.72      0.74     42740\n",
      "weighted avg       0.85      0.85      0.84     42740\n",
      " samples avg       0.86      0.86      0.85     42740\n",
      "\n"
     ]
    },
    {
     "name": "stderr",
     "output_type": "stream",
     "text": [
      "/opt/conda/lib/python3.10/site-packages/sklearn/metrics/_classification.py:1344: UndefinedMetricWarning: Recall and F-score are ill-defined and being set to 0.0 in samples with no true labels. Use `zero_division` parameter to control this behavior.\n",
      "  _warn_prf(average, modifier, msg_start, len(result))\n"
     ]
    },
    {
     "name": "stdout",
     "output_type": "stream",
     "text": [
      "Epoch: 12, Train_Loss: 0.2733470742894353, Valid_Loss: 0.2791125396976218\n"
     ]
    },
    {
     "name": "stderr",
     "output_type": "stream",
     "text": [
      "/opt/conda/lib/python3.10/site-packages/transformers/tokenization_utils_base.py:2688: FutureWarning: The `pad_to_max_length` argument is deprecated and will be removed in a future version, use `padding=True` or `padding='longest'` to pad to the longest sequence in the batch, or use `padding='max_length'` to pad to a max length. In this case, you can give a specific length with `max_length` (e.g. `max_length=45`) or leave max_length to None to pad to the maximal input size of the model (e.g. 512 for Bert).\n",
      "  warnings.warn(\n"
     ]
    },
    {
     "name": "stdout",
     "output_type": "stream",
     "text": [
      "Epoch: 13, Batch_Num: 0, Batch_Loss: 0.29630059003829956\n",
      "Epoch: 13, Batch_Num: 100, Batch_Loss: 0.2191445231437683\n",
      "Epoch: 13, Batch_Num: 200, Batch_Loss: 0.2464694082736969\n",
      "Epoch: 13, Batch_Num: 300, Batch_Loss: 0.2541083097457886\n",
      "Epoch: 13, Batch_Num: 400, Batch_Loss: 0.2766279876232147\n",
      "Epoch: 13, Batch_Num: 500, Batch_Loss: 0.3379473090171814\n",
      "Epoch: 13, Batch_Num: 600, Batch_Loss: 0.21664957702159882\n",
      "Epoch: 13, Batch_Num: 700, Batch_Loss: 0.2236326038837433\n",
      "Epoch: 13, Batch_Num: 800, Batch_Loss: 0.30078044533729553\n",
      "Epoch: 13, Batch_Num: 900, Batch_Loss: 0.24783147871494293\n",
      "Epoch: 13, Batch_Num: 1000, Batch_Loss: 0.30946022272109985\n",
      "Epoch: 13, Batch_Num: 1100, Batch_Loss: 0.17872656881809235\n",
      "Epoch: 13, Batch_Num: 1200, Batch_Loss: 0.27626457810401917\n",
      "Epoch: 13, Batch_Num: 1300, Batch_Loss: 0.29880988597869873\n",
      "Epoch: 13, Batch_Num: 1400, Batch_Loss: 0.2765044867992401\n",
      "Epoch: 13, Batch_Num: 1500, Batch_Loss: 0.25370532274246216\n",
      "Epoch: 13, Batch_Num: 1600, Batch_Loss: 0.2902089059352875\n",
      "Epoch: 13, Batch_Num: 1700, Batch_Loss: 0.26746392250061035\n",
      "Epoch: 13, Batch_Num: 1800, Batch_Loss: 0.23030425608158112\n",
      "Epoch: 13, Batch_Num: 1900, Batch_Loss: 0.2542671859264374\n",
      "Epoch: 13, Batch_Num: 2000, Batch_Loss: 0.2360650897026062\n",
      "Epoch: 13, Batch_Num: 2100, Batch_Loss: 0.31717607378959656\n",
      "Data No.: 0\n",
      "Data No.: 1000\n",
      "Data No.: 2000\n",
      "Data No.: 3000\n",
      "Data No.: 4000\n",
      "Data No.: 5000\n",
      "Data No.: 6000\n",
      "Data No.: 7000\n",
      "accuracy: 0.17428990532070943\n",
      "              precision    recall  f1-score   support\n",
      "\n",
      "           A       0.81      0.79      0.80      3517\n",
      "           B       0.97      0.99      0.98      6984\n",
      "           C       0.89      0.88      0.89      3975\n",
      "           D       0.91      0.94      0.93      4624\n",
      "           E       0.81      0.95      0.88      5839\n",
      "           F       0.84      0.71      0.77      1342\n",
      "           G       0.85      0.87      0.86      5049\n",
      "           H       0.57      0.11      0.18       884\n",
      "           I       0.67      0.58      0.62       807\n",
      "           J       0.72      0.45      0.55       827\n",
      "           L       0.76      0.44      0.56      1129\n",
      "           M       0.87      0.91      0.89      3180\n",
      "           N       0.81      0.78      0.79      3397\n",
      "           Z       0.77      0.74      0.75      1186\n",
      "\n",
      "   micro avg       0.86      0.85      0.85     42740\n",
      "   macro avg       0.80      0.72      0.75     42740\n",
      "weighted avg       0.85      0.85      0.84     42740\n",
      " samples avg       0.86      0.86      0.85     42740\n",
      "\n"
     ]
    },
    {
     "name": "stderr",
     "output_type": "stream",
     "text": [
      "/opt/conda/lib/python3.10/site-packages/sklearn/metrics/_classification.py:1344: UndefinedMetricWarning: Recall and F-score are ill-defined and being set to 0.0 in samples with no true labels. Use `zero_division` parameter to control this behavior.\n",
      "  _warn_prf(average, modifier, msg_start, len(result))\n"
     ]
    },
    {
     "name": "stdout",
     "output_type": "stream",
     "text": [
      "Epoch: 13, Train_Loss: 0.2709776447633657, Valid_Loss: 0.2781092304101005\n"
     ]
    },
    {
     "name": "stderr",
     "output_type": "stream",
     "text": [
      "/opt/conda/lib/python3.10/site-packages/transformers/tokenization_utils_base.py:2688: FutureWarning: The `pad_to_max_length` argument is deprecated and will be removed in a future version, use `padding=True` or `padding='longest'` to pad to the longest sequence in the batch, or use `padding='max_length'` to pad to a max length. In this case, you can give a specific length with `max_length` (e.g. `max_length=45`) or leave max_length to None to pad to the maximal input size of the model (e.g. 512 for Bert).\n",
      "  warnings.warn(\n"
     ]
    },
    {
     "name": "stdout",
     "output_type": "stream",
     "text": [
      "Epoch: 14, Batch_Num: 0, Batch_Loss: 0.3044760823249817\n",
      "Epoch: 14, Batch_Num: 100, Batch_Loss: 0.21815955638885498\n",
      "Epoch: 14, Batch_Num: 200, Batch_Loss: 0.23923704028129578\n",
      "Epoch: 14, Batch_Num: 300, Batch_Loss: 0.25781509280204773\n",
      "Epoch: 14, Batch_Num: 400, Batch_Loss: 0.2694794833660126\n",
      "Epoch: 14, Batch_Num: 500, Batch_Loss: 0.34958893060684204\n",
      "Epoch: 14, Batch_Num: 600, Batch_Loss: 0.19569970667362213\n",
      "Epoch: 14, Batch_Num: 700, Batch_Loss: 0.2197175920009613\n",
      "Epoch: 14, Batch_Num: 800, Batch_Loss: 0.315437376499176\n",
      "Epoch: 14, Batch_Num: 900, Batch_Loss: 0.2435126006603241\n",
      "Epoch: 14, Batch_Num: 1000, Batch_Loss: 0.3060056269168854\n",
      "Epoch: 14, Batch_Num: 1100, Batch_Loss: 0.18657785654067993\n",
      "Epoch: 14, Batch_Num: 1200, Batch_Loss: 0.25990360975265503\n",
      "Epoch: 14, Batch_Num: 1300, Batch_Loss: 0.2767162322998047\n",
      "Epoch: 14, Batch_Num: 1400, Batch_Loss: 0.29649466276168823\n",
      "Epoch: 14, Batch_Num: 1500, Batch_Loss: 0.2908247411251068\n",
      "Epoch: 14, Batch_Num: 1600, Batch_Loss: 0.27322739362716675\n",
      "Epoch: 14, Batch_Num: 1700, Batch_Loss: 0.27537772059440613\n",
      "Epoch: 14, Batch_Num: 1800, Batch_Loss: 0.23412109911441803\n",
      "Epoch: 14, Batch_Num: 1900, Batch_Loss: 0.26285770535469055\n",
      "Epoch: 14, Batch_Num: 2000, Batch_Loss: 0.23263832926750183\n",
      "Epoch: 14, Batch_Num: 2100, Batch_Loss: 0.2991218566894531\n",
      "Data No.: 0\n",
      "Data No.: 1000\n",
      "Data No.: 2000\n",
      "Data No.: 3000\n",
      "Data No.: 4000\n",
      "Data No.: 5000\n",
      "Data No.: 6000\n",
      "Data No.: 7000\n",
      "accuracy: 0.175890118682491\n",
      "              precision    recall  f1-score   support\n",
      "\n",
      "           A       0.81      0.79      0.80      3517\n",
      "           B       0.97      0.98      0.98      6984\n",
      "           C       0.89      0.88      0.88      3975\n",
      "           D       0.92      0.94      0.93      4624\n",
      "           E       0.82      0.95      0.88      5839\n",
      "           F       0.84      0.71      0.77      1342\n",
      "           G       0.85      0.87      0.86      5049\n",
      "           H       0.56      0.11      0.18       884\n",
      "           I       0.68      0.56      0.61       807\n",
      "           J       0.75      0.43      0.55       827\n",
      "           L       0.77      0.43      0.56      1129\n",
      "           M       0.87      0.91      0.89      3180\n",
      "           N       0.80      0.79      0.79      3397\n",
      "           Z       0.78      0.73      0.75      1186\n",
      "\n",
      "   micro avg       0.86      0.85      0.85     42740\n",
      "   macro avg       0.81      0.72      0.74     42740\n",
      "weighted avg       0.85      0.85      0.84     42740\n",
      " samples avg       0.86      0.85      0.85     42740\n",
      "\n"
     ]
    },
    {
     "name": "stderr",
     "output_type": "stream",
     "text": [
      "/opt/conda/lib/python3.10/site-packages/sklearn/metrics/_classification.py:1344: UndefinedMetricWarning: Recall and F-score are ill-defined and being set to 0.0 in samples with no true labels. Use `zero_division` parameter to control this behavior.\n",
      "  _warn_prf(average, modifier, msg_start, len(result))\n"
     ]
    },
    {
     "name": "stdout",
     "output_type": "stream",
     "text": [
      "Epoch: 14, Train_Loss: 0.2683599228231014, Valid_Loss: 0.27734692224191737\n"
     ]
    },
    {
     "name": "stderr",
     "output_type": "stream",
     "text": [
      "/opt/conda/lib/python3.10/site-packages/transformers/tokenization_utils_base.py:2688: FutureWarning: The `pad_to_max_length` argument is deprecated and will be removed in a future version, use `padding=True` or `padding='longest'` to pad to the longest sequence in the batch, or use `padding='max_length'` to pad to a max length. In this case, you can give a specific length with `max_length` (e.g. `max_length=45`) or leave max_length to None to pad to the maximal input size of the model (e.g. 512 for Bert).\n",
      "  warnings.warn(\n"
     ]
    },
    {
     "name": "stdout",
     "output_type": "stream",
     "text": [
      "Epoch: 15, Batch_Num: 0, Batch_Loss: 0.3071848452091217\n",
      "Epoch: 15, Batch_Num: 100, Batch_Loss: 0.2055312991142273\n",
      "Epoch: 15, Batch_Num: 200, Batch_Loss: 0.23864509165287018\n",
      "Epoch: 15, Batch_Num: 300, Batch_Loss: 0.24733199179172516\n",
      "Epoch: 15, Batch_Num: 400, Batch_Loss: 0.2667255699634552\n",
      "Epoch: 15, Batch_Num: 500, Batch_Loss: 0.33536264300346375\n",
      "Epoch: 15, Batch_Num: 600, Batch_Loss: 0.21153227984905243\n",
      "Epoch: 15, Batch_Num: 700, Batch_Loss: 0.22949974238872528\n",
      "Epoch: 15, Batch_Num: 800, Batch_Loss: 0.2928754389286041\n",
      "Epoch: 15, Batch_Num: 900, Batch_Loss: 0.2513812184333801\n",
      "Epoch: 15, Batch_Num: 1000, Batch_Loss: 0.2993886172771454\n",
      "Epoch: 15, Batch_Num: 1100, Batch_Loss: 0.16973070800304413\n",
      "Epoch: 15, Batch_Num: 1200, Batch_Loss: 0.2704852223396301\n",
      "Epoch: 15, Batch_Num: 1300, Batch_Loss: 0.27466028928756714\n",
      "Epoch: 15, Batch_Num: 1400, Batch_Loss: 0.28834065794944763\n",
      "Epoch: 15, Batch_Num: 1500, Batch_Loss: 0.25982654094696045\n",
      "Epoch: 15, Batch_Num: 1600, Batch_Loss: 0.282576322555542\n",
      "Epoch: 15, Batch_Num: 1700, Batch_Loss: 0.25404947996139526\n",
      "Epoch: 15, Batch_Num: 1800, Batch_Loss: 0.2060677707195282\n",
      "Epoch: 15, Batch_Num: 1900, Batch_Loss: 0.24929723143577576\n",
      "Epoch: 15, Batch_Num: 2000, Batch_Loss: 0.22643747925758362\n",
      "Epoch: 15, Batch_Num: 2100, Batch_Loss: 0.29199180006980896\n",
      "Data No.: 0\n",
      "Data No.: 1000\n",
      "Data No.: 2000\n",
      "Data No.: 3000\n",
      "Data No.: 4000\n",
      "Data No.: 5000\n",
      "Data No.: 6000\n",
      "Data No.: 7000\n",
      "accuracy: 0.17895719429257234\n",
      "              precision    recall  f1-score   support\n",
      "\n",
      "           A       0.82      0.79      0.80      3517\n",
      "           B       0.97      0.98      0.98      6984\n",
      "           C       0.89      0.88      0.89      3975\n",
      "           D       0.92      0.94      0.93      4624\n",
      "           E       0.82      0.95      0.88      5839\n",
      "           F       0.83      0.73      0.78      1342\n",
      "           G       0.84      0.88      0.86      5049\n",
      "           H       0.57      0.11      0.18       884\n",
      "           I       0.68      0.57      0.62       807\n",
      "           J       0.74      0.45      0.56       827\n",
      "           L       0.76      0.45      0.57      1129\n",
      "           M       0.87      0.91      0.89      3180\n",
      "           N       0.81      0.79      0.80      3397\n",
      "           Z       0.78      0.72      0.75      1186\n",
      "\n",
      "   micro avg       0.86      0.85      0.86     42740\n",
      "   macro avg       0.81      0.73      0.75     42740\n",
      "weighted avg       0.85      0.85      0.85     42740\n",
      " samples avg       0.86      0.86      0.85     42740\n",
      "\n"
     ]
    },
    {
     "name": "stderr",
     "output_type": "stream",
     "text": [
      "/opt/conda/lib/python3.10/site-packages/sklearn/metrics/_classification.py:1344: UndefinedMetricWarning: Recall and F-score are ill-defined and being set to 0.0 in samples with no true labels. Use `zero_division` parameter to control this behavior.\n",
      "  _warn_prf(average, modifier, msg_start, len(result))\n"
     ]
    },
    {
     "name": "stdout",
     "output_type": "stream",
     "text": [
      "Epoch: 15, Train_Loss: 0.26583031425614523, Valid_Loss: 0.2770004409490418\n"
     ]
    },
    {
     "name": "stderr",
     "output_type": "stream",
     "text": [
      "/opt/conda/lib/python3.10/site-packages/transformers/tokenization_utils_base.py:2688: FutureWarning: The `pad_to_max_length` argument is deprecated and will be removed in a future version, use `padding=True` or `padding='longest'` to pad to the longest sequence in the batch, or use `padding='max_length'` to pad to a max length. In this case, you can give a specific length with `max_length` (e.g. `max_length=45`) or leave max_length to None to pad to the maximal input size of the model (e.g. 512 for Bert).\n",
      "  warnings.warn(\n"
     ]
    },
    {
     "name": "stdout",
     "output_type": "stream",
     "text": [
      "Epoch: 16, Batch_Num: 0, Batch_Loss: 0.28874099254608154\n",
      "Epoch: 16, Batch_Num: 100, Batch_Loss: 0.20579758286476135\n",
      "Epoch: 16, Batch_Num: 200, Batch_Loss: 0.2437373697757721\n",
      "Epoch: 16, Batch_Num: 300, Batch_Loss: 0.24148686230182648\n",
      "Epoch: 16, Batch_Num: 400, Batch_Loss: 0.25437578558921814\n",
      "Epoch: 16, Batch_Num: 500, Batch_Loss: 0.33435243368148804\n",
      "Epoch: 16, Batch_Num: 600, Batch_Loss: 0.20687410235404968\n",
      "Epoch: 16, Batch_Num: 700, Batch_Loss: 0.22439910471439362\n",
      "Epoch: 16, Batch_Num: 800, Batch_Loss: 0.30045196413993835\n",
      "Epoch: 16, Batch_Num: 900, Batch_Loss: 0.24448233842849731\n",
      "Epoch: 16, Batch_Num: 1000, Batch_Loss: 0.2726992070674896\n",
      "Epoch: 16, Batch_Num: 1100, Batch_Loss: 0.18878838419914246\n",
      "Epoch: 16, Batch_Num: 1200, Batch_Loss: 0.2515011727809906\n",
      "Epoch: 16, Batch_Num: 1300, Batch_Loss: 0.2734971344470978\n",
      "Epoch: 16, Batch_Num: 1400, Batch_Loss: 0.29501181840896606\n",
      "Epoch: 16, Batch_Num: 1500, Batch_Loss: 0.26278379559516907\n",
      "Epoch: 16, Batch_Num: 1600, Batch_Loss: 0.28569433093070984\n",
      "Epoch: 16, Batch_Num: 1700, Batch_Loss: 0.25594812631607056\n",
      "Epoch: 16, Batch_Num: 1800, Batch_Loss: 0.23291398584842682\n",
      "Epoch: 16, Batch_Num: 1900, Batch_Loss: 0.2569774091243744\n",
      "Epoch: 16, Batch_Num: 2000, Batch_Loss: 0.23378047347068787\n",
      "Epoch: 16, Batch_Num: 2100, Batch_Loss: 0.28377872705459595\n",
      "Data No.: 0\n",
      "Data No.: 1000\n",
      "Data No.: 2000\n",
      "Data No.: 3000\n",
      "Data No.: 4000\n",
      "Data No.: 5000\n",
      "Data No.: 6000\n",
      "Data No.: 7000\n",
      "accuracy: 0.18215762101613547\n",
      "              precision    recall  f1-score   support\n",
      "\n",
      "           A       0.82      0.79      0.80      3517\n",
      "           B       0.97      0.99      0.98      6984\n",
      "           C       0.89      0.88      0.89      3975\n",
      "           D       0.92      0.93      0.93      4624\n",
      "           E       0.82      0.95      0.88      5839\n",
      "           F       0.84      0.72      0.78      1342\n",
      "           G       0.85      0.86      0.86      5049\n",
      "           H       0.57      0.11      0.19       884\n",
      "           I       0.68      0.59      0.63       807\n",
      "           J       0.75      0.45      0.56       827\n",
      "           L       0.77      0.45      0.57      1129\n",
      "           M       0.87      0.91      0.89      3180\n",
      "           N       0.80      0.80      0.80      3397\n",
      "           Z       0.77      0.74      0.75      1186\n",
      "\n",
      "   micro avg       0.86      0.85      0.86     42740\n",
      "   macro avg       0.81      0.73      0.75     42740\n",
      "weighted avg       0.86      0.85      0.85     42740\n",
      " samples avg       0.87      0.85      0.85     42740\n",
      "\n"
     ]
    },
    {
     "name": "stderr",
     "output_type": "stream",
     "text": [
      "/opt/conda/lib/python3.10/site-packages/sklearn/metrics/_classification.py:1344: UndefinedMetricWarning: Recall and F-score are ill-defined and being set to 0.0 in samples with no true labels. Use `zero_division` parameter to control this behavior.\n",
      "  _warn_prf(average, modifier, msg_start, len(result))\n"
     ]
    },
    {
     "name": "stdout",
     "output_type": "stream",
     "text": [
      "Epoch: 16, Train_Loss: 0.26393438783692724, Valid_Loss: 0.2769346935380211\n"
     ]
    },
    {
     "name": "stderr",
     "output_type": "stream",
     "text": [
      "/opt/conda/lib/python3.10/site-packages/transformers/tokenization_utils_base.py:2688: FutureWarning: The `pad_to_max_length` argument is deprecated and will be removed in a future version, use `padding=True` or `padding='longest'` to pad to the longest sequence in the batch, or use `padding='max_length'` to pad to a max length. In this case, you can give a specific length with `max_length` (e.g. `max_length=45`) or leave max_length to None to pad to the maximal input size of the model (e.g. 512 for Bert).\n",
      "  warnings.warn(\n"
     ]
    },
    {
     "name": "stdout",
     "output_type": "stream",
     "text": [
      "Epoch: 17, Batch_Num: 0, Batch_Loss: 0.29667919874191284\n",
      "Epoch: 17, Batch_Num: 100, Batch_Loss: 0.20568284392356873\n",
      "Epoch: 17, Batch_Num: 200, Batch_Loss: 0.25663819909095764\n",
      "Epoch: 17, Batch_Num: 300, Batch_Loss: 0.23362982273101807\n",
      "Epoch: 17, Batch_Num: 400, Batch_Loss: 0.25181806087493896\n",
      "Epoch: 17, Batch_Num: 500, Batch_Loss: 0.33479589223861694\n",
      "Epoch: 17, Batch_Num: 600, Batch_Loss: 0.20919404923915863\n",
      "Epoch: 17, Batch_Num: 700, Batch_Loss: 0.227879136800766\n",
      "Epoch: 17, Batch_Num: 800, Batch_Loss: 0.3002415895462036\n",
      "Epoch: 17, Batch_Num: 900, Batch_Loss: 0.23934948444366455\n",
      "Epoch: 17, Batch_Num: 1000, Batch_Loss: 0.2795664370059967\n",
      "Epoch: 17, Batch_Num: 1100, Batch_Loss: 0.1918272227048874\n",
      "Epoch: 17, Batch_Num: 1200, Batch_Loss: 0.2648312449455261\n",
      "Epoch: 17, Batch_Num: 1300, Batch_Loss: 0.2772770822048187\n",
      "Epoch: 17, Batch_Num: 1400, Batch_Loss: 0.29482507705688477\n",
      "Epoch: 17, Batch_Num: 1500, Batch_Loss: 0.24560555815696716\n",
      "Epoch: 17, Batch_Num: 1600, Batch_Loss: 0.27127429842948914\n",
      "Epoch: 17, Batch_Num: 1700, Batch_Loss: 0.27693432569503784\n",
      "Epoch: 17, Batch_Num: 1800, Batch_Loss: 0.23075850307941437\n",
      "Epoch: 17, Batch_Num: 1900, Batch_Loss: 0.24008513987064362\n",
      "Epoch: 17, Batch_Num: 2000, Batch_Loss: 0.2387280911207199\n",
      "Epoch: 17, Batch_Num: 2100, Batch_Loss: 0.3216589689254761\n",
      "Data No.: 0\n",
      "Data No.: 1000\n",
      "Data No.: 2000\n",
      "Data No.: 3000\n",
      "Data No.: 4000\n",
      "Data No.: 5000\n",
      "Data No.: 6000\n",
      "Data No.: 7000\n",
      "accuracy: 0.1814908654487265\n",
      "              precision    recall  f1-score   support\n",
      "\n",
      "           A       0.81      0.80      0.80      3517\n",
      "           B       0.97      0.98      0.98      6984\n",
      "           C       0.88      0.89      0.89      3975\n",
      "           D       0.92      0.94      0.93      4624\n",
      "           E       0.82      0.95      0.88      5839\n",
      "           F       0.83      0.73      0.78      1342\n",
      "           G       0.85      0.87      0.86      5049\n",
      "           H       0.56      0.11      0.18       884\n",
      "           I       0.68      0.59      0.64       807\n",
      "           J       0.74      0.45      0.56       827\n",
      "           L       0.75      0.46      0.57      1129\n",
      "           M       0.87      0.91      0.89      3180\n",
      "           N       0.81      0.79      0.80      3397\n",
      "           Z       0.78      0.73      0.75      1186\n",
      "\n",
      "   micro avg       0.86      0.85      0.86     42740\n",
      "   macro avg       0.80      0.73      0.75     42740\n",
      "weighted avg       0.85      0.85      0.85     42740\n",
      " samples avg       0.86      0.86      0.85     42740\n",
      "\n"
     ]
    },
    {
     "name": "stderr",
     "output_type": "stream",
     "text": [
      "/opt/conda/lib/python3.10/site-packages/sklearn/metrics/_classification.py:1344: UndefinedMetricWarning: Recall and F-score are ill-defined and being set to 0.0 in samples with no true labels. Use `zero_division` parameter to control this behavior.\n",
      "  _warn_prf(average, modifier, msg_start, len(result))\n"
     ]
    },
    {
     "name": "stdout",
     "output_type": "stream",
     "text": [
      "Epoch: 17, Train_Loss: 0.26161838892828565, Valid_Loss: 0.27701246682199293\n"
     ]
    },
    {
     "name": "stderr",
     "output_type": "stream",
     "text": [
      "/opt/conda/lib/python3.10/site-packages/transformers/tokenization_utils_base.py:2688: FutureWarning: The `pad_to_max_length` argument is deprecated and will be removed in a future version, use `padding=True` or `padding='longest'` to pad to the longest sequence in the batch, or use `padding='max_length'` to pad to a max length. In this case, you can give a specific length with `max_length` (e.g. `max_length=45`) or leave max_length to None to pad to the maximal input size of the model (e.g. 512 for Bert).\n",
      "  warnings.warn(\n"
     ]
    },
    {
     "name": "stdout",
     "output_type": "stream",
     "text": [
      "Epoch: 18, Batch_Num: 0, Batch_Loss: 0.28034672141075134\n",
      "Epoch: 18, Batch_Num: 100, Batch_Loss: 0.20447079837322235\n",
      "Epoch: 18, Batch_Num: 200, Batch_Loss: 0.2505364418029785\n",
      "Epoch: 18, Batch_Num: 300, Batch_Loss: 0.2595983147621155\n",
      "Epoch: 18, Batch_Num: 400, Batch_Loss: 0.2671608626842499\n",
      "Epoch: 18, Batch_Num: 500, Batch_Loss: 0.32682618498802185\n",
      "Epoch: 18, Batch_Num: 600, Batch_Loss: 0.2158157229423523\n",
      "Epoch: 18, Batch_Num: 700, Batch_Loss: 0.21021944284439087\n",
      "Epoch: 18, Batch_Num: 800, Batch_Loss: 0.2987709939479828\n",
      "Epoch: 18, Batch_Num: 900, Batch_Loss: 0.2407386600971222\n",
      "Epoch: 18, Batch_Num: 1000, Batch_Loss: 0.32398033142089844\n",
      "Epoch: 18, Batch_Num: 1100, Batch_Loss: 0.17712055146694183\n",
      "Epoch: 18, Batch_Num: 1200, Batch_Loss: 0.2455105483531952\n",
      "Epoch: 18, Batch_Num: 1300, Batch_Loss: 0.2665092945098877\n",
      "Epoch: 18, Batch_Num: 1400, Batch_Loss: 0.2784077823162079\n",
      "Epoch: 18, Batch_Num: 1500, Batch_Loss: 0.26907408237457275\n",
      "Epoch: 18, Batch_Num: 1600, Batch_Loss: 0.2645007371902466\n",
      "Epoch: 18, Batch_Num: 1700, Batch_Loss: 0.2615519165992737\n",
      "Epoch: 18, Batch_Num: 1800, Batch_Loss: 0.2205692082643509\n",
      "Epoch: 18, Batch_Num: 1900, Batch_Loss: 0.2559448182582855\n",
      "Epoch: 18, Batch_Num: 2000, Batch_Loss: 0.21173053979873657\n",
      "Epoch: 18, Batch_Num: 2100, Batch_Loss: 0.30236467719078064\n",
      "Data No.: 0\n",
      "Data No.: 1000\n",
      "Data No.: 2000\n",
      "Data No.: 3000\n",
      "Data No.: 4000\n",
      "Data No.: 5000\n",
      "Data No.: 6000\n",
      "Data No.: 7000\n",
      "accuracy: 0.18269102547006266\n",
      "              precision    recall  f1-score   support\n",
      "\n",
      "           A       0.81      0.80      0.80      3517\n",
      "           B       0.97      0.98      0.98      6984\n",
      "           C       0.88      0.89      0.89      3975\n",
      "           D       0.92      0.93      0.93      4624\n",
      "           E       0.82      0.94      0.88      5839\n",
      "           F       0.84      0.72      0.77      1342\n",
      "           G       0.85      0.87      0.86      5049\n",
      "           H       0.56      0.12      0.19       884\n",
      "           I       0.68      0.62      0.65       807\n",
      "           J       0.73      0.47      0.57       827\n",
      "           L       0.77      0.45      0.57      1129\n",
      "           M       0.87      0.91      0.89      3180\n",
      "           N       0.80      0.79      0.80      3397\n",
      "           Z       0.77      0.74      0.76      1186\n",
      "\n",
      "   micro avg       0.86      0.85      0.86     42740\n",
      "   macro avg       0.81      0.73      0.75     42740\n",
      "weighted avg       0.85      0.85      0.85     42740\n",
      " samples avg       0.86      0.86      0.85     42740\n",
      "\n"
     ]
    },
    {
     "name": "stderr",
     "output_type": "stream",
     "text": [
      "/opt/conda/lib/python3.10/site-packages/sklearn/metrics/_classification.py:1344: UndefinedMetricWarning: Recall and F-score are ill-defined and being set to 0.0 in samples with no true labels. Use `zero_division` parameter to control this behavior.\n",
      "  _warn_prf(average, modifier, msg_start, len(result))\n"
     ]
    },
    {
     "name": "stdout",
     "output_type": "stream",
     "text": [
      "Epoch: 18, Train_Loss: 0.2591603810132013, Valid_Loss: 0.2768480882534449\n"
     ]
    },
    {
     "name": "stderr",
     "output_type": "stream",
     "text": [
      "/opt/conda/lib/python3.10/site-packages/transformers/tokenization_utils_base.py:2688: FutureWarning: The `pad_to_max_length` argument is deprecated and will be removed in a future version, use `padding=True` or `padding='longest'` to pad to the longest sequence in the batch, or use `padding='max_length'` to pad to a max length. In this case, you can give a specific length with `max_length` (e.g. `max_length=45`) or leave max_length to None to pad to the maximal input size of the model (e.g. 512 for Bert).\n",
      "  warnings.warn(\n"
     ]
    },
    {
     "name": "stdout",
     "output_type": "stream",
     "text": [
      "Epoch: 19, Batch_Num: 0, Batch_Loss: 0.28652939200401306\n",
      "Epoch: 19, Batch_Num: 100, Batch_Loss: 0.1959783136844635\n",
      "Epoch: 19, Batch_Num: 200, Batch_Loss: 0.2223604917526245\n",
      "Epoch: 19, Batch_Num: 300, Batch_Loss: 0.2389308661222458\n",
      "Epoch: 19, Batch_Num: 400, Batch_Loss: 0.260975182056427\n",
      "Epoch: 19, Batch_Num: 500, Batch_Loss: 0.3234151601791382\n",
      "Epoch: 19, Batch_Num: 600, Batch_Loss: 0.200334832072258\n",
      "Epoch: 19, Batch_Num: 700, Batch_Loss: 0.21910102665424347\n",
      "Epoch: 19, Batch_Num: 800, Batch_Loss: 0.2761538624763489\n",
      "Epoch: 19, Batch_Num: 900, Batch_Loss: 0.2488221526145935\n",
      "Epoch: 19, Batch_Num: 1000, Batch_Loss: 0.2777908742427826\n",
      "Epoch: 19, Batch_Num: 1100, Batch_Loss: 0.17351242899894714\n",
      "Epoch: 19, Batch_Num: 1200, Batch_Loss: 0.2464672327041626\n",
      "Epoch: 19, Batch_Num: 1300, Batch_Loss: 0.25737056136131287\n",
      "Epoch: 19, Batch_Num: 1400, Batch_Loss: 0.29183948040008545\n",
      "Epoch: 19, Batch_Num: 1500, Batch_Loss: 0.24805691838264465\n",
      "Epoch: 19, Batch_Num: 1600, Batch_Loss: 0.2613750100135803\n",
      "Epoch: 19, Batch_Num: 1700, Batch_Loss: 0.2548616826534271\n",
      "Epoch: 19, Batch_Num: 1800, Batch_Loss: 0.21341460943222046\n",
      "Epoch: 19, Batch_Num: 1900, Batch_Loss: 0.24614419043064117\n",
      "Epoch: 19, Batch_Num: 2000, Batch_Loss: 0.23053404688835144\n",
      "Epoch: 19, Batch_Num: 2100, Batch_Loss: 0.3017839193344116\n",
      "Data No.: 0\n",
      "Data No.: 1000\n",
      "Data No.: 2000\n",
      "Data No.: 3000\n",
      "Data No.: 4000\n",
      "Data No.: 5000\n",
      "Data No.: 6000\n",
      "Data No.: 7000\n",
      "accuracy: 0.18375783437791707\n",
      "              precision    recall  f1-score   support\n",
      "\n",
      "           A       0.82      0.79      0.80      3517\n",
      "           B       0.97      0.98      0.98      6984\n",
      "           C       0.89      0.89      0.89      3975\n",
      "           D       0.92      0.93      0.93      4624\n",
      "           E       0.83      0.94      0.88      5839\n",
      "           F       0.84      0.72      0.77      1342\n",
      "           G       0.86      0.86      0.86      5049\n",
      "           H       0.57      0.12      0.20       884\n",
      "           I       0.68      0.58      0.63       807\n",
      "           J       0.73      0.47      0.57       827\n",
      "           L       0.78      0.45      0.57      1129\n",
      "           M       0.87      0.91      0.89      3180\n",
      "           N       0.80      0.80      0.80      3397\n",
      "           Z       0.77      0.74      0.75      1186\n",
      "\n",
      "   micro avg       0.86      0.85      0.86     42740\n",
      "   macro avg       0.81      0.73      0.75     42740\n",
      "weighted avg       0.86      0.85      0.85     42740\n",
      " samples avg       0.87      0.85      0.85     42740\n",
      "\n"
     ]
    },
    {
     "name": "stderr",
     "output_type": "stream",
     "text": [
      "/opt/conda/lib/python3.10/site-packages/sklearn/metrics/_classification.py:1344: UndefinedMetricWarning: Recall and F-score are ill-defined and being set to 0.0 in samples with no true labels. Use `zero_division` parameter to control this behavior.\n",
      "  _warn_prf(average, modifier, msg_start, len(result))\n"
     ]
    },
    {
     "name": "stdout",
     "output_type": "stream",
     "text": [
      "Epoch: 19, Train_Loss: 0.25721136036669223, Valid_Loss: 0.2768858249041776\n"
     ]
    }
   ],
   "source": [
    "train_loss_list = []\n",
    "valid_loss_list = []\n",
    "accuracy_list = []\n",
    "precision_list = []\n",
    "precision_micro_list = []\n",
    "precision_macro_list = []\n",
    "recall_list = []\n",
    "recall_micro_list = []\n",
    "recall_macro_list = []\n",
    "f1_score_list = []\n",
    "f1_score_micro_list = []\n",
    "f1_score_macro_list = []\n",
    "\n",
    "for epoch in range(EPOCHS):\n",
    "    epoch_train_loss, valid_loss, accuracy, precision, precision_micro, precision_macro, recall, recall_micro, recall_macro, f1_score, f1_score_micro, f1_score_macro = train(epoch)\n",
    "    print(f'Epoch: {epoch}, Train_Loss: {epoch_train_loss}, Valid_Loss: {valid_loss}')\n",
    "    train_loss_list.append(epoch_train_loss)\n",
    "    valid_loss_list.append(valid_loss)\n",
    "    accuracy_list.append(accuracy)\n",
    "    precision_list.append(precision)\n",
    "    precision_micro_list.append(precision_micro)\n",
    "    precision_macro_list.append(precision_macro)\n",
    "    recall_list.append(recall)\n",
    "    recall_micro_list.append(recall_micro)\n",
    "    recall_macro_list.append(recall_macro)\n",
    "    f1_score_list.append(f1_score)\n",
    "    f1_score_micro_list.append(f1_score_micro)\n",
    "    f1_score_macro_list.append(f1_score_macro)\n",
    "#     break"
   ]
  },
  {
   "cell_type": "markdown",
   "id": "6354ee7b",
   "metadata": {},
   "source": [
    "Saving the model"
   ]
  },
  {
   "cell_type": "code",
   "execution_count": 22,
   "id": "c0359ac6",
   "metadata": {
    "execution": {
     "iopub.execute_input": "2024-04-13T15:13:42.333038Z",
     "iopub.status.busy": "2024-04-13T15:13:42.331890Z",
     "iopub.status.idle": "2024-04-13T15:13:43.055430Z",
     "shell.execute_reply": "2024-04-13T15:13:43.054328Z"
    },
    "papermill": {
     "duration": 0.816187,
     "end_time": "2024-04-13T15:13:43.058330",
     "exception": false,
     "start_time": "2024-04-13T15:13:42.242143",
     "status": "completed"
    },
    "tags": []
   },
   "outputs": [],
   "source": [
    "model_path = \"/kaggle/working/bert_model.pth\"\n",
    "torch.save(model.state_dict(), model_path)"
   ]
  },
  {
   "cell_type": "markdown",
   "id": "1e39ce67",
   "metadata": {},
   "source": [
    "Plotting training loss"
   ]
  },
  {
   "cell_type": "code",
   "execution_count": 23,
   "id": "1b35b84e",
   "metadata": {
    "execution": {
     "iopub.execute_input": "2024-04-13T15:13:43.231510Z",
     "iopub.status.busy": "2024-04-13T15:13:43.231104Z",
     "iopub.status.idle": "2024-04-13T15:13:44.035243Z",
     "shell.execute_reply": "2024-04-13T15:13:44.034237Z"
    },
    "papermill": {
     "duration": 0.894359,
     "end_time": "2024-04-13T15:13:44.037811",
     "exception": false,
     "start_time": "2024-04-13T15:13:43.143452",
     "status": "completed"
    },
    "tags": []
   },
   "outputs": [
    {
     "data": {
      "image/png": "[encoded data removed]",
      "text/plain": [
       "<Figure size 640x480 with 1 Axes>"
      ]
     },
     "metadata": {},
     "output_type": "display_data"
    }
   ],
   "source": [
    "df = pd.DataFrame(train_loss_list)\n",
    "file_path = '/kaggle/working/train_loss_list.xlsx'\n",
    "df.to_excel(file_path, index=False, header=False)\n",
    "\n",
    "plt.plot(np.arange(0,len(train_loss_list)),train_loss_list, marker='o')\n",
    "plt.title(\"train_loss\")\n",
    "plt.xlabel(\"epochs\")\n",
    "plt.ylabel(\"value\")\n",
    "plot_path = \"/kaggle/working/train_loss_plot.png\"\n",
    "plt.savefig(plot_path)"
   ]
  },
  {
   "cell_type": "markdown",
   "id": "13c975fd",
   "metadata": {},
   "source": [
    "Plotting validation loss"
   ]
  },
  {
   "cell_type": "code",
   "execution_count": 24,
   "id": "12db5d2a",
   "metadata": {
    "execution": {
     "iopub.execute_input": "2024-04-13T15:13:44.212025Z",
     "iopub.status.busy": "2024-04-13T15:13:44.211392Z",
     "iopub.status.idle": "2024-04-13T15:13:44.592462Z",
     "shell.execute_reply": "2024-04-13T15:13:44.591512Z"
    },
    "papermill": {
     "duration": 0.4714,
     "end_time": "2024-04-13T15:13:44.594753",
     "exception": false,
     "start_time": "2024-04-13T15:13:44.123353",
     "status": "completed"
    },
    "tags": []
   },
   "outputs": [
    {
     "data": {
      "image/png": "[encoded data removed]",
      "text/plain": [
       "<Figure size 640x480 with 1 Axes>"
      ]
     },
     "metadata": {},
     "output_type": "display_data"
    }
   ],
   "source": [
    "df = pd.DataFrame(valid_loss_list)\n",
    "file_path = '/kaggle/working/valid_loss_list.xlsx'\n",
    "df.to_excel(file_path, index=False, header=False)\n",
    "\n",
    "plt.plot(np.arange(0,len(valid_loss_list)),valid_loss_list, marker='o')\n",
    "plt.title(\"valid_loss\")\n",
    "plt.xlabel(\"epochs\")\n",
    "plt.ylabel(\"value\")\n",
    "plot_path = \"/kaggle/working/valid_loss_plot.png\"\n",
    "plt.savefig(plot_path)"
   ]
  },
  {
   "cell_type": "markdown",
   "id": "a991dec1",
   "metadata": {},
   "source": [
    "Plotting validation accuracy"
   ]
  },
  {
   "cell_type": "code",
   "execution_count": 25,
   "id": "02a8df0f",
   "metadata": {
    "execution": {
     "iopub.execute_input": "2024-04-13T15:13:44.762941Z",
     "iopub.status.busy": "2024-04-13T15:13:44.762578Z",
     "iopub.status.idle": "2024-04-13T15:13:45.160843Z",
     "shell.execute_reply": "2024-04-13T15:13:45.159735Z"
    },
    "papermill": {
     "duration": 0.48456,
     "end_time": "2024-04-13T15:13:45.163167",
     "exception": false,
     "start_time": "2024-04-13T15:13:44.678607",
     "status": "completed"
    },
    "tags": []
   },
   "outputs": [
    {
     "data": {
      "image/png": "[encoded data removed]",
      "text/plain": [
       "<Figure size 640x480 with 1 Axes>"
      ]
     },
     "metadata": {},
     "output_type": "display_data"
    }
   ],
   "source": [
    "df = pd.DataFrame(accuracy_list)\n",
    "file_path = '/kaggle/working/accuracy_list.xlsx'\n",
    "df.to_excel(file_path, index=False, header=False)\n",
    "\n",
    "plt.plot(np.arange(0,len(accuracy_list)),accuracy_list, marker='o')\n",
    "plt.title(\"valid_accuracy\")\n",
    "plt.xlabel(\"epochs\")\n",
    "plt.ylabel(\"value\")\n",
    "plot_path = \"/kaggle/working/accuracy_plot.png\"\n",
    "plt.savefig(plot_path)"
   ]
  },
  {
   "cell_type": "markdown",
   "id": "cd5c9e09",
   "metadata": {},
   "source": [
    "Plotting validation precision"
   ]
  },
  {
   "cell_type": "code",
   "execution_count": 26,
   "id": "88931dc9",
   "metadata": {
    "execution": {
     "iopub.execute_input": "2024-04-13T15:13:45.343208Z",
     "iopub.status.busy": "2024-04-13T15:13:45.342819Z",
     "iopub.status.idle": "2024-04-13T15:13:45.369155Z",
     "shell.execute_reply": "2024-04-13T15:13:45.368310Z"
    },
    "papermill": {
     "duration": 0.11919,
     "end_time": "2024-04-13T15:13:45.371785",
     "exception": false,
     "start_time": "2024-04-13T15:13:45.252595",
     "status": "completed"
    },
    "tags": []
   },
   "outputs": [],
   "source": [
    "df = pd.DataFrame(precision_list)\n",
    "file_path = '/kaggle/working/precision_list.xlsx'\n",
    "df.to_excel(file_path, index=False, header=False)"
   ]
  },
  {
   "cell_type": "code",
   "execution_count": 27,
   "id": "6c44fed8",
   "metadata": {
    "execution": {
     "iopub.execute_input": "2024-04-13T15:13:45.548756Z",
     "iopub.status.busy": "2024-04-13T15:13:45.548031Z",
     "iopub.status.idle": "2024-04-13T15:13:45.921300Z",
     "shell.execute_reply": "2024-04-13T15:13:45.920263Z"
    },
    "papermill": {
     "duration": 0.463259,
     "end_time": "2024-04-13T15:13:45.923672",
     "exception": false,
     "start_time": "2024-04-13T15:13:45.460413",
     "status": "completed"
    },
    "tags": []
   },
   "outputs": [
    {
     "data": {
      "image/png": "[encoded data removed]",
      "text/plain": [
       "<Figure size 640x480 with 1 Axes>"
      ]
     },
     "metadata": {},
     "output_type": "display_data"
    }
   ],
   "source": [
    "df = pd.DataFrame(precision_micro_list)\n",
    "file_path = '/kaggle/working/precision_micro_list.xlsx'\n",
    "df.to_excel(file_path, index=False, header=False)\n",
    "\n",
    "plt.plot(np.arange(0,len(precision_micro_list)),precision_micro_list, marker='o')\n",
    "plt.title(\"valid_precision_micro\")\n",
    "plt.xlabel(\"epochs\")\n",
    "plt.ylabel(\"value\")\n",
    "plot_path = \"/kaggle/working/precision_micro_plot.png\"\n",
    "plt.savefig(plot_path)"
   ]
  },
  {
   "cell_type": "code",
   "execution_count": 28,
   "id": "1a4da563",
   "metadata": {
    "execution": {
     "iopub.execute_input": "2024-04-13T15:13:46.094733Z",
     "iopub.status.busy": "2024-04-13T15:13:46.093935Z",
     "iopub.status.idle": "2024-04-13T15:13:46.519202Z",
     "shell.execute_reply": "2024-04-13T15:13:46.518118Z"
    },
    "papermill": {
     "duration": 0.513728,
     "end_time": "2024-04-13T15:13:46.521846",
     "exception": false,
     "start_time": "2024-04-13T15:13:46.008118",
     "status": "completed"
    },
    "tags": []
   },
   "outputs": [
    {
     "data": {
      "image/png": "[encoded data removed]",
      "text/plain": [
       "<Figure size 640x480 with 1 Axes>"
      ]
     },
     "metadata": {},
     "output_type": "display_data"
    }
   ],
   "source": [
    "df = pd.DataFrame(precision_macro_list)\n",
    "file_path = '/kaggle/working/precision_macro_list.xlsx'\n",
    "df.to_excel(file_path, index=False, header=False)\n",
    "\n",
    "plt.plot(np.arange(0,len(precision_macro_list)),precision_macro_list, marker='o')\n",
    "plt.title(\"valid_precision_macro\")\n",
    "plt.xlabel(\"epochs\")\n",
    "plt.ylabel(\"value\")\n",
    "plot_path = \"/kaggle/working/precision_macro_plot.png\"\n",
    "plt.savefig(plot_path)"
   ]
  },
  {
   "cell_type": "markdown",
   "id": "3739fa75",
   "metadata": {},
   "source": [
    "Plotting validation recall"
   ]
  },
  {
   "cell_type": "code",
   "execution_count": 29,
   "id": "ab06be33",
   "metadata": {
    "execution": {
     "iopub.execute_input": "2024-04-13T15:13:46.697022Z",
     "iopub.status.busy": "2024-04-13T15:13:46.696589Z",
     "iopub.status.idle": "2024-04-13T15:13:46.721754Z",
     "shell.execute_reply": "2024-04-13T15:13:46.720957Z"
    },
    "papermill": {
     "duration": 0.114412,
     "end_time": "2024-04-13T15:13:46.723976",
     "exception": false,
     "start_time": "2024-04-13T15:13:46.609564",
     "status": "completed"
    },
    "tags": []
   },
   "outputs": [],
   "source": [
    "df = pd.DataFrame(recall_list)\n",
    "file_path = '/kaggle/working/recall_list.xlsx'\n",
    "df.to_excel(file_path, index=False, header=False)"
   ]
  },
  {
   "cell_type": "code",
   "execution_count": 30,
   "id": "2827f1fd",
   "metadata": {
    "execution": {
     "iopub.execute_input": "2024-04-13T15:13:46.898488Z",
     "iopub.status.busy": "2024-04-13T15:13:46.898109Z",
     "iopub.status.idle": "2024-04-13T15:13:47.514177Z",
     "shell.execute_reply": "2024-04-13T15:13:47.513134Z"
    },
    "papermill": {
     "duration": 0.706076,
     "end_time": "2024-04-13T15:13:47.516417",
     "exception": false,
     "start_time": "2024-04-13T15:13:46.810341",
     "status": "completed"
    },
    "tags": []
   },
   "outputs": [
    {
     "data": {
      "image/png": "[encoded data removed]",
      "text/plain": [
       "<Figure size 640x480 with 1 Axes>"
      ]
     },
     "metadata": {},
     "output_type": "display_data"
    }
   ],
   "source": [
    "df = pd.DataFrame(recall_micro_list)\n",
    "file_path = '/kaggle/working/recall_micro_list.xlsx'\n",
    "df.to_excel(file_path, index=False, header=False)\n",
    "\n",
    "plt.plot(np.arange(0,len(recall_micro_list)),recall_micro_list, marker='o')\n",
    "plt.title(\"valid_recall_micro\")\n",
    "plt.xlabel(\"epochs\")\n",
    "plt.ylabel(\"value\")\n",
    "plot_path = \"/kaggle/working/recall_micro_plot.png\"\n",
    "plt.savefig(plot_path)"
   ]
  },
  {
   "cell_type": "code",
   "execution_count": 31,
   "id": "be3f6774",
   "metadata": {
    "execution": {
     "iopub.execute_input": "2024-04-13T15:13:47.718001Z",
     "iopub.status.busy": "2024-04-13T15:13:47.717173Z",
     "iopub.status.idle": "2024-04-13T15:13:48.087143Z",
     "shell.execute_reply": "2024-04-13T15:13:48.086061Z"
    },
    "papermill": {
     "duration": 0.4615,
     "end_time": "2024-04-13T15:13:48.089533",
     "exception": false,
     "start_time": "2024-04-13T15:13:47.628033",
     "status": "completed"
    },
    "tags": []
   },
   "outputs": [
    {
     "data": {
      "image/png": "[encoded data removed]",
      "text/plain": [
       "<Figure size 640x480 with 1 Axes>"
      ]
     },
     "metadata": {},
     "output_type": "display_data"
    }
   ],
   "source": [
    "df = pd.DataFrame(recall_macro_list)\n",
    "file_path = '/kaggle/working/recall_macro_list.xlsx'\n",
    "df.to_excel(file_path, index=False, header=False)\n",
    "\n",
    "plt.plot(np.arange(0,len(recall_macro_list)),recall_macro_list, marker='o')\n",
    "plt.title(\"valid_recall_macro\")\n",
    "plt.xlabel(\"epochs\")\n",
    "plt.ylabel(\"value\")\n",
    "plot_path = \"/kaggle/working/recall_macro_plot.png\"\n",
    "plt.savefig(plot_path)"
   ]
  },
  {
   "cell_type": "markdown",
   "id": "16850e24",
   "metadata": {},
   "source": [
    "Plotting validation f1_score"
   ]
  },
  {
   "cell_type": "code",
   "execution_count": 32,
   "id": "5c766300",
   "metadata": {
    "execution": {
     "iopub.execute_input": "2024-04-13T15:13:48.269648Z",
     "iopub.status.busy": "2024-04-13T15:13:48.269279Z",
     "iopub.status.idle": "2024-04-13T15:13:48.294832Z",
     "shell.execute_reply": "2024-04-13T15:13:48.293722Z"
    },
    "papermill": {
     "duration": 0.117108,
     "end_time": "2024-04-13T15:13:48.297174",
     "exception": false,
     "start_time": "2024-04-13T15:13:48.180066",
     "status": "completed"
    },
    "tags": []
   },
   "outputs": [],
   "source": [
    "df = pd.DataFrame(f1_score_list)\n",
    "file_path = '/kaggle/working/f1_score_list.xlsx'\n",
    "df.to_excel(file_path, index=False, header=False)"
   ]
  },
  {
   "cell_type": "code",
   "execution_count": 33,
   "id": "9da2b485",
   "metadata": {
    "execution": {
     "iopub.execute_input": "2024-04-13T15:13:48.479362Z",
     "iopub.status.busy": "2024-04-13T15:13:48.478571Z",
     "iopub.status.idle": "2024-04-13T15:13:48.946420Z",
     "shell.execute_reply": "2024-04-13T15:13:48.945253Z"
    },
    "papermill": {
     "duration": 0.562689,
     "end_time": "2024-04-13T15:13:48.949052",
     "exception": false,
     "start_time": "2024-04-13T15:13:48.386363",
     "status": "completed"
    },
    "tags": []
   },
   "outputs": [
    {
     "data": {
      "image/png": "[encoded data removed]",
      "text/plain": [
       "<Figure size 640x480 with 1 Axes>"
      ]
     },
     "metadata": {},
     "output_type": "display_data"
    }
   ],
   "source": [
    "df = pd.DataFrame(f1_score_micro_list)\n",
    "file_path = '/kaggle/working/f1_score_micro_list.xlsx'\n",
    "df.to_excel(file_path, index=False, header=False)\n",
    "\n",
    "plt.plot(np.arange(0,len(f1_score_micro_list)),f1_score_micro_list, marker='o')\n",
    "plt.title(\"valid_f1_score_micro\")\n",
    "plt.xlabel(\"epochs\")\n",
    "plt.ylabel(\"value\")\n",
    "plot_path = \"/kaggle/working/f1_score_micro_plot.png\"\n",
    "plt.savefig(plot_path)"
   ]
  },
  {
   "cell_type": "code",
   "execution_count": 34,
   "id": "1157e0b7",
   "metadata": {
    "execution": {
     "iopub.execute_input": "2024-04-13T15:13:49.139534Z",
     "iopub.status.busy": "2024-04-13T15:13:49.139155Z",
     "iopub.status.idle": "2024-04-13T15:13:49.524071Z",
     "shell.execute_reply": "2024-04-13T15:13:49.522971Z"
    },
    "papermill": {
     "duration": 0.482268,
     "end_time": "2024-04-13T15:13:49.526502",
     "exception": false,
     "start_time": "2024-04-13T15:13:49.044234",
     "status": "completed"
    },
    "tags": []
   },
   "outputs": [
    {
     "data": {
      "image/png": "[encoded data removed]",
      "text/plain": [
       "<Figure size 640x480 with 1 Axes>"
      ]
     },
     "metadata": {},
     "output_type": "display_data"
    }
   ],
   "source": [
    "df = pd.DataFrame(f1_score_macro_list)\n",
    "file_path = '/kaggle/working/f1_score_macro_list.xlsx'\n",
    "df.to_excel(file_path, index=False, header=False)\n",
    "\n",
    "plt.plot(np.arange(0,len(f1_score_macro_list)),f1_score_macro_list, marker='o')\n",
    "plt.title(\"valid_f1_score_macro\")\n",
    "plt.xlabel(\"epochs\")\n",
    "plt.ylabel(\"value\")\n",
    "plot_path = \"/kaggle/working/f1_score_macro_plot.png\"\n",
    "plt.savefig(plot_path)"
   ]
  }
 ],
 "metadata": {
  "kaggle": {
   "accelerator": "gpu",
   "dataSources": [
    {
     "datasetId": 4779005,
     "sourceId": 8094321,
     "sourceType": "datasetVersion"
    }
   ],
   "dockerImageVersionId": 30683,
   "isGpuEnabled": true,
   "isInternetEnabled": true,
   "language": "python",
   "sourceType": "notebook"
  },
  "kernelspec": {
   "display_name": "Python 3",
   "language": "python",
   "name": "python3"
  },
  "language_info": {
   "codemirror_mode": {
    "name": "ipython",
    "version": 3
   },
   "file_extension": ".py",
   "mimetype": "text/x-python",
   "name": "python",
   "nbconvert_exporter": "python",
   "pygments_lexer": "ipython3",
   "version": "3.11.4"
  },
  "papermill": {
   "default_parameters": {},
   "duration": 25242.368971,
   "end_time": "2024-04-13T15:13:52.438919",
   "environment_variables": {},
   "exception": null,
   "input_path": "__notebook__.ipynb",
   "output_path": "__notebook__.ipynb",
   "parameters": {},
   "start_time": "2024-04-13T08:13:10.069948",
   "version": "2.5.0"
  },
  "widgets": {
   "application/vnd.jupyter.widget-state+json": {
    "state": {
     "014ac3c15c5940bb985322363230f93d": {
      "model_module": "@jupyter-widgets/controls",
      "model_module_version": "1.5.0",
      "model_name": "FloatProgressModel",
      "state": {
       "_dom_classes": [],
       "_model_module": "@jupyter-widgets/controls",
       "_model_module_version": "1.5.0",
       "_model_name": "FloatProgressModel",
       "_view_count": null,
       "_view_module": "@jupyter-widgets/controls",
       "_view_module_version": "1.5.0",
       "_view_name": "ProgressView",
       "bar_style": "success",
       "description": "",
       "description_tooltip": null,
       "layout": "IPY_MODEL_4c514929d1904cb4935541a92ef08d63",
       "max": 231508,
       "min": 0,
       "orientation": "horizontal",
       "style": "IPY_MODEL_f53ecee16613415097f6d509480782a9",
       "value": 231508
      }
     },
     "069116a349894d69bbd89a07a1416b36": {
      "model_module": "@jupyter-widgets/base",
      "model_module_version": "1.2.0",
      "model_name": "LayoutModel",
      "state": {
       "_model_module": "@jupyter-widgets/base",
       "_model_module_version": "1.2.0",
       "_model_name": "LayoutModel",
       "_view_count": null,
       "_view_module": "@jupyter-widgets/base",
       "_view_module_version": "1.2.0",
       "_view_name": "LayoutView",
       "align_content": null,
       "align_items": null,
       "align_self": null,
       "border": null,
       "bottom": null,
       "display": null,
       "flex": null,
       "flex_flow": null,
       "grid_area": null,
       "grid_auto_columns": null,
       "grid_auto_flow": null,
       "grid_auto_rows": null,
       "grid_column": null,
       "grid_gap": null,
       "grid_row": null,
       "grid_template_areas": null,
       "grid_template_columns": null,
       "grid_template_rows": null,
       "height": null,
       "justify_content": null,
       "justify_items": null,
       "left": null,
       "margin": null,
       "max_height": null,
       "max_width": null,
       "min_height": null,
       "min_width": null,
       "object_fit": null,
       "object_position": null,
       "order": null,
       "overflow": null,
       "overflow_x": null,
       "overflow_y": null,
       "padding": null,
       "right": null,
       "top": null,
       "visibility": null,
       "width": null
      }
     },
     "14276ea3669a49ea9444d12f263120e2": {
      "model_module": "@jupyter-widgets/controls",
      "model_module_version": "1.5.0",
      "model_name": "HTMLModel",
      "state": {
       "_dom_classes": [],
       "_model_module": "@jupyter-widgets/controls",
       "_model_module_version": "1.5.0",
       "_model_name": "HTMLModel",
       "_view_count": null,
       "_view_module": "@jupyter-widgets/controls",
       "_view_module_version": "1.5.0",
       "_view_name": "HTMLView",
       "description": "",
       "description_tooltip": null,
       "layout": "IPY_MODEL_1f9dea3c4421490aac380f949ad906cc",
       "placeholder": "​",
       "style": "IPY_MODEL_ea62b107330a49e3a51367d54513337c",
       "value": "vocab.txt: 100%"
      }
     },
     "15b5267ccc754c55a73a600a6fd25350": {
      "model_module": "@jupyter-widgets/controls",
      "model_module_version": "1.5.0",
      "model_name": "HBoxModel",
      "state": {
       "_dom_classes": [],
       "_model_module": "@jupyter-widgets/controls",
       "_model_module_version": "1.5.0",
       "_model_name": "HBoxModel",
       "_view_count": null,
       "_view_module": "@jupyter-widgets/controls",
       "_view_module_version": "1.5.0",
       "_view_name": "HBoxView",
       "box_style": "",
       "children": [
        "IPY_MODEL_d16e0b9bcbce49d99a709822ea795881",
        "IPY_MODEL_505a20e9462146dbb57cde04980b57a4",
        "IPY_MODEL_759a857802fa42598892827a11fee7b5"
       ],
       "layout": "IPY_MODEL_d4262ac4bca24ff599b7e060e00030c8"
      }
     },
     "194e914653e24b17add825749efa6682": {
      "model_module": "@jupyter-widgets/controls",
      "model_module_version": "1.5.0",
      "model_name": "HTMLModel",
      "state": {
       "_dom_classes": [],
       "_model_module": "@jupyter-widgets/controls",
       "_model_module_version": "1.5.0",
       "_model_name": "HTMLModel",
       "_view_count": null,
       "_view_module": "@jupyter-widgets/controls",
       "_view_module_version": "1.5.0",
       "_view_name": "HTMLView",
       "description": "",
       "description_tooltip": null,
       "layout": "IPY_MODEL_c3d8d72e3b344065933642be4e067d39",
       "placeholder": "​",
       "style": "IPY_MODEL_ade3e6c846844da8b3c0584d4fd8cef4",
       "value": " 232k/232k [00:00&lt;00:00, 5.00MB/s]"
      }
     },
     "1abc9055aaf549ac92688e7719e9446c": {
      "model_module": "@jupyter-widgets/controls",
      "model_module_version": "1.5.0",
      "model_name": "DescriptionStyleModel",
      "state": {
       "_model_module": "@jupyter-widgets/controls",
       "_model_module_version": "1.5.0",
       "_model_name": "DescriptionStyleModel",
       "_view_count": null,
       "_view_module": "@jupyter-widgets/base",
       "_view_module_version": "1.2.0",
       "_view_name": "StyleView",
       "description_width": ""
      }
     },
     "1f9dea3c4421490aac380f949ad906cc": {
      "model_module": "@jupyter-widgets/base",
      "model_module_version": "1.2.0",
      "model_name": "LayoutModel",
      "state": {
       "_model_module": "@jupyter-widgets/base",
       "_model_module_version": "1.2.0",
       "_model_name": "LayoutModel",
       "_view_count": null,
       "_view_module": "@jupyter-widgets/base",
       "_view_module_version": "1.2.0",
       "_view_name": "LayoutView",
       "align_content": null,
       "align_items": null,
       "align_self": null,
       "border": null,
       "bottom": null,
       "display": null,
       "flex": null,
       "flex_flow": null,
       "grid_area": null,
       "grid_auto_columns": null,
       "grid_auto_flow": null,
       "grid_auto_rows": null,
       "grid_column": null,
       "grid_gap": null,
       "grid_row": null,
       "grid_template_areas": null,
       "grid_template_columns": null,
       "grid_template_rows": null,
       "height": null,
       "justify_content": null,
       "justify_items": null,
       "left": null,
       "margin": null,
       "max_height": null,
       "max_width": null,
       "min_height": null,
       "min_width": null,
       "object_fit": null,
       "object_position": null,
       "order": null,
       "overflow": null,
       "overflow_x": null,
       "overflow_y": null,
       "padding": null,
       "right": null,
       "top": null,
       "visibility": null,
       "width": null
      }
     },
     "2006b1c99d334a82bb1d85798649063a": {
      "model_module": "@jupyter-widgets/controls",
      "model_module_version": "1.5.0",
      "model_name": "FloatProgressModel",
      "state": {
       "_dom_classes": [],
       "_model_module": "@jupyter-widgets/controls",
       "_model_module_version": "1.5.0",
       "_model_name": "FloatProgressModel",
       "_view_count": null,
       "_view_module": "@jupyter-widgets/controls",
       "_view_module_version": "1.5.0",
       "_view_name": "ProgressView",
       "bar_style": "success",
       "description": "",
       "description_tooltip": null,
       "layout": "IPY_MODEL_e3a803c414c44558ab713c094f4e0fb6",
       "max": 440449768,
       "min": 0,
       "orientation": "horizontal",
       "style": "IPY_MODEL_27990546967c49d5983b0e683ab0e180",
       "value": 440449768
      }
     },
     "224fe5abb757460e8f5a6ec937074a20": {
      "model_module": "@jupyter-widgets/base",
      "model_module_version": "1.2.0",
      "model_name": "LayoutModel",
      "state": {
       "_model_module": "@jupyter-widgets/base",
       "_model_module_version": "1.2.0",
       "_model_name": "LayoutModel",
       "_view_count": null,
       "_view_module": "@jupyter-widgets/base",
       "_view_module_version": "1.2.0",
       "_view_name": "LayoutView",
       "align_content": null,
       "align_items": null,
       "align_self": null,
       "border": null,
       "bottom": null,
       "display": null,
       "flex": null,
       "flex_flow": null,
       "grid_area": null,
       "grid_auto_columns": null,
       "grid_auto_flow": null,
       "grid_auto_rows": null,
       "grid_column": null,
       "grid_gap": null,
       "grid_row": null,
       "grid_template_areas": null,
       "grid_template_columns": null,
       "grid_template_rows": null,
       "height": null,
       "justify_content": null,
       "justify_items": null,
       "left": null,
       "margin": null,
       "max_height": null,
       "max_width": null,
       "min_height": null,
       "min_width": null,
       "object_fit": null,
       "object_position": null,
       "order": null,
       "overflow": null,
       "overflow_x": null,
       "overflow_y": null,
       "padding": null,
       "right": null,
       "top": null,
       "visibility": null,
       "width": null
      }
     },
     "27990546967c49d5983b0e683ab0e180": {
      "model_module": "@jupyter-widgets/controls",
      "model_module_version": "1.5.0",
      "model_name": "ProgressStyleModel",
      "state": {
       "_model_module": "@jupyter-widgets/controls",
       "_model_module_version": "1.5.0",
       "_model_name": "ProgressStyleModel",
       "_view_count": null,
       "_view_module": "@jupyter-widgets/base",
       "_view_module_version": "1.2.0",
       "_view_name": "StyleView",
       "bar_color": null,
       "description_width": ""
      }
     },
     "33aca315318e45509d53efdd9899861a": {
      "model_module": "@jupyter-widgets/controls",
      "model_module_version": "1.5.0",
      "model_name": "DescriptionStyleModel",
      "state": {
       "_model_module": "@jupyter-widgets/controls",
       "_model_module_version": "1.5.0",
       "_model_name": "DescriptionStyleModel",
       "_view_count": null,
       "_view_module": "@jupyter-widgets/base",
       "_view_module_version": "1.2.0",
       "_view_name": "StyleView",
       "description_width": ""
      }
     },
     "349edfa9b88c42cbb3430c51fef1639e": {
      "model_module": "@jupyter-widgets/controls",
      "model_module_version": "1.5.0",
      "model_name": "DescriptionStyleModel",
      "state": {
       "_model_module": "@jupyter-widgets/controls",
       "_model_module_version": "1.5.0",
       "_model_name": "DescriptionStyleModel",
       "_view_count": null,
       "_view_module": "@jupyter-widgets/base",
       "_view_module_version": "1.2.0",
       "_view_name": "StyleView",
       "description_width": ""
      }
     },
     "378bf036b8a94f06b6855e1118f8fb43": {
      "model_module": "@jupyter-widgets/base",
      "model_module_version": "1.2.0",
      "model_name": "LayoutModel",
      "state": {
       "_model_module": "@jupyter-widgets/base",
       "_model_module_version": "1.2.0",
       "_model_name": "LayoutModel",
       "_view_count": null,
       "_view_module": "@jupyter-widgets/base",
       "_view_module_version": "1.2.0",
       "_view_name": "LayoutView",
       "align_content": null,
       "align_items": null,
       "align_self": null,
       "border": null,
       "bottom": null,
       "display": null,
       "flex": null,
       "flex_flow": null,
       "grid_area": null,
       "grid_auto_columns": null,
       "grid_auto_flow": null,
       "grid_auto_rows": null,
       "grid_column": null,
       "grid_gap": null,
       "grid_row": null,
       "grid_template_areas": null,
       "grid_template_columns": null,
       "grid_template_rows": null,
       "height": null,
       "justify_content": null,
       "justify_items": null,
       "left": null,
       "margin": null,
       "max_height": null,
       "max_width": null,
       "min_height": null,
       "min_width": null,
       "object_fit": null,
       "object_position": null,
       "order": null,
       "overflow": null,
       "overflow_x": null,
       "overflow_y": null,
       "padding": null,
       "right": null,
       "top": null,
       "visibility": null,
       "width": null
      }
     },
     "3a630db5b2a945dfb729f4d042894dbc": {
      "model_module": "@jupyter-widgets/controls",
      "model_module_version": "1.5.0",
      "model_name": "HTMLModel",
      "state": {
       "_dom_classes": [],
       "_model_module": "@jupyter-widgets/controls",
       "_model_module_version": "1.5.0",
       "_model_name": "HTMLModel",
       "_view_count": null,
       "_view_module": "@jupyter-widgets/controls",
       "_view_module_version": "1.5.0",
       "_view_name": "HTMLView",
       "description": "",
       "description_tooltip": null,
       "layout": "IPY_MODEL_73a3cb151ba9459e99172b37c5f6050a",
       "placeholder": "​",
       "style": "IPY_MODEL_b92029d9b2204244a0d3d201816366ac",
       "value": " 48.0/48.0 [00:00&lt;00:00, 3.48kB/s]"
      }
     },
     "4386989af528439da58d02a56f8d23f8": {
      "model_module": "@jupyter-widgets/controls",
      "model_module_version": "1.5.0",
      "model_name": "DescriptionStyleModel",
      "state": {
       "_model_module": "@jupyter-widgets/controls",
       "_model_module_version": "1.5.0",
       "_model_name": "DescriptionStyleModel",
       "_view_count": null,
       "_view_module": "@jupyter-widgets/base",
       "_view_module_version": "1.2.0",
       "_view_name": "StyleView",
       "description_width": ""
      }
     },
     "494c5b15eeca40d3a1bc33ada7fcd5fa": {
      "model_module": "@jupyter-widgets/controls",
      "model_module_version": "1.5.0",
      "model_name": "FloatProgressModel",
      "state": {
       "_dom_classes": [],
       "_model_module": "@jupyter-widgets/controls",
       "_model_module_version": "1.5.0",
       "_model_name": "FloatProgressModel",
       "_view_count": null,
       "_view_module": "@jupyter-widgets/controls",
       "_view_module_version": "1.5.0",
       "_view_name": "ProgressView",
       "bar_style": "success",
       "description": "",
       "description_tooltip": null,
       "layout": "IPY_MODEL_d802870dfce9414baa0cd16ef4975ffc",
       "max": 48,
       "min": 0,
       "orientation": "horizontal",
       "style": "IPY_MODEL_5d06b5a83c08408d8b92c565c09d5654",
       "value": 48
      }
     },
     "4b2bf1803ebb401e9333fb639cecd5ff": {
      "model_module": "@jupyter-widgets/controls",
      "model_module_version": "1.5.0",
      "model_name": "HBoxModel",
      "state": {
       "_dom_classes": [],
       "_model_module": "@jupyter-widgets/controls",
       "_model_module_version": "1.5.0",
       "_model_name": "HBoxModel",
       "_view_count": null,
       "_view_module": "@jupyter-widgets/controls",
       "_view_module_version": "1.5.0",
       "_view_name": "HBoxView",
       "box_style": "",
       "children": [
        "IPY_MODEL_61450f4720834fae9bc334f9affc9629",
        "IPY_MODEL_494c5b15eeca40d3a1bc33ada7fcd5fa",
        "IPY_MODEL_3a630db5b2a945dfb729f4d042894dbc"
       ],
       "layout": "IPY_MODEL_74330fb47bab4cdf8dd08b5ee3115c8e"
      }
     },
     "4c514929d1904cb4935541a92ef08d63": {
      "model_module": "@jupyter-widgets/base",
      "model_module_version": "1.2.0",
      "model_name": "LayoutModel",
      "state": {
       "_model_module": "@jupyter-widgets/base",
       "_model_module_version": "1.2.0",
       "_model_name": "LayoutModel",
       "_view_count": null,
       "_view_module": "@jupyter-widgets/base",
       "_view_module_version": "1.2.0",
       "_view_name": "LayoutView",
       "align_content": null,
       "align_items": null,
       "align_self": null,
       "border": null,
       "bottom": null,
       "display": null,
       "flex": null,
       "flex_flow": null,
       "grid_area": null,
       "grid_auto_columns": null,
       "grid_auto_flow": null,
       "grid_auto_rows": null,
       "grid_column": null,
       "grid_gap": null,
       "grid_row": null,
       "grid_template_areas": null,
       "grid_template_columns": null,
       "grid_template_rows": null,
       "height": null,
       "justify_content": null,
       "justify_items": null,
       "left": null,
       "margin": null,
       "max_height": null,
       "max_width": null,
       "min_height": null,
       "min_width": null,
       "object_fit": null,
       "object_position": null,
       "order": null,
       "overflow": null,
       "overflow_x": null,
       "overflow_y": null,
       "padding": null,
       "right": null,
       "top": null,
       "visibility": null,
       "width": null
      }
     },
     "505a20e9462146dbb57cde04980b57a4": {
      "model_module": "@jupyter-widgets/controls",
      "model_module_version": "1.5.0",
      "model_name": "FloatProgressModel",
      "state": {
       "_dom_classes": [],
       "_model_module": "@jupyter-widgets/controls",
       "_model_module_version": "1.5.0",
       "_model_name": "FloatProgressModel",
       "_view_count": null,
       "_view_module": "@jupyter-widgets/controls",
       "_view_module_version": "1.5.0",
       "_view_name": "ProgressView",
       "bar_style": "success",
       "description": "",
       "description_tooltip": null,
       "layout": "IPY_MODEL_224fe5abb757460e8f5a6ec937074a20",
       "max": 570,
       "min": 0,
       "orientation": "horizontal",
       "style": "IPY_MODEL_67277d2686694fe3acac0162952e7de4",
       "value": 570
      }
     },
     "543da498dc6e4ea4a55d847c49bc0aed": {
      "model_module": "@jupyter-widgets/base",
      "model_module_version": "1.2.0",
      "model_name": "LayoutModel",
      "state": {
       "_model_module": "@jupyter-widgets/base",
       "_model_module_version": "1.2.0",
       "_model_name": "LayoutModel",
       "_view_count": null,
       "_view_module": "@jupyter-widgets/base",
       "_view_module_version": "1.2.0",
       "_view_name": "LayoutView",
       "align_content": null,
       "align_items": null,
       "align_self": null,
       "border": null,
       "bottom": null,
       "display": null,
       "flex": null,
       "flex_flow": null,
       "grid_area": null,
       "grid_auto_columns": null,
       "grid_auto_flow": null,
       "grid_auto_rows": null,
       "grid_column": null,
       "grid_gap": null,
       "grid_row": null,
       "grid_template_areas": null,
       "grid_template_columns": null,
       "grid_template_rows": null,
       "height": null,
       "justify_content": null,
       "justify_items": null,
       "left": null,
       "margin": null,
       "max_height": null,
       "max_width": null,
       "min_height": null,
       "min_width": null,
       "object_fit": null,
       "object_position": null,
       "order": null,
       "overflow": null,
       "overflow_x": null,
       "overflow_y": null,
       "padding": null,
       "right": null,
       "top": null,
       "visibility": null,
       "width": null
      }
     },
     "583039729d254ad986bd77d9be11ffcf": {
      "model_module": "@jupyter-widgets/base",
      "model_module_version": "1.2.0",
      "model_name": "LayoutModel",
      "state": {
       "_model_module": "@jupyter-widgets/base",
       "_model_module_version": "1.2.0",
       "_model_name": "LayoutModel",
       "_view_count": null,
       "_view_module": "@jupyter-widgets/base",
       "_view_module_version": "1.2.0",
       "_view_name": "LayoutView",
       "align_content": null,
       "align_items": null,
       "align_self": null,
       "border": null,
       "bottom": null,
       "display": null,
       "flex": null,
       "flex_flow": null,
       "grid_area": null,
       "grid_auto_columns": null,
       "grid_auto_flow": null,
       "grid_auto_rows": null,
       "grid_column": null,
       "grid_gap": null,
       "grid_row": null,
       "grid_template_areas": null,
       "grid_template_columns": null,
       "grid_template_rows": null,
       "height": null,
       "justify_content": null,
       "justify_items": null,
       "left": null,
       "margin": null,
       "max_height": null,
       "max_width": null,
       "min_height": null,
       "min_width": null,
       "object_fit": null,
       "object_position": null,
       "order": null,
       "overflow": null,
       "overflow_x": null,
       "overflow_y": null,
       "padding": null,
       "right": null,
       "top": null,
       "visibility": null,
       "width": null
      }
     },
     "5d06b5a83c08408d8b92c565c09d5654": {
      "model_module": "@jupyter-widgets/controls",
      "model_module_version": "1.5.0",
      "model_name": "ProgressStyleModel",
      "state": {
       "_model_module": "@jupyter-widgets/controls",
       "_model_module_version": "1.5.0",
       "_model_name": "ProgressStyleModel",
       "_view_count": null,
       "_view_module": "@jupyter-widgets/base",
       "_view_module_version": "1.2.0",
       "_view_name": "StyleView",
       "bar_color": null,
       "description_width": ""
      }
     },
     "5dbe0118464c428ab4a71e72328594c3": {
      "model_module": "@jupyter-widgets/controls",
      "model_module_version": "1.5.0",
      "model_name": "DescriptionStyleModel",
      "state": {
       "_model_module": "@jupyter-widgets/controls",
       "_model_module_version": "1.5.0",
       "_model_name": "DescriptionStyleModel",
       "_view_count": null,
       "_view_module": "@jupyter-widgets/base",
       "_view_module_version": "1.2.0",
       "_view_name": "StyleView",
       "description_width": ""
      }
     },
     "61450f4720834fae9bc334f9affc9629": {
      "model_module": "@jupyter-widgets/controls",
      "model_module_version": "1.5.0",
      "model_name": "HTMLModel",
      "state": {
       "_dom_classes": [],
       "_model_module": "@jupyter-widgets/controls",
       "_model_module_version": "1.5.0",
       "_model_name": "HTMLModel",
       "_view_count": null,
       "_view_module": "@jupyter-widgets/controls",
       "_view_module_version": "1.5.0",
       "_view_name": "HTMLView",
       "description": "",
       "description_tooltip": null,
       "layout": "IPY_MODEL_069116a349894d69bbd89a07a1416b36",
       "placeholder": "​",
       "style": "IPY_MODEL_349edfa9b88c42cbb3430c51fef1639e",
       "value": "tokenizer_config.json: 100%"
      }
     },
     "67277d2686694fe3acac0162952e7de4": {
      "model_module": "@jupyter-widgets/controls",
      "model_module_version": "1.5.0",
      "model_name": "ProgressStyleModel",
      "state": {
       "_model_module": "@jupyter-widgets/controls",
       "_model_module_version": "1.5.0",
       "_model_name": "ProgressStyleModel",
       "_view_count": null,
       "_view_module": "@jupyter-widgets/base",
       "_view_module_version": "1.2.0",
       "_view_name": "StyleView",
       "bar_color": null,
       "description_width": ""
      }
     },
     "716e9a3ea193467f9018df888f5f5bb8": {
      "model_module": "@jupyter-widgets/base",
      "model_module_version": "1.2.0",
      "model_name": "LayoutModel",
      "state": {
       "_model_module": "@jupyter-widgets/base",
       "_model_module_version": "1.2.0",
       "_model_name": "LayoutModel",
       "_view_count": null,
       "_view_module": "@jupyter-widgets/base",
       "_view_module_version": "1.2.0",
       "_view_name": "LayoutView",
       "align_content": null,
       "align_items": null,
       "align_self": null,
       "border": null,
       "bottom": null,
       "display": null,
       "flex": null,
       "flex_flow": null,
       "grid_area": null,
       "grid_auto_columns": null,
       "grid_auto_flow": null,
       "grid_auto_rows": null,
       "grid_column": null,
       "grid_gap": null,
       "grid_row": null,
       "grid_template_areas": null,
       "grid_template_columns": null,
       "grid_template_rows": null,
       "height": null,
       "justify_content": null,
       "justify_items": null,
       "left": null,
       "margin": null,
       "max_height": null,
       "max_width": null,
       "min_height": null,
       "min_width": null,
       "object_fit": null,
       "object_position": null,
       "order": null,
       "overflow": null,
       "overflow_x": null,
       "overflow_y": null,
       "padding": null,
       "right": null,
       "top": null,
       "visibility": null,
       "width": null
      }
     },
     "73a3cb151ba9459e99172b37c5f6050a": {
      "model_module": "@jupyter-widgets/base",
      "model_module_version": "1.2.0",
      "model_name": "LayoutModel",
      "state": {
       "_model_module": "@jupyter-widgets/base",
       "_model_module_version": "1.2.0",
       "_model_name": "LayoutModel",
       "_view_count": null,
       "_view_module": "@jupyter-widgets/base",
       "_view_module_version": "1.2.0",
       "_view_name": "LayoutView",
       "align_content": null,
       "align_items": null,
       "align_self": null,
       "border": null,
       "bottom": null,
       "display": null,
       "flex": null,
       "flex_flow": null,
       "grid_area": null,
       "grid_auto_columns": null,
       "grid_auto_flow": null,
       "grid_auto_rows": null,
       "grid_column": null,
       "grid_gap": null,
       "grid_row": null,
       "grid_template_areas": null,
       "grid_template_columns": null,
       "grid_template_rows": null,
       "height": null,
       "justify_content": null,
       "justify_items": null,
       "left": null,
       "margin": null,
       "max_height": null,
       "max_width": null,
       "min_height": null,
       "min_width": null,
       "object_fit": null,
       "object_position": null,
       "order": null,
       "overflow": null,
       "overflow_x": null,
       "overflow_y": null,
       "padding": null,
       "right": null,
       "top": null,
       "visibility": null,
       "width": null
      }
     },
     "74330fb47bab4cdf8dd08b5ee3115c8e": {
      "model_module": "@jupyter-widgets/base",
      "model_module_version": "1.2.0",
      "model_name": "LayoutModel",
      "state": {
       "_model_module": "@jupyter-widgets/base",
       "_model_module_version": "1.2.0",
       "_model_name": "LayoutModel",
       "_view_count": null,
       "_view_module": "@jupyter-widgets/base",
       "_view_module_version": "1.2.0",
       "_view_name": "LayoutView",
       "align_content": null,
       "align_items": null,
       "align_self": null,
       "border": null,
       "bottom": null,
       "display": null,
       "flex": null,
       "flex_flow": null,
       "grid_area": null,
       "grid_auto_columns": null,
       "grid_auto_flow": null,
       "grid_auto_rows": null,
       "grid_column": null,
       "grid_gap": null,
       "grid_row": null,
       "grid_template_areas": null,
       "grid_template_columns": null,
       "grid_template_rows": null,
       "height": null,
       "justify_content": null,
       "justify_items": null,
       "left": null,
       "margin": null,
       "max_height": null,
       "max_width": null,
       "min_height": null,
       "min_width": null,
       "object_fit": null,
       "object_position": null,
       "order": null,
       "overflow": null,
       "overflow_x": null,
       "overflow_y": null,
       "padding": null,
       "right": null,
       "top": null,
       "visibility": null,
       "width": null
      }
     },
     "759a857802fa42598892827a11fee7b5": {
      "model_module": "@jupyter-widgets/controls",
      "model_module_version": "1.5.0",
      "model_name": "HTMLModel",
      "state": {
       "_dom_classes": [],
       "_model_module": "@jupyter-widgets/controls",
       "_model_module_version": "1.5.0",
       "_model_name": "HTMLModel",
       "_view_count": null,
       "_view_module": "@jupyter-widgets/controls",
       "_view_module_version": "1.5.0",
       "_view_name": "HTMLView",
       "description": "",
       "description_tooltip": null,
       "layout": "IPY_MODEL_7c62e30d0a5e4311ace4d18c4ade419d",
       "placeholder": "​",
       "style": "IPY_MODEL_ca6c23dc5ff44495a5ec66d4b3911512",
       "value": " 570/570 [00:00&lt;00:00, 45.0kB/s]"
      }
     },
     "7c62e30d0a5e4311ace4d18c4ade419d": {
      "model_module": "@jupyter-widgets/base",
      "model_module_version": "1.2.0",
      "model_name": "LayoutModel",
      "state": {
       "_model_module": "@jupyter-widgets/base",
       "_model_module_version": "1.2.0",
       "_model_name": "LayoutModel",
       "_view_count": null,
       "_view_module": "@jupyter-widgets/base",
       "_view_module_version": "1.2.0",
       "_view_name": "LayoutView",
       "align_content": null,
       "align_items": null,
       "align_self": null,
       "border": null,
       "bottom": null,
       "display": null,
       "flex": null,
       "flex_flow": null,
       "grid_area": null,
       "grid_auto_columns": null,
       "grid_auto_flow": null,
       "grid_auto_rows": null,
       "grid_column": null,
       "grid_gap": null,
       "grid_row": null,
       "grid_template_areas": null,
       "grid_template_columns": null,
       "grid_template_rows": null,
       "height": null,
       "justify_content": null,
       "justify_items": null,
       "left": null,
       "margin": null,
       "max_height": null,
       "max_width": null,
       "min_height": null,
       "min_width": null,
       "object_fit": null,
       "object_position": null,
       "order": null,
       "overflow": null,
       "overflow_x": null,
       "overflow_y": null,
       "padding": null,
       "right": null,
       "top": null,
       "visibility": null,
       "width": null
      }
     },
     "860ab09cbe764e3fb1c18c3ea1cb5034": {
      "model_module": "@jupyter-widgets/controls",
      "model_module_version": "1.5.0",
      "model_name": "ProgressStyleModel",
      "state": {
       "_model_module": "@jupyter-widgets/controls",
       "_model_module_version": "1.5.0",
       "_model_name": "ProgressStyleModel",
       "_view_count": null,
       "_view_module": "@jupyter-widgets/base",
       "_view_module_version": "1.2.0",
       "_view_name": "StyleView",
       "bar_color": null,
       "description_width": ""
      }
     },
     "98492e404bcc4f5c93c16e77e19bd91b": {
      "model_module": "@jupyter-widgets/controls",
      "model_module_version": "1.5.0",
      "model_name": "HBoxModel",
      "state": {
       "_dom_classes": [],
       "_model_module": "@jupyter-widgets/controls",
       "_model_module_version": "1.5.0",
       "_model_name": "HBoxModel",
       "_view_count": null,
       "_view_module": "@jupyter-widgets/controls",
       "_view_module_version": "1.5.0",
       "_view_name": "HBoxView",
       "box_style": "",
       "children": [
        "IPY_MODEL_e5e86c4314ba4bb8885c087e02f419bf",
        "IPY_MODEL_e9ddb94680844d1584ede143a93009e4",
        "IPY_MODEL_c7ce4a2fceda486fa6ac526a0682036a"
       ],
       "layout": "IPY_MODEL_bba00afb1a5b4f43948673097f8c1c09"
      }
     },
     "9b657c662c5648c0838a8c15f79e0cd3": {
      "model_module": "@jupyter-widgets/controls",
      "model_module_version": "1.5.0",
      "model_name": "HTMLModel",
      "state": {
       "_dom_classes": [],
       "_model_module": "@jupyter-widgets/controls",
       "_model_module_version": "1.5.0",
       "_model_name": "HTMLModel",
       "_view_count": null,
       "_view_module": "@jupyter-widgets/controls",
       "_view_module_version": "1.5.0",
       "_view_name": "HTMLView",
       "description": "",
       "description_tooltip": null,
       "layout": "IPY_MODEL_378bf036b8a94f06b6855e1118f8fb43",
       "placeholder": "​",
       "style": "IPY_MODEL_d5f193bfb5fc412db9cce5b8e02d8015",
       "value": "model.safetensors: 100%"
      }
     },
     "a71c38e6d92043c4b45df62742f850b7": {
      "model_module": "@jupyter-widgets/base",
      "model_module_version": "1.2.0",
      "model_name": "LayoutModel",
      "state": {
       "_model_module": "@jupyter-widgets/base",
       "_model_module_version": "1.2.0",
       "_model_name": "LayoutModel",
       "_view_count": null,
       "_view_module": "@jupyter-widgets/base",
       "_view_module_version": "1.2.0",
       "_view_name": "LayoutView",
       "align_content": null,
       "align_items": null,
       "align_self": null,
       "border": null,
       "bottom": null,
       "display": null,
       "flex": null,
       "flex_flow": null,
       "grid_area": null,
       "grid_auto_columns": null,
       "grid_auto_flow": null,
       "grid_auto_rows": null,
       "grid_column": null,
       "grid_gap": null,
       "grid_row": null,
       "grid_template_areas": null,
       "grid_template_columns": null,
       "grid_template_rows": null,
       "height": null,
       "justify_content": null,
       "justify_items": null,
       "left": null,
       "margin": null,
       "max_height": null,
       "max_width": null,
       "min_height": null,
       "min_width": null,
       "object_fit": null,
       "object_position": null,
       "order": null,
       "overflow": null,
       "overflow_x": null,
       "overflow_y": null,
       "padding": null,
       "right": null,
       "top": null,
       "visibility": null,
       "width": null
      }
     },
     "ad022e3ed04b493fa3d67fd4c6e04c75": {
      "model_module": "@jupyter-widgets/controls",
      "model_module_version": "1.5.0",
      "model_name": "HBoxModel",
      "state": {
       "_dom_classes": [],
       "_model_module": "@jupyter-widgets/controls",
       "_model_module_version": "1.5.0",
       "_model_name": "HBoxModel",
       "_view_count": null,
       "_view_module": "@jupyter-widgets/controls",
       "_view_module_version": "1.5.0",
       "_view_name": "HBoxView",
       "box_style": "",
       "children": [
        "IPY_MODEL_9b657c662c5648c0838a8c15f79e0cd3",
        "IPY_MODEL_2006b1c99d334a82bb1d85798649063a",
        "IPY_MODEL_fb50a644db9b4a9ba6bd237a1d63b1d3"
       ],
       "layout": "IPY_MODEL_716e9a3ea193467f9018df888f5f5bb8"
      }
     },
     "ade3e6c846844da8b3c0584d4fd8cef4": {
      "model_module": "@jupyter-widgets/controls",
      "model_module_version": "1.5.0",
      "model_name": "DescriptionStyleModel",
      "state": {
       "_model_module": "@jupyter-widgets/controls",
       "_model_module_version": "1.5.0",
       "_model_name": "DescriptionStyleModel",
       "_view_count": null,
       "_view_module": "@jupyter-widgets/base",
       "_view_module_version": "1.2.0",
       "_view_name": "StyleView",
       "description_width": ""
      }
     },
     "b92029d9b2204244a0d3d201816366ac": {
      "model_module": "@jupyter-widgets/controls",
      "model_module_version": "1.5.0",
      "model_name": "DescriptionStyleModel",
      "state": {
       "_model_module": "@jupyter-widgets/controls",
       "_model_module_version": "1.5.0",
       "_model_name": "DescriptionStyleModel",
       "_view_count": null,
       "_view_module": "@jupyter-widgets/base",
       "_view_module_version": "1.2.0",
       "_view_name": "StyleView",
       "description_width": ""
      }
     },
     "bba00afb1a5b4f43948673097f8c1c09": {
      "model_module": "@jupyter-widgets/base",
      "model_module_version": "1.2.0",
      "model_name": "LayoutModel",
      "state": {
       "_model_module": "@jupyter-widgets/base",
       "_model_module_version": "1.2.0",
       "_model_name": "LayoutModel",
       "_view_count": null,
       "_view_module": "@jupyter-widgets/base",
       "_view_module_version": "1.2.0",
       "_view_name": "LayoutView",
       "align_content": null,
       "align_items": null,
       "align_self": null,
       "border": null,
       "bottom": null,
       "display": null,
       "flex": null,
       "flex_flow": null,
       "grid_area": null,
       "grid_auto_columns": null,
       "grid_auto_flow": null,
       "grid_auto_rows": null,
       "grid_column": null,
       "grid_gap": null,
       "grid_row": null,
       "grid_template_areas": null,
       "grid_template_columns": null,
       "grid_template_rows": null,
       "height": null,
       "justify_content": null,
       "justify_items": null,
       "left": null,
       "margin": null,
       "max_height": null,
       "max_width": null,
       "min_height": null,
       "min_width": null,
       "object_fit": null,
       "object_position": null,
       "order": null,
       "overflow": null,
       "overflow_x": null,
       "overflow_y": null,
       "padding": null,
       "right": null,
       "top": null,
       "visibility": null,
       "width": null
      }
     },
     "c3d8d72e3b344065933642be4e067d39": {
      "model_module": "@jupyter-widgets/base",
      "model_module_version": "1.2.0",
      "model_name": "LayoutModel",
      "state": {
       "_model_module": "@jupyter-widgets/base",
       "_model_module_version": "1.2.0",
       "_model_name": "LayoutModel",
       "_view_count": null,
       "_view_module": "@jupyter-widgets/base",
       "_view_module_version": "1.2.0",
       "_view_name": "LayoutView",
       "align_content": null,
       "align_items": null,
       "align_self": null,
       "border": null,
       "bottom": null,
       "display": null,
       "flex": null,
       "flex_flow": null,
       "grid_area": null,
       "grid_auto_columns": null,
       "grid_auto_flow": null,
       "grid_auto_rows": null,
       "grid_column": null,
       "grid_gap": null,
       "grid_row": null,
       "grid_template_areas": null,
       "grid_template_columns": null,
       "grid_template_rows": null,
       "height": null,
       "justify_content": null,
       "justify_items": null,
       "left": null,
       "margin": null,
       "max_height": null,
       "max_width": null,
       "min_height": null,
       "min_width": null,
       "object_fit": null,
       "object_position": null,
       "order": null,
       "overflow": null,
       "overflow_x": null,
       "overflow_y": null,
       "padding": null,
       "right": null,
       "top": null,
       "visibility": null,
       "width": null
      }
     },
     "c7ce4a2fceda486fa6ac526a0682036a": {
      "model_module": "@jupyter-widgets/controls",
      "model_module_version": "1.5.0",
      "model_name": "HTMLModel",
      "state": {
       "_dom_classes": [],
       "_model_module": "@jupyter-widgets/controls",
       "_model_module_version": "1.5.0",
       "_model_name": "HTMLModel",
       "_view_count": null,
       "_view_module": "@jupyter-widgets/controls",
       "_view_module_version": "1.5.0",
       "_view_name": "HTMLView",
       "description": "",
       "description_tooltip": null,
       "layout": "IPY_MODEL_d1a6860a37904b8a931cf5c0b0b232dd",
       "placeholder": "​",
       "style": "IPY_MODEL_5dbe0118464c428ab4a71e72328594c3",
       "value": " 466k/466k [00:00&lt;00:00, 13.9MB/s]"
      }
     },
     "ca6c23dc5ff44495a5ec66d4b3911512": {
      "model_module": "@jupyter-widgets/controls",
      "model_module_version": "1.5.0",
      "model_name": "DescriptionStyleModel",
      "state": {
       "_model_module": "@jupyter-widgets/controls",
       "_model_module_version": "1.5.0",
       "_model_name": "DescriptionStyleModel",
       "_view_count": null,
       "_view_module": "@jupyter-widgets/base",
       "_view_module_version": "1.2.0",
       "_view_name": "StyleView",
       "description_width": ""
      }
     },
     "d0e5d8301c2c41608ba4fc9b7dd909b2": {
      "model_module": "@jupyter-widgets/base",
      "model_module_version": "1.2.0",
      "model_name": "LayoutModel",
      "state": {
       "_model_module": "@jupyter-widgets/base",
       "_model_module_version": "1.2.0",
       "_model_name": "LayoutModel",
       "_view_count": null,
       "_view_module": "@jupyter-widgets/base",
       "_view_module_version": "1.2.0",
       "_view_name": "LayoutView",
       "align_content": null,
       "align_items": null,
       "align_self": null,
       "border": null,
       "bottom": null,
       "display": null,
       "flex": null,
       "flex_flow": null,
       "grid_area": null,
       "grid_auto_columns": null,
       "grid_auto_flow": null,
       "grid_auto_rows": null,
       "grid_column": null,
       "grid_gap": null,
       "grid_row": null,
       "grid_template_areas": null,
       "grid_template_columns": null,
       "grid_template_rows": null,
       "height": null,
       "justify_content": null,
       "justify_items": null,
       "left": null,
       "margin": null,
       "max_height": null,
       "max_width": null,
       "min_height": null,
       "min_width": null,
       "object_fit": null,
       "object_position": null,
       "order": null,
       "overflow": null,
       "overflow_x": null,
       "overflow_y": null,
       "padding": null,
       "right": null,
       "top": null,
       "visibility": null,
       "width": null
      }
     },
     "d16e0b9bcbce49d99a709822ea795881": {
      "model_module": "@jupyter-widgets/controls",
      "model_module_version": "1.5.0",
      "model_name": "HTMLModel",
      "state": {
       "_dom_classes": [],
       "_model_module": "@jupyter-widgets/controls",
       "_model_module_version": "1.5.0",
       "_model_name": "HTMLModel",
       "_view_count": null,
       "_view_module": "@jupyter-widgets/controls",
       "_view_module_version": "1.5.0",
       "_view_name": "HTMLView",
       "description": "",
       "description_tooltip": null,
       "layout": "IPY_MODEL_543da498dc6e4ea4a55d847c49bc0aed",
       "placeholder": "​",
       "style": "IPY_MODEL_1abc9055aaf549ac92688e7719e9446c",
       "value": "config.json: 100%"
      }
     },
     "d1a6860a37904b8a931cf5c0b0b232dd": {
      "model_module": "@jupyter-widgets/base",
      "model_module_version": "1.2.0",
      "model_name": "LayoutModel",
      "state": {
       "_model_module": "@jupyter-widgets/base",
       "_model_module_version": "1.2.0",
       "_model_name": "LayoutModel",
       "_view_count": null,
       "_view_module": "@jupyter-widgets/base",
       "_view_module_version": "1.2.0",
       "_view_name": "LayoutView",
       "align_content": null,
       "align_items": null,
       "align_self": null,
       "border": null,
       "bottom": null,
       "display": null,
       "flex": null,
       "flex_flow": null,
       "grid_area": null,
       "grid_auto_columns": null,
       "grid_auto_flow": null,
       "grid_auto_rows": null,
       "grid_column": null,
       "grid_gap": null,
       "grid_row": null,
       "grid_template_areas": null,
       "grid_template_columns": null,
       "grid_template_rows": null,
       "height": null,
       "justify_content": null,
       "justify_items": null,
       "left": null,
       "margin": null,
       "max_height": null,
       "max_width": null,
       "min_height": null,
       "min_width": null,
       "object_fit": null,
       "object_position": null,
       "order": null,
       "overflow": null,
       "overflow_x": null,
       "overflow_y": null,
       "padding": null,
       "right": null,
       "top": null,
       "visibility": null,
       "width": null
      }
     },
     "d4262ac4bca24ff599b7e060e00030c8": {
      "model_module": "@jupyter-widgets/base",
      "model_module_version": "1.2.0",
      "model_name": "LayoutModel",
      "state": {
       "_model_module": "@jupyter-widgets/base",
       "_model_module_version": "1.2.0",
       "_model_name": "LayoutModel",
       "_view_count": null,
       "_view_module": "@jupyter-widgets/base",
       "_view_module_version": "1.2.0",
       "_view_name": "LayoutView",
       "align_content": null,
       "align_items": null,
       "align_self": null,
       "border": null,
       "bottom": null,
       "display": null,
       "flex": null,
       "flex_flow": null,
       "grid_area": null,
       "grid_auto_columns": null,
       "grid_auto_flow": null,
       "grid_auto_rows": null,
       "grid_column": null,
       "grid_gap": null,
       "grid_row": null,
       "grid_template_areas": null,
       "grid_template_columns": null,
       "grid_template_rows": null,
       "height": null,
       "justify_content": null,
       "justify_items": null,
       "left": null,
       "margin": null,
       "max_height": null,
       "max_width": null,
       "min_height": null,
       "min_width": null,
       "object_fit": null,
       "object_position": null,
       "order": null,
       "overflow": null,
       "overflow_x": null,
       "overflow_y": null,
       "padding": null,
       "right": null,
       "top": null,
       "visibility": null,
       "width": null
      }
     },
     "d5f193bfb5fc412db9cce5b8e02d8015": {
      "model_module": "@jupyter-widgets/controls",
      "model_module_version": "1.5.0",
      "model_name": "DescriptionStyleModel",
      "state": {
       "_model_module": "@jupyter-widgets/controls",
       "_model_module_version": "1.5.0",
       "_model_name": "DescriptionStyleModel",
       "_view_count": null,
       "_view_module": "@jupyter-widgets/base",
       "_view_module_version": "1.2.0",
       "_view_name": "StyleView",
       "description_width": ""
      }
     },
     "d802870dfce9414baa0cd16ef4975ffc": {
      "model_module": "@jupyter-widgets/base",
      "model_module_version": "1.2.0",
      "model_name": "LayoutModel",
      "state": {
       "_model_module": "@jupyter-widgets/base",
       "_model_module_version": "1.2.0",
       "_model_name": "LayoutModel",
       "_view_count": null,
       "_view_module": "@jupyter-widgets/base",
       "_view_module_version": "1.2.0",
       "_view_name": "LayoutView",
       "align_content": null,
       "align_items": null,
       "align_self": null,
       "border": null,
       "bottom": null,
       "display": null,
       "flex": null,
       "flex_flow": null,
       "grid_area": null,
       "grid_auto_columns": null,
       "grid_auto_flow": null,
       "grid_auto_rows": null,
       "grid_column": null,
       "grid_gap": null,
       "grid_row": null,
       "grid_template_areas": null,
       "grid_template_columns": null,
       "grid_template_rows": null,
       "height": null,
       "justify_content": null,
       "justify_items": null,
       "left": null,
       "margin": null,
       "max_height": null,
       "max_width": null,
       "min_height": null,
       "min_width": null,
       "object_fit": null,
       "object_position": null,
       "order": null,
       "overflow": null,
       "overflow_x": null,
       "overflow_y": null,
       "padding": null,
       "right": null,
       "top": null,
       "visibility": null,
       "width": null
      }
     },
     "e3a803c414c44558ab713c094f4e0fb6": {
      "model_module": "@jupyter-widgets/base",
      "model_module_version": "1.2.0",
      "model_name": "LayoutModel",
      "state": {
       "_model_module": "@jupyter-widgets/base",
       "_model_module_version": "1.2.0",
       "_model_name": "LayoutModel",
       "_view_count": null,
       "_view_module": "@jupyter-widgets/base",
       "_view_module_version": "1.2.0",
       "_view_name": "LayoutView",
       "align_content": null,
       "align_items": null,
       "align_self": null,
       "border": null,
       "bottom": null,
       "display": null,
       "flex": null,
       "flex_flow": null,
       "grid_area": null,
       "grid_auto_columns": null,
       "grid_auto_flow": null,
       "grid_auto_rows": null,
       "grid_column": null,
       "grid_gap": null,
       "grid_row": null,
       "grid_template_areas": null,
       "grid_template_columns": null,
       "grid_template_rows": null,
       "height": null,
       "justify_content": null,
       "justify_items": null,
       "left": null,
       "margin": null,
       "max_height": null,
       "max_width": null,
       "min_height": null,
       "min_width": null,
       "object_fit": null,
       "object_position": null,
       "order": null,
       "overflow": null,
       "overflow_x": null,
       "overflow_y": null,
       "padding": null,
       "right": null,
       "top": null,
       "visibility": null,
       "width": null
      }
     },
     "e3c0615708514d13bfb46ba1ff92d70a": {
      "model_module": "@jupyter-widgets/base",
      "model_module_version": "1.2.0",
      "model_name": "LayoutModel",
      "state": {
       "_model_module": "@jupyter-widgets/base",
       "_model_module_version": "1.2.0",
       "_model_name": "LayoutModel",
       "_view_count": null,
       "_view_module": "@jupyter-widgets/base",
       "_view_module_version": "1.2.0",
       "_view_name": "LayoutView",
       "align_content": null,
       "align_items": null,
       "align_self": null,
       "border": null,
       "bottom": null,
       "display": null,
       "flex": null,
       "flex_flow": null,
       "grid_area": null,
       "grid_auto_columns": null,
       "grid_auto_flow": null,
       "grid_auto_rows": null,
       "grid_column": null,
       "grid_gap": null,
       "grid_row": null,
       "grid_template_areas": null,
       "grid_template_columns": null,
       "grid_template_rows": null,
       "height": null,
       "justify_content": null,
       "justify_items": null,
       "left": null,
       "margin": null,
       "max_height": null,
       "max_width": null,
       "min_height": null,
       "min_width": null,
       "object_fit": null,
       "object_position": null,
       "order": null,
       "overflow": null,
       "overflow_x": null,
       "overflow_y": null,
       "padding": null,
       "right": null,
       "top": null,
       "visibility": null,
       "width": null
      }
     },
     "e5e86c4314ba4bb8885c087e02f419bf": {
      "model_module": "@jupyter-widgets/controls",
      "model_module_version": "1.5.0",
      "model_name": "HTMLModel",
      "state": {
       "_dom_classes": [],
       "_model_module": "@jupyter-widgets/controls",
       "_model_module_version": "1.5.0",
       "_model_name": "HTMLModel",
       "_view_count": null,
       "_view_module": "@jupyter-widgets/controls",
       "_view_module_version": "1.5.0",
       "_view_name": "HTMLView",
       "description": "",
       "description_tooltip": null,
       "layout": "IPY_MODEL_d0e5d8301c2c41608ba4fc9b7dd909b2",
       "placeholder": "​",
       "style": "IPY_MODEL_4386989af528439da58d02a56f8d23f8",
       "value": "tokenizer.json: 100%"
      }
     },
     "e9ddb94680844d1584ede143a93009e4": {
      "model_module": "@jupyter-widgets/controls",
      "model_module_version": "1.5.0",
      "model_name": "FloatProgressModel",
      "state": {
       "_dom_classes": [],
       "_model_module": "@jupyter-widgets/controls",
       "_model_module_version": "1.5.0",
       "_model_name": "FloatProgressModel",
       "_view_count": null,
       "_view_module": "@jupyter-widgets/controls",
       "_view_module_version": "1.5.0",
       "_view_name": "ProgressView",
       "bar_style": "success",
       "description": "",
       "description_tooltip": null,
       "layout": "IPY_MODEL_a71c38e6d92043c4b45df62742f850b7",
       "max": 466062,
       "min": 0,
       "orientation": "horizontal",
       "style": "IPY_MODEL_860ab09cbe764e3fb1c18c3ea1cb5034",
       "value": 466062
      }
     },
     "ea62b107330a49e3a51367d54513337c": {
      "model_module": "@jupyter-widgets/controls",
      "model_module_version": "1.5.0",
      "model_name": "DescriptionStyleModel",
      "state": {
       "_model_module": "@jupyter-widgets/controls",
       "_model_module_version": "1.5.0",
       "_model_name": "DescriptionStyleModel",
       "_view_count": null,
       "_view_module": "@jupyter-widgets/base",
       "_view_module_version": "1.2.0",
       "_view_name": "StyleView",
       "description_width": ""
      }
     },
     "f069c43842394b63852a06c86f277d14": {
      "model_module": "@jupyter-widgets/controls",
      "model_module_version": "1.5.0",
      "model_name": "HBoxModel",
      "state": {
       "_dom_classes": [],
       "_model_module": "@jupyter-widgets/controls",
       "_model_module_version": "1.5.0",
       "_model_name": "HBoxModel",
       "_view_count": null,
       "_view_module": "@jupyter-widgets/controls",
       "_view_module_version": "1.5.0",
       "_view_name": "HBoxView",
       "box_style": "",
       "children": [
        "IPY_MODEL_14276ea3669a49ea9444d12f263120e2",
        "IPY_MODEL_014ac3c15c5940bb985322363230f93d",
        "IPY_MODEL_194e914653e24b17add825749efa6682"
       ],
       "layout": "IPY_MODEL_583039729d254ad986bd77d9be11ffcf"
      }
     },
     "f53ecee16613415097f6d509480782a9": {
      "model_module": "@jupyter-widgets/controls",
      "model_module_version": "1.5.0",
      "model_name": "ProgressStyleModel",
      "state": {
       "_model_module": "@jupyter-widgets/controls",
       "_model_module_version": "1.5.0",
       "_model_name": "ProgressStyleModel",
       "_view_count": null,
       "_view_module": "@jupyter-widgets/base",
       "_view_module_version": "1.2.0",
       "_view_name": "StyleView",
       "bar_color": null,
       "description_width": ""
      }
     },
     "fb50a644db9b4a9ba6bd237a1d63b1d3": {
      "model_module": "@jupyter-widgets/controls",
      "model_module_version": "1.5.0",
      "model_name": "HTMLModel",
      "state": {
       "_dom_classes": [],
       "_model_module": "@jupyter-widgets/controls",
       "_model_module_version": "1.5.0",
       "_model_name": "HTMLModel",
       "_view_count": null,
       "_view_module": "@jupyter-widgets/controls",
       "_view_module_version": "1.5.0",
       "_view_name": "HTMLView",
       "description": "",
       "description_tooltip": null,
       "layout": "IPY_MODEL_e3c0615708514d13bfb46ba1ff92d70a",
       "placeholder": "​",
       "style": "IPY_MODEL_33aca315318e45509d53efdd9899861a",
       "value": " 440M/440M [00:02&lt;00:00, 216MB/s]"
      }
     }
    },
    "version_major": 2,
    "version_minor": 0
   }
  }
 },
 "nbformat": 4,
 "nbformat_minor": 5
}
