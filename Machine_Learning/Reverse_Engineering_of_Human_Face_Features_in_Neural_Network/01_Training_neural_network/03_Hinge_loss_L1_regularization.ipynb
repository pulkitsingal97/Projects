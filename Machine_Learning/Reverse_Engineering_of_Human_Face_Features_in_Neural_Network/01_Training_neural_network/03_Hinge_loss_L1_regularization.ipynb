{
 "cells": [
  {
   "cell_type": "code",
   "execution_count": 1,
   "id": "336d0553",
   "metadata": {},
   "outputs": [],
   "source": [
    "# Hinge Loss with L1 Regularization"
   ]
  },
  {
   "cell_type": "code",
   "execution_count": 2,
   "id": "02d7a660",
   "metadata": {},
   "outputs": [],
   "source": [
    "# Import libraries\n",
    "\n",
    "import numpy as np               \n",
    "import matplotlib.pyplot as plt \n",
    "import tensorflow as tf          \n",
    "from tensorflow.keras.models import Sequential\n",
    "from tensorflow.keras.layers import Flatten, Dense\n",
    "from sklearn.model_selection import train_test_split \n",
    "import os                        \n",
    "import cv2                     \n",
    "from tensorflow.keras.regularizers import l1\n",
    "from tensorflow.keras.regularizers import l2"
   ]
  },
  {
   "cell_type": "code",
   "execution_count": 3,
   "id": "6bf6d91c",
   "metadata": {},
   "outputs": [
    {
     "name": "stdout",
     "output_type": "stream",
     "text": [
      "Data shape: (2560, 64, 64, 3)\n",
      "Labels shape: (2560,)\n"
     ]
    }
   ],
   "source": [
    "# Collect and preprocess data\n",
    "\n",
    "req_height = 64\n",
    "req_width = 64\n",
    "channels = 3\n",
    "\n",
    "def load_and_preprocess_data(data_dir, image_size=(req_height, req_width)):\n",
    "    data = []\n",
    "    labels = []\n",
    "\n",
    "    for folder_name in os.listdir(data_dir):\n",
    "        label = 1 if folder_name == 'faces' else 0\n",
    "        folder_path = os.path.join(data_dir, folder_name)\n",
    "\n",
    "        for filename in os.listdir(folder_path):\n",
    "            img_path = os.path.join(folder_path, filename)\n",
    "            img = cv2.imread(img_path)\n",
    "            img = cv2.resize(img, image_size)\n",
    "            img = img.astype(\"float32\") / 255.0\n",
    "            data.append(img)\n",
    "            labels.append(label)   \n",
    "\n",
    "    data = np.array(data)\n",
    "    labels = np.array(labels)\n",
    "\n",
    "    return data, labels\n",
    "\n",
    "data_dir = 'dataset'\n",
    "data, labels = load_and_preprocess_data(data_dir)\n",
    "\n",
    "print(\"Data shape:\", data.shape)\n",
    "print(\"Labels shape:\", labels.shape)"
   ]
  },
  {
   "cell_type": "code",
   "execution_count": 4,
   "id": "4b8a618b",
   "metadata": {},
   "outputs": [],
   "source": [
    "# Split the dataset\n",
    "\n",
    "x_train, x_temp, y_train, y_temp = train_test_split(data, labels, test_size=0.3, random_state=42)\n",
    "x_val, x_test, y_val, y_test = train_test_split(x_temp, y_temp, test_size=0.5, random_state=42)"
   ]
  },
  {
   "cell_type": "code",
   "execution_count": 5,
   "id": "29aa6aa4",
   "metadata": {},
   "outputs": [],
   "source": [
    "# Create a neural network model\n",
    "\n",
    "model = Sequential([\n",
    "    Flatten(input_shape=(req_width, req_height, channels)),\n",
    "    Dense(256, activation='sigmoid', kernel_regularizer=l1(0.001)),  # Hidden layer 1\n",
    "    Dense(128, activation='sigmoid', kernel_regularizer=l1(0.001)),  # Hidden layer 2\n",
    "    Dense(1, activation='sigmoid', kernel_regularizer=l1(0.001))     # Output layer (binary classification)\n",
    "])"
   ]
  },
  {
   "cell_type": "code",
   "execution_count": 6,
   "id": "f590e57a",
   "metadata": {},
   "outputs": [],
   "source": [
    "# Compile the model with hinge loss or cross-entropy loss\n",
    "\n",
    "# a) Hinge loss\n",
    "model.compile(optimizer='adam', loss='hinge', metrics=['accuracy'])\n",
    "\n",
    "# b) Cross-entropy loss\n",
    "# model.compile(optimizer='adam', loss='binary_crossentropy', metrics=['accuracy'])"
   ]
  },
  {
   "cell_type": "code",
   "execution_count": 7,
   "id": "32bf21ff",
   "metadata": {},
   "outputs": [
    {
     "name": "stdout",
     "output_type": "stream",
     "text": [
      "56/56 [==============================] - 3s 52ms/step - loss: 8.8486 - accuracy: 0.5993 - val_loss: 2.4233 - val_accuracy: 0.6406\n",
      "Epoch 1/20, Train Loss: 2.4193, Train Accuracy: 0.6127, Validation Loss: 2.4233, Validation Accuracy: 0.6406, Test Loss: 2.4177, Test Accuracy: 0.6016\n",
      "56/56 [==============================] - 2s 42ms/step - loss: 1.8514 - accuracy: 0.6127 - val_loss: 1.5033 - val_accuracy: 0.6406\n",
      "Epoch 2/20, Train Loss: 1.5013, Train Accuracy: 0.6127, Validation Loss: 1.5033, Validation Accuracy: 0.6406, Test Loss: 1.5004, Test Accuracy: 0.6016\n",
      "56/56 [==============================] - 2s 43ms/step - loss: 1.4052 - accuracy: 0.6127 - val_loss: 1.3612 - val_accuracy: 0.6406\n",
      "Epoch 3/20, Train Loss: 1.3602, Train Accuracy: 0.6127, Validation Loss: 1.3612, Validation Accuracy: 0.6406, Test Loss: 1.3598, Test Accuracy: 0.6016\n",
      "56/56 [==============================] - 2s 43ms/step - loss: 1.3559 - accuracy: 0.6127 - val_loss: 1.3536 - val_accuracy: 0.6406\n",
      "Epoch 4/20, Train Loss: 1.3530, Train Accuracy: 0.6127, Validation Loss: 1.3536, Validation Accuracy: 0.6406, Test Loss: 1.3528, Test Accuracy: 0.6016\n",
      "56/56 [==============================] - 2s 42ms/step - loss: 1.3522 - accuracy: 0.6127 - val_loss: 1.3514 - val_accuracy: 0.6406\n",
      "Epoch 5/20, Train Loss: 1.3510, Train Accuracy: 0.6127, Validation Loss: 1.3514, Validation Accuracy: 0.6406, Test Loss: 1.3508, Test Accuracy: 0.6016\n",
      "56/56 [==============================] - 2s 42ms/step - loss: 1.3510 - accuracy: 0.6127 - val_loss: 1.3511 - val_accuracy: 0.6406\n",
      "Epoch 6/20, Train Loss: 1.3508, Train Accuracy: 0.6127, Validation Loss: 1.3511, Validation Accuracy: 0.6406, Test Loss: 1.3507, Test Accuracy: 0.6016\n",
      "56/56 [==============================] - 3s 45ms/step - loss: 1.3498 - accuracy: 0.6127 - val_loss: 1.3488 - val_accuracy: 0.6406\n",
      "Epoch 7/20, Train Loss: 1.3485, Train Accuracy: 0.6127, Validation Loss: 1.3488, Validation Accuracy: 0.6406, Test Loss: 1.3484, Test Accuracy: 0.6016\n",
      "56/56 [==============================] - 3s 45ms/step - loss: 1.3487 - accuracy: 0.6127 - val_loss: 1.3477 - val_accuracy: 0.6406\n",
      "Epoch 8/20, Train Loss: 1.3474, Train Accuracy: 0.6127, Validation Loss: 1.3477, Validation Accuracy: 0.6406, Test Loss: 1.3473, Test Accuracy: 0.6016\n",
      "56/56 [==============================] - 2s 45ms/step - loss: 1.3480 - accuracy: 0.6127 - val_loss: 1.3474 - val_accuracy: 0.6406\n",
      "Epoch 9/20, Train Loss: 1.3471, Train Accuracy: 0.6127, Validation Loss: 1.3474, Validation Accuracy: 0.6406, Test Loss: 1.3470, Test Accuracy: 0.6016\n",
      "56/56 [==============================] - 3s 48ms/step - loss: 1.3476 - accuracy: 0.6127 - val_loss: 1.3465 - val_accuracy: 0.6406\n",
      "Epoch 10/20, Train Loss: 1.3462, Train Accuracy: 0.6127, Validation Loss: 1.3465, Validation Accuracy: 0.6406, Test Loss: 1.3460, Test Accuracy: 0.6016\n",
      "56/56 [==============================] - 2s 43ms/step - loss: 1.3470 - accuracy: 0.6127 - val_loss: 1.3460 - val_accuracy: 0.6406\n",
      "Epoch 11/20, Train Loss: 1.3457, Train Accuracy: 0.6127, Validation Loss: 1.3460, Validation Accuracy: 0.6406, Test Loss: 1.3455, Test Accuracy: 0.6016\n",
      "56/56 [==============================] - 2s 44ms/step - loss: 1.3469 - accuracy: 0.6127 - val_loss: 1.3465 - val_accuracy: 0.6406\n",
      "Epoch 12/20, Train Loss: 1.3462, Train Accuracy: 0.6127, Validation Loss: 1.3465, Validation Accuracy: 0.6406, Test Loss: 1.3460, Test Accuracy: 0.6016\n",
      "56/56 [==============================] - 3s 49ms/step - loss: 1.3466 - accuracy: 0.6127 - val_loss: 1.3466 - val_accuracy: 0.6406\n",
      "Epoch 13/20, Train Loss: 1.3463, Train Accuracy: 0.6127, Validation Loss: 1.3466, Validation Accuracy: 0.6406, Test Loss: 1.3461, Test Accuracy: 0.6016\n",
      "56/56 [==============================] - 3s 45ms/step - loss: 1.3464 - accuracy: 0.6127 - val_loss: 1.3464 - val_accuracy: 0.6406\n",
      "Epoch 14/20, Train Loss: 1.3460, Train Accuracy: 0.6127, Validation Loss: 1.3464, Validation Accuracy: 0.6406, Test Loss: 1.3459, Test Accuracy: 0.6016\n",
      "56/56 [==============================] - 3s 47ms/step - loss: 1.3463 - accuracy: 0.6127 - val_loss: 1.3465 - val_accuracy: 0.6406\n",
      "Epoch 15/20, Train Loss: 1.3462, Train Accuracy: 0.6127, Validation Loss: 1.3465, Validation Accuracy: 0.6406, Test Loss: 1.3460, Test Accuracy: 0.6016\n",
      "56/56 [==============================] - 2s 44ms/step - loss: 1.3461 - accuracy: 0.6127 - val_loss: 1.3455 - val_accuracy: 0.6406\n",
      "Epoch 16/20, Train Loss: 1.3451, Train Accuracy: 0.6127, Validation Loss: 1.3455, Validation Accuracy: 0.6406, Test Loss: 1.3449, Test Accuracy: 0.6016\n",
      "56/56 [==============================] - 3s 46ms/step - loss: 1.3459 - accuracy: 0.6127 - val_loss: 1.3451 - val_accuracy: 0.6406\n",
      "Epoch 17/20, Train Loss: 1.3447, Train Accuracy: 0.6127, Validation Loss: 1.3451, Validation Accuracy: 0.6406, Test Loss: 1.3445, Test Accuracy: 0.6016\n",
      "56/56 [==============================] - 3s 50ms/step - loss: 1.3458 - accuracy: 0.6127 - val_loss: 1.3454 - val_accuracy: 0.6406\n",
      "Epoch 18/20, Train Loss: 1.3450, Train Accuracy: 0.6127, Validation Loss: 1.3454, Validation Accuracy: 0.6406, Test Loss: 1.3448, Test Accuracy: 0.6016\n",
      "56/56 [==============================] - 2s 44ms/step - loss: 1.3457 - accuracy: 0.6127 - val_loss: 1.3450 - val_accuracy: 0.6406\n",
      "Epoch 19/20, Train Loss: 1.3446, Train Accuracy: 0.6127, Validation Loss: 1.3450, Validation Accuracy: 0.6406, Test Loss: 1.3444, Test Accuracy: 0.6016\n",
      "56/56 [==============================] - 2s 42ms/step - loss: 1.3453 - accuracy: 0.6127 - val_loss: 1.3449 - val_accuracy: 0.6406\n",
      "Epoch 20/20, Train Loss: 1.3445, Train Accuracy: 0.6127, Validation Loss: 1.3449, Validation Accuracy: 0.6406, Test Loss: 1.3443, Test Accuracy: 0.6016\n"
     ]
    }
   ],
   "source": [
    "# Train the model\n",
    "\n",
    "train_loss_values = []\n",
    "train_accuracy_values = []\n",
    "validation_loss_values = []\n",
    "validation_accuracy_values = []\n",
    "test_loss_values = []\n",
    "test_accuracy_values = []\n",
    "epochs = []\n",
    "\n",
    "num_epochs = 20\n",
    "\n",
    "for epoch in range(num_epochs):\n",
    "    history = model.fit(x_train, y_train, validation_data=(x_val, y_val), epochs=1)\n",
    "\n",
    "    train_loss, train_accuracy = model.evaluate(x_train, y_train, verbose=0)\n",
    "    validation_loss, validation_accuracy = model.evaluate(x_val, y_val, verbose=0)\n",
    "    test_loss, test_accuracy = model.evaluate(x_test, y_test, verbose=0)\n",
    "    \n",
    "    train_loss_values.append(train_loss)\n",
    "    train_accuracy_values.append(train_accuracy)\n",
    "    validation_loss_values.append(validation_loss)\n",
    "    validation_accuracy_values.append(validation_accuracy)\n",
    "    test_loss_values.append(test_loss)    \n",
    "    test_accuracy_values.append(test_accuracy)\n",
    "    epochs.append(epoch + 1)\n",
    "\n",
    "    print(f\"Epoch {epoch + 1}/{num_epochs}, Train Loss: {train_loss:.4f}, Train Accuracy: {train_accuracy:.4f}, Validation Loss: {validation_loss:.4f}, Validation Accuracy: {validation_accuracy:.4f}, Test Loss: {test_loss:.4f}, Test Accuracy: {test_accuracy:.4f}\")"
   ]
  },
  {
   "cell_type": "code",
   "execution_count": 8,
   "id": "f7cb01fe",
   "metadata": {},
   "outputs": [
    {
     "data": {
      "image/png": "[encoded data removed]",
      "text/plain": [
       "<Figure size 640x480 with 1 Axes>"
      ]
     },
     "metadata": {},
     "output_type": "display_data"
    }
   ],
   "source": [
    "# Plot the training, validation, and test loss values\n",
    "\n",
    "plt.plot(epochs, train_loss_values, label='Train Loss')\n",
    "plt.plot(epochs, validation_loss_values, label='Validation Loss')\n",
    "plt.plot(epochs, test_loss_values, label='Test Loss')\n",
    "plt.xlabel('Epoch')\n",
    "plt.ylabel('Loss')\n",
    "plt.legend()\n",
    "plt.title('03 Hinge Loss with L1 Regularization')\n",
    "plt.savefig('03_Hinge_loss_L1_regularization.png')\n",
    "plt.show()"
   ]
  },
  {
   "cell_type": "code",
   "execution_count": 9,
   "id": "e3bdb905",
   "metadata": {},
   "outputs": [],
   "source": [
    "# Save the trained model\n",
    "\n",
    "model.save(\"03_Hinge_loss_L1_regularization.keras\")"
   ]
  }
 ],
 "metadata": {
  "kernelspec": {
   "display_name": "Python 3 (ipykernel)",
   "language": "python",
   "name": "python3"
  },
  "language_info": {
   "codemirror_mode": {
    "name": "ipython",
    "version": 3
   },
   "file_extension": ".py",
   "mimetype": "text/x-python",
   "name": "python",
   "nbconvert_exporter": "python",
   "pygments_lexer": "ipython3",
   "version": "3.11.3"
  }
 },
 "nbformat": 4,
 "nbformat_minor": 5
}
